{
 "cells": [
  {
   "cell_type": "markdown",
   "metadata": {},
   "source": [
    "# Nearest Station Merging 1"
   ]
  },
  {
   "cell_type": "markdown",
   "metadata": {},
   "source": [
    "This code merges the processes forest data with the processed climate data using a geopandas function to join the points nearest one another."
   ]
  },
  {
   "cell_type": "code",
   "execution_count": null,
   "metadata": {},
   "outputs": [],
   "source": [
    "import os\n",
    "import pandas as pd\n",
    "import geopandas as gpd\n",
    "from datetime import datetime\n",
    "\n",
    "\n",
    "climate_data = pd.read_csv('C:/Users/sixte/University of Toronto/Antoine Pepin - Big Project/Data/ClimateMonthly/all_filtered_monthly.csv', low_memory=False)\n",
    "climate_data['Date'] = pd.to_datetime(climate_data['Date'])\n",
    "climate_data = gpd.GeoDataFrame(climate_data, geometry=gpd.points_from_xy(climate_data['Longitude'], climate_data['Latitude']), crs=4269)\n",
    "climate_data.to_crs(3347, inplace=True)\n",
    "\n",
    "directory_path = 'C:/Users/sixte/University of Toronto/Antoine Pepin - Big Project/Data/Final DataFrames'\n",
    "output_directory = 'C:/Users/sixte/University of Toronto/Antoine Pepin - Big Project/Data/Full Final DataFrames'\n",
    "\n",
    "for root, dirs, files in os.walk(directory_path):\n",
    "    for filename in files:\n",
    "        if filename.endswith('.parquet'):\n",
    "            file_path = os.path.join(root, filename)\n",
    "\n",
    "            if os.path.getsize(file_path) == 0:\n",
    "                print(f\"Skipping empty file: {filename}\")\n",
    "                continue\n",
    "\n",
    "            # Filenames include info on contents, namely year and month.\n",
    "            file_components = filename.split('_')\n",
    "\n",
    "            # Extract year and month from filename\n",
    "            year = int(file_components[0])\n",
    "            month = int(file_components[1].split('.')[0])\n",
    "\n",
    "            # Create datetime object, all months are stored under the first.\n",
    "            date = datetime(year, month, 1)\n",
    "\n",
    "            try:\n",
    "                dyear = pd.read_parquet(file_path, engine=\"pyarrow\")\n",
    "            except Exception as e:\n",
    "                print(f\"Error reading file {filename}: {e}\")\n",
    "                continue\n",
    "\n",
    "            dyear = pd.read_parquet(file_path, engine=\"pyarrow\")\n",
    "            dyear.rename(columns={'geometry': 'pixel'}, inplace=True)\n",
    "            dyear = gpd.GeoDataFrame(dyear, geometry=gpd.points_from_xy(dyear['lon'], dyear['lat']), crs=4269)\n",
    "            dyear.to_crs(3347, inplace=True)\n",
    "\n",
    "            # Perform spatial join using sjoin_nearest\n",
    "            merged_data = gpd.sjoin_nearest(dyear, climate_data[climate_data['Date'] == date], how='left')\n",
    "\n",
    "            # Save the merged_data to a parquet file in the output directory\n",
    "            output_filename = f\"{filename.split('.')[0]}_merged.parquet\"\n",
    "            output_path = os.path.join(output_directory, output_filename)\n",
    "            merged_data.to_parquet(output_path, engine=\"pyarrow\")\n",
    "\n",
    "            print(f'Done with {output_filename}')"
   ]
  }
 ],
 "metadata": {
  "kernelspec": {
   "display_name": "base",
   "language": "python",
   "name": "python3"
  },
  "language_info": {
   "codemirror_mode": {
    "name": "ipython",
    "version": 3
   },
   "file_extension": ".py",
   "mimetype": "text/x-python",
   "name": "python",
   "nbconvert_exporter": "python",
   "pygments_lexer": "ipython3",
   "version": "3.11.4"
  }
 },
 "nbformat": 4,
 "nbformat_minor": 2
}
