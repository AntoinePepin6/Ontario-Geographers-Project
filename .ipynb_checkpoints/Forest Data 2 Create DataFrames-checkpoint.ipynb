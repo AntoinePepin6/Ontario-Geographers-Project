{
 "cells": [
  {
   "cell_type": "markdown",
   "id": "0e92047e",
   "metadata": {},
   "source": [
    "# Forest Data 2: Creating DataFrames From Raster Block CSV Data"
   ]
  },
  {
   "cell_type": "markdown",
   "id": "6f0e78f8",
   "metadata": {},
   "source": [
    "Disclaimer: If you have not yet, please read throught the Forest Data 1 notebook. This previous notebook depicts the steps undertaken to get to the data that is used in this notebook.\n",
    "\n",
    "## Overview of Notebook\n",
    "This notebook consists of defined functions that take our previously derived raster block .csv data and compile them into single data frames for each dataset. Then, these data sets are manipulated and re-sized to only represent the values present in Ontario. Following this, the data sets are joined into one congruent DataFrame. This DataFrame can then be converted into a GeoSpatial DataFrame for initial Analysis and the DataFrame is exported for further exploratory data analysis, and manipulation. This last step can be found in notebook Forest Data 3."
   ]
  },
  {
   "cell_type": "markdown",
   "id": "4a5a9845",
   "metadata": {},
   "source": [
    "## 1) Import Required Modules and Packages"
   ]
  },
  {
   "cell_type": "code",
   "execution_count": 2,
   "id": "5f709623",
   "metadata": {},
   "outputs": [],
   "source": [
    "import os\n",
    "import pandas as pd\n",
    "import geopandas as gpd\n",
    "import numpy as np\n",
    "import sys"
   ]
  },
  {
   "cell_type": "markdown",
   "id": "7d2cb081",
   "metadata": {},
   "source": [
    "## 2) Data, Path and Directory"
   ]
  },
  {
   "cell_type": "markdown",
   "id": "f7a92c0b",
   "metadata": {},
   "source": [
    "Lets take a look at what is available in the source folder, from our previous work"
   ]
  },
  {
   "cell_type": "code",
   "execution_count": 3,
   "id": "37862c60",
   "metadata": {},
   "outputs": [
    {
     "data": {
      "text/plain": [
       "['250m', '30m']"
      ]
     },
     "execution_count": 3,
     "metadata": {},
     "output_type": "execute_result"
    }
   ],
   "source": [
    "os.listdir(r\"I:\\CME538 Project\\CME538 Project\\processed data ontario only\")"
   ]
  },
  {
   "cell_type": "markdown",
   "id": "63c6da64",
   "metadata": {},
   "source": [
    "Here we can see that we have two folders with processed data, with 250m and 30m granularity. As previsouly explained, we will focus on the 250m granularity data that we created.\n",
    "\n",
    "Create  source path to reference to."
   ]
  },
  {
   "cell_type": "code",
   "execution_count": 3,
   "id": "457c8718",
   "metadata": {},
   "outputs": [
    {
     "data": {
      "text/plain": [
       "['ONage2001_250m',\n",
       " 'ONage2001_250m.tif',\n",
       " 'ONage2001_250m.tif.aux.xml',\n",
       " 'ONage2011_250m',\n",
       " 'ONage2011_250m.tif',\n",
       " 'ONage2011_250m.tif.aux.xml',\n",
       " 'Onage2019_250m',\n",
       " 'Onage2019_250m.tif',\n",
       " 'Onage2019_250m.tif.aux.xml',\n",
       " 'ONharvest1985_2020_250m',\n",
       " 'ONharvest1985_2020_250m.tif',\n",
       " 'ONharvest1985_2020_250m.tif.aux.xml',\n",
       " 'Ontario_Forest_Data.csv.gz',\n",
       " 'ONvol2001_250m',\n",
       " 'ONvol2001_250m.tif',\n",
       " 'ONvol2001_250m.tif.aux.xml',\n",
       " 'ONvol2011_250m',\n",
       " 'ONvol2011_250m.tif',\n",
       " 'ONvol2011_250m.tif.aux.xml',\n",
       " 'ONvol2015_250m',\n",
       " 'ONvol2015_250m.tif',\n",
       " 'ONvol2015_250m.tif.aux.xml']"
      ]
     },
     "execution_count": 3,
     "metadata": {},
     "output_type": "execute_result"
    }
   ],
   "source": [
    "#Create path\n",
    "path = r\"I:\\CME538 Project\\CME538 Project\\processed data ontario only\\250m\"\n",
    "os.listdir(path)"
   ]
  },
  {
   "cell_type": "markdown",
   "id": "9eeb6562",
   "metadata": {},
   "source": [
    "But we are only interessted in the processed data folders, where we exported our csv blocks for each of the 7 datasets."
   ]
  },
  {
   "cell_type": "code",
   "execution_count": 6,
   "id": "49f96e9e",
   "metadata": {},
   "outputs": [
    {
     "name": "stdout",
     "output_type": "stream",
     "text": [
      "['ONage2001_250m', 'ONage2011_250m', 'Onage2019_250m', 'ONharvest1985_2020_250m', 'ONvol2001_250m', 'ONvol2011_250m', 'ONvol2015_250m']\n"
     ]
    }
   ],
   "source": [
    "#Create list of folder to reference to\n",
    "folders = [folder for folder in os.listdir(path) if \".tif\" not in folder]\n",
    "print(folders)"
   ]
  },
  {
   "cell_type": "markdown",
   "id": "98679995",
   "metadata": {},
   "source": [
    "## 3) Concating Data Frame and Basic Manipulation\n",
    "Now that we have our source diretories and path, we can build some functions to concat our data together. The following code block includes a function called concat_data, which concaconnated all the raster blocks into one dataframe and export to the directory. There is also a function called reduce_dataframe_storage, which downcasts the numeric values of the data to save space on our drive."
   ]
  },
  {
   "cell_type": "code",
   "execution_count": 5,
   "id": "72516b1f",
   "metadata": {},
   "outputs": [],
   "source": [
    "def reduce_dataframe_storage(data):\n",
    "    \"\"\"Function that takes in a DataFrame, and reduced the column numeric values to their lowest possible type (downcast)\n",
    "    Parameters:\n",
    "        data: DataFrame with n columns, with numeric values\n",
    "    Output:\n",
    "        data: downcasted DataFrame\n",
    "    \"\"\"\n",
    "    for col in data.columns:\n",
    "        data_type = str(type(data.loc[0][col]))\n",
    "        if \"float\" in data_type:\n",
    "            data[col] = pd.to_numeric(data[col],downcast=\"float\")\n",
    "        elif \"int\" in data_type:\n",
    "            data[col] = pd.to_numeric(data[col],downcast=\"signed\")\n",
    "        else:\n",
    "            print(\"Datatype not compatible, change function\")\n",
    "    return data\n",
    "\n",
    "\n",
    "def concat_data(path,string,df_out=False):\n",
    "    \"\"\"Function that takes in path with multiple data files that need to be concated into one dataframe, and outputs \n",
    "    a outputs a DataFrame and a text file with the coordinate reference system (CRS).\n",
    "    Parameters:\n",
    "        path: path of files to be concaconated together\n",
    "        string: specified string that is common in all of the datafiles to be concaconnated together\n",
    "        df_out: bool that says if saves reutrned dataframe to folder or not, default is False\n",
    "    Outputs: dataframe,crs and final filename\n",
    "    \"\"\"\n",
    "    #Get the file name and a list of files to be concated together\n",
    "    text_file = [str(file) for file in os.listdir(path) if \".txt\" in file]\n",
    "    print(text_file)\n",
    "    data_files = [file for file in os.listdir(path) if (\".txt\" not in file) & (string in file)]\n",
    "    print(data_files)\n",
    "    \n",
    "    #Get the crs of the files\n",
    "    CRS = open(path+\"\\\\\"+str(text_file[0])).read()\n",
    "    print(CRS)\n",
    "    \n",
    "    #Initialize a DataFrame\n",
    "    df_data= pd.DataFrame()\n",
    "    \n",
    "    #Loop through all the data files for concat. The first will be initialized into the DataFrame, then all following \n",
    "    #files will be concated onto this DataFrame. \n",
    "    i=0\n",
    "    for file in data_files:\n",
    "        if i == 0:\n",
    "            df_data = pd.read_csv(path+\"\\\\\"+file,compression ='gzip',index_col=0)\n",
    "        else:\n",
    "            df_data = pd.concat([df_data,pd.read_csv(path+\"\\\\\"+file,compression ='gzip',index_col=0)])\n",
    "        \n",
    "        print(i)\n",
    "        i = i +1\n",
    "    \n",
    "    #Get the size of the original concated DataFrame, use the reduce_datarame_storage funciton and print the new\n",
    "    #size of the DataFrame\n",
    "    og_size = sys.getsizeof(df_data)\n",
    "    df_data = reduce_dataframe_storage(df_data)\n",
    "    new_size = sys.getsizeof(df_data)\n",
    "    print(\"Original df was {} MB\\nNew df is {} MB\".format(og_size/1000000,new_size/1000000))\n",
    "    \n",
    "    #Generate a file name\n",
    "    filename = text_file[0]\n",
    "    \n",
    "    #Return the filename, CRS and DataFrame and export to drive if selected.\n",
    "    if (df_out ==True):\n",
    "        df_data.to_csv(path+\"\\\\\"+str(text_file[0]).strip('.txt')+\".csv.gz\",compression='gzip',header = df_data.columns)\n",
    "        return df_data, CRS,filename\n",
    "    else:\n",
    "        return df_data, CRS,filename"
   ]
  },
  {
   "cell_type": "markdown",
   "id": "507461c7",
   "metadata": {},
   "source": [
    "Now that we have our defined functions, we can run them on all the data. "
   ]
  },
  {
   "cell_type": "code",
   "execution_count": 11,
   "id": "f96ea2f1",
   "metadata": {},
   "outputs": [
    {
     "name": "stdout",
     "output_type": "stream",
     "text": [
      "['ONage2001_250m.txt']\n",
      "['Block1_1.csv.gz']\n",
      "PROJCS[\"NAD_1983_Canada_Lambert\",GEOGCS[\"NAD83\",DATUM[\"North_American_Datum_1983\",SPHEROID[\"GRS 1980\",6378137,298.257222101004,AUTHORITY[\"EPSG\",\"7019\"]],AUTHORITY[\"EPSG\",\"6269\"]],PRIMEM[\"Greenwich\",0],UNIT[\"degree\",0.0174532925199433,AUTHORITY[\"EPSG\",\"9122\"]],AUTHORITY[\"EPSG\",\"4269\"]],PROJECTION[\"Lambert_Conformal_Conic_2SP\"],PARAMETER[\"latitude_of_origin\",0],PARAMETER[\"central_meridian\",-95],PARAMETER[\"standard_parallel_1\",49],PARAMETER[\"standard_parallel_2\",77],PARAMETER[\"false_easting\",0],PARAMETER[\"false_northing\",0],UNIT[\"metre\",1,AUTHORITY[\"EPSG\",\"9001\"]],AXIS[\"Easting\",EAST],AXIS[\"Northing\",NORTH]]\n",
      "0\n",
      "Original df was 1337.66352 MB\n",
      "New df is 1003.247648 MB\n",
      "['ONage2011_250m.txt']\n",
      "['Block1_1.csv.gz']\n",
      "PROJCS[\"NAD_1983_Canada_Lambert\",GEOGCS[\"NAD83\",DATUM[\"North_American_Datum_1983\",SPHEROID[\"GRS 1980\",6378137,298.257222101004,AUTHORITY[\"EPSG\",\"7019\"]],AUTHORITY[\"EPSG\",\"6269\"]],PRIMEM[\"Greenwich\",0],UNIT[\"degree\",0.0174532925199433,AUTHORITY[\"EPSG\",\"9122\"]],AUTHORITY[\"EPSG\",\"4269\"]],PROJECTION[\"Lambert_Conformal_Conic_2SP\"],PARAMETER[\"latitude_of_origin\",0],PARAMETER[\"central_meridian\",-95],PARAMETER[\"standard_parallel_1\",49],PARAMETER[\"standard_parallel_2\",77],PARAMETER[\"false_easting\",0],PARAMETER[\"false_northing\",0],UNIT[\"metre\",1,AUTHORITY[\"EPSG\",\"9001\"]],AXIS[\"Easting\",EAST],AXIS[\"Northing\",NORTH]]\n",
      "0\n",
      "Original df was 844.624416 MB\n",
      "New df is 527.890272 MB\n",
      "['Onage2019_250m.txt']\n",
      "['Block1_1.csv.gz']\n",
      "PROJCS[\"NAD_1983_Canada_Lambert\",GEOGCS[\"NAD83\",DATUM[\"North_American_Datum_1983\",SPHEROID[\"GRS 1980\",6378137,298.257222101004,AUTHORITY[\"EPSG\",\"7019\"]],AUTHORITY[\"EPSG\",\"6269\"]],PRIMEM[\"Greenwich\",0],UNIT[\"degree\",0.0174532925199433,AUTHORITY[\"EPSG\",\"9122\"]],AUTHORITY[\"EPSG\",\"4269\"]],PROJECTION[\"Lambert_Conformal_Conic_2SP\"],PARAMETER[\"latitude_of_origin\",0],PARAMETER[\"central_meridian\",-95],PARAMETER[\"standard_parallel_1\",49],PARAMETER[\"standard_parallel_2\",77],PARAMETER[\"false_easting\",0],PARAMETER[\"false_northing\",0],UNIT[\"metre\",1,AUTHORITY[\"EPSG\",\"9001\"]],AXIS[\"Easting\",EAST],AXIS[\"Northing\",NORTH]]\n",
      "0\n",
      "Original df was 1454.244032 MB\n",
      "New df is 908.902532 MB\n",
      "['ONharvest1985_2020_250m.txt']\n",
      "['Block1_1.csv.gz']\n",
      "PROJCS[\"NAD_1983_Canada_Lambert\",GEOGCS[\"NAD83\",DATUM[\"North_American_Datum_1983\",SPHEROID[\"GRS 1980\",6378137,298.257222101004,AUTHORITY[\"EPSG\",\"7019\"]],AUTHORITY[\"EPSG\",\"6269\"]],PRIMEM[\"Greenwich\",0],UNIT[\"degree\",0.0174532925199433,AUTHORITY[\"EPSG\",\"9122\"]],AUTHORITY[\"EPSG\",\"4269\"]],PROJECTION[\"Lambert_Conformal_Conic_2SP\"],PARAMETER[\"latitude_of_origin\",0],PARAMETER[\"central_meridian\",-95],PARAMETER[\"standard_parallel_1\",49],PARAMETER[\"standard_parallel_2\",77],PARAMETER[\"false_easting\",0],PARAMETER[\"false_northing\",0],UNIT[\"metre\",1,AUTHORITY[\"EPSG\",\"9001\"]],AXIS[\"Easting\",EAST],AXIS[\"Northing\",NORTH]]\n",
      "0\n",
      "Original df was 45.783136 MB\n",
      "New df is 28.614472 MB\n",
      "['ONvol2001_250m.txt']\n",
      "['Block1_1.csv.gz']\n",
      "PROJCS[\"NAD_1983_Canada_Lambert\",GEOGCS[\"NAD83\",DATUM[\"North_American_Datum_1983\",SPHEROID[\"GRS 1980\",6378137,298.257222101004,AUTHORITY[\"EPSG\",\"7019\"]],AUTHORITY[\"EPSG\",\"6269\"]],PRIMEM[\"Greenwich\",0],UNIT[\"degree\",0.0174532925199433,AUTHORITY[\"EPSG\",\"9122\"]],AUTHORITY[\"EPSG\",\"4269\"]],PROJECTION[\"Lambert_Conformal_Conic_2SP\"],PARAMETER[\"latitude_of_origin\",0],PARAMETER[\"central_meridian\",-95],PARAMETER[\"standard_parallel_1\",49],PARAMETER[\"standard_parallel_2\",77],PARAMETER[\"false_easting\",0],PARAMETER[\"false_northing\",0],UNIT[\"metre\",1,AUTHORITY[\"EPSG\",\"9001\"]],AXIS[\"Easting\",EAST],AXIS[\"Northing\",NORTH]]\n",
      "0\n",
      "Original df was 846.097856 MB\n",
      "New df is 528.811172 MB\n",
      "['ONvol2011_250m.txt']\n",
      "['Block1_1.csv.gz']\n",
      "PROJCS[\"NAD_1983_Canada_Lambert\",GEOGCS[\"NAD83\",DATUM[\"North_American_Datum_1983\",SPHEROID[\"GRS 1980\",6378137,298.257222101004,AUTHORITY[\"EPSG\",\"7019\"]],AUTHORITY[\"EPSG\",\"6269\"]],PRIMEM[\"Greenwich\",0],UNIT[\"degree\",0.0174532925199433,AUTHORITY[\"EPSG\",\"9122\"]],AUTHORITY[\"EPSG\",\"4269\"]],PROJECTION[\"Lambert_Conformal_Conic_2SP\"],PARAMETER[\"latitude_of_origin\",0],PARAMETER[\"central_meridian\",-95],PARAMETER[\"standard_parallel_1\",49],PARAMETER[\"standard_parallel_2\",77],PARAMETER[\"false_easting\",0],PARAMETER[\"false_northing\",0],UNIT[\"metre\",1,AUTHORITY[\"EPSG\",\"9001\"]],AXIS[\"Easting\",EAST],AXIS[\"Northing\",NORTH]]\n",
      "0\n",
      "Original df was 844.485568 MB\n",
      "New df is 527.803492 MB\n",
      "['ONvol2015_250m.txt']\n",
      "['Block1_1.csv.gz']\n",
      "PROJCS[\"NAD_1983_Canada_Lambert\",GEOGCS[\"NAD83\",DATUM[\"North_American_Datum_1983\",SPHEROID[\"GRS 1980\",6378137,298.257222101004,AUTHORITY[\"EPSG\",\"7019\"]],AUTHORITY[\"EPSG\",\"6269\"]],PRIMEM[\"Greenwich\",0],UNIT[\"degree\",0.0174532925199433,AUTHORITY[\"EPSG\",\"9122\"]],AUTHORITY[\"EPSG\",\"4269\"]],PROJECTION[\"Lambert_Conformal_Conic_2SP\"],PARAMETER[\"latitude_of_origin\",0],PARAMETER[\"central_meridian\",-95],PARAMETER[\"standard_parallel_1\",49],PARAMETER[\"standard_parallel_2\",77],PARAMETER[\"false_easting\",0],PARAMETER[\"false_northing\",0],UNIT[\"metre\",1,AUTHORITY[\"EPSG\",\"9001\"]],AXIS[\"Easting\",EAST],AXIS[\"Northing\",NORTH]]\n",
      "0\n",
      "Original df was 520.372512 MB\n",
      "New df is 325.232832 MB\n"
     ]
    }
   ],
   "source": [
    "#Initialize some lists to store mutplie DataFrames, crs and filenames\n",
    "df_data = []\n",
    "crs = []\n",
    "filenames=[]\n",
    "\n",
    "#Loop through all the folders that contrain raster csv data\n",
    "i=0\n",
    "for folder in os.listdir(path):\n",
    "    if \".tif\" not in folder:\n",
    "        D,C,filename = concat_data(path+\"\\\\\"+folder,'Block',False)\n",
    "        df_data.append(D)\n",
    "        crs.append(C)\n",
    "        filenames.append(filename)\n",
    "        \n",
    "        i = i+1\n"
   ]
  },
  {
   "cell_type": "markdown",
   "id": "d2b00237",
   "metadata": {},
   "source": [
    "## 4) Ontario Boundary"
   ]
  },
  {
   "cell_type": "markdown",
   "id": "e359c703",
   "metadata": {},
   "source": [
    "Now that we have stored all our data onto our drive and into the notebook, we need to reduce the data even more. As of now, the data covers some arbitrary box that encompasses ontario based on visual observations in QGIS. We need to make a spatial join of the data with some Ontario boudnary file\n",
    "\n",
    "For that, we will import a ontario boundaires shape file, taken from the following source:\n",
    "- Ontario GeoHub - Province Boundary Data\n",
    "\n",
    "    URL: https://geohub.lio.gov.on.ca/datasets/lio::province/about\n",
    "    \n",
    "    \n",
    "From here, we also need to pick a congruent CRS. We will pick EPSG 4269"
   ]
  },
  {
   "cell_type": "code",
   "execution_count": 13,
   "id": "3c42b7cd",
   "metadata": {},
   "outputs": [],
   "source": [
    "ON_boundary = gpd.read_file(r\"I:\\CME538 Project\\CME538 Project\\ontario boundary\\Province\\Province.shp\")"
   ]
  },
  {
   "cell_type": "code",
   "execution_count": 14,
   "id": "d23c3b7d",
   "metadata": {},
   "outputs": [
    {
     "data": {
      "text/html": [
       "<div>\n",
       "<style scoped>\n",
       "    .dataframe tbody tr th:only-of-type {\n",
       "        vertical-align: middle;\n",
       "    }\n",
       "\n",
       "    .dataframe tbody tr th {\n",
       "        vertical-align: top;\n",
       "    }\n",
       "\n",
       "    .dataframe thead th {\n",
       "        text-align: right;\n",
       "    }\n",
       "</style>\n",
       "<table border=\"1\" class=\"dataframe\">\n",
       "  <thead>\n",
       "    <tr style=\"text-align: right;\">\n",
       "      <th></th>\n",
       "      <th>OGF_ID</th>\n",
       "      <th>OFFICIAL_N</th>\n",
       "      <th>LOCATION_A</th>\n",
       "      <th>LOCATION_D</th>\n",
       "      <th>GEOG_UNIT_</th>\n",
       "      <th>VERIFICATI</th>\n",
       "      <th>VERIFICA_1</th>\n",
       "      <th>BUSINESS_E</th>\n",
       "      <th>BUSINESS_1</th>\n",
       "      <th>BUSINESS_2</th>\n",
       "      <th>...</th>\n",
       "      <th>SYSTEM_C_1</th>\n",
       "      <th>USER_CALCU</th>\n",
       "      <th>GENERAL_CO</th>\n",
       "      <th>GEOMETRY_U</th>\n",
       "      <th>EFFECTIVE_</th>\n",
       "      <th>SYSTEM_DAT</th>\n",
       "      <th>OBJECTID</th>\n",
       "      <th>SHAPEAREA</th>\n",
       "      <th>SHAPELEN</th>\n",
       "      <th>geometry</th>\n",
       "    </tr>\n",
       "  </thead>\n",
       "  <tbody>\n",
       "    <tr>\n",
       "      <th>0</th>\n",
       "      <td>53802920</td>\n",
       "      <td>Ontario</td>\n",
       "      <td>Within 100 metres</td>\n",
       "      <td>The province is made up of many boundaries whi...</td>\n",
       "      <td>This is the boundary of Ontario</td>\n",
       "      <td>Verified</td>\n",
       "      <td>2003-08-28</td>\n",
       "      <td>Actual</td>\n",
       "      <td>2015-04-08</td>\n",
       "      <td>NaN</td>\n",
       "      <td>...</td>\n",
       "      <td>6164606.797</td>\n",
       "      <td>1078173920000</td>\n",
       "      <td>The area calculated for the ontario_line_2003-...</td>\n",
       "      <td>2019-02-25</td>\n",
       "      <td>2019-02-25</td>\n",
       "      <td>2019-02-25</td>\n",
       "      <td>321</td>\n",
       "      <td>0</td>\n",
       "      <td>0</td>\n",
       "      <td>POLYGON ((-74.35513 45.21406, -74.34379 45.205...</td>\n",
       "    </tr>\n",
       "  </tbody>\n",
       "</table>\n",
       "<p>1 rows × 21 columns</p>\n",
       "</div>"
      ],
      "text/plain": [
       "     OGF_ID OFFICIAL_N         LOCATION_A  \\\n",
       "0  53802920    Ontario  Within 100 metres   \n",
       "\n",
       "                                          LOCATION_D  \\\n",
       "0  The province is made up of many boundaries whi...   \n",
       "\n",
       "                        GEOG_UNIT_ VERIFICATI  VERIFICA_1 BUSINESS_E  \\\n",
       "0  This is the boundary of Ontario   Verified  2003-08-28     Actual   \n",
       "\n",
       "   BUSINESS_1  BUSINESS_2  ...   SYSTEM_C_1     USER_CALCU  \\\n",
       "0  2015-04-08         NaN  ...  6164606.797  1078173920000   \n",
       "\n",
       "                                          GENERAL_CO  GEOMETRY_U  EFFECTIVE_  \\\n",
       "0  The area calculated for the ontario_line_2003-...  2019-02-25  2019-02-25   \n",
       "\n",
       "   SYSTEM_DAT OBJECTID  SHAPEAREA  SHAPELEN  \\\n",
       "0  2019-02-25      321          0         0   \n",
       "\n",
       "                                            geometry  \n",
       "0  POLYGON ((-74.35513 45.21406, -74.34379 45.205...  \n",
       "\n",
       "[1 rows x 21 columns]"
      ]
     },
     "execution_count": 14,
     "metadata": {},
     "output_type": "execute_result"
    }
   ],
   "source": [
    "ON_boundary"
   ]
  },
  {
   "cell_type": "markdown",
   "id": "3f228e8c",
   "metadata": {},
   "source": [
    "As we can see, the boundary information is simply a large polygon that is accurate to within 100m. Lets plot it. Lets also look at the crs"
   ]
  },
  {
   "cell_type": "code",
   "execution_count": 16,
   "id": "5fbb50d3",
   "metadata": {},
   "outputs": [
    {
     "data": {
      "text/plain": [
       "<Geographic 2D CRS: EPSG:4326>\n",
       "Name: WGS 84\n",
       "Axis Info [ellipsoidal]:\n",
       "- Lat[north]: Geodetic latitude (degree)\n",
       "- Lon[east]: Geodetic longitude (degree)\n",
       "Area of Use:\n",
       "- name: World: Afghanistan, Albania, Algeria, American Samoa, Andorra, Angola, Anguilla, Antarctica, Antigua and Barbuda, Argentina, Armenia, Aruba, Australia, Austria, Azerbaijan, Bahamas, Bahrain, Bangladesh, Barbados, Belgium, Belgium, Belize, Benin, Bermuda, Bhutan, Bolivia, Bonaire, Saint Eustasius and Saba, Bosnia and Herzegovina, Botswana, Bouvet Island, Brazil, British Indian Ocean Territory, British Virgin Islands, Brunei Darussalam, Bulgaria, Burkina Faso, Burundi, Cambodia, Cameroon, Canada, Cape Verde, Cayman Islands, Central African Republic, Chad, Chile, China, Christmas Island, Cocos (Keeling) Islands, Comoros, Congo, Cook Islands, Costa Rica, Côte d'Ivoire (Ivory Coast), Croatia, Cuba, Curacao, Cyprus, Czechia, Denmark, Djibouti, Dominica, Dominican Republic, East Timor, Ecuador, Egypt, El Salvador, Equatorial Guinea, Eritrea, Estonia, Eswatini (Swaziland), Ethiopia, Falkland Islands (Malvinas), Faroe Islands, Fiji, Finland, France, French Guiana, French Polynesia, French Southern Territories, Gabon, Gambia, Georgia, Germany, Ghana, Gibraltar, Greece, Greenland, Grenada, Guadeloupe, Guam, Guatemala, Guinea, Guinea-Bissau, Guyana, Haiti, Heard Island and McDonald Islands, Holy See (Vatican City State), Honduras, China - Hong Kong, Hungary, Iceland, India, Indonesia, Islamic Republic of Iran, Iraq, Ireland, Israel, Italy, Jamaica, Japan, Jordan, Kazakhstan, Kenya, Kiribati, Democratic People's Republic of Korea (North Korea), Republic of Korea (South Korea), Kosovo, Kuwait, Kyrgyzstan, Lao People's Democratic Republic (Laos), Latvia, Lebanon, Lesotho, Liberia, Libyan Arab Jamahiriya, Liechtenstein, Lithuania, Luxembourg, China - Macao, Madagascar, Malawi, Malaysia, Maldives, Mali, Malta, Marshall Islands, Martinique, Mauritania, Mauritius, Mayotte, Mexico, Federated States of Micronesia, Monaco, Mongolia, Montenegro, Montserrat, Morocco, Mozambique, Myanmar (Burma), Namibia, Nauru, Nepal, Netherlands, New Caledonia, New Zealand, Nicaragua, Niger, Nigeria, Niue, Norfolk Island, North Macedonia, Northern Mariana Islands, Norway, Oman, Pakistan, Palau, Panama, Papua New Guinea (PNG), Paraguay, Peru, Philippines, Pitcairn, Poland, Portugal, Puerto Rico, Qatar, Reunion, Romania, Russian Federation, Rwanda, St Barthelemy, St Kitts and Nevis, St Helena, Ascension and Tristan da Cunha, St Lucia, St Martin, St Pierre and Miquelon, Saint Vincent and the Grenadines, Samoa, San Marino, Sao Tome and Principe, Saudi Arabia, Senegal, Serbia, Seychelles, Sierra Leone, Singapore, Slovakia (Slovak Republic), Slovenia, St Maarten, Solomon Islands, Somalia, South Africa, South Georgia and the South Sandwich Islands, South Sudan, Spain, Sri Lanka, Sudan, Suriname, Svalbard and Jan Mayen, Sweden, Switzerland, Syrian Arab Republic, Taiwan, Tajikistan, United Republic of Tanzania, Thailand, The Democratic Republic of the Congo (Zaire), Togo, Tokelau, Tonga, Trinidad and Tobago, Tunisia, Türkiye (Turkey), Turkmenistan, Turks and Caicos Islands, Tuvalu, Uganda, Ukraine, United Arab Emirates (UAE), United Kingdom (UK), United States (USA), United States Minor Outlying Islands, Uruguay, Uzbekistan, Vanuatu, Venezuela, Vietnam, US Virgin Islands, Wallis and Futuna, Western Sahara, Yemen, Zambia, Zimbabwe.\n",
       "- bounds: (-180.0, -90.0, 180.0, 90.0)\n",
       "Datum: World Geodetic System 1984 ensemble\n",
       "- Ellipsoid: WGS 84\n",
       "- Prime Meridian: Greenwich"
      ]
     },
     "execution_count": 16,
     "metadata": {},
     "output_type": "execute_result"
    },
    {
     "data": {
      "image/png": "[encoded data removed]",
      "text/plain": [
       "<Figure size 640x480 with 1 Axes>"
      ]
     },
     "metadata": {},
     "output_type": "display_data"
    }
   ],
   "source": [
    "ON_boundary.plot()\n",
    "ON_boundary.crs"
   ]
  },
  {
   "cell_type": "markdown",
   "id": "aee89e65",
   "metadata": {},
   "source": [
    "Lets change the CRS to EPSG 4269"
   ]
  },
  {
   "cell_type": "code",
   "execution_count": 17,
   "id": "61e08939",
   "metadata": {},
   "outputs": [],
   "source": [
    "ON_boundary = ON_boundary.to_crs(epsg = 4269)"
   ]
  },
  {
   "cell_type": "code",
   "execution_count": 18,
   "id": "44f8464d",
   "metadata": {},
   "outputs": [
    {
     "data": {
      "text/plain": [
       "<Axes: >"
      ]
     },
     "execution_count": 18,
     "metadata": {},
     "output_type": "execute_result"
    },
    {
     "data": {
      "image/png": "[encoded data removed]",
      "text/plain": [
       "<Figure size 640x480 with 1 Axes>"
      ]
     },
     "metadata": {},
     "output_type": "display_data"
    }
   ],
   "source": [
    "ON_boundary.plot()"
   ]
  },
  {
   "cell_type": "markdown",
   "id": "35215f77",
   "metadata": {},
   "source": [
    "## 5) Joining, Bounding and Manipulating GeoData\n",
    "Now that we have our 7 datasets, with crs's and filenames, and an Ontario boundary file, lets merge all of these together into on nice reduced GeoDataFrame. The goal is to finish with nice list of data that has one geometry column, and the other columns are the pixel data from all 7 datasets.\n",
    "\n",
    "Note: Since we had alsready aligned the rasters coordinates and pixels and QGIS, we should be able to use these as the key for mergin DataFrames together.\n",
    "\n",
    "Lets remind ourselves of the data we have:\n",
    "- Tree age in 2001\n",
    "- Tree age in 2011\n",
    "- Tree age in 2019\n",
    "- Tree vol in 2001\n",
    "- Tree vol in 2011\n",
    "- Tree vol in 2015\n",
    "- Trees harvest by years\n",
    "\n",
    "Beofre merging them all into one dataset, we need to do the following 4 tasks:\n",
    "1) Create a DataFrame and converte the crs to EPSG 4269\n",
    "2) Funciton to check if points are in Ontario\n",
    "3) Function to get rid of unwanted data, like 0 values, negative values or np.nan\n",
    "4) Any leftover data truncating or manipulation that is dataset specific"
   ]
  },
  {
   "cell_type": "markdown",
   "id": "6595a881",
   "metadata": {},
   "source": [
    "### 5.1) Data Manipulation\n",
    "Below are three functions, that perform tasks 1 through 3."
   ]
  },
  {
   "cell_type": "code",
   "execution_count": 21,
   "id": "eeebd65d",
   "metadata": {},
   "outputs": [],
   "source": [
    "def create_gdf(data,crs,geo_list,target_crs = None):\n",
    "    \"\"\"Function that creates and outputs a gdf based on a given df, crs annd list of colums that make the geometry, can also\n",
    "    change crs if targe crs is provided\n",
    "    Parameters:\n",
    "        data: dataframe\n",
    "        crs: coordinate reference system, either an epsg or wkt string\n",
    "        geo_list: list of colums that comprise of geometry data (lat, lon for ex.), needs to be in order of lon, lat for \n",
    "                point data\n",
    "        target_crs: coordinate system to transform to, default is None (no change)\n",
    "    Output:\n",
    "        gdf_data: geospatial dataframe\n",
    "    \"\"\"\n",
    "\n",
    "    gdf_data = gpd.GeoDataFrame(data,\n",
    "                                    geometry=gpd.points_from_xy(data[geo_list[0]],data[geo_list[1]]),\n",
    "                                    crs=crs).reset_index().drop(columns=['index']+geo_list)\n",
    "    if target_crs != None:\n",
    "        gdf_data = gdf_data.to_crs(target_crs)\n",
    "        \n",
    "\n",
    "    return gdf_data"
   ]
  },
  {
   "cell_type": "code",
   "execution_count": 22,
   "id": "9fed0287",
   "metadata": {},
   "outputs": [],
   "source": [
    "def within_space(gdf_data,boundary):\n",
    "    \"\"\"Funciton that returns a geospatial dataframe that is within a certain spatial geometry\n",
    "    Parameters:\n",
    "        gdf_data: geodataframe containing some geospatrial data with some other column information that is relevant\n",
    "        boundary: geodataframe continaing some polygon geospatial data that is considered a boundary of what we are interrested in\n",
    "    Output:\n",
    "        gdf_data: returns a geospatial dataframe that only contains geometry with the boundary, and only the original columns\n",
    "                of the gdf_data that is of interest.\n",
    "    Comments: the boundary crs will be changed to that of the gdf_data to match if they are not the same\n",
    "    \"\"\"\n",
    "    if gdf_data.crs != boundary.crs:\n",
    "        boundary = boundary.to_crs(gdf_data.crs)\n",
    "        \n",
    "    col_list = gdf_data.columns\n",
    "    gdf_data = gpd.sjoin(gdf_data,boundary, predicate='within')\n",
    "    \n",
    "    gdf_data = gdf_data.drop(gdf_data.columns.difference(col_list), axis=1)\n",
    "    \n",
    "    \n",
    "    return gdf_data"
   ]
  },
  {
   "cell_type": "code",
   "execution_count": 23,
   "id": "54c77838",
   "metadata": {},
   "outputs": [],
   "source": [
    "def manipulate_data(data,col,cond_zero = False,cond_nan = True,cond_neg = False):\n",
    "    \"\"\"\n",
    "    \"\"\"\n",
    "    print(\"Data has {} negarive values\".format(len(data[data.pixel_value < 0])))\n",
    "    print(\"Data has {} zero values\".format(len(data[data.pixel_value == 0])))\n",
    "    print(\"Data has {} nan values\".format(len(data[data.pixel_value == np.nan])))\n",
    "    \n",
    "    if cond_zero == True:\n",
    "        data = data[data[col] != 0]\n",
    "        \n",
    "    if cond_nan == True:\n",
    "        data = data[data[col] != np.nan]\n",
    "        \n",
    "    if cond_neg == True:\n",
    "        data = data[data[col] > 0]\n",
    "    \n",
    "    return data"
   ]
  },
  {
   "cell_type": "markdown",
   "id": "bb0894af",
   "metadata": {},
   "source": [
    "Now that we have functions that can help us manipulate the data, let manipulate all the files to get to only ontario data."
   ]
  },
  {
   "cell_type": "code",
   "execution_count": 25,
   "id": "69c92490",
   "metadata": {},
   "outputs": [
    {
     "name": "stdout",
     "output_type": "stream",
     "text": [
      "Data has 61368 negarive values\n",
      "Data has 0 zero values\n",
      "Data has 0 nan values\n",
      "<bound method NDFrame.head of           pixel_value                    geometry\n",
      "821902       0.076667  POINT (-88.88523 56.85778)\n",
      "821903       0.076667  POINT (-88.88105 56.85756)\n",
      "821904       0.060000  POINT (-88.87688 56.85734)\n",
      "827959       0.076667  POINT (-88.88563 56.85549)\n",
      "827960       5.120000  POINT (-88.88145 56.85527)\n",
      "...               ...                         ...\n",
      "39993374    64.976670  POINT (-82.67627 41.73389)\n",
      "39993375    52.920002  POINT (-82.67342 41.73347)\n",
      "39993376    42.469997  POINT (-82.67057 41.73305)\n",
      "39999479    79.076670  POINT (-82.67398 41.73133)\n",
      "39999480    78.653336  POINT (-82.67113 41.73092)\n",
      "\n",
      "[14730759 rows x 2 columns]>\n",
      "Data has 0 negarive values\n",
      "Data has 0 zero values\n",
      "Data has 0 nan values\n",
      "<bound method NDFrame.head of           pixel_value                    geometry\n",
      "383746       3.630000  POINT (-88.88940 56.85800)\n",
      "383747       0.076667  POINT (-88.88523 56.85778)\n",
      "383748       0.076667  POINT (-88.88105 56.85756)\n",
      "383749       0.060000  POINT (-88.87688 56.85734)\n",
      "386988       5.120000  POINT (-88.88563 56.85549)\n",
      "...               ...                         ...\n",
      "26393586     4.270000  POINT (-82.66772 41.73263)\n",
      "26393648    67.456665  POINT (-82.67398 41.73133)\n",
      "26393649    65.763336  POINT (-82.67113 41.73092)\n",
      "26393650     4.270000  POINT (-82.66828 41.73050)\n",
      "26393722     4.270000  POINT (-82.67169 41.72878)\n",
      "\n",
      "[14738763 rows x 2 columns]>\n",
      "Data has 0 negarive values\n",
      "Data has 0 zero values\n",
      "Data has 0 nan values\n",
      "<bound method NDFrame.head of           pixel_value                    geometry\n",
      "864684          255.0  POINT (-88.88940 56.85800)\n",
      "864685          255.0  POINT (-88.88523 56.85778)\n",
      "864686          255.0  POINT (-88.88105 56.85756)\n",
      "864687          255.0  POINT (-88.87688 56.85734)\n",
      "871374          255.0  POINT (-88.89398 56.85593)\n",
      "...               ...                         ...\n",
      "43823525        255.0  POINT (-82.67315 41.67801)\n",
      "43823526        255.0  POINT (-82.67030 41.67759)\n",
      "43823527        255.0  POINT (-82.66746 41.67717)\n",
      "43823528        255.0  POINT (-82.66461 41.67675)\n",
      "43830214        255.0  POINT (-82.67940 41.67671)\n",
      "\n",
      "[17186844 rows x 2 columns]>\n",
      "Data has 0 negarive values\n",
      "Data has 0 zero values\n",
      "Data has 0 nan values\n",
      "<bound method NDFrame.head of          pixel_value                    geometry\n",
      "647           2017.0  POINT (-88.90097 56.84014)\n",
      "658           2017.0  POINT (-88.90137 56.83786)\n",
      "673           1995.0  POINT (-88.93138 56.83482)\n",
      "678           1995.0  POINT (-88.91926 56.83187)\n",
      "690           1995.0  POINT (-88.87834 56.82510)\n",
      "...              ...                         ...\n",
      "1430717       2000.0  POINT (-79.75382 44.79599)\n",
      "1430718       1998.0  POINT (-79.75154 44.79332)\n",
      "1430719       2017.0  POINT (-79.29207 44.70976)\n",
      "1430720       1988.0  POINT (-79.68220 44.77212)\n",
      "1430721       1988.0  POINT (-79.68294 44.76998)\n",
      "\n",
      "[781764 rows x 2 columns]>\n",
      "Data has 0 negarive values\n",
      "Data has 0 zero values\n",
      "Data has 0 nan values\n",
      "<bound method NDFrame.head of           pixel_value                    geometry\n",
      "381950       0.100000  POINT (-88.88523 56.85778)\n",
      "381951       0.100000  POINT (-88.88105 56.85756)\n",
      "381952       0.073333  POINT (-88.87688 56.85734)\n",
      "385160       0.100000  POINT (-88.88563 56.85549)\n",
      "385161       0.696667  POINT (-88.88145 56.85527)\n",
      "...               ...                         ...\n",
      "26439803    74.436668  POINT (-82.67627 41.73389)\n",
      "26439804    81.823334  POINT (-82.67342 41.73347)\n",
      "26439805    63.323334  POINT (-82.67057 41.73305)\n",
      "26439867   104.783333  POINT (-82.67398 41.73133)\n",
      "26439868   120.830002  POINT (-82.67113 41.73092)\n",
      "\n",
      "[14728478 rows x 2 columns]>\n",
      "Data has 0 negarive values\n",
      "Data has 0 zero values\n",
      "Data has 0 nan values\n",
      "<bound method NDFrame.head of           pixel_value                    geometry\n",
      "383615       0.280000  POINT (-88.88940 56.85800)\n",
      "383616       0.100000  POINT (-88.88523 56.85778)\n",
      "383617       0.100000  POINT (-88.88105 56.85756)\n",
      "383618       0.073333  POINT (-88.87688 56.85734)\n",
      "386853       0.696667  POINT (-88.88563 56.85549)\n",
      "...               ...                         ...\n",
      "26389247     1.580000  POINT (-82.66772 41.73263)\n",
      "26389309    79.616669  POINT (-82.67398 41.73133)\n",
      "26389310    88.680000  POINT (-82.67113 41.73092)\n",
      "26389311     1.580000  POINT (-82.66828 41.73050)\n",
      "26389383     1.580000  POINT (-82.67169 41.72878)\n",
      "\n",
      "[14735992 rows x 2 columns]>\n",
      "Data has 0 negarive values\n",
      "Data has 0 zero values\n",
      "Data has 0 nan values\n",
      "<bound method NDFrame.head of           pixel_value                    geometry\n",
      "167290       8.400000  POINT (-88.88131 56.83218)\n",
      "170197      52.400002  POINT (-88.96973 56.83221)\n",
      "171660     126.500000  POINT (-88.97430 56.83014)\n",
      "174612      69.099998  POINT (-88.99178 56.82643)\n",
      "179076       8.400000  POINT (-88.92206 56.81586)\n",
      "...               ...                         ...\n",
      "16261635   288.700012  POINT (-79.29065 44.67763)\n",
      "16261636   196.100006  POINT (-79.29441 44.67603)\n",
      "16261637   371.700012  POINT (-79.29141 44.67549)\n",
      "16261638   157.600006  POINT (-79.28917 44.67281)\n",
      "16261639   223.300003  POINT (-79.29068 44.66852)\n",
      "\n",
      "[9651091 rows x 2 columns]>\n"
     ]
    }
   ],
   "source": [
    "ontario = []\n",
    "for data,c,file in zip(df_data,crs,filenames):\n",
    "    gdf = create_gdf(data,c,['x_coord','y_coord'],4269)\n",
    "    gdf = within_space(gdf,ON_boundary)\n",
    "    gdf = manipulate_data(gdf,'pixel_value',True,True,True)\n",
    "    print(gdf.head)\n",
    "    ontario.append(gdf)"
   ]
  },
  {
   "cell_type": "markdown",
   "id": "e4987a11",
   "metadata": {},
   "source": [
    "Now lets perform some individual manipulation on the data sets. First lets look at the 2019 data sets.\n",
    "\n",
    "There is something going on with the maximum age"
   ]
  },
  {
   "cell_type": "code",
   "execution_count": 26,
   "id": "1baf3ca4",
   "metadata": {},
   "outputs": [
    {
     "data": {
      "text/plain": [
       "array([255., 146., 151., 149., 148., 143., 147., 150., 144., 145., 142.,\n",
       "       141.], dtype=float32)"
      ]
     },
     "execution_count": 26,
     "metadata": {},
     "output_type": "execute_result"
    }
   ],
   "source": [
    "ontario[2].pixel_value[ontario[2].pixel_value > 140].unique()"
   ]
  },
  {
   "cell_type": "markdown",
   "id": "87fcfabf",
   "metadata": {},
   "source": [
    "Looking at the data above, there is somthing werid with the 2019 age data. It seems like during the QGIS aligning process,\n",
    "empty space or zero values were also written as 255 years. so lets get rid of them"
   ]
  },
  {
   "cell_type": "code",
   "execution_count": 27,
   "id": "7b72b815",
   "metadata": {},
   "outputs": [
    {
     "name": "stdout",
     "output_type": "stream",
     "text": [
      "[255. 146. 151. 149. 148. 143. 147. 150. 144. 145. 142. 141.]\n"
     ]
    },
    {
     "data": {
      "text/plain": [
       "6763267"
      ]
     },
     "execution_count": 27,
     "metadata": {},
     "output_type": "execute_result"
    }
   ],
   "source": [
    "print(ontario[2].pixel_value[ontario[2].pixel_value > 140].unique())\n",
    "len(ontario[2][ontario[2].pixel_value == 255])"
   ]
  },
  {
   "cell_type": "code",
   "execution_count": 28,
   "id": "2090b68e",
   "metadata": {},
   "outputs": [],
   "source": [
    "ontario[2]=ontario[2][ontario[2].pixel_value != 255]"
   ]
  },
  {
   "cell_type": "markdown",
   "id": "43337099",
   "metadata": {},
   "source": [
    "Now check again:"
   ]
  },
  {
   "cell_type": "code",
   "execution_count": 29,
   "id": "ebcc50e9",
   "metadata": {},
   "outputs": [
    {
     "data": {
      "text/plain": [
       "0"
      ]
     },
     "execution_count": 29,
     "metadata": {},
     "output_type": "execute_result"
    }
   ],
   "source": [
    "#now check again:\n",
    "len(ontario[2][ontario[2].pixel_value == 255])"
   ]
  },
  {
   "cell_type": "markdown",
   "id": "8be86210",
   "metadata": {},
   "source": [
    "We are okay."
   ]
  },
  {
   "cell_type": "code",
   "execution_count": 63,
   "id": "8f898dec",
   "metadata": {},
   "outputs": [
    {
     "data": {
      "text/plain": [
       "<Axes: >"
      ]
     },
     "execution_count": 63,
     "metadata": {},
     "output_type": "execute_result"
    },
    {
     "data": {
      "image/png": "[encoded data removed]",
      "text/plain": [
       "<Figure size 640x480 with 1 Axes>"
      ]
     },
     "metadata": {},
     "output_type": "display_data"
    }
   ],
   "source": [
    "#lets look at the data quickly, we can look to see how the data fits for trees older that 140 in 2019.\n",
    "ax = ON_boundary.plot()\n",
    "ontario[2][ontario[2].pixel_value > 140].plot(ax=ax,color='red',markersize = 0.00001)"
   ]
  },
  {
   "cell_type": "markdown",
   "id": "dcb1c81a",
   "metadata": {},
   "source": [
    "Now lets, look at each individual set and make sure that its all okay"
   ]
  },
  {
   "cell_type": "markdown",
   "id": "e2a7895e",
   "metadata": {},
   "source": [
    "#### Forest Age 2001"
   ]
  },
  {
   "cell_type": "code",
   "execution_count": 31,
   "id": "e55596d2",
   "metadata": {},
   "outputs": [
    {
     "data": {
      "text/html": [
       "<div>\n",
       "<style scoped>\n",
       "    .dataframe tbody tr th:only-of-type {\n",
       "        vertical-align: middle;\n",
       "    }\n",
       "\n",
       "    .dataframe tbody tr th {\n",
       "        vertical-align: top;\n",
       "    }\n",
       "\n",
       "    .dataframe thead th {\n",
       "        text-align: right;\n",
       "    }\n",
       "</style>\n",
       "<table border=\"1\" class=\"dataframe\">\n",
       "  <thead>\n",
       "    <tr style=\"text-align: right;\">\n",
       "      <th></th>\n",
       "      <th>pixel_value</th>\n",
       "      <th>geometry</th>\n",
       "    </tr>\n",
       "  </thead>\n",
       "  <tbody>\n",
       "    <tr>\n",
       "      <th>821902</th>\n",
       "      <td>0.076667</td>\n",
       "      <td>POINT (-88.88523 56.85778)</td>\n",
       "    </tr>\n",
       "    <tr>\n",
       "      <th>821903</th>\n",
       "      <td>0.076667</td>\n",
       "      <td>POINT (-88.88105 56.85756)</td>\n",
       "    </tr>\n",
       "    <tr>\n",
       "      <th>821904</th>\n",
       "      <td>0.060000</td>\n",
       "      <td>POINT (-88.87688 56.85734)</td>\n",
       "    </tr>\n",
       "    <tr>\n",
       "      <th>827959</th>\n",
       "      <td>0.076667</td>\n",
       "      <td>POINT (-88.88563 56.85549)</td>\n",
       "    </tr>\n",
       "    <tr>\n",
       "      <th>827960</th>\n",
       "      <td>5.120000</td>\n",
       "      <td>POINT (-88.88145 56.85527)</td>\n",
       "    </tr>\n",
       "  </tbody>\n",
       "</table>\n",
       "</div>"
      ],
      "text/plain": [
       "        pixel_value                    geometry\n",
       "821902     0.076667  POINT (-88.88523 56.85778)\n",
       "821903     0.076667  POINT (-88.88105 56.85756)\n",
       "821904     0.060000  POINT (-88.87688 56.85734)\n",
       "827959     0.076667  POINT (-88.88563 56.85549)\n",
       "827960     5.120000  POINT (-88.88145 56.85527)"
      ]
     },
     "execution_count": 31,
     "metadata": {},
     "output_type": "execute_result"
    }
   ],
   "source": [
    "ontario[0].head()"
   ]
  },
  {
   "cell_type": "markdown",
   "id": "033a83c1",
   "metadata": {},
   "source": [
    "As we can see, the years are not integer years. Let make things simpler and round each year up to an integer, since our \n",
    "2019 data is by year integer value. Also lets give the pixel_value column a title"
   ]
  },
  {
   "cell_type": "code",
   "execution_count": 32,
   "id": "298459cc",
   "metadata": {},
   "outputs": [
    {
     "name": "stdout",
     "output_type": "stream",
     "text": [
      "ONage2001_250m.txt\n",
      "<class 'geopandas.geodataframe.GeoDataFrame'>\n",
      "Index: 14730759 entries, 821902 to 39999480\n",
      "Data columns (total 2 columns):\n",
      " #   Column    Dtype   \n",
      "---  ------    -----   \n",
      " 0   age_2001  uint8   \n",
      " 1   geometry  geometry\n",
      "dtypes: geometry(1), uint8(1)\n",
      "memory usage: 238.8 MB\n",
      "None\n"
     ]
    },
    {
     "data": {
      "text/html": [
       "<div>\n",
       "<style scoped>\n",
       "    .dataframe tbody tr th:only-of-type {\n",
       "        vertical-align: middle;\n",
       "    }\n",
       "\n",
       "    .dataframe tbody tr th {\n",
       "        vertical-align: top;\n",
       "    }\n",
       "\n",
       "    .dataframe thead th {\n",
       "        text-align: right;\n",
       "    }\n",
       "</style>\n",
       "<table border=\"1\" class=\"dataframe\">\n",
       "  <thead>\n",
       "    <tr style=\"text-align: right;\">\n",
       "      <th></th>\n",
       "      <th>age_2001</th>\n",
       "      <th>geometry</th>\n",
       "    </tr>\n",
       "  </thead>\n",
       "  <tbody>\n",
       "    <tr>\n",
       "      <th>821902</th>\n",
       "      <td>0</td>\n",
       "      <td>POINT (-88.88523 56.85778)</td>\n",
       "    </tr>\n",
       "    <tr>\n",
       "      <th>821903</th>\n",
       "      <td>0</td>\n",
       "      <td>POINT (-88.88105 56.85756)</td>\n",
       "    </tr>\n",
       "    <tr>\n",
       "      <th>821904</th>\n",
       "      <td>0</td>\n",
       "      <td>POINT (-88.87688 56.85734)</td>\n",
       "    </tr>\n",
       "    <tr>\n",
       "      <th>827959</th>\n",
       "      <td>0</td>\n",
       "      <td>POINT (-88.88563 56.85549)</td>\n",
       "    </tr>\n",
       "    <tr>\n",
       "      <th>827960</th>\n",
       "      <td>5</td>\n",
       "      <td>POINT (-88.88145 56.85527)</td>\n",
       "    </tr>\n",
       "  </tbody>\n",
       "</table>\n",
       "</div>"
      ],
      "text/plain": [
       "        age_2001                    geometry\n",
       "821902         0  POINT (-88.88523 56.85778)\n",
       "821903         0  POINT (-88.88105 56.85756)\n",
       "821904         0  POINT (-88.87688 56.85734)\n",
       "827959         0  POINT (-88.88563 56.85549)\n",
       "827960         5  POINT (-88.88145 56.85527)"
      ]
     },
     "execution_count": 32,
     "metadata": {},
     "output_type": "execute_result"
    }
   ],
   "source": [
    "print(filenames[0])\n",
    "ontario[0].pixel_value = pd.to_numeric(ontario[0].pixel_value.round(0),downcast='unsigned')\n",
    "\n",
    "ontario[0].rename(columns={\"pixel_value\": \"age_2001\"},inplace=True)\n",
    "print(ontario[0].info())\n",
    "ontario[0].head()"
   ]
  },
  {
   "cell_type": "markdown",
   "id": "c5483e52",
   "metadata": {},
   "source": [
    "Since we now have zero values, lets get rid of them as well"
   ]
  },
  {
   "cell_type": "code",
   "execution_count": 33,
   "id": "db161830",
   "metadata": {},
   "outputs": [
    {
     "data": {
      "text/html": [
       "<div>\n",
       "<style scoped>\n",
       "    .dataframe tbody tr th:only-of-type {\n",
       "        vertical-align: middle;\n",
       "    }\n",
       "\n",
       "    .dataframe tbody tr th {\n",
       "        vertical-align: top;\n",
       "    }\n",
       "\n",
       "    .dataframe thead th {\n",
       "        text-align: right;\n",
       "    }\n",
       "</style>\n",
       "<table border=\"1\" class=\"dataframe\">\n",
       "  <thead>\n",
       "    <tr style=\"text-align: right;\">\n",
       "      <th></th>\n",
       "      <th>age_2001</th>\n",
       "      <th>geometry</th>\n",
       "    </tr>\n",
       "  </thead>\n",
       "  <tbody>\n",
       "    <tr>\n",
       "      <th>827960</th>\n",
       "      <td>5</td>\n",
       "      <td>POINT (-88.88145 56.85527)</td>\n",
       "    </tr>\n",
       "    <tr>\n",
       "      <th>833980</th>\n",
       "      <td>5</td>\n",
       "      <td>POINT (-88.88603 56.85321)</td>\n",
       "    </tr>\n",
       "    <tr>\n",
       "      <th>833981</th>\n",
       "      <td>5</td>\n",
       "      <td>POINT (-88.88186 56.85299)</td>\n",
       "    </tr>\n",
       "    <tr>\n",
       "      <th>833982</th>\n",
       "      <td>5</td>\n",
       "      <td>POINT (-88.87768 56.85277)</td>\n",
       "    </tr>\n",
       "    <tr>\n",
       "      <th>833983</th>\n",
       "      <td>5</td>\n",
       "      <td>POINT (-88.87351 56.85254)</td>\n",
       "    </tr>\n",
       "  </tbody>\n",
       "</table>\n",
       "</div>"
      ],
      "text/plain": [
       "        age_2001                    geometry\n",
       "827960         5  POINT (-88.88145 56.85527)\n",
       "833980         5  POINT (-88.88603 56.85321)\n",
       "833981         5  POINT (-88.88186 56.85299)\n",
       "833982         5  POINT (-88.87768 56.85277)\n",
       "833983         5  POINT (-88.87351 56.85254)"
      ]
     },
     "execution_count": 33,
     "metadata": {},
     "output_type": "execute_result"
    }
   ],
   "source": [
    "ontario[0] = ontario[0][ontario[0].age_2001 !=0]\n",
    "ontario[0].head()"
   ]
  },
  {
   "cell_type": "markdown",
   "id": "0246491c",
   "metadata": {},
   "source": [
    "#### Forest Age 2011"
   ]
  },
  {
   "cell_type": "code",
   "execution_count": 34,
   "id": "cedb33b4",
   "metadata": {},
   "outputs": [
    {
     "data": {
      "text/html": [
       "<div>\n",
       "<style scoped>\n",
       "    .dataframe tbody tr th:only-of-type {\n",
       "        vertical-align: middle;\n",
       "    }\n",
       "\n",
       "    .dataframe tbody tr th {\n",
       "        vertical-align: top;\n",
       "    }\n",
       "\n",
       "    .dataframe thead th {\n",
       "        text-align: right;\n",
       "    }\n",
       "</style>\n",
       "<table border=\"1\" class=\"dataframe\">\n",
       "  <thead>\n",
       "    <tr style=\"text-align: right;\">\n",
       "      <th></th>\n",
       "      <th>pixel_value</th>\n",
       "      <th>geometry</th>\n",
       "    </tr>\n",
       "  </thead>\n",
       "  <tbody>\n",
       "    <tr>\n",
       "      <th>383746</th>\n",
       "      <td>3.630000</td>\n",
       "      <td>POINT (-88.88940 56.85800)</td>\n",
       "    </tr>\n",
       "    <tr>\n",
       "      <th>383747</th>\n",
       "      <td>0.076667</td>\n",
       "      <td>POINT (-88.88523 56.85778)</td>\n",
       "    </tr>\n",
       "    <tr>\n",
       "      <th>383748</th>\n",
       "      <td>0.076667</td>\n",
       "      <td>POINT (-88.88105 56.85756)</td>\n",
       "    </tr>\n",
       "    <tr>\n",
       "      <th>383749</th>\n",
       "      <td>0.060000</td>\n",
       "      <td>POINT (-88.87688 56.85734)</td>\n",
       "    </tr>\n",
       "    <tr>\n",
       "      <th>386988</th>\n",
       "      <td>5.120000</td>\n",
       "      <td>POINT (-88.88563 56.85549)</td>\n",
       "    </tr>\n",
       "  </tbody>\n",
       "</table>\n",
       "</div>"
      ],
      "text/plain": [
       "        pixel_value                    geometry\n",
       "383746     3.630000  POINT (-88.88940 56.85800)\n",
       "383747     0.076667  POINT (-88.88523 56.85778)\n",
       "383748     0.076667  POINT (-88.88105 56.85756)\n",
       "383749     0.060000  POINT (-88.87688 56.85734)\n",
       "386988     5.120000  POINT (-88.88563 56.85549)"
      ]
     },
     "execution_count": 34,
     "metadata": {},
     "output_type": "execute_result"
    }
   ],
   "source": [
    "ontario[1].head()"
   ]
  },
  {
   "cell_type": "markdown",
   "id": "b7dc0179",
   "metadata": {},
   "source": [
    "Same things as before, lets convert the pixel value and give the column a title"
   ]
  },
  {
   "cell_type": "code",
   "execution_count": 35,
   "id": "b99f804c",
   "metadata": {},
   "outputs": [
    {
     "name": "stdout",
     "output_type": "stream",
     "text": [
      "ONage2011_250m.txt\n",
      "<class 'geopandas.geodataframe.GeoDataFrame'>\n",
      "Index: 14637575 entries, 383746 to 26393722\n",
      "Data columns (total 2 columns):\n",
      " #   Column    Dtype   \n",
      "---  ------    -----   \n",
      " 0   age_2011  uint16  \n",
      " 1   geometry  geometry\n",
      "dtypes: geometry(1), uint16(1)\n",
      "memory usage: 251.3 MB\n",
      "None\n"
     ]
    },
    {
     "data": {
      "text/html": [
       "<div>\n",
       "<style scoped>\n",
       "    .dataframe tbody tr th:only-of-type {\n",
       "        vertical-align: middle;\n",
       "    }\n",
       "\n",
       "    .dataframe tbody tr th {\n",
       "        vertical-align: top;\n",
       "    }\n",
       "\n",
       "    .dataframe thead th {\n",
       "        text-align: right;\n",
       "    }\n",
       "</style>\n",
       "<table border=\"1\" class=\"dataframe\">\n",
       "  <thead>\n",
       "    <tr style=\"text-align: right;\">\n",
       "      <th></th>\n",
       "      <th>age_2011</th>\n",
       "      <th>geometry</th>\n",
       "    </tr>\n",
       "  </thead>\n",
       "  <tbody>\n",
       "    <tr>\n",
       "      <th>383746</th>\n",
       "      <td>4</td>\n",
       "      <td>POINT (-88.88940 56.85800)</td>\n",
       "    </tr>\n",
       "    <tr>\n",
       "      <th>386988</th>\n",
       "      <td>5</td>\n",
       "      <td>POINT (-88.88563 56.85549)</td>\n",
       "    </tr>\n",
       "    <tr>\n",
       "      <th>386989</th>\n",
       "      <td>5</td>\n",
       "      <td>POINT (-88.88145 56.85527)</td>\n",
       "    </tr>\n",
       "    <tr>\n",
       "      <th>386990</th>\n",
       "      <td>5</td>\n",
       "      <td>POINT (-88.87728 56.85505)</td>\n",
       "    </tr>\n",
       "    <tr>\n",
       "      <th>390218</th>\n",
       "      <td>5</td>\n",
       "      <td>POINT (-88.88603 56.85321)</td>\n",
       "    </tr>\n",
       "  </tbody>\n",
       "</table>\n",
       "</div>"
      ],
      "text/plain": [
       "        age_2011                    geometry\n",
       "383746         4  POINT (-88.88940 56.85800)\n",
       "386988         5  POINT (-88.88563 56.85549)\n",
       "386989         5  POINT (-88.88145 56.85527)\n",
       "386990         5  POINT (-88.87728 56.85505)\n",
       "390218         5  POINT (-88.88603 56.85321)"
      ]
     },
     "execution_count": 35,
     "metadata": {},
     "output_type": "execute_result"
    }
   ],
   "source": [
    "print(filenames[1])\n",
    "ontario[1].pixel_value = pd.to_numeric(ontario[1].pixel_value.round(0),downcast='unsigned')\n",
    "\n",
    "ontario[1].rename(columns={\"pixel_value\": \"age_2011\"},inplace=True)\n",
    "ontario[1] = ontario[1][ontario[1].age_2011 !=0]\n",
    "\n",
    "print(ontario[1].info())\n",
    "ontario[1].head()"
   ]
  },
  {
   "cell_type": "markdown",
   "id": "36fe50a4",
   "metadata": {},
   "source": [
    "#### Forest Age 2019"
   ]
  },
  {
   "cell_type": "code",
   "execution_count": 36,
   "id": "3fb8847f",
   "metadata": {},
   "outputs": [
    {
     "data": {
      "text/html": [
       "<div>\n",
       "<style scoped>\n",
       "    .dataframe tbody tr th:only-of-type {\n",
       "        vertical-align: middle;\n",
       "    }\n",
       "\n",
       "    .dataframe tbody tr th {\n",
       "        vertical-align: top;\n",
       "    }\n",
       "\n",
       "    .dataframe thead th {\n",
       "        text-align: right;\n",
       "    }\n",
       "</style>\n",
       "<table border=\"1\" class=\"dataframe\">\n",
       "  <thead>\n",
       "    <tr style=\"text-align: right;\">\n",
       "      <th></th>\n",
       "      <th>pixel_value</th>\n",
       "      <th>geometry</th>\n",
       "    </tr>\n",
       "  </thead>\n",
       "  <tbody>\n",
       "    <tr>\n",
       "      <th>878067</th>\n",
       "      <td>63.0</td>\n",
       "      <td>POINT (-88.88603 56.85321)</td>\n",
       "    </tr>\n",
       "    <tr>\n",
       "      <th>884758</th>\n",
       "      <td>82.0</td>\n",
       "      <td>POINT (-88.88643 56.85092)</td>\n",
       "    </tr>\n",
       "    <tr>\n",
       "      <th>891447</th>\n",
       "      <td>76.0</td>\n",
       "      <td>POINT (-88.89519 56.84907)</td>\n",
       "    </tr>\n",
       "    <tr>\n",
       "      <th>891450</th>\n",
       "      <td>52.0</td>\n",
       "      <td>POINT (-88.88266 56.84841)</td>\n",
       "    </tr>\n",
       "    <tr>\n",
       "      <th>898139</th>\n",
       "      <td>76.0</td>\n",
       "      <td>POINT (-88.89141 56.84657)</td>\n",
       "    </tr>\n",
       "  </tbody>\n",
       "</table>\n",
       "</div>"
      ],
      "text/plain": [
       "        pixel_value                    geometry\n",
       "878067         63.0  POINT (-88.88603 56.85321)\n",
       "884758         82.0  POINT (-88.88643 56.85092)\n",
       "891447         76.0  POINT (-88.89519 56.84907)\n",
       "891450         52.0  POINT (-88.88266 56.84841)\n",
       "898139         76.0  POINT (-88.89141 56.84657)"
      ]
     },
     "execution_count": 36,
     "metadata": {},
     "output_type": "execute_result"
    }
   ],
   "source": [
    "ontario[2].head()"
   ]
  },
  {
   "cell_type": "markdown",
   "id": "b0dc6a77",
   "metadata": {},
   "source": [
    "It looks like we only need to downcast and rename to column"
   ]
  },
  {
   "cell_type": "code",
   "execution_count": 37,
   "id": "62b22ab3",
   "metadata": {},
   "outputs": [
    {
     "name": "stdout",
     "output_type": "stream",
     "text": [
      "<class 'geopandas.geodataframe.GeoDataFrame'>\n",
      "Index: 10423577 entries, 878067 to 33265932\n",
      "Data columns (total 2 columns):\n",
      " #   Column    Dtype   \n",
      "---  ------    -----   \n",
      " 0   age_2019  uint8   \n",
      " 1   geometry  geometry\n",
      "dtypes: geometry(1), uint8(1)\n",
      "memory usage: 169.0 MB\n",
      "None\n"
     ]
    },
    {
     "data": {
      "text/html": [
       "<div>\n",
       "<style scoped>\n",
       "    .dataframe tbody tr th:only-of-type {\n",
       "        vertical-align: middle;\n",
       "    }\n",
       "\n",
       "    .dataframe tbody tr th {\n",
       "        vertical-align: top;\n",
       "    }\n",
       "\n",
       "    .dataframe thead th {\n",
       "        text-align: right;\n",
       "    }\n",
       "</style>\n",
       "<table border=\"1\" class=\"dataframe\">\n",
       "  <thead>\n",
       "    <tr style=\"text-align: right;\">\n",
       "      <th></th>\n",
       "      <th>age_2019</th>\n",
       "      <th>geometry</th>\n",
       "    </tr>\n",
       "  </thead>\n",
       "  <tbody>\n",
       "    <tr>\n",
       "      <th>878067</th>\n",
       "      <td>63</td>\n",
       "      <td>POINT (-88.88603 56.85321)</td>\n",
       "    </tr>\n",
       "    <tr>\n",
       "      <th>884758</th>\n",
       "      <td>82</td>\n",
       "      <td>POINT (-88.88643 56.85092)</td>\n",
       "    </tr>\n",
       "    <tr>\n",
       "      <th>891447</th>\n",
       "      <td>76</td>\n",
       "      <td>POINT (-88.89519 56.84907)</td>\n",
       "    </tr>\n",
       "    <tr>\n",
       "      <th>891450</th>\n",
       "      <td>52</td>\n",
       "      <td>POINT (-88.88266 56.84841)</td>\n",
       "    </tr>\n",
       "    <tr>\n",
       "      <th>898139</th>\n",
       "      <td>76</td>\n",
       "      <td>POINT (-88.89141 56.84657)</td>\n",
       "    </tr>\n",
       "  </tbody>\n",
       "</table>\n",
       "</div>"
      ],
      "text/plain": [
       "        age_2019                    geometry\n",
       "878067        63  POINT (-88.88603 56.85321)\n",
       "884758        82  POINT (-88.88643 56.85092)\n",
       "891447        76  POINT (-88.89519 56.84907)\n",
       "891450        52  POINT (-88.88266 56.84841)\n",
       "898139        76  POINT (-88.89141 56.84657)"
      ]
     },
     "execution_count": 37,
     "metadata": {},
     "output_type": "execute_result"
    }
   ],
   "source": [
    "ontario[2].rename(columns={\"pixel_value\":\"age_2019\"},inplace=True)\n",
    "ontario[2].age_2019 = pd.to_numeric(ontario[2].age_2019, downcast='unsigned')\n",
    "\n",
    "print(ontario[2].info())\n",
    "ontario[2].head()"
   ]
  },
  {
   "cell_type": "markdown",
   "id": "a1818b44",
   "metadata": {},
   "source": [
    "#### Forest Harvest Years"
   ]
  },
  {
   "cell_type": "code",
   "execution_count": 38,
   "id": "a3ecc20e",
   "metadata": {},
   "outputs": [
    {
     "data": {
      "text/html": [
       "<div>\n",
       "<style scoped>\n",
       "    .dataframe tbody tr th:only-of-type {\n",
       "        vertical-align: middle;\n",
       "    }\n",
       "\n",
       "    .dataframe tbody tr th {\n",
       "        vertical-align: top;\n",
       "    }\n",
       "\n",
       "    .dataframe thead th {\n",
       "        text-align: right;\n",
       "    }\n",
       "</style>\n",
       "<table border=\"1\" class=\"dataframe\">\n",
       "  <thead>\n",
       "    <tr style=\"text-align: right;\">\n",
       "      <th></th>\n",
       "      <th>pixel_value</th>\n",
       "      <th>geometry</th>\n",
       "    </tr>\n",
       "  </thead>\n",
       "  <tbody>\n",
       "    <tr>\n",
       "      <th>647</th>\n",
       "      <td>2017.0</td>\n",
       "      <td>POINT (-88.90097 56.84014)</td>\n",
       "    </tr>\n",
       "    <tr>\n",
       "      <th>658</th>\n",
       "      <td>2017.0</td>\n",
       "      <td>POINT (-88.90137 56.83786)</td>\n",
       "    </tr>\n",
       "    <tr>\n",
       "      <th>673</th>\n",
       "      <td>1995.0</td>\n",
       "      <td>POINT (-88.93138 56.83482)</td>\n",
       "    </tr>\n",
       "    <tr>\n",
       "      <th>678</th>\n",
       "      <td>1995.0</td>\n",
       "      <td>POINT (-88.91926 56.83187)</td>\n",
       "    </tr>\n",
       "    <tr>\n",
       "      <th>690</th>\n",
       "      <td>1995.0</td>\n",
       "      <td>POINT (-88.87834 56.82510)</td>\n",
       "    </tr>\n",
       "  </tbody>\n",
       "</table>\n",
       "</div>"
      ],
      "text/plain": [
       "     pixel_value                    geometry\n",
       "647       2017.0  POINT (-88.90097 56.84014)\n",
       "658       2017.0  POINT (-88.90137 56.83786)\n",
       "673       1995.0  POINT (-88.93138 56.83482)\n",
       "678       1995.0  POINT (-88.91926 56.83187)\n",
       "690       1995.0  POINT (-88.87834 56.82510)"
      ]
     },
     "execution_count": 38,
     "metadata": {},
     "output_type": "execute_result"
    }
   ],
   "source": [
    "ontario[3].head()"
   ]
  },
  {
   "cell_type": "markdown",
   "id": "f1cf273a",
   "metadata": {},
   "source": [
    "Same here, we just need to downcast and rename the column"
   ]
  },
  {
   "cell_type": "code",
   "execution_count": 39,
   "id": "6a87c42c",
   "metadata": {},
   "outputs": [
    {
     "name": "stdout",
     "output_type": "stream",
     "text": [
      "<class 'geopandas.geodataframe.GeoDataFrame'>\n",
      "Index: 781764 entries, 647 to 1430721\n",
      "Data columns (total 2 columns):\n",
      " #   Column          Non-Null Count   Dtype   \n",
      "---  ------          --------------   -----   \n",
      " 0   year_harvested  781764 non-null  uint16  \n",
      " 1   geometry        781764 non-null  geometry\n",
      "dtypes: geometry(1), uint16(1)\n",
      "memory usage: 13.4 MB\n",
      "None\n"
     ]
    },
    {
     "data": {
      "text/html": [
       "<div>\n",
       "<style scoped>\n",
       "    .dataframe tbody tr th:only-of-type {\n",
       "        vertical-align: middle;\n",
       "    }\n",
       "\n",
       "    .dataframe tbody tr th {\n",
       "        vertical-align: top;\n",
       "    }\n",
       "\n",
       "    .dataframe thead th {\n",
       "        text-align: right;\n",
       "    }\n",
       "</style>\n",
       "<table border=\"1\" class=\"dataframe\">\n",
       "  <thead>\n",
       "    <tr style=\"text-align: right;\">\n",
       "      <th></th>\n",
       "      <th>year_harvested</th>\n",
       "      <th>geometry</th>\n",
       "    </tr>\n",
       "  </thead>\n",
       "  <tbody>\n",
       "    <tr>\n",
       "      <th>647</th>\n",
       "      <td>2017</td>\n",
       "      <td>POINT (-88.90097 56.84014)</td>\n",
       "    </tr>\n",
       "    <tr>\n",
       "      <th>658</th>\n",
       "      <td>2017</td>\n",
       "      <td>POINT (-88.90137 56.83786)</td>\n",
       "    </tr>\n",
       "    <tr>\n",
       "      <th>673</th>\n",
       "      <td>1995</td>\n",
       "      <td>POINT (-88.93138 56.83482)</td>\n",
       "    </tr>\n",
       "    <tr>\n",
       "      <th>678</th>\n",
       "      <td>1995</td>\n",
       "      <td>POINT (-88.91926 56.83187)</td>\n",
       "    </tr>\n",
       "    <tr>\n",
       "      <th>690</th>\n",
       "      <td>1995</td>\n",
       "      <td>POINT (-88.87834 56.82510)</td>\n",
       "    </tr>\n",
       "  </tbody>\n",
       "</table>\n",
       "</div>"
      ],
      "text/plain": [
       "     year_harvested                    geometry\n",
       "647            2017  POINT (-88.90097 56.84014)\n",
       "658            2017  POINT (-88.90137 56.83786)\n",
       "673            1995  POINT (-88.93138 56.83482)\n",
       "678            1995  POINT (-88.91926 56.83187)\n",
       "690            1995  POINT (-88.87834 56.82510)"
      ]
     },
     "execution_count": 39,
     "metadata": {},
     "output_type": "execute_result"
    }
   ],
   "source": [
    "ontario[3].rename(columns={\"pixel_value\":\"year_harvested\"},inplace=True)\n",
    "ontario[3].year_harvested = pd.to_numeric(ontario[3].year_harvested, downcast='unsigned')\n",
    "\n",
    "print(ontario[3].info())\n",
    "ontario[3].head()"
   ]
  },
  {
   "cell_type": "markdown",
   "id": "45d91f55",
   "metadata": {},
   "source": [
    "#### Forest Volume 2001\n",
    "Units of this data are in meters cubed per hectar (m^3/ha)"
   ]
  },
  {
   "cell_type": "code",
   "execution_count": 40,
   "id": "c411d1cd",
   "metadata": {},
   "outputs": [
    {
     "name": "stdout",
     "output_type": "stream",
     "text": [
      "546.8433227539062\n"
     ]
    },
    {
     "data": {
      "text/html": [
       "<div>\n",
       "<style scoped>\n",
       "    .dataframe tbody tr th:only-of-type {\n",
       "        vertical-align: middle;\n",
       "    }\n",
       "\n",
       "    .dataframe tbody tr th {\n",
       "        vertical-align: top;\n",
       "    }\n",
       "\n",
       "    .dataframe thead th {\n",
       "        text-align: right;\n",
       "    }\n",
       "</style>\n",
       "<table border=\"1\" class=\"dataframe\">\n",
       "  <thead>\n",
       "    <tr style=\"text-align: right;\">\n",
       "      <th></th>\n",
       "      <th>pixel_value</th>\n",
       "      <th>geometry</th>\n",
       "    </tr>\n",
       "  </thead>\n",
       "  <tbody>\n",
       "    <tr>\n",
       "      <th>381950</th>\n",
       "      <td>0.100000</td>\n",
       "      <td>POINT (-88.88523 56.85778)</td>\n",
       "    </tr>\n",
       "    <tr>\n",
       "      <th>381951</th>\n",
       "      <td>0.100000</td>\n",
       "      <td>POINT (-88.88105 56.85756)</td>\n",
       "    </tr>\n",
       "    <tr>\n",
       "      <th>381952</th>\n",
       "      <td>0.073333</td>\n",
       "      <td>POINT (-88.87688 56.85734)</td>\n",
       "    </tr>\n",
       "    <tr>\n",
       "      <th>385160</th>\n",
       "      <td>0.100000</td>\n",
       "      <td>POINT (-88.88563 56.85549)</td>\n",
       "    </tr>\n",
       "    <tr>\n",
       "      <th>385161</th>\n",
       "      <td>0.696667</td>\n",
       "      <td>POINT (-88.88145 56.85527)</td>\n",
       "    </tr>\n",
       "  </tbody>\n",
       "</table>\n",
       "</div>"
      ],
      "text/plain": [
       "        pixel_value                    geometry\n",
       "381950     0.100000  POINT (-88.88523 56.85778)\n",
       "381951     0.100000  POINT (-88.88105 56.85756)\n",
       "381952     0.073333  POINT (-88.87688 56.85734)\n",
       "385160     0.100000  POINT (-88.88563 56.85549)\n",
       "385161     0.696667  POINT (-88.88145 56.85527)"
      ]
     },
     "execution_count": 40,
     "metadata": {},
     "output_type": "execute_result"
    }
   ],
   "source": [
    "print(ontario[4].pixel_value.max())\n",
    "ontario[4].head()"
   ]
  },
  {
   "cell_type": "markdown",
   "id": "43676faa",
   "metadata": {},
   "source": [
    "Lets round the data down to lets say 2 decimal places, and rename the column "
   ]
  },
  {
   "cell_type": "code",
   "execution_count": 41,
   "id": "c46c941f",
   "metadata": {},
   "outputs": [
    {
     "data": {
      "text/html": [
       "<div>\n",
       "<style scoped>\n",
       "    .dataframe tbody tr th:only-of-type {\n",
       "        vertical-align: middle;\n",
       "    }\n",
       "\n",
       "    .dataframe tbody tr th {\n",
       "        vertical-align: top;\n",
       "    }\n",
       "\n",
       "    .dataframe thead th {\n",
       "        text-align: right;\n",
       "    }\n",
       "</style>\n",
       "<table border=\"1\" class=\"dataframe\">\n",
       "  <thead>\n",
       "    <tr style=\"text-align: right;\">\n",
       "      <th></th>\n",
       "      <th>vol_2001</th>\n",
       "      <th>geometry</th>\n",
       "    </tr>\n",
       "  </thead>\n",
       "  <tbody>\n",
       "    <tr>\n",
       "      <th>381950</th>\n",
       "      <td>0.10</td>\n",
       "      <td>POINT (-88.88523 56.85778)</td>\n",
       "    </tr>\n",
       "    <tr>\n",
       "      <th>381951</th>\n",
       "      <td>0.10</td>\n",
       "      <td>POINT (-88.88105 56.85756)</td>\n",
       "    </tr>\n",
       "    <tr>\n",
       "      <th>381952</th>\n",
       "      <td>0.07</td>\n",
       "      <td>POINT (-88.87688 56.85734)</td>\n",
       "    </tr>\n",
       "    <tr>\n",
       "      <th>385160</th>\n",
       "      <td>0.10</td>\n",
       "      <td>POINT (-88.88563 56.85549)</td>\n",
       "    </tr>\n",
       "    <tr>\n",
       "      <th>385161</th>\n",
       "      <td>0.70</td>\n",
       "      <td>POINT (-88.88145 56.85527)</td>\n",
       "    </tr>\n",
       "  </tbody>\n",
       "</table>\n",
       "</div>"
      ],
      "text/plain": [
       "        vol_2001                    geometry\n",
       "381950      0.10  POINT (-88.88523 56.85778)\n",
       "381951      0.10  POINT (-88.88105 56.85756)\n",
       "381952      0.07  POINT (-88.87688 56.85734)\n",
       "385160      0.10  POINT (-88.88563 56.85549)\n",
       "385161      0.70  POINT (-88.88145 56.85527)"
      ]
     },
     "execution_count": 41,
     "metadata": {},
     "output_type": "execute_result"
    }
   ],
   "source": [
    "ontario[4].rename(columns={\"pixel_value\":\"vol_2001\"},inplace=True)\n",
    "ontario[4].vol_2001 = ontario[4].vol_2001.round(2)\n",
    "ontario[4].head()"
   ]
  },
  {
   "cell_type": "markdown",
   "id": "ec645851",
   "metadata": {},
   "source": [
    "#### Forest Volume 2011\n",
    "Same thing as before for volume 2001"
   ]
  },
  {
   "cell_type": "code",
   "execution_count": 44,
   "id": "c64427f5",
   "metadata": {},
   "outputs": [
    {
     "data": {
      "text/html": [
       "<div>\n",
       "<style scoped>\n",
       "    .dataframe tbody tr th:only-of-type {\n",
       "        vertical-align: middle;\n",
       "    }\n",
       "\n",
       "    .dataframe tbody tr th {\n",
       "        vertical-align: top;\n",
       "    }\n",
       "\n",
       "    .dataframe thead th {\n",
       "        text-align: right;\n",
       "    }\n",
       "</style>\n",
       "<table border=\"1\" class=\"dataframe\">\n",
       "  <thead>\n",
       "    <tr style=\"text-align: right;\">\n",
       "      <th></th>\n",
       "      <th>vol_2011</th>\n",
       "      <th>geometry</th>\n",
       "    </tr>\n",
       "  </thead>\n",
       "  <tbody>\n",
       "    <tr>\n",
       "      <th>383615</th>\n",
       "      <td>0.28</td>\n",
       "      <td>POINT (-88.88940 56.85800)</td>\n",
       "    </tr>\n",
       "    <tr>\n",
       "      <th>383616</th>\n",
       "      <td>0.10</td>\n",
       "      <td>POINT (-88.88523 56.85778)</td>\n",
       "    </tr>\n",
       "    <tr>\n",
       "      <th>383617</th>\n",
       "      <td>0.10</td>\n",
       "      <td>POINT (-88.88105 56.85756)</td>\n",
       "    </tr>\n",
       "    <tr>\n",
       "      <th>383618</th>\n",
       "      <td>0.07</td>\n",
       "      <td>POINT (-88.87688 56.85734)</td>\n",
       "    </tr>\n",
       "    <tr>\n",
       "      <th>386853</th>\n",
       "      <td>0.70</td>\n",
       "      <td>POINT (-88.88563 56.85549)</td>\n",
       "    </tr>\n",
       "  </tbody>\n",
       "</table>\n",
       "</div>"
      ],
      "text/plain": [
       "        vol_2011                    geometry\n",
       "383615      0.28  POINT (-88.88940 56.85800)\n",
       "383616      0.10  POINT (-88.88523 56.85778)\n",
       "383617      0.10  POINT (-88.88105 56.85756)\n",
       "383618      0.07  POINT (-88.87688 56.85734)\n",
       "386853      0.70  POINT (-88.88563 56.85549)"
      ]
     },
     "execution_count": 44,
     "metadata": {},
     "output_type": "execute_result"
    }
   ],
   "source": [
    "ontario[5].head()"
   ]
  },
  {
   "cell_type": "code",
   "execution_count": 45,
   "id": "dc3f9498",
   "metadata": {},
   "outputs": [
    {
     "data": {
      "text/html": [
       "<div>\n",
       "<style scoped>\n",
       "    .dataframe tbody tr th:only-of-type {\n",
       "        vertical-align: middle;\n",
       "    }\n",
       "\n",
       "    .dataframe tbody tr th {\n",
       "        vertical-align: top;\n",
       "    }\n",
       "\n",
       "    .dataframe thead th {\n",
       "        text-align: right;\n",
       "    }\n",
       "</style>\n",
       "<table border=\"1\" class=\"dataframe\">\n",
       "  <thead>\n",
       "    <tr style=\"text-align: right;\">\n",
       "      <th></th>\n",
       "      <th>vol_2011</th>\n",
       "      <th>geometry</th>\n",
       "    </tr>\n",
       "  </thead>\n",
       "  <tbody>\n",
       "    <tr>\n",
       "      <th>383615</th>\n",
       "      <td>0.28</td>\n",
       "      <td>POINT (-88.88940 56.85800)</td>\n",
       "    </tr>\n",
       "    <tr>\n",
       "      <th>383616</th>\n",
       "      <td>0.10</td>\n",
       "      <td>POINT (-88.88523 56.85778)</td>\n",
       "    </tr>\n",
       "    <tr>\n",
       "      <th>383617</th>\n",
       "      <td>0.10</td>\n",
       "      <td>POINT (-88.88105 56.85756)</td>\n",
       "    </tr>\n",
       "    <tr>\n",
       "      <th>383618</th>\n",
       "      <td>0.07</td>\n",
       "      <td>POINT (-88.87688 56.85734)</td>\n",
       "    </tr>\n",
       "    <tr>\n",
       "      <th>386853</th>\n",
       "      <td>0.70</td>\n",
       "      <td>POINT (-88.88563 56.85549)</td>\n",
       "    </tr>\n",
       "  </tbody>\n",
       "</table>\n",
       "</div>"
      ],
      "text/plain": [
       "        vol_2011                    geometry\n",
       "383615      0.28  POINT (-88.88940 56.85800)\n",
       "383616      0.10  POINT (-88.88523 56.85778)\n",
       "383617      0.10  POINT (-88.88105 56.85756)\n",
       "383618      0.07  POINT (-88.87688 56.85734)\n",
       "386853      0.70  POINT (-88.88563 56.85549)"
      ]
     },
     "execution_count": 45,
     "metadata": {},
     "output_type": "execute_result"
    }
   ],
   "source": [
    "ontario[5].rename(columns={\"pixel_value\":\"vol_2011\"},inplace=True)\n",
    "ontario[5].vol_2011 = ontario[5].vol_2011.round(2)\n",
    "ontario[5].head()"
   ]
  },
  {
   "cell_type": "markdown",
   "id": "adb22f20",
   "metadata": {},
   "source": [
    "#### Forest Volume 2015\n",
    "Same thing as before"
   ]
  },
  {
   "cell_type": "code",
   "execution_count": 46,
   "id": "a3e6e2c7",
   "metadata": {},
   "outputs": [
    {
     "data": {
      "text/html": [
       "<div>\n",
       "<style scoped>\n",
       "    .dataframe tbody tr th:only-of-type {\n",
       "        vertical-align: middle;\n",
       "    }\n",
       "\n",
       "    .dataframe tbody tr th {\n",
       "        vertical-align: top;\n",
       "    }\n",
       "\n",
       "    .dataframe thead th {\n",
       "        text-align: right;\n",
       "    }\n",
       "</style>\n",
       "<table border=\"1\" class=\"dataframe\">\n",
       "  <thead>\n",
       "    <tr style=\"text-align: right;\">\n",
       "      <th></th>\n",
       "      <th>pixel_value</th>\n",
       "      <th>geometry</th>\n",
       "    </tr>\n",
       "  </thead>\n",
       "  <tbody>\n",
       "    <tr>\n",
       "      <th>167290</th>\n",
       "      <td>8.400000</td>\n",
       "      <td>POINT (-88.88131 56.83218)</td>\n",
       "    </tr>\n",
       "    <tr>\n",
       "      <th>170197</th>\n",
       "      <td>52.400002</td>\n",
       "      <td>POINT (-88.96973 56.83221)</td>\n",
       "    </tr>\n",
       "    <tr>\n",
       "      <th>171660</th>\n",
       "      <td>126.500000</td>\n",
       "      <td>POINT (-88.97430 56.83014)</td>\n",
       "    </tr>\n",
       "    <tr>\n",
       "      <th>174612</th>\n",
       "      <td>69.099998</td>\n",
       "      <td>POINT (-88.99178 56.82643)</td>\n",
       "    </tr>\n",
       "    <tr>\n",
       "      <th>179076</th>\n",
       "      <td>8.400000</td>\n",
       "      <td>POINT (-88.92206 56.81586)</td>\n",
       "    </tr>\n",
       "  </tbody>\n",
       "</table>\n",
       "</div>"
      ],
      "text/plain": [
       "        pixel_value                    geometry\n",
       "167290     8.400000  POINT (-88.88131 56.83218)\n",
       "170197    52.400002  POINT (-88.96973 56.83221)\n",
       "171660   126.500000  POINT (-88.97430 56.83014)\n",
       "174612    69.099998  POINT (-88.99178 56.82643)\n",
       "179076     8.400000  POINT (-88.92206 56.81586)"
      ]
     },
     "execution_count": 46,
     "metadata": {},
     "output_type": "execute_result"
    }
   ],
   "source": [
    "ontario[6].head()"
   ]
  },
  {
   "cell_type": "code",
   "execution_count": 47,
   "id": "a98789e2",
   "metadata": {},
   "outputs": [
    {
     "data": {
      "text/html": [
       "<div>\n",
       "<style scoped>\n",
       "    .dataframe tbody tr th:only-of-type {\n",
       "        vertical-align: middle;\n",
       "    }\n",
       "\n",
       "    .dataframe tbody tr th {\n",
       "        vertical-align: top;\n",
       "    }\n",
       "\n",
       "    .dataframe thead th {\n",
       "        text-align: right;\n",
       "    }\n",
       "</style>\n",
       "<table border=\"1\" class=\"dataframe\">\n",
       "  <thead>\n",
       "    <tr style=\"text-align: right;\">\n",
       "      <th></th>\n",
       "      <th>vol_2015</th>\n",
       "      <th>geometry</th>\n",
       "    </tr>\n",
       "  </thead>\n",
       "  <tbody>\n",
       "    <tr>\n",
       "      <th>167290</th>\n",
       "      <td>8.400000</td>\n",
       "      <td>POINT (-88.88131 56.83218)</td>\n",
       "    </tr>\n",
       "    <tr>\n",
       "      <th>170197</th>\n",
       "      <td>52.400002</td>\n",
       "      <td>POINT (-88.96973 56.83221)</td>\n",
       "    </tr>\n",
       "    <tr>\n",
       "      <th>171660</th>\n",
       "      <td>126.500000</td>\n",
       "      <td>POINT (-88.97430 56.83014)</td>\n",
       "    </tr>\n",
       "    <tr>\n",
       "      <th>174612</th>\n",
       "      <td>69.099998</td>\n",
       "      <td>POINT (-88.99178 56.82643)</td>\n",
       "    </tr>\n",
       "    <tr>\n",
       "      <th>179076</th>\n",
       "      <td>8.400000</td>\n",
       "      <td>POINT (-88.92206 56.81586)</td>\n",
       "    </tr>\n",
       "  </tbody>\n",
       "</table>\n",
       "</div>"
      ],
      "text/plain": [
       "          vol_2015                    geometry\n",
       "167290    8.400000  POINT (-88.88131 56.83218)\n",
       "170197   52.400002  POINT (-88.96973 56.83221)\n",
       "171660  126.500000  POINT (-88.97430 56.83014)\n",
       "174612   69.099998  POINT (-88.99178 56.82643)\n",
       "179076    8.400000  POINT (-88.92206 56.81586)"
      ]
     },
     "execution_count": 47,
     "metadata": {},
     "output_type": "execute_result"
    }
   ],
   "source": [
    "ontario[6].rename(columns={\"pixel_value\":\"vol_2015\"},inplace=True)\n",
    "ontario[6].vol_2015 = ontario[6].vol_2015.round(2)\n",
    "ontario[6].head()"
   ]
  },
  {
   "cell_type": "markdown",
   "id": "d7eed1c2",
   "metadata": {},
   "source": [
    "Now we have all the data we want/need and manipulated correctly. Lets now save all this data to our folders in a new dataframes that replace the old ones. This will reduce the amount of storage required."
   ]
  },
  {
   "cell_type": "code",
   "execution_count": 73,
   "id": "b27cfa4c",
   "metadata": {},
   "outputs": [],
   "source": [
    "for df,file in zip(ontario,filenames):\n",
    "    data = pd.DataFrame(df)\n",
    "    data.to_csv(path+\"\\\\\"+file.strip('.txt')+\"\\\\\"+file.strip('.txt')+'.csv.gz',compression='gzip',header=data.columns)"
   ]
  },
  {
   "cell_type": "markdown",
   "id": "bcdf2d7f",
   "metadata": {},
   "source": [
    "### 5.2) Joining DataFrames"
   ]
  },
  {
   "cell_type": "markdown",
   "id": "fa410c91",
   "metadata": {},
   "source": [
    "Now that we have all the data save, our goal it to have one dataframe where the geometry will be the reference index, and pixel value for each data will be added as a column. That way, each coordinate will have a value for each of the data explored above. In case where data is not available for that coordinate, then np.nan should be there instead. We can used [pd.join()](https://pandas.pydata.org/docs/reference/api/pandas.DataFrame.join.html) for this."
   ]
  },
  {
   "cell_type": "markdown",
   "id": "41db1b3d",
   "metadata": {},
   "source": [
    "First, lets convert the geodataframes back to dataframes and set the geometry as the index for each dataframe."
   ]
  },
  {
   "cell_type": "code",
   "execution_count": 52,
   "id": "49e56d95",
   "metadata": {},
   "outputs": [
    {
     "name": "stdout",
     "output_type": "stream",
     "text": [
      "14628013\n",
      "14637575\n",
      "10423577\n",
      "781764\n",
      "14728478\n",
      "14735992\n",
      "9651091\n"
     ]
    }
   ],
   "source": [
    "ontario_df = []\n",
    "for df in ontario:\n",
    "    temp = pd.DataFrame(df).set_index('geometry')\n",
    "    ontario_df.append(temp)\n",
    "    print(len(temp))\n",
    "    "
   ]
  },
  {
   "cell_type": "markdown",
   "id": "30a33446",
   "metadata": {},
   "source": [
    "Now, lets join all our dataframes together based on the index. we will use a loop for this"
   ]
  },
  {
   "cell_type": "code",
   "execution_count": 65,
   "id": "aca15aea",
   "metadata": {},
   "outputs": [
    {
     "name": "stdout",
     "output_type": "stream",
     "text": [
      "                            age_2001  age_2011\n",
      "geometry                                      \n",
      "POINT (-84.89050 46.90605)     104.0       NaN\n",
      "POINT (-84.88574 46.91230)     104.0       NaN\n",
      "POINT (-84.88741 46.91926)     104.0       NaN\n",
      "POINT (-84.88420 46.91891)     104.0       NaN\n",
      "POINT (-84.74856 46.96263)      57.0       NaN\n",
      "                            age_2001  age_2011  age_2019\n",
      "geometry                                                \n",
      "POINT (-84.89050 46.90605)     104.0       NaN       NaN\n",
      "POINT (-84.88574 46.91230)     104.0       NaN       NaN\n",
      "POINT (-84.88741 46.91926)     104.0       NaN       NaN\n",
      "POINT (-84.88420 46.91891)     104.0       NaN       NaN\n",
      "POINT (-84.74856 46.96263)      57.0       NaN       NaN\n",
      "                            age_2001  age_2011  age_2019  year_harvested\n",
      "geometry                                                                \n",
      "POINT (-84.89050 46.90605)     104.0       NaN       NaN             NaN\n",
      "POINT (-84.88574 46.91230)     104.0       NaN       NaN             NaN\n",
      "POINT (-84.88741 46.91926)     104.0       NaN       NaN             NaN\n",
      "POINT (-84.88420 46.91891)     104.0       NaN       NaN             NaN\n",
      "POINT (-84.74856 46.96263)      57.0       NaN       NaN             NaN\n",
      "                            age_2001  age_2011  age_2019  year_harvested  \\\n",
      "geometry                                                                   \n",
      "POINT (-84.89050 46.90605)     104.0       NaN       NaN             NaN   \n",
      "POINT (-84.88574 46.91230)     104.0       NaN       NaN             NaN   \n",
      "POINT (-84.88741 46.91926)     104.0       NaN       NaN             NaN   \n",
      "POINT (-84.88420 46.91891)     104.0       NaN       NaN             NaN   \n",
      "POINT (-84.74856 46.96263)      57.0       NaN       NaN             NaN   \n",
      "\n",
      "                             vol_2001  \n",
      "geometry                               \n",
      "POINT (-84.89050 46.90605)   8.550000  \n",
      "POINT (-84.88574 46.91230)   8.550000  \n",
      "POINT (-84.88741 46.91926)   8.550000  \n",
      "POINT (-84.88420 46.91891)   8.550000  \n",
      "POINT (-84.74856 46.96263)  38.689999  \n",
      "                            age_2001  age_2011  age_2019  year_harvested  \\\n",
      "geometry                                                                   \n",
      "POINT (-84.89050 46.90605)     104.0       NaN       NaN             NaN   \n",
      "POINT (-84.88574 46.91230)     104.0       NaN       NaN             NaN   \n",
      "POINT (-84.88741 46.91926)     104.0       NaN       NaN             NaN   \n",
      "POINT (-84.88420 46.91891)     104.0       NaN       NaN             NaN   \n",
      "POINT (-84.74856 46.96263)      57.0       NaN       NaN             NaN   \n",
      "\n",
      "                             vol_2001  vol_2011  \n",
      "geometry                                         \n",
      "POINT (-84.89050 46.90605)   8.550000       NaN  \n",
      "POINT (-84.88574 46.91230)   8.550000       NaN  \n",
      "POINT (-84.88741 46.91926)   8.550000       NaN  \n",
      "POINT (-84.88420 46.91891)   8.550000       NaN  \n",
      "POINT (-84.74856 46.96263)  38.689999       NaN  \n",
      "                            age_2001  age_2011  age_2019  year_harvested  \\\n",
      "geometry                                                                   \n",
      "POINT (-84.89050 46.90605)     104.0       NaN       NaN             NaN   \n",
      "POINT (-84.88574 46.91230)     104.0       NaN       NaN             NaN   \n",
      "POINT (-84.88741 46.91926)     104.0       NaN       NaN             NaN   \n",
      "POINT (-84.88420 46.91891)     104.0       NaN       NaN             NaN   \n",
      "POINT (-84.74856 46.96263)      57.0       NaN       NaN             NaN   \n",
      "\n",
      "                             vol_2001  vol_2011  vol_2015  \n",
      "geometry                                                   \n",
      "POINT (-84.89050 46.90605)   8.550000       NaN       NaN  \n",
      "POINT (-84.88574 46.91230)   8.550000       NaN       NaN  \n",
      "POINT (-84.88741 46.91926)   8.550000       NaN       NaN  \n",
      "POINT (-84.88420 46.91891)   8.550000       NaN       NaN  \n",
      "POINT (-84.74856 46.96263)  38.689999       NaN       NaN  \n"
     ]
    }
   ],
   "source": [
    "for i in range(len(ontario_df)-1):\n",
    "    if i == 0:\n",
    "        ON_joined = ontario_df[i].join(ontario_df[i+1],lsuffix='_left',rsuffix='_right',how='outer')\n",
    "    else:\n",
    "        ON_joined = ON_joined.join(ontario_df[i+1],lsuffix='_left',rsuffix='_right',how='outer')\n",
    "    print(ON_joined.head())"
   ]
  },
  {
   "cell_type": "markdown",
   "id": "fd6a24f3",
   "metadata": {},
   "source": [
    "We now have a completedly joined dataframe. We can reset the index, export as a compressed file and take a look at our data"
   ]
  },
  {
   "cell_type": "code",
   "execution_count": 67,
   "id": "31af9c68",
   "metadata": {},
   "outputs": [],
   "source": [
    "ON_joined = ON_joined.reset_index()"
   ]
  },
  {
   "cell_type": "markdown",
   "id": "9d64b686",
   "metadata": {},
   "source": [
    "We also need to converte the geometry column back to a lat and lon column, so we can properly save it on our drive"
   ]
  },
  {
   "cell_type": "code",
   "execution_count": null,
   "id": "2dda5303",
   "metadata": {},
   "outputs": [],
   "source": [
    "ON_joined['lon']=ON_joined.geometry.apply(lambda x: float(x.split()[1].strip(\"()\")))\n",
    "ON_joined['lat']=ON_joined.geometry.apply(lambda x: float(x.split()[2].strip(\"()\")))"
   ]
  },
  {
   "cell_type": "code",
   "execution_count": 71,
   "id": "3f1a11d0",
   "metadata": {},
   "outputs": [],
   "source": [
    "ON_joined.to_csv(path+\"\\\\Ontario_Forest_Data.csv.gz\",compression='gzip',header=ON_joined.columns)"
   ]
  },
  {
   "cell_type": "code",
   "execution_count": 74,
   "id": "22dc89c5",
   "metadata": {},
   "outputs": [
    {
     "data": {
      "text/html": [
       "<div>\n",
       "<style scoped>\n",
       "    .dataframe tbody tr th:only-of-type {\n",
       "        vertical-align: middle;\n",
       "    }\n",
       "\n",
       "    .dataframe tbody tr th {\n",
       "        vertical-align: top;\n",
       "    }\n",
       "\n",
       "    .dataframe thead th {\n",
       "        text-align: right;\n",
       "    }\n",
       "</style>\n",
       "<table border=\"1\" class=\"dataframe\">\n",
       "  <thead>\n",
       "    <tr style=\"text-align: right;\">\n",
       "      <th></th>\n",
       "      <th>geometry</th>\n",
       "      <th>age_2001</th>\n",
       "      <th>age_2011</th>\n",
       "      <th>age_2019</th>\n",
       "      <th>year_harvested</th>\n",
       "      <th>vol_2001</th>\n",
       "      <th>vol_2011</th>\n",
       "      <th>vol_2015</th>\n",
       "    </tr>\n",
       "  </thead>\n",
       "  <tbody>\n",
       "    <tr>\n",
       "      <th>0</th>\n",
       "      <td>POINT (-84.89050 46.90605)</td>\n",
       "      <td>104.0</td>\n",
       "      <td>NaN</td>\n",
       "      <td>NaN</td>\n",
       "      <td>NaN</td>\n",
       "      <td>8.550000</td>\n",
       "      <td>NaN</td>\n",
       "      <td>NaN</td>\n",
       "    </tr>\n",
       "    <tr>\n",
       "      <th>1</th>\n",
       "      <td>POINT (-84.88574 46.91230)</td>\n",
       "      <td>104.0</td>\n",
       "      <td>NaN</td>\n",
       "      <td>NaN</td>\n",
       "      <td>NaN</td>\n",
       "      <td>8.550000</td>\n",
       "      <td>NaN</td>\n",
       "      <td>NaN</td>\n",
       "    </tr>\n",
       "    <tr>\n",
       "      <th>2</th>\n",
       "      <td>POINT (-84.88741 46.91926)</td>\n",
       "      <td>104.0</td>\n",
       "      <td>NaN</td>\n",
       "      <td>NaN</td>\n",
       "      <td>NaN</td>\n",
       "      <td>8.550000</td>\n",
       "      <td>NaN</td>\n",
       "      <td>NaN</td>\n",
       "    </tr>\n",
       "    <tr>\n",
       "      <th>3</th>\n",
       "      <td>POINT (-84.88420 46.91891)</td>\n",
       "      <td>104.0</td>\n",
       "      <td>NaN</td>\n",
       "      <td>NaN</td>\n",
       "      <td>NaN</td>\n",
       "      <td>8.550000</td>\n",
       "      <td>NaN</td>\n",
       "      <td>NaN</td>\n",
       "    </tr>\n",
       "    <tr>\n",
       "      <th>4</th>\n",
       "      <td>POINT (-84.74856 46.96263)</td>\n",
       "      <td>57.0</td>\n",
       "      <td>NaN</td>\n",
       "      <td>NaN</td>\n",
       "      <td>NaN</td>\n",
       "      <td>38.689999</td>\n",
       "      <td>NaN</td>\n",
       "      <td>NaN</td>\n",
       "    </tr>\n",
       "  </tbody>\n",
       "</table>\n",
       "</div>"
      ],
      "text/plain": [
       "                     geometry  age_2001  age_2011  age_2019  year_harvested  \\\n",
       "0  POINT (-84.89050 46.90605)     104.0       NaN       NaN             NaN   \n",
       "1  POINT (-84.88574 46.91230)     104.0       NaN       NaN             NaN   \n",
       "2  POINT (-84.88741 46.91926)     104.0       NaN       NaN             NaN   \n",
       "3  POINT (-84.88420 46.91891)     104.0       NaN       NaN             NaN   \n",
       "4  POINT (-84.74856 46.96263)      57.0       NaN       NaN             NaN   \n",
       "\n",
       "    vol_2001  vol_2011  vol_2015  \n",
       "0   8.550000       NaN       NaN  \n",
       "1   8.550000       NaN       NaN  \n",
       "2   8.550000       NaN       NaN  \n",
       "3   8.550000       NaN       NaN  \n",
       "4  38.689999       NaN       NaN  "
      ]
     },
     "execution_count": 74,
     "metadata": {},
     "output_type": "execute_result"
    }
   ],
   "source": [
    "ON_joined.head()"
   ]
  },
  {
   "cell_type": "markdown",
   "id": "f1fe7e7c",
   "metadata": {},
   "source": [
    "## 6) Exploring the Data\n",
    "Let convert our ON_joined DataFrame to a GeoDataFrame so we can start ploting things to make sure it looks okay"
   ]
  },
  {
   "cell_type": "code",
   "execution_count": 77,
   "id": "423f0e28",
   "metadata": {},
   "outputs": [
    {
     "data": {
      "text/html": [
       "<div>\n",
       "<style scoped>\n",
       "    .dataframe tbody tr th:only-of-type {\n",
       "        vertical-align: middle;\n",
       "    }\n",
       "\n",
       "    .dataframe tbody tr th {\n",
       "        vertical-align: top;\n",
       "    }\n",
       "\n",
       "    .dataframe thead th {\n",
       "        text-align: right;\n",
       "    }\n",
       "</style>\n",
       "<table border=\"1\" class=\"dataframe\">\n",
       "  <thead>\n",
       "    <tr style=\"text-align: right;\">\n",
       "      <th></th>\n",
       "      <th>geometry</th>\n",
       "      <th>age_2001</th>\n",
       "      <th>age_2011</th>\n",
       "      <th>age_2019</th>\n",
       "      <th>year_harvested</th>\n",
       "      <th>vol_2001</th>\n",
       "      <th>vol_2011</th>\n",
       "      <th>vol_2015</th>\n",
       "    </tr>\n",
       "  </thead>\n",
       "  <tbody>\n",
       "    <tr>\n",
       "      <th>0</th>\n",
       "      <td>POINT (-84.89050 46.90605)</td>\n",
       "      <td>104.0</td>\n",
       "      <td>NaN</td>\n",
       "      <td>NaN</td>\n",
       "      <td>NaN</td>\n",
       "      <td>8.550000</td>\n",
       "      <td>NaN</td>\n",
       "      <td>NaN</td>\n",
       "    </tr>\n",
       "    <tr>\n",
       "      <th>1</th>\n",
       "      <td>POINT (-84.88574 46.91230)</td>\n",
       "      <td>104.0</td>\n",
       "      <td>NaN</td>\n",
       "      <td>NaN</td>\n",
       "      <td>NaN</td>\n",
       "      <td>8.550000</td>\n",
       "      <td>NaN</td>\n",
       "      <td>NaN</td>\n",
       "    </tr>\n",
       "    <tr>\n",
       "      <th>2</th>\n",
       "      <td>POINT (-84.88741 46.91926)</td>\n",
       "      <td>104.0</td>\n",
       "      <td>NaN</td>\n",
       "      <td>NaN</td>\n",
       "      <td>NaN</td>\n",
       "      <td>8.550000</td>\n",
       "      <td>NaN</td>\n",
       "      <td>NaN</td>\n",
       "    </tr>\n",
       "    <tr>\n",
       "      <th>3</th>\n",
       "      <td>POINT (-84.88420 46.91891)</td>\n",
       "      <td>104.0</td>\n",
       "      <td>NaN</td>\n",
       "      <td>NaN</td>\n",
       "      <td>NaN</td>\n",
       "      <td>8.550000</td>\n",
       "      <td>NaN</td>\n",
       "      <td>NaN</td>\n",
       "    </tr>\n",
       "    <tr>\n",
       "      <th>4</th>\n",
       "      <td>POINT (-84.74856 46.96263)</td>\n",
       "      <td>57.0</td>\n",
       "      <td>NaN</td>\n",
       "      <td>NaN</td>\n",
       "      <td>NaN</td>\n",
       "      <td>38.689999</td>\n",
       "      <td>NaN</td>\n",
       "      <td>NaN</td>\n",
       "    </tr>\n",
       "  </tbody>\n",
       "</table>\n",
       "</div>"
      ],
      "text/plain": [
       "                     geometry  age_2001  age_2011  age_2019  year_harvested  \\\n",
       "0  POINT (-84.89050 46.90605)     104.0       NaN       NaN             NaN   \n",
       "1  POINT (-84.88574 46.91230)     104.0       NaN       NaN             NaN   \n",
       "2  POINT (-84.88741 46.91926)     104.0       NaN       NaN             NaN   \n",
       "3  POINT (-84.88420 46.91891)     104.0       NaN       NaN             NaN   \n",
       "4  POINT (-84.74856 46.96263)      57.0       NaN       NaN             NaN   \n",
       "\n",
       "    vol_2001  vol_2011  vol_2015  \n",
       "0   8.550000       NaN       NaN  \n",
       "1   8.550000       NaN       NaN  \n",
       "2   8.550000       NaN       NaN  \n",
       "3   8.550000       NaN       NaN  \n",
       "4  38.689999       NaN       NaN  "
      ]
     },
     "execution_count": 77,
     "metadata": {},
     "output_type": "execute_result"
    }
   ],
   "source": [
    "ON_joined_gdf = gpd.GeoDataFrame(ON_joined,geometry=ON_joined.geometry)\n",
    "ON_joined_gdf.head()"
   ]
  },
  {
   "cell_type": "code",
   "execution_count": 98,
   "id": "a5ad0f1d",
   "metadata": {},
   "outputs": [
    {
     "data": {
      "text/plain": [
       "<Axes: >"
      ]
     },
     "execution_count": 98,
     "metadata": {},
     "output_type": "execute_result"
    },
    {
     "data": {
      "image/png": "[encoded data removed]",
      "text/plain": [
       "<Figure size 640x480 with 1 Axes>"
      ]
     },
     "metadata": {},
     "output_type": "display_data"
    }
   ],
   "source": [
    "#lets look at the data quickly, we can look to see how the data fits for trees older that 140 in 2019.\n",
    "year = 'age_2019'\n",
    "age = 130\n",
    "ax = ON_boundary.plot()\n",
    "ON_joined_gdf[['geometry',year]][ON_joined_gdf[['geometry',year]][year] > age].plot(ax=ax,color='red',markersize = 0.0001)"
   ]
  },
  {
   "cell_type": "code",
   "execution_count": 100,
   "id": "a1218527",
   "metadata": {},
   "outputs": [
    {
     "data": {
      "text/plain": [
       "<Axes: >"
      ]
     },
     "execution_count": 100,
     "metadata": {},
     "output_type": "execute_result"
    },
    {
     "data": {
      "image/png": "[encoded data removed]",
      "text/plain": [
       "<Figure size 640x480 with 2 Axes>"
      ]
     },
     "metadata": {},
     "output_type": "display_data"
    }
   ],
   "source": [
    "year = 'age_2019'\n",
    "age = 150\n",
    "ax = ON_boundary.plot()\n",
    "ON_joined_gdf[['geometry',year]][ON_joined_gdf[['geometry',year]][year] > age].plot(ax=ax,column = year,legend=True,markersize = 0.0001)"
   ]
  },
  {
   "cell_type": "markdown",
   "id": "9c38da6e",
   "metadata": {},
   "source": [
    "#### Great, we are done with this part of the work. Now that we have a congruent DataFrame of just Ontario data, we can move on to Forest Data 3 to do some more data manipulaitons and exploratory analysis "
   ]
  }
 ],
 "metadata": {
  "kernelspec": {
   "display_name": "Python 3 (ipykernel)",
   "language": "python",
   "name": "python3"
  },
  "language_info": {
   "codemirror_mode": {
    "name": "ipython",
    "version": 3
   },
   "file_extension": ".py",
   "mimetype": "text/x-python",
   "name": "python",
   "nbconvert_exporter": "python",
   "pygments_lexer": "ipython3",
   "version": "3.11.5"
  }
 },
 "nbformat": 4,
 "nbformat_minor": 5
}
