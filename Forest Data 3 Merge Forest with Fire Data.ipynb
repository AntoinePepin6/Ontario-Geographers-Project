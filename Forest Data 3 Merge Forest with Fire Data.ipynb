{
 "cells": [
  {
   "cell_type": "markdown",
   "id": "eaa6bba2",
   "metadata": {},
   "source": [
    "# Forest and Fire Data 1: Forest and Fire Data Merging/Interpolation\n",
    "## Overview of Notebook\n",
    "This notebook takes the compiled Ontario Forest Data within the Ontario boundary, and outputs a final dataframe that is modified to make better used of the data in the dataframe.\n",
    "\n",
    "## 1) Import Modules and Packages"
   ]
  },
  {
   "cell_type": "code",
   "execution_count": 1,
   "id": "b60dc6dd",
   "metadata": {
    "ExecuteTime": {
     "end_time": "2023-11-27T21:32:28.035267100Z",
     "start_time": "2023-11-27T21:32:24.971245100Z"
    }
   },
   "outputs": [],
   "source": [
    "import os\n",
    "\n",
    "import pandas as pd\n",
    "\n",
    "import geopandas as gpd\n",
    "import numpy as np\n",
    "import matplotlib.pyplot as plt\n",
    "from scipy.optimize import curve_fit"
   ]
  },
  {
   "cell_type": "markdown",
   "id": "090e70ef",
   "metadata": {},
   "source": [
    "## 2) Get Path and Data\n",
    "Here we will open both the Ontario Forest Data DataFrame and the Ontario Boundary shapfile. The latter will be used as a visual tool for plotting when needed."
   ]
  },
  {
   "cell_type": "code",
   "execution_count": 2,
   "id": "59be97a9",
   "metadata": {
    "ExecuteTime": {
     "end_time": "2023-11-27T21:32:28.051654100Z",
     "start_time": "2023-11-27T21:32:28.033273500Z"
    }
   },
   "outputs": [],
   "source": [
    "path = r\"I:\\CME538 Project\\processed data ontario only\\250m\""
   ]
  },
  {
   "cell_type": "code",
   "execution_count": null,
   "id": "1d9e3d45",
   "metadata": {
    "ExecuteTime": {
     "end_time": "2023-11-27T21:32:28.066828800Z",
     "start_time": "2023-11-27T21:32:28.033273500Z"
    }
   },
   "outputs": [
    {
     "data": {
      "text/plain": [
       "['Approximations',\n",
       " 'ONage2001_250m',\n",
       " 'ONage2001_250m.tif',\n",
       " 'ONage2001_250m.tif.aux.xml',\n",
       " 'ONage2011_250m',\n",
       " 'ONage2011_250m.tif',\n",
       " 'ONage2011_250m.tif.aux.xml',\n",
       " 'Onage2019_250m',\n",
       " 'Onage2019_250m.tif',\n",
       " 'Onage2019_250m.tif.aux.xml',\n",
       " 'ONharvest1985_2020_250m',\n",
       " 'ONharvest1985_2020_250m.tif',\n",
       " 'ONharvest1985_2020_250m.tif.aux.xml',\n",
       " 'Ontario_fire_in_forest_coordinates.csv.gz',\n",
       " 'Ontario_Forest_Data.csv.gz',\n",
       " 'Ontario_Forest_Data_Points.csv.gz',\n",
       " 'ONvol2001_250m',\n",
       " 'ONvol2001_250m.tif',\n",
       " 'ONvol2001_250m.tif.aux.xml',\n",
       " 'ONvol2011_250m',\n",
       " 'ONvol2011_250m.tif',\n",
       " 'ONvol2011_250m.tif.aux.xml',\n",
       " 'ONvol2015_250m',\n",
       " 'ONvol2015_250m.tif',\n",
       " 'ONvol2015_250m.tif.aux.xml',\n",
       " 'ON_forest_and_fires.csv.gz']"
      ]
     },
     "execution_count": 6,
     "metadata": {},
     "output_type": "execute_result"
    }
   ],
   "source": [
    "os.listdir(path)"
   ]
  },
  {
   "cell_type": "code",
   "execution_count": null,
   "id": "14f1727f",
   "metadata": {},
   "outputs": [],
   "source": [
    "filenames = os.listdir(path)[12:15]\n",
    "filenames"
   ]
  },
  {
   "cell_type": "code",
   "execution_count": null,
   "id": "47c10573",
   "metadata": {},
   "outputs": [],
   "source": [
    "ON_boundary = gpd.read_file(r\"I:\\CME538 Project\\CME538 Project\\ontario boundary\\Province\\Province.shp\")"
   ]
  },
  {
   "cell_type": "code",
   "execution_count": null,
   "id": "030e759c",
   "metadata": {},
   "outputs": [],
   "source": [
    "ON_boundary = ON_boundary.to_crs(4269)"
   ]
  },
  {
   "cell_type": "code",
   "execution_count": null,
   "id": "7d551a0f",
   "metadata": {},
   "outputs": [],
   "source": [
    "ON_boundary.plot()"
   ]
  },
  {
   "cell_type": "code",
   "execution_count": null,
   "id": "d44fa996",
   "metadata": {},
   "outputs": [],
   "source": [
    "ON_forest = pd.read_csv(path+\"\\\\\"+filenames[2],compression='gzip',index_col=0)\n",
    "ON_forest.head()"
   ]
  },
  {
   "cell_type": "code",
   "execution_count": null,
   "id": "8c606166",
   "metadata": {},
   "outputs": [],
   "source": [
    "ON_forest.info()"
   ]
  },
  {
   "cell_type": "markdown",
   "id": "6fbe578c",
   "metadata": {},
   "source": [
    "We can acually drop the lat and lon columns for the poly shape (the last 8 columns) "
   ]
  },
  {
   "cell_type": "code",
   "execution_count": null,
   "id": "b8828551",
   "metadata": {},
   "outputs": [],
   "source": [
    "ON_forest.drop(columns=['lon1','lon2','lon3','lon4','lat1','lat2','lat3','lat4'],inplace=True)"
   ]
  },
  {
   "cell_type": "code",
   "execution_count": null,
   "id": "ee13112a",
   "metadata": {},
   "outputs": [],
   "source": [
    "ON_fire = pd.read_csv(path+\"\\\\\"+filenames[0],index_col=0)\n",
    "ON_fire.head()"
   ]
  },
  {
   "cell_type": "code",
   "execution_count": null,
   "id": "28952675",
   "metadata": {},
   "outputs": [],
   "source": [
    "ON_fire.info()"
   ]
  },
  {
   "cell_type": "markdown",
   "id": "b6003303",
   "metadata": {},
   "source": [
    "## 3) Exploring and Modifying the Fire Data "
   ]
  },
  {
   "cell_type": "markdown",
   "id": "f97948cf",
   "metadata": {},
   "source": [
    "The ON_fire dataframe consists of fire data that were spatially joined to our current forest pixel grid. This one done sjoinging the forest data onto the fire data. A buffer polygon was created based on the area of the fire, centered at its cendroid. Then the joinging was done to see how many of our 250mx250m pixels coordinates intersected with the fire area polygon. We can now map the fires based on there areas on our coordinate grid. \n",
    "\n",
    "So the important geometry to keep for the ON_fire data is the last geometry column, which is the same grid as our fores data."
   ]
  },
  {
   "cell_type": "code",
   "execution_count": null,
   "id": "ebc0fb40",
   "metadata": {},
   "outputs": [],
   "source": [
    "ON_fire.columns"
   ]
  },
  {
   "cell_type": "markdown",
   "id": "b6888cf2",
   "metadata": {},
   "source": [
    "We can get rid of some columns that we may not need like:\n",
    "- Unamed: 0\n",
    "- point_geometry\n",
    "- buffer_geometry\n",
    "- buffer_radius\n",
    "- index_right"
   ]
  },
  {
   "cell_type": "code",
   "execution_count": null,
   "id": "a90c903f",
   "metadata": {},
   "outputs": [],
   "source": [
    "ON_fire.drop(columns=['point_geometry', 'buffer_radius', 'buffer_geometry'],inplace=True)"
   ]
  },
  {
   "cell_type": "markdown",
   "id": "de265f30",
   "metadata": {},
   "source": [
    "Let rename the lat,lon, LATITUDE and LONGITUDE columns to something better, and uncapitalize all the columns"
   ]
  },
  {
   "cell_type": "code",
   "execution_count": null,
   "id": "563bfeb7",
   "metadata": {},
   "outputs": [],
   "source": [
    "ON_fire.rename(columns={\"LATITUDE\":'original_lat',\"LONGITUDE\":'original_lon'},inplace=True)\n",
    "ON_fire.columns = ON_fire.columns.str.lower()\n",
    "ON_fire.head()"
   ]
  },
  {
   "cell_type": "markdown",
   "id": "251a50e0",
   "metadata": {},
   "source": [
    "## 4) Merging Forest and Fire DataSets"
   ]
  },
  {
   "cell_type": "markdown",
   "id": "2913636b",
   "metadata": {},
   "source": [
    "Now we have two data sets:\n",
    "1) ON_forest, crs = 4269\n",
    "2) ON_fire, crs = 3347\n",
    "\n",
    "We want to merge the fire data to the forest data. But first, we need to do some manipulation on the fire data. The column 'index' has a unique number associated with each fire, so we can check how many fires there are"
   ]
  },
  {
   "cell_type": "code",
   "execution_count": null,
   "id": "34bf5d4e",
   "metadata": {},
   "outputs": [],
   "source": [
    "print(\"There are {} unique fires\".format(ON_fire['index'].nunique()))\n",
    "print(\"But there are {} row in the ON_fire data\".format(len(ON_fire)))"
   ]
  },
  {
   "cell_type": "markdown",
   "id": "2d56e4b9",
   "metadata": {},
   "source": [
    "This checks out, there were 20866 fire in our original datasets and we have 20595. We have lost a few fires because some may have been errors or on lake or boundary edges. But there are over 500000 rows in our dataset! that is because some fire cover many 250mx250m pixel. We are not worried about duplication here because out grid matched our forest grid.\n",
    "\n",
    "We are however interested in any data that has duplicate fires that happened in the same year or different years at the same location. Lets filter the dataframe to see how this looks."
   ]
  },
  {
   "cell_type": "code",
   "execution_count": null,
   "id": "6741bd08",
   "metadata": {},
   "outputs": [],
   "source": [
    "ON_fire[ON_fire.duplicated('pixel_geometry',keep=False)]"
   ]
  },
  {
   "cell_type": "markdown",
   "id": "c27b159e",
   "metadata": {},
   "source": [
    "Here we can see that we have ducplicate columns, because multiple fires were reported arround this coordinate. For example, the first two rows (index = 96800) had a fire reported late july and early augus. \n",
    "\n",
    "Another case (index= 98679) show a fire in 2011 and 2016. \n",
    "\n",
    "For simplicity, if there are two fires reported in the same year, we will assume that only one occured. \n",
    "\n",
    "If there are multiple fires reported for different years, we need to figure out a way to deal with this."
   ]
  },
  {
   "cell_type": "markdown",
   "id": "5713bd8a",
   "metadata": {},
   "source": [
    "Let filter out all the unnessecarry information at this stage. We are only interested about the date of the fire and the locaiton (geometry)"
   ]
  },
  {
   "cell_type": "code",
   "execution_count": null,
   "id": "f2d5db44",
   "metadata": {},
   "outputs": [],
   "source": [
    "#ON_fire.rename(columns={'pixel_geometry':'geometry'},inplace=True)\n",
    "ON_fire = ON_fire[['year','month','day','area_intersect_perc']]\n",
    "ON_fire.head()"
   ]
  },
  {
   "cell_type": "markdown",
   "id": "dc2e25bb",
   "metadata": {},
   "source": [
    "Now lets create a funciton that will return an array of dates for each coordinates that can have multiple fires reported"
   ]
  },
  {
   "cell_type": "code",
   "execution_count": null,
   "id": "8db4b036",
   "metadata": {},
   "outputs": [],
   "source": [
    "unique_index_duplicate = ON_fire.index.unique()\n",
    "year = []\n",
    "month = []\n",
    "day = []\n",
    "area_perc = []\n",
    "\n",
    "def get_duplicate_fire_dates(data):\n",
    "    \"\"\"\n",
    "    \"\"\"\n",
    "    year,month,day,area= [],[],[],[]\n",
    "    if isinstance(data,pd.Series) == True:\n",
    "        year.append(int(data[0]))\n",
    "        month.append(int(data[1]))\n",
    "        day.append((data[2]))\n",
    "        area.append((data[3]))\n",
    "    \n",
    "    else:\n",
    "        for i in range(len(data)):\n",
    "            year.append((data.iloc[i,0]))\n",
    "            month.append((data.iloc[i,1]))\n",
    "            day.append((data.iloc[i,2]))\n",
    "            area.append((data.iloc[i,3]))\n",
    "        \n",
    "    return year,month,day,area\n",
    "\n",
    "for ind in unique_index_duplicate:\n",
    "    \n",
    "    year_temp,month_temp,day_temp,area_temp= get_duplicate_fire_dates(ON_fire.loc[ind][:])\n",
    "    \n",
    "    year.append(year_temp)\n",
    "    month.append(month_temp)\n",
    "    day.append(day_temp)\n",
    "    area_perc.append(area_temp)"
   ]
  },
  {
   "cell_type": "markdown",
   "id": "c6ed84a4",
   "metadata": {},
   "source": [
    "Check that our returned arrays are same length as the number of unique rows in ON_fire"
   ]
  },
  {
   "cell_type": "code",
   "execution_count": null,
   "id": "046a91e7",
   "metadata": {},
   "outputs": [],
   "source": [
    "print(\"length of year: {} month: {} day: {} and area: {} match the number of unique rows in ON_fire: {}\".format(len(year),len(month),len(day),len(area_perc),len(ON_fire.index.unique())))"
   ]
  },
  {
   "cell_type": "markdown",
   "id": "085407e8",
   "metadata": {},
   "source": [
    "Now lets filter the ON_fire data to the just the unique rows and replace the year month and day columns with our arrays"
   ]
  },
  {
   "cell_type": "code",
   "execution_count": null,
   "id": "26d65cd2",
   "metadata": {},
   "outputs": [],
   "source": [
    "ON_fire=ON_fire[~ON_fire.index.duplicated()]\n",
    "ON_fire.year = year\n",
    "ON_fire.month = month\n",
    "ON_fire.day = day\n",
    "ON_fire.area_intersect_perc = area_perc\n",
    "ON_fire"
   ]
  },
  {
   "cell_type": "markdown",
   "id": "91ea1c2f",
   "metadata": {},
   "source": [
    "No we can join the ON_fire to the ON_forest data frame on the index, which is a unique code for each pixel. Lets create a new dataframe called ON_forest_and_fires"
   ]
  },
  {
   "cell_type": "code",
   "execution_count": null,
   "id": "77c1660a",
   "metadata": {},
   "outputs": [],
   "source": [
    "ON_forest_and_fires = ON_forest.join(ON_fire,lsuffix=\" \")"
   ]
  },
  {
   "cell_type": "code",
   "execution_count": null,
   "id": "4affded7",
   "metadata": {},
   "outputs": [],
   "source": [
    "ON_forest_and_fires.head()"
   ]
  },
  {
   "cell_type": "markdown",
   "id": "d226d451",
   "metadata": {},
   "source": [
    "lets take a look and see how non nan rows look"
   ]
  },
  {
   "cell_type": "code",
   "execution_count": null,
   "id": "e1182941",
   "metadata": {},
   "outputs": [],
   "source": [
    "ON_forest_and_fires[~ON_forest_and_fires.year.isna()]"
   ]
  },
  {
   "cell_type": "markdown",
   "id": "b9bae8d5",
   "metadata": {},
   "source": [
    "We can also take a look at the rows which have multiple fires lets add a column called number_fires"
   ]
  },
  {
   "cell_type": "code",
   "execution_count": null,
   "id": "a11b3c73",
   "metadata": {},
   "outputs": [],
   "source": [
    "ON_forest_and_fires['number_fires'] = ON_forest_and_fires[~ON_forest_and_fires.year.isna()].year.apply(lambda row: len(row))"
   ]
  },
  {
   "cell_type": "markdown",
   "id": "814db451",
   "metadata": {},
   "source": [
    "Lets also see what the max number of fires is and lets see what having more then 10 fires on a pixel looks like"
   ]
  },
  {
   "cell_type": "code",
   "execution_count": null,
   "id": "74ab2a4f",
   "metadata": {},
   "outputs": [],
   "source": [
    "ON_forest_and_fires.number_fires.unique()"
   ]
  },
  {
   "cell_type": "code",
   "execution_count": null,
   "id": "97099b0c",
   "metadata": {},
   "outputs": [],
   "source": [
    "ON_forest_and_fires[ON_forest_and_fires.number_fires > 10]"
   ]
  },
  {
   "cell_type": "code",
   "execution_count": null,
   "id": "4ceeb8e8",
   "metadata": {},
   "outputs": [],
   "source": [
    "ON_forest_and_fires.head()"
   ]
  },
  {
   "cell_type": "code",
   "execution_count": null,
   "id": "65a7a59d",
   "metadata": {},
   "outputs": [],
   "source": [
    "ON_forest_and_fires[(~ON_forest_and_fires.year.isna()) & (ON_forest_and_fires.number_fires > 1)].head()"
   ]
  },
  {
   "cell_type": "markdown",
   "id": "f851353b",
   "metadata": {},
   "source": [
    "Everything looks good. Lets go ahead and save it to our drive as a safekeep."
   ]
  },
  {
   "cell_type": "code",
   "execution_count": null,
   "id": "2e34e97f",
   "metadata": {},
   "outputs": [],
   "source": [
    "ON_forest_and_fires.to_csv(path+\"\\\\\"+\"ON_forest_and_fires.csv.gz\",compression='gzip',header=ON_forest_and_fires.columns)"
   ]
  },
  {
   "cell_type": "markdown",
   "id": "8d32871d",
   "metadata": {},
   "source": [
    "## 5) Exploring the Data\n",
    "Lets take a look at some of the columns. We have two main categories, aside from the harvest years columns; (1) the age of forests and (2) the volume density of forests in Ontario. For each catergory, we have three points in time. \n",
    "\n",
    "Lets take a look at how this data looks. To make visualization easier, lets only look that the rows without nan value."
   ]
  },
  {
   "cell_type": "markdown",
   "id": "76b5b01b8f44e082",
   "metadata": {
    "collapsed": false
   },
   "source": [
    "### 5 alternate) Only do cell 179 to 181 if you need to re-import the data"
   ]
  },
  {
   "cell_type": "code",
   "execution_count": 3,
   "id": "1b0fc341003f4e95",
   "metadata": {
    "ExecuteTime": {
     "end_time": "2023-11-27T21:33:57.418868200Z",
     "start_time": "2023-11-27T21:32:50.557370700Z"
    },
    "collapsed": false
   },
   "outputs": [
    {
     "name": "stderr",
     "output_type": "stream",
     "text": [
      "C:\\Users\\Antoine Pepin\\AppData\\Local\\Temp\\ipykernel_4252\\1282596975.py:1: DtypeWarning: Columns (11,12,13,14) have mixed types. Specify dtype option on import or set low_memory=False.\n",
      "  ON_forest_and_fires = pd.read_csv(path+\"\\\\\"+\"ON_forest_and_fires.csv.gz\",compression='gzip',index_col=0)\n"
     ]
    },
    {
     "data": {
      "text/html": [
       "<div>\n",
       "<style scoped>\n",
       "    .dataframe tbody tr th:only-of-type {\n",
       "        vertical-align: middle;\n",
       "    }\n",
       "\n",
       "    .dataframe tbody tr th {\n",
       "        vertical-align: top;\n",
       "    }\n",
       "\n",
       "    .dataframe thead th {\n",
       "        text-align: right;\n",
       "    }\n",
       "</style>\n",
       "<table border=\"1\" class=\"dataframe\">\n",
       "  <thead>\n",
       "    <tr style=\"text-align: right;\">\n",
       "      <th></th>\n",
       "      <th>age_2001</th>\n",
       "      <th>age_2011</th>\n",
       "      <th>age_2019</th>\n",
       "      <th>year_harvested</th>\n",
       "      <th>vol_2001</th>\n",
       "      <th>vol_2011</th>\n",
       "      <th>vol_2015</th>\n",
       "      <th>lon</th>\n",
       "      <th>lat</th>\n",
       "      <th>geometry</th>\n",
       "      <th>year</th>\n",
       "      <th>month</th>\n",
       "      <th>day</th>\n",
       "      <th>area_intersect_perc</th>\n",
       "      <th>number_fires</th>\n",
       "    </tr>\n",
       "  </thead>\n",
       "  <tbody>\n",
       "    <tr>\n",
       "      <th>0</th>\n",
       "      <td>104.0</td>\n",
       "      <td>NaN</td>\n",
       "      <td>NaN</td>\n",
       "      <td>NaN</td>\n",
       "      <td>8.55</td>\n",
       "      <td>NaN</td>\n",
       "      <td>NaN</td>\n",
       "      <td>-84.890501</td>\n",
       "      <td>46.906052</td>\n",
       "      <td>POLYGON ((-84.88863710751139 46.90697579711416...</td>\n",
       "      <td>NaN</td>\n",
       "      <td>NaN</td>\n",
       "      <td>NaN</td>\n",
       "      <td>NaN</td>\n",
       "      <td>NaN</td>\n",
       "    </tr>\n",
       "    <tr>\n",
       "      <th>1</th>\n",
       "      <td>104.0</td>\n",
       "      <td>NaN</td>\n",
       "      <td>NaN</td>\n",
       "      <td>NaN</td>\n",
       "      <td>8.55</td>\n",
       "      <td>NaN</td>\n",
       "      <td>NaN</td>\n",
       "      <td>-84.885743</td>\n",
       "      <td>46.912303</td>\n",
       "      <td>POLYGON ((-84.88387922029249 46.91322718112671...</td>\n",
       "      <td>NaN</td>\n",
       "      <td>NaN</td>\n",
       "      <td>NaN</td>\n",
       "      <td>NaN</td>\n",
       "      <td>NaN</td>\n",
       "    </tr>\n",
       "    <tr>\n",
       "      <th>2</th>\n",
       "      <td>104.0</td>\n",
       "      <td>NaN</td>\n",
       "      <td>NaN</td>\n",
       "      <td>NaN</td>\n",
       "      <td>8.55</td>\n",
       "      <td>NaN</td>\n",
       "      <td>NaN</td>\n",
       "      <td>-84.887410</td>\n",
       "      <td>46.919261</td>\n",
       "      <td>POLYGON ((-84.88554623463179 46.92018483757417...</td>\n",
       "      <td>NaN</td>\n",
       "      <td>NaN</td>\n",
       "      <td>NaN</td>\n",
       "      <td>NaN</td>\n",
       "      <td>NaN</td>\n",
       "    </tr>\n",
       "    <tr>\n",
       "      <th>3</th>\n",
       "      <td>104.0</td>\n",
       "      <td>NaN</td>\n",
       "      <td>NaN</td>\n",
       "      <td>NaN</td>\n",
       "      <td>8.55</td>\n",
       "      <td>NaN</td>\n",
       "      <td>NaN</td>\n",
       "      <td>-84.884197</td>\n",
       "      <td>46.918908</td>\n",
       "      <td>POLYGON ((-84.88233307531861 46.91983171613633...</td>\n",
       "      <td>NaN</td>\n",
       "      <td>NaN</td>\n",
       "      <td>NaN</td>\n",
       "      <td>NaN</td>\n",
       "      <td>NaN</td>\n",
       "    </tr>\n",
       "    <tr>\n",
       "      <th>4</th>\n",
       "      <td>57.0</td>\n",
       "      <td>NaN</td>\n",
       "      <td>NaN</td>\n",
       "      <td>NaN</td>\n",
       "      <td>38.69</td>\n",
       "      <td>NaN</td>\n",
       "      <td>NaN</td>\n",
       "      <td>-84.748565</td>\n",
       "      <td>46.962634</td>\n",
       "      <td>POLYGON ((-84.74669588337325 46.96355596569322...</td>\n",
       "      <td>NaN</td>\n",
       "      <td>NaN</td>\n",
       "      <td>NaN</td>\n",
       "      <td>NaN</td>\n",
       "      <td>NaN</td>\n",
       "    </tr>\n",
       "  </tbody>\n",
       "</table>\n",
       "</div>"
      ],
      "text/plain": [
       "   age_2001  age_2011  age_2019  year_harvested  vol_2001  vol_2011  vol_2015  \\\n",
       "0     104.0       NaN       NaN             NaN      8.55       NaN       NaN   \n",
       "1     104.0       NaN       NaN             NaN      8.55       NaN       NaN   \n",
       "2     104.0       NaN       NaN             NaN      8.55       NaN       NaN   \n",
       "3     104.0       NaN       NaN             NaN      8.55       NaN       NaN   \n",
       "4      57.0       NaN       NaN             NaN     38.69       NaN       NaN   \n",
       "\n",
       "         lon        lat                                           geometry  \\\n",
       "0 -84.890501  46.906052  POLYGON ((-84.88863710751139 46.90697579711416...   \n",
       "1 -84.885743  46.912303  POLYGON ((-84.88387922029249 46.91322718112671...   \n",
       "2 -84.887410  46.919261  POLYGON ((-84.88554623463179 46.92018483757417...   \n",
       "3 -84.884197  46.918908  POLYGON ((-84.88233307531861 46.91983171613633...   \n",
       "4 -84.748565  46.962634  POLYGON ((-84.74669588337325 46.96355596569322...   \n",
       "\n",
       "  year month  day area_intersect_perc  number_fires  \n",
       "0  NaN   NaN  NaN                 NaN           NaN  \n",
       "1  NaN   NaN  NaN                 NaN           NaN  \n",
       "2  NaN   NaN  NaN                 NaN           NaN  \n",
       "3  NaN   NaN  NaN                 NaN           NaN  \n",
       "4  NaN   NaN  NaN                 NaN           NaN  "
      ]
     },
     "execution_count": 3,
     "metadata": {},
     "output_type": "execute_result"
    }
   ],
   "source": [
    "ON_forest_and_fires = pd.read_csv(path+\"\\\\\"+\"ON_forest_and_fires.csv.gz\",compression='gzip',index_col=0)\n",
    "ON_forest_and_fires.head()"
   ]
  },
  {
   "cell_type": "code",
   "execution_count": 4,
   "id": "7f98127e5d31ea04",
   "metadata": {
    "ExecuteTime": {
     "end_time": "2023-11-27T21:34:08.837570500Z",
     "start_time": "2023-11-27T21:33:57.417871900Z"
    },
    "collapsed": false
   },
   "outputs": [
    {
     "data": {
      "text/html": [
       "<div>\n",
       "<style scoped>\n",
       "    .dataframe tbody tr th:only-of-type {\n",
       "        vertical-align: middle;\n",
       "    }\n",
       "\n",
       "    .dataframe tbody tr th {\n",
       "        vertical-align: top;\n",
       "    }\n",
       "\n",
       "    .dataframe thead th {\n",
       "        text-align: right;\n",
       "    }\n",
       "</style>\n",
       "<table border=\"1\" class=\"dataframe\">\n",
       "  <thead>\n",
       "    <tr style=\"text-align: right;\">\n",
       "      <th></th>\n",
       "      <th>age_2001</th>\n",
       "      <th>age_2011</th>\n",
       "      <th>age_2019</th>\n",
       "      <th>year_harvested</th>\n",
       "      <th>vol_2001</th>\n",
       "      <th>vol_2011</th>\n",
       "      <th>vol_2015</th>\n",
       "      <th>lon</th>\n",
       "      <th>lat</th>\n",
       "      <th>geometry</th>\n",
       "      <th>year</th>\n",
       "      <th>month</th>\n",
       "      <th>day</th>\n",
       "      <th>area_intersect_perc</th>\n",
       "      <th>number_fires</th>\n",
       "    </tr>\n",
       "  </thead>\n",
       "  <tbody>\n",
       "    <tr>\n",
       "      <th>0</th>\n",
       "      <td>104.0</td>\n",
       "      <td>NaN</td>\n",
       "      <td>NaN</td>\n",
       "      <td>NaN</td>\n",
       "      <td>8.55</td>\n",
       "      <td>NaN</td>\n",
       "      <td>NaN</td>\n",
       "      <td>-84.890501</td>\n",
       "      <td>46.906052</td>\n",
       "      <td>POLYGON ((-84.88863710751139 46.90697579711416...</td>\n",
       "      <td>NaN</td>\n",
       "      <td>NaN</td>\n",
       "      <td>NaN</td>\n",
       "      <td>NaN</td>\n",
       "      <td>NaN</td>\n",
       "    </tr>\n",
       "    <tr>\n",
       "      <th>1</th>\n",
       "      <td>104.0</td>\n",
       "      <td>NaN</td>\n",
       "      <td>NaN</td>\n",
       "      <td>NaN</td>\n",
       "      <td>8.55</td>\n",
       "      <td>NaN</td>\n",
       "      <td>NaN</td>\n",
       "      <td>-84.885743</td>\n",
       "      <td>46.912303</td>\n",
       "      <td>POLYGON ((-84.88387922029249 46.91322718112671...</td>\n",
       "      <td>NaN</td>\n",
       "      <td>NaN</td>\n",
       "      <td>NaN</td>\n",
       "      <td>NaN</td>\n",
       "      <td>NaN</td>\n",
       "    </tr>\n",
       "    <tr>\n",
       "      <th>2</th>\n",
       "      <td>104.0</td>\n",
       "      <td>NaN</td>\n",
       "      <td>NaN</td>\n",
       "      <td>NaN</td>\n",
       "      <td>8.55</td>\n",
       "      <td>NaN</td>\n",
       "      <td>NaN</td>\n",
       "      <td>-84.887410</td>\n",
       "      <td>46.919261</td>\n",
       "      <td>POLYGON ((-84.88554623463179 46.92018483757417...</td>\n",
       "      <td>NaN</td>\n",
       "      <td>NaN</td>\n",
       "      <td>NaN</td>\n",
       "      <td>NaN</td>\n",
       "      <td>NaN</td>\n",
       "    </tr>\n",
       "    <tr>\n",
       "      <th>3</th>\n",
       "      <td>104.0</td>\n",
       "      <td>NaN</td>\n",
       "      <td>NaN</td>\n",
       "      <td>NaN</td>\n",
       "      <td>8.55</td>\n",
       "      <td>NaN</td>\n",
       "      <td>NaN</td>\n",
       "      <td>-84.884197</td>\n",
       "      <td>46.918908</td>\n",
       "      <td>POLYGON ((-84.88233307531861 46.91983171613633...</td>\n",
       "      <td>NaN</td>\n",
       "      <td>NaN</td>\n",
       "      <td>NaN</td>\n",
       "      <td>NaN</td>\n",
       "      <td>NaN</td>\n",
       "    </tr>\n",
       "    <tr>\n",
       "      <th>4</th>\n",
       "      <td>57.0</td>\n",
       "      <td>NaN</td>\n",
       "      <td>NaN</td>\n",
       "      <td>NaN</td>\n",
       "      <td>38.69</td>\n",
       "      <td>NaN</td>\n",
       "      <td>NaN</td>\n",
       "      <td>-84.748565</td>\n",
       "      <td>46.962634</td>\n",
       "      <td>POLYGON ((-84.74669588337325 46.96355596569322...</td>\n",
       "      <td>NaN</td>\n",
       "      <td>NaN</td>\n",
       "      <td>NaN</td>\n",
       "      <td>NaN</td>\n",
       "      <td>NaN</td>\n",
       "    </tr>\n",
       "  </tbody>\n",
       "</table>\n",
       "</div>"
      ],
      "text/plain": [
       "   age_2001  age_2011  age_2019  year_harvested  vol_2001  vol_2011  vol_2015  \\\n",
       "0     104.0       NaN       NaN             NaN      8.55       NaN       NaN   \n",
       "1     104.0       NaN       NaN             NaN      8.55       NaN       NaN   \n",
       "2     104.0       NaN       NaN             NaN      8.55       NaN       NaN   \n",
       "3     104.0       NaN       NaN             NaN      8.55       NaN       NaN   \n",
       "4      57.0       NaN       NaN             NaN     38.69       NaN       NaN   \n",
       "\n",
       "         lon        lat                                           geometry  \\\n",
       "0 -84.890501  46.906052  POLYGON ((-84.88863710751139 46.90697579711416...   \n",
       "1 -84.885743  46.912303  POLYGON ((-84.88387922029249 46.91322718112671...   \n",
       "2 -84.887410  46.919261  POLYGON ((-84.88554623463179 46.92018483757417...   \n",
       "3 -84.884197  46.918908  POLYGON ((-84.88233307531861 46.91983171613633...   \n",
       "4 -84.748565  46.962634  POLYGON ((-84.74669588337325 46.96355596569322...   \n",
       "\n",
       "  year month  day area_intersect_perc  number_fires  \n",
       "0  NaN   NaN  NaN                 NaN           NaN  \n",
       "1  NaN   NaN  NaN                 NaN           NaN  \n",
       "2  NaN   NaN  NaN                 NaN           NaN  \n",
       "3  NaN   NaN  NaN                 NaN           NaN  \n",
       "4  NaN   NaN  NaN                 NaN           NaN  "
      ]
     },
     "execution_count": 4,
     "metadata": {},
     "output_type": "execute_result"
    }
   ],
   "source": [
    "ON_forest_and_fires['year']=ON_forest_and_fires.year.str.strip(\"][\")\n",
    "ON_forest_and_fires['year']=ON_forest_and_fires.year.str.split(\", \")\n",
    "ON_forest_and_fires['month']=ON_forest_and_fires.month.str.strip(\"][\")\n",
    "ON_forest_and_fires['month']=ON_forest_and_fires.month.str.split(\", \")\n",
    "ON_forest_and_fires['day']=ON_forest_and_fires.day.str.strip(\"][\")\n",
    "ON_forest_and_fires['day']=ON_forest_and_fires.day.str.split(\", \")\n",
    "ON_forest_and_fires['area_intersect_perc']=ON_forest_and_fires.area_intersect_perc.str.strip(\"][\")\n",
    "ON_forest_and_fires['area_intersect_perc']=ON_forest_and_fires.area_intersect_perc.str.split(\", \")\n",
    "ON_forest_and_fires.head()"
   ]
  },
  {
   "cell_type": "markdown",
   "id": "9334ef2af80ca9dc",
   "metadata": {
    "collapsed": false
   },
   "source": [
    "Lets also get rid of harvest years below 2001, because we cant use them"
   ]
  },
  {
   "cell_type": "code",
   "execution_count": 5,
   "id": "854327b1ccad7b1b",
   "metadata": {
    "ExecuteTime": {
     "end_time": "2023-11-27T21:34:09.594004Z",
     "start_time": "2023-11-27T21:34:08.835424Z"
    },
    "collapsed": false
   },
   "outputs": [
    {
     "data": {
      "text/html": [
       "<div>\n",
       "<style scoped>\n",
       "    .dataframe tbody tr th:only-of-type {\n",
       "        vertical-align: middle;\n",
       "    }\n",
       "\n",
       "    .dataframe tbody tr th {\n",
       "        vertical-align: top;\n",
       "    }\n",
       "\n",
       "    .dataframe thead th {\n",
       "        text-align: right;\n",
       "    }\n",
       "</style>\n",
       "<table border=\"1\" class=\"dataframe\">\n",
       "  <thead>\n",
       "    <tr style=\"text-align: right;\">\n",
       "      <th></th>\n",
       "      <th>age_2001</th>\n",
       "      <th>age_2011</th>\n",
       "      <th>age_2019</th>\n",
       "      <th>year_harvested</th>\n",
       "      <th>vol_2001</th>\n",
       "      <th>vol_2011</th>\n",
       "      <th>vol_2015</th>\n",
       "      <th>lon</th>\n",
       "      <th>lat</th>\n",
       "      <th>geometry</th>\n",
       "      <th>year</th>\n",
       "      <th>month</th>\n",
       "      <th>day</th>\n",
       "      <th>area_intersect_perc</th>\n",
       "      <th>number_fires</th>\n",
       "    </tr>\n",
       "  </thead>\n",
       "  <tbody>\n",
       "  </tbody>\n",
       "</table>\n",
       "</div>"
      ],
      "text/plain": [
       "Empty DataFrame\n",
       "Columns: [age_2001, age_2011, age_2019, year_harvested, vol_2001, vol_2011, vol_2015, lon, lat, geometry, year, month, day, area_intersect_perc, number_fires]\n",
       "Index: []"
      ]
     },
     "execution_count": 5,
     "metadata": {},
     "output_type": "execute_result"
    }
   ],
   "source": [
    "ON_forest_and_fires['year_harvested'].replace([year for year in range(1985,2001)],np.nan,inplace=True)\n",
    "ON_forest_and_fires[ON_forest_and_fires['year_harvested']<2001]"
   ]
  },
  {
   "cell_type": "markdown",
   "id": "752027cecc077c73",
   "metadata": {
    "collapsed": false
   },
   "source": [
    "Good to continue"
   ]
  },
  {
   "cell_type": "code",
   "execution_count": 6,
   "id": "8d511c0a13d40eab",
   "metadata": {
    "ExecuteTime": {
     "end_time": "2023-11-27T21:34:09.594004Z",
     "start_time": "2023-11-27T21:34:09.388417400Z"
    },
    "collapsed": false
   },
   "outputs": [
    {
     "name": "stdout",
     "output_type": "stream",
     "text": [
      "<class 'pandas.core.frame.DataFrame'>\n",
      "Index: 15123785 entries, 0 to 15123784\n",
      "Data columns (total 15 columns):\n",
      " #   Column               Dtype  \n",
      "---  ------               -----  \n",
      " 0   age_2001             float64\n",
      " 1   age_2011             float64\n",
      " 2   age_2019             float64\n",
      " 3   year_harvested       float64\n",
      " 4   vol_2001             float64\n",
      " 5   vol_2011             float64\n",
      " 6   vol_2015             float64\n",
      " 7   lon                  float64\n",
      " 8   lat                  float64\n",
      " 9   geometry             object \n",
      " 10  year                 object \n",
      " 11  month                object \n",
      " 12  day                  object \n",
      " 13  area_intersect_perc  object \n",
      " 14  number_fires         float64\n",
      "dtypes: float64(10), object(5)\n",
      "memory usage: 1.8+ GB\n"
     ]
    }
   ],
   "source": [
    "ON_forest_and_fires.info()"
   ]
  },
  {
   "cell_type": "markdown",
   "metadata": {},
   "source": [
    "Check that the dataframe hass the same number of pixels as before, which was 15123785"
   ]
  },
  {
   "cell_type": "code",
   "execution_count": null,
   "id": "8477c1252ecf1d6",
   "metadata": {
    "ExecuteTime": {
     "end_time": "2023-11-27T06:13:35.386932200Z",
     "start_time": "2023-11-27T06:13:34.929158100Z"
    },
    "collapsed": false
   },
   "outputs": [
    {
     "data": {
      "text/plain": [
       "15123785"
      ]
     },
     "execution_count": 10,
     "metadata": {},
     "output_type": "execute_result"
    }
   ],
   "source": [
    "ON_forest_and_fires.index.nunique()"
   ]
  },
  {
   "cell_type": "markdown",
   "metadata": {},
   "source": [
    "We can also take a look at some none null rows for all the columns to see what our data looks liks. "
   ]
  },
  {
   "cell_type": "code",
   "execution_count": null,
   "id": "e61df85f",
   "metadata": {
    "ExecuteTime": {
     "end_time": "2023-11-25T22:22:42.745411500Z",
     "start_time": "2023-11-25T22:22:39.316920700Z"
    }
   },
   "outputs": [
    {
     "data": {
      "text/html": [
       "<div>\n",
       "<style scoped>\n",
       "    .dataframe tbody tr th:only-of-type {\n",
       "        vertical-align: middle;\n",
       "    }\n",
       "\n",
       "    .dataframe tbody tr th {\n",
       "        vertical-align: top;\n",
       "    }\n",
       "\n",
       "    .dataframe thead th {\n",
       "        text-align: right;\n",
       "    }\n",
       "</style>\n",
       "<table border=\"1\" class=\"dataframe\">\n",
       "  <thead>\n",
       "    <tr style=\"text-align: right;\">\n",
       "      <th></th>\n",
       "      <th>age_2001</th>\n",
       "      <th>age_2011</th>\n",
       "      <th>age_2019</th>\n",
       "      <th>year_harvested</th>\n",
       "      <th>vol_2001</th>\n",
       "      <th>vol_2011</th>\n",
       "      <th>vol_2015</th>\n",
       "      <th>lon</th>\n",
       "      <th>lat</th>\n",
       "      <th>geometry</th>\n",
       "      <th>year</th>\n",
       "      <th>month</th>\n",
       "      <th>day</th>\n",
       "      <th>area_intersect_perc</th>\n",
       "      <th>number_fires</th>\n",
       "    </tr>\n",
       "  </thead>\n",
       "  <tbody>\n",
       "    <tr>\n",
       "      <th>37433</th>\n",
       "      <td>58.0</td>\n",
       "      <td>15.0</td>\n",
       "      <td>16.0</td>\n",
       "      <td>2003.0</td>\n",
       "      <td>106.51</td>\n",
       "      <td>18.07</td>\n",
       "      <td>17.5</td>\n",
       "      <td>-84.848203</td>\n",
       "      <td>48.226017</td>\n",
       "      <td>POLYGON ((-84.84628034743098 48.22694487022099...</td>\n",
       "      <td>[2004.0]</td>\n",
       "      <td>[6.0]</td>\n",
       "      <td>[19.0]</td>\n",
       "      <td>[0.1087929503554119]</td>\n",
       "      <td>1.0</td>\n",
       "    </tr>\n",
       "    <tr>\n",
       "      <th>37443</th>\n",
       "      <td>91.0</td>\n",
       "      <td>27.0</td>\n",
       "      <td>47.0</td>\n",
       "      <td>2003.0</td>\n",
       "      <td>168.01</td>\n",
       "      <td>73.06</td>\n",
       "      <td>17.7</td>\n",
       "      <td>-84.851515</td>\n",
       "      <td>48.226373</td>\n",
       "      <td>POLYGON ((-84.84959228555931 48.22730110451564...</td>\n",
       "      <td>[2004.0]</td>\n",
       "      <td>[6.0]</td>\n",
       "      <td>[19.0]</td>\n",
       "      <td>[0.0349758384347726]</td>\n",
       "      <td>1.0</td>\n",
       "    </tr>\n",
       "    <tr>\n",
       "      <th>41341</th>\n",
       "      <td>32.0</td>\n",
       "      <td>25.0</td>\n",
       "      <td>18.0</td>\n",
       "      <td>2001.0</td>\n",
       "      <td>20.62</td>\n",
       "      <td>10.13</td>\n",
       "      <td>133.4</td>\n",
       "      <td>-84.930238</td>\n",
       "      <td>48.266584</td>\n",
       "      <td>POLYGON ((-84.92831500888651 48.26751368669805...</td>\n",
       "      <td>[2014.0]</td>\n",
       "      <td>[8.0]</td>\n",
       "      <td>[3.0]</td>\n",
       "      <td>[0.0022646724981402]</td>\n",
       "      <td>1.0</td>\n",
       "    </tr>\n",
       "    <tr>\n",
       "      <th>41775</th>\n",
       "      <td>70.0</td>\n",
       "      <td>64.0</td>\n",
       "      <td>17.0</td>\n",
       "      <td>2002.0</td>\n",
       "      <td>117.95</td>\n",
       "      <td>24.30</td>\n",
       "      <td>15.8</td>\n",
       "      <td>-84.959025</td>\n",
       "      <td>48.274188</td>\n",
       "      <td>POLYGON ((-84.95710307661832 48.27511836207139...</td>\n",
       "      <td>[2001.0]</td>\n",
       "      <td>[8.0]</td>\n",
       "      <td>[8.0]</td>\n",
       "      <td>[0.0159743105264925]</td>\n",
       "      <td>1.0</td>\n",
       "    </tr>\n",
       "    <tr>\n",
       "      <th>42793</th>\n",
       "      <td>115.0</td>\n",
       "      <td>67.0</td>\n",
       "      <td>110.0</td>\n",
       "      <td>2020.0</td>\n",
       "      <td>198.29</td>\n",
       "      <td>118.21</td>\n",
       "      <td>48.3</td>\n",
       "      <td>-85.016441</td>\n",
       "      <td>48.318860</td>\n",
       "      <td>POLYGON ((-85.01451835632157 48.31979233664763...</td>\n",
       "      <td>[2005.0]</td>\n",
       "      <td>[8.0]</td>\n",
       "      <td>[26.0]</td>\n",
       "      <td>[0.0001354122240778]</td>\n",
       "      <td>1.0</td>\n",
       "    </tr>\n",
       "  </tbody>\n",
       "</table>\n",
       "</div>"
      ],
      "text/plain": [
       "       age_2001  age_2011  age_2019  year_harvested  vol_2001  vol_2011  \\\n",
       "37433      58.0      15.0      16.0          2003.0    106.51     18.07   \n",
       "37443      91.0      27.0      47.0          2003.0    168.01     73.06   \n",
       "41341      32.0      25.0      18.0          2001.0     20.62     10.13   \n",
       "41775      70.0      64.0      17.0          2002.0    117.95     24.30   \n",
       "42793     115.0      67.0     110.0          2020.0    198.29    118.21   \n",
       "\n",
       "       vol_2015        lon        lat  \\\n",
       "37433      17.5 -84.848203  48.226017   \n",
       "37443      17.7 -84.851515  48.226373   \n",
       "41341     133.4 -84.930238  48.266584   \n",
       "41775      15.8 -84.959025  48.274188   \n",
       "42793      48.3 -85.016441  48.318860   \n",
       "\n",
       "                                                geometry      year  month  \\\n",
       "37433  POLYGON ((-84.84628034743098 48.22694487022099...  [2004.0]  [6.0]   \n",
       "37443  POLYGON ((-84.84959228555931 48.22730110451564...  [2004.0]  [6.0]   \n",
       "41341  POLYGON ((-84.92831500888651 48.26751368669805...  [2014.0]  [8.0]   \n",
       "41775  POLYGON ((-84.95710307661832 48.27511836207139...  [2001.0]  [8.0]   \n",
       "42793  POLYGON ((-85.01451835632157 48.31979233664763...  [2005.0]  [8.0]   \n",
       "\n",
       "          day   area_intersect_perc  number_fires  \n",
       "37433  [19.0]  [0.1087929503554119]           1.0  \n",
       "37443  [19.0]  [0.0349758384347726]           1.0  \n",
       "41341   [3.0]  [0.0022646724981402]           1.0  \n",
       "41775   [8.0]  [0.0159743105264925]           1.0  \n",
       "42793  [26.0]  [0.0001354122240778]           1.0  "
      ]
     },
     "execution_count": 12,
     "metadata": {},
     "output_type": "execute_result"
    }
   ],
   "source": [
    "ON_forest_and_fires[~ON_forest_and_fires.isnull().any(axis=1)].head()"
   ]
  },
  {
   "cell_type": "markdown",
   "id": "0606bc61",
   "metadata": {},
   "source": [
    "We can see that the data is not fool proof. For example, row 37433 has the following information:\n",
    "- Age in 2001: 58.0\n",
    "- Age in 2011: 15.0 \n",
    "- Age in 2019: 16.0\n",
    "- Year Harvested: 2003\n",
    "- Vol in 2001: 106.51\n",
    "- Vol in 2011: 18.07\n",
    "- Vol in 2015: 17.5\n",
    "\n",
    "There is also a fire that happened in 204 that burned about 0.1 % of the coordinate geometry.\n",
    "\n",
    "So, in general the data goes in the right direction, but it is not 100% accurate. The number from year to year are no exaaclty the number of uears om between. That can be fore moany reasons, but primarly its the accuracy and also that our data that we have gathered per row was not taken from the exact same source/point in time and geometry and therfore approximations must be made. Our goal is to generate an estimated age and volume for each year, weather or not the pixel was harvested, if there was a forest fire, etc. For that we need toapproximate using the data we actually have"
   ]
  },
  {
   "cell_type": "markdown",
   "id": "e3d20283",
   "metadata": {},
   "source": [
    "## 6) Manipulating the Data\n",
    "That being said, based on some quick research the follwoing can be said about age and volume density:\n",
    "- Age: age is linear, on a 1 to 1 slope, defined by the folowing equation: [Y = mx + b] where Y is the age, x is the year m is the slope of 1 and b is the y axis intercept (i.e age in 2001).\n",
    "- Volume: volume/size/hieght to age relationships can be defined as sigmoidal, and can be grossly defined by the Chapman-Richards equation:  [Y = a (1-exp(-bX))^m)](https://fennerschool-associated.anu.edu.au/mensuration/BrackandWood1998/T_GROWTH.HTM#:~:text=Equations%20to%20predict%20size%2Fage,a%20and%20b%20denote%20coefficients.) where Y is a parameter of growth (dbh, height, volume), A is age and a, and m denote coefficients. As said, this is called the Chapman-Richards equation can there is some interestigng [litterture](https://www.researchgate.net/profile/Fengri-Li/publication/240356244_The_generalized_Chapman-Richards_function_and_applications_to_tree_and_stand_growth/links/5518d0710cf2d70ee27b746c/The-generalized-Chapman-Richards-function-and-applications-to-tree-and-stand-growth.pdf) that provides insight on how biological growth follows this approximat curve, and provides guidliens for the coefficients\n",
    "\n",
    "We are goind to make the following assumtion while we interpolate the data:\n",
    "- Age is one to one slope\n",
    "- Volumne is sigmoidal with Chapman-Richards distribution with ranges of coefficients specified as a>0 and b>0 and m>0.\n",
    "- When a coordinate is harvested, we will add a data point of that harvest year as the age being zero to compute the avearge age intercep term for linerization beyond that point\n",
    "- When a fire occured on a coordinate, its age and volume will be reduced byt the percent of area that was burned."
   ]
  },
  {
   "cell_type": "markdown",
   "id": "a4e1bd88",
   "metadata": {},
   "source": [
    "### Age Data Linear Interpolation"
   ]
  },
  {
   "cell_type": "markdown",
   "id": "9f41b59c",
   "metadata": {},
   "source": [
    "We need to come up with a way to calculate the average intercept based on a slope. This funciton can be used in the future to interpolate with the data. Here is an example of how it is built, followed by the function itself. "
   ]
  },
  {
   "cell_type": "code",
   "execution_count": 2,
   "id": "b17cee33",
   "metadata": {
    "ExecuteTime": {
     "end_time": "2023-11-27T21:34:14.430629700Z",
     "start_time": "2023-11-27T21:34:14.395805500Z"
    }
   },
   "outputs": [
    {
     "data": {
      "text/plain": [
       "array([2001, 2011, 2019])"
      ]
     },
     "execution_count": 2,
     "metadata": {},
     "output_type": "execute_result"
    }
   ],
   "source": [
    "x = np.array([2001,2011,2019])\n",
    "x"
   ]
  },
  {
   "cell_type": "code",
   "execution_count": null,
   "id": "0bbd9a43",
   "metadata": {
    "ExecuteTime": {
     "end_time": "2023-11-27T21:34:15.107374200Z",
     "start_time": "2023-11-27T21:34:14.848579Z"
    }
   },
   "outputs": [
    {
     "data": {
      "text/plain": [
       "array([63.0, 85.0, 65.0], dtype=object)"
      ]
     },
     "execution_count": 24,
     "metadata": {},
     "output_type": "execute_result"
    }
   ],
   "source": [
    "y = np.array(ON_forest_and_fires.loc[1000][['age_2001','age_2011','age_2019']])\n",
    "y"
   ]
  },
  {
   "cell_type": "markdown",
   "id": "b7a34019",
   "metadata": {},
   "source": [
    "We can compute the average intercep by getting the b intercept for each point and taking average, by fixing our slope to 1"
   ]
  },
  {
   "cell_type": "code",
   "execution_count": null,
   "id": "53a11cf9",
   "metadata": {
    "ExecuteTime": {
     "end_time": "2023-11-27T21:34:15.912830400Z",
     "start_time": "2023-11-27T21:34:15.725204Z"
    }
   },
   "outputs": [],
   "source": [
    "b_array = (y-x)"
   ]
  },
  {
   "cell_type": "code",
   "execution_count": null,
   "id": "59c3138a",
   "metadata": {
    "ExecuteTime": {
     "end_time": "2023-11-27T21:34:16.696792200Z",
     "start_time": "2023-11-27T21:34:15.762404100Z"
    }
   },
   "outputs": [
    {
     "data": {
      "text/plain": [
       "-1939.3333333333333"
      ]
     },
     "execution_count": 26,
     "metadata": {},
     "output_type": "execute_result"
    }
   ],
   "source": [
    "np.mean(b_array)"
   ]
  },
  {
   "cell_type": "markdown",
   "id": "f9f154b5",
   "metadata": {},
   "source": [
    "Now, lets create a plot that contains the actual data and the interpolation"
   ]
  },
  {
   "cell_type": "code",
   "execution_count": null,
   "id": "05618018",
   "metadata": {
    "ExecuteTime": {
     "end_time": "2023-11-27T21:34:16.754551200Z",
     "start_time": "2023-11-27T21:34:16.271790800Z"
    }
   },
   "outputs": [],
   "source": [
    "x_int = np.arange(2000,2025,1)\n",
    "y_int = x_int + np.mean(b_array)"
   ]
  },
  {
   "cell_type": "code",
   "execution_count": null,
   "id": "cd17a9b5",
   "metadata": {
    "ExecuteTime": {
     "end_time": "2023-11-27T21:34:18.092370100Z",
     "start_time": "2023-11-27T21:34:16.579938500Z"
    }
   },
   "outputs": [
    {
     "data": {
      "text/plain": [
       "[<matplotlib.lines.Line2D at 0x14db7074990>]"
      ]
     },
     "execution_count": 28,
     "metadata": {},
     "output_type": "execute_result"
    },
    {
     "data": {
      "image/png": "[encoded data removed]",
      "text/plain": [
       "<Figure size 640x480 with 1 Axes>"
      ]
     },
     "metadata": {},
     "output_type": "display_data"
    }
   ],
   "source": [
    "ax = plt.scatter(x,y)\n",
    "plt.title(\"Age of fores with linear regression\")\n",
    "plt.xlabel('Year')\n",
    "plt.ylabel('Age in years')\n",
    "plt.plot(x_int,y_int)"
   ]
  },
  {
   "cell_type": "markdown",
   "id": "776cc46a",
   "metadata": {},
   "source": [
    "Our pipeline is good. We can now build a function"
   ]
  },
  {
   "cell_type": "code",
   "execution_count": 7,
   "id": "3d6f5ff6",
   "metadata": {
    "ExecuteTime": {
     "end_time": "2023-11-27T21:34:18.494091400Z",
     "start_time": "2023-11-27T21:34:17.495035800Z"
    }
   },
   "outputs": [],
   "source": [
    "\n",
    "def linear_reg_fixed_slope(x_list,y_list,m):\n",
    "    \"\"\"This funciton takes in two arrays x and y, and a fixed slope and calculates the intercep b that best fits the data.\n",
    "    This funciton only workd for linear regression, that is y=mx+b. x and y must be 1D arrays with same length.\n",
    "    Parameters: \n",
    "        x_list: np.array of fixed x values\n",
    "        y_list: np.array of y data values\n",
    "        m: slope of linear regression, fixed\n",
    "    Output:\n",
    "        b: best b intercept for the given data\n",
    "    \"\"\"\n",
    "    #get the indexes of not nan values\n",
    "    z = (y_list-x_list*m)\n",
    "    b = np.nanmean(z)\n",
    "    \n",
    "    return b"
   ]
  },
  {
   "cell_type": "markdown",
   "id": "fd5ec610",
   "metadata": {},
   "source": [
    "### Volumn Data Sigmoidal Interpolation"
   ]
  },
  {
   "cell_type": "markdown",
   "id": "a943fd49",
   "metadata": {},
   "source": [
    "As previously explained, volume to age relationships can be deinfed as sigmoidal, with the following equation: [Y = a (1-exp(-bX))^m] where Y is the volume, A is age and a, b and m are coefficients. For our purpose, we will assume that one set of coefficient can be fitted for all of ontario. In technicality, some pockets of forests would have different coefficient based on species, but since we dont have that information we will assum one goverinng relationship. first lets explore how we can use scipy's [curve_fit](https://docs.scipy.org/doc/scipy/reference/generated/scipy.optimize.curve_fit.html) function to fit coefficients."
   ]
  },
  {
   "cell_type": "code",
   "execution_count": 3,
   "id": "61d2d322",
   "metadata": {
    "ExecuteTime": {
     "end_time": "2023-11-27T21:34:19.182054700Z",
     "start_time": "2023-11-27T21:34:17.977310100Z"
    }
   },
   "outputs": [
    {
     "data": {
      "text/plain": [
       "array([ 30.,  70., 180.])"
      ]
     },
     "execution_count": 3,
     "metadata": {},
     "output_type": "execute_result"
    }
   ],
   "source": [
    "y_vol = np.array([30,70,180],dtype='float')\n",
    "y_vol"
   ]
  },
  {
   "cell_type": "markdown",
   "id": "2115ae09",
   "metadata": {},
   "source": [
    "We will use our interpolated data to calucalte the age of these volumes"
   ]
  },
  {
   "cell_type": "code",
   "execution_count": 4,
   "id": "0288702f",
   "metadata": {
    "ExecuteTime": {
     "end_time": "2023-11-27T21:34:19.276905Z",
     "start_time": "2023-11-27T21:34:18.463797900Z"
    }
   },
   "outputs": [],
   "source": [
    "x_vol_age = np.array([2001,2011,2015])"
   ]
  },
  {
   "cell_type": "markdown",
   "id": "faf64b0a",
   "metadata": {},
   "source": [
    "Generate the x-axis age for the volume years"
   ]
  },
  {
   "cell_type": "code",
   "execution_count": 5,
   "id": "acf42086",
   "metadata": {
    "ExecuteTime": {
     "end_time": "2023-11-27T21:34:22.420315500Z",
     "start_time": "2023-11-27T21:34:22.370647100Z"
    }
   },
   "outputs": [
    {
     "data": {
      "text/plain": [
       "array([20, 30, 35])"
      ]
     },
     "execution_count": 5,
     "metadata": {},
     "output_type": "execute_result"
    }
   ],
   "source": [
    "x_vol = np.array([20,30,35])\n",
    "x_vol"
   ]
  },
  {
   "cell_type": "markdown",
   "metadata": {},
   "source": [
    "The next function is our Chapmans curve definition"
   ]
  },
  {
   "cell_type": "code",
   "execution_count": 6,
   "metadata": {},
   "outputs": [],
   "source": [
    "from scipy.optimize import curve_fit\n",
    "def volume_age(x,a,b,m):\n",
    "    \"\"\"\n",
    "    Function that takes in array and uses chapmans equation to calculate y (volume)\n",
    "    Retuns single value or nparray\n",
    "    \"\"\"\n",
    "    return (a*(1-np.exp(-b*x))**(m))\n",
    "\n",
    "#this next function is redundant but was added and is integral to our code therfore must be included.\n",
    "\n",
    "def vol_forest(x,a,b,m):\n",
    "    \"\"\"\n",
    "    Funtion that takes in x array or values, a,b,m coefficients and passes them to volume_age function to reutrn y value or array\n",
    "    \"\"\"\n",
    "\n",
    "    volume_age(x,a,b,m)\n",
    "    return y"
   ]
  },
  {
   "cell_type": "markdown",
   "metadata": {},
   "source": [
    "Now use curvefit to generate some coefficients."
   ]
  },
  {
   "cell_type": "code",
   "execution_count": null,
   "id": "fbc88648",
   "metadata": {
    "ExecuteTime": {
     "end_time": "2023-11-27T21:34:23.057228700Z",
     "start_time": "2023-11-27T21:34:22.899876300Z"
    }
   },
   "outputs": [],
   "source": [
    "\n",
    "\n",
    "popt, pcov=curve_fit(volume_age,x_vol, y_vol, method='dogbox',bounds=((1,-20),(1000,-1)))\n",
    "\n",
    "x_vol_fit = np.arange(1,200,1)\n",
    "y_vol_fit = np.exp(volume_age(x_vol_fit,popt[0],popt[1]))\n",
    "plt.plot(x_vol_fit,y_vol_fit)\n",
    "plt.scatter(x_vol,np.exp(y_vol),color='red')\n",
    "plt.title(\"Volume of forest with linear regression\")\n",
    "plt.xlabel('Year')\n",
    "plt.ylabel('Volume in m^3/ha')"
   ]
  },
  {
   "cell_type": "markdown",
   "metadata": {},
   "source": [
    "Now that we have a understanding of our process for volume, we can begine to approximate the coefficients. Originally, it was tourhg to fit the coeeficients to all the age and volume raw data, but that would be wrong since vol_2016 and age_2019 dont match, and on some rows we may have volume in vol_2001 but nan in age_2001. Also, we dont want to fit the coefficients to pixels that had fires or harvest as that would interfere with the volume vs. age relationship. Therfore lets filter the data to only have rows where there is data in 2001 and 2011, and no fires or harvest. Then we will randomly sample the data at difference increments, and get the best fit coefficients for each fit and take the average as our final coefficients."
   ]
  },
  {
   "cell_type": "code",
   "execution_count": null,
   "metadata": {},
   "outputs": [],
   "source": [
    "data_approx=data_approx[(~ON_forest_and_fires[['vol_2001','vol_2011','vol_2015']].isnull().any(axis=1)) & (data_approx['year_harvested'].isna() == True)& (data_approx['year'].isna() == True)]\n",
    "data_approx.head()"
   ]
  },
  {
   "cell_type": "markdown",
   "metadata": {},
   "source": [
    "We can create a funciton called return+coef_sigm which we can pass through to get best curve fit"
   ]
  },
  {
   "cell_type": "code",
   "execution_count": null,
   "metadata": {},
   "outputs": [],
   "source": [
    "\n",
    "\n",
    "def return_coef_sig(x,y,start):\n",
    "    \"\"\"\n",
    "    Funciton that takes in row of data from dataframe, and outpute the best fit for parameters a and b from sigmoidal expression defined in volume_age function\n",
    "    :param data: row of data frame\n",
    "    :return: parameters a, b\n",
    "    \"\"\"\n",
    "\n",
    "    popt, pcov=curve_fit(volume_age,x, y, method='dogbox',p0=start,bounds=((1,0.0001,1),(float('inf'),1,float('inf'))),nan_policy='omit')\n",
    "\n",
    "    a = popt[0]\n",
    "    b = popt[1]\n",
    "\n",
    "    return a,b,m\n"
   ]
  },
  {
   "cell_type": "markdown",
   "metadata": {},
   "source": [
    "Now, loop through fractions of the data atleast 10 times each to see what coefficients it ouputs"
   ]
  },
  {
   "cell_type": "code",
   "execution_count": null,
   "id": "11e4fb19f6591737",
   "metadata": {
    "ExecuteTime": {
     "end_time": "2023-11-27T22:54:01.713046100Z",
     "start_time": "2023-11-27T22:51:21.506061400Z"
    },
    "collapsed": false
   },
   "outputs": [
    {
     "name": "stdout",
     "output_type": "stream",
     "text": [
      "[0.01 0.02 0.05 0.1  0.15 0.2  0.3  0.4  0.5 ]\n",
      "0.01 (161.94953432388226, 0.0296937507669096, 3.7281452465344045)\n",
      "0.01 (161.94953432388226, 0.0296937507669096, 3.7281452465344045)\n",
      "0.01 (161.94953432388226, 0.0296937507669096, 3.7281452465344045)\n",
      "0.01 (161.94953432388226, 0.0296937507669096, 3.7281452465344045)\n",
      "0.01 (161.94953432388226, 0.0296937507669096, 3.7281452465344045)\n",
      "0.01 (161.94953432388226, 0.0296937507669096, 3.7281452465344045)\n",
      "0.01 (161.94953432388226, 0.0296937507669096, 3.7281452465344045)\n",
      "0.01 (161.94953432388226, 0.0296937507669096, 3.7281452465344045)\n",
      "0.01 (161.94953432388226, 0.0296937507669096, 3.7281452465344045)\n",
      "0.01 (161.94953432388226, 0.0296937507669096, 3.7281452465344045)\n",
      "0.02 (161.94953432388226, 0.0296937507669096, 3.7281452465344045)\n",
      "0.02 (161.94953432388226, 0.0296937507669096, 3.7281452465344045)\n",
      "0.02 (161.94953432388226, 0.0296937507669096, 3.7281452465344045)\n",
      "0.02 (161.94953432388226, 0.0296937507669096, 3.7281452465344045)\n",
      "0.02 (161.94953432388226, 0.0296937507669096, 3.7281452465344045)\n",
      "0.02 (161.94953432388226, 0.0296937507669096, 3.7281452465344045)\n",
      "0.02 (161.94953432388226, 0.0296937507669096, 3.7281452465344045)\n",
      "0.02 (161.94953432388226, 0.0296937507669096, 3.7281452465344045)\n",
      "0.02 (161.94953432388226, 0.0296937507669096, 3.7281452465344045)\n",
      "0.02 (161.94953432388226, 0.0296937507669096, 3.7281452465344045)\n",
      "0.05 (161.94953432388226, 0.0296937507669096, 3.7281452465344045)\n",
      "0.05 (161.94953432388226, 0.0296937507669096, 3.7281452465344045)\n",
      "0.05 (161.94953432388226, 0.0296937507669096, 3.7281452465344045)\n",
      "0.05 (161.94953432388226, 0.0296937507669096, 3.7281452465344045)\n",
      "0.05 (161.94953432388226, 0.0296937507669096, 3.7281452465344045)\n",
      "0.05 (161.94953432388226, 0.0296937507669096, 3.7281452465344045)\n",
      "0.05 (161.94953432388226, 0.0296937507669096, 3.7281452465344045)\n",
      "0.05 (161.94953432388226, 0.0296937507669096, 3.7281452465344045)\n",
      "0.05 (161.94953432388226, 0.0296937507669096, 3.7281452465344045)\n",
      "0.05 (161.94953432388226, 0.0296937507669096, 3.7281452465344045)\n",
      "0.1 (161.94953432388226, 0.0296937507669096, 3.7281452465344045)\n",
      "0.1 (161.94953432388226, 0.0296937507669096, 3.7281452465344045)\n",
      "0.1 (161.94953432388226, 0.0296937507669096, 3.7281452465344045)\n",
      "0.1 (161.94953432388226, 0.0296937507669096, 3.7281452465344045)\n",
      "0.1 (161.94953432388226, 0.0296937507669096, 3.7281452465344045)\n",
      "0.1 (161.94953432388226, 0.0296937507669096, 3.7281452465344045)\n",
      "0.1 (161.94953432388226, 0.0296937507669096, 3.7281452465344045)\n",
      "0.1 (161.94953432388226, 0.0296937507669096, 3.7281452465344045)\n",
      "0.1 (161.94953432388226, 0.0296937507669096, 3.7281452465344045)\n",
      "0.1 (161.94953432388226, 0.0296937507669096, 3.7281452465344045)\n",
      "0.15 (161.94953432388226, 0.0296937507669096, 3.7281452465344045)\n",
      "0.15 (161.94953432388226, 0.0296937507669096, 3.7281452465344045)\n",
      "0.15 (161.94953432388226, 0.0296937507669096, 3.7281452465344045)\n",
      "0.15 (161.94953432388226, 0.0296937507669096, 3.7281452465344045)\n",
      "0.15 (161.94953432388226, 0.0296937507669096, 3.7281452465344045)\n",
      "0.15 (161.94953432388226, 0.0296937507669096, 3.7281452465344045)\n",
      "0.15 (161.94953432388226, 0.0296937507669096, 3.7281452465344045)\n",
      "0.15 (161.94953432388226, 0.0296937507669096, 3.7281452465344045)\n",
      "0.15 (161.94953432388226, 0.0296937507669096, 3.7281452465344045)\n",
      "0.15 (161.94953432388226, 0.0296937507669096, 3.7281452465344045)\n",
      "0.2 (161.94953432388226, 0.0296937507669096, 3.7281452465344045)\n",
      "0.2 (161.94953432388226, 0.0296937507669096, 3.7281452465344045)\n",
      "0.2 (161.94953432388226, 0.0296937507669096, 3.7281452465344045)\n",
      "0.2 (161.94953432388226, 0.0296937507669096, 3.7281452465344045)\n",
      "0.2 (161.94953432388226, 0.0296937507669096, 3.7281452465344045)\n",
      "0.2 (161.94953432388226, 0.0296937507669096, 3.7281452465344045)\n",
      "0.2 (161.94953432388226, 0.0296937507669096, 3.7281452465344045)\n",
      "0.2 (161.94953432388226, 0.0296937507669096, 3.7281452465344045)\n",
      "0.2 (161.94953432388226, 0.0296937507669096, 3.7281452465344045)\n",
      "0.2 (161.94953432388226, 0.0296937507669096, 3.7281452465344045)\n",
      "0.3 (161.94953432388226, 0.0296937507669096, 3.7281452465344045)\n",
      "0.3 (161.94953432388226, 0.0296937507669096, 3.7281452465344045)\n",
      "0.3 (161.94953432388226, 0.0296937507669096, 3.7281452465344045)\n",
      "0.3 (161.94953432388226, 0.0296937507669096, 3.7281452465344045)\n",
      "0.3 (161.94953432388226, 0.0296937507669096, 3.7281452465344045)\n",
      "0.3 (161.94953432388226, 0.0296937507669096, 3.7281452465344045)\n",
      "0.3 (161.94953432388226, 0.0296937507669096, 3.7281452465344045)\n",
      "0.3 (161.94953432388226, 0.0296937507669096, 3.7281452465344045)\n",
      "0.3 (161.94953432388226, 0.0296937507669096, 3.7281452465344045)\n",
      "0.3 (161.94953432388226, 0.0296937507669096, 3.7281452465344045)\n",
      "0.4 (161.94953432388226, 0.0296937507669096, 3.7281452465344045)\n",
      "0.4 (161.94953432388226, 0.0296937507669096, 3.7281452465344045)\n",
      "0.4 (161.94953432388226, 0.0296937507669096, 3.7281452465344045)\n",
      "0.4 (161.94953432388226, 0.0296937507669096, 3.7281452465344045)\n",
      "0.4 (161.94953432388226, 0.0296937507669096, 3.7281452465344045)\n",
      "0.4 (161.94953432388226, 0.0296937507669096, 3.7281452465344045)\n",
      "0.4 (161.94953432388226, 0.0296937507669096, 3.7281452465344045)\n",
      "0.4 (161.94953432388226, 0.0296937507669096, 3.7281452465344045)\n",
      "0.4 (161.94953432388226, 0.0296937507669096, 3.7281452465344045)\n",
      "0.4 (161.94953432388226, 0.0296937507669096, 3.7281452465344045)\n",
      "0.5 (161.94953432388226, 0.0296937507669096, 3.7281452465344045)\n",
      "0.5 (161.94953432388226, 0.0296937507669096, 3.7281452465344045)\n",
      "0.5 (161.94953432388226, 0.0296937507669096, 3.7281452465344045)\n",
      "0.5 (161.94953432388226, 0.0296937507669096, 3.7281452465344045)\n",
      "0.5 (161.94953432388226, 0.0296937507669096, 3.7281452465344045)\n",
      "0.5 (161.94953432388226, 0.0296937507669096, 3.7281452465344045)\n",
      "0.5 (161.94953432388226, 0.0296937507669096, 3.7281452465344045)\n",
      "0.5 (161.94953432388226, 0.0296937507669096, 3.7281452465344045)\n",
      "0.5 (161.94953432388226, 0.0296937507669096, 3.7281452465344045)\n",
      "0.5 (161.94953432388226, 0.0296937507669096, 3.7281452465344045)\n"
     ]
    }
   ],
   "source": [
    "results =[]\n",
    "fractions = np.array([0.01,0.02,0.05,0.1,0.15,0.2,0.3,0.4,0.5])\n",
    "print(fractions)\n",
    "for fraction in fractions:\n",
    "    frac_datax,frac_datay,result = [],[],[]\n",
    "    for i in range(10):\n",
    "        temp = data.sample(frac=fraction)\n",
    "        frac_datax.append(np.array(temp['age'],dtype='float'))\n",
    "        frac_datay.append(np.array(temp['vol'],dtype='float'))\n",
    "        result.append(return_coef_sig(np.array(temp['age'],dtype='float'),np.array(temp['vol'],dtype='float'),start = [250,0.5,10]))\n",
    "        print(fraction,result[i])\n",
    "    results.append(result)"
   ]
  },
  {
   "cell_type": "markdown",
   "metadata": {},
   "source": [
    "Write into dataframe"
   ]
  },
  {
   "cell_type": "code",
   "execution_count": null,
   "metadata": {},
   "outputs": [],
   "source": [
    "#Write into dataframe\n",
    "list_fraction= []\n",
    "for fraction in fractions:\n",
    "    print(fraction)\n",
    "    list_fraction.append(np.full(10,fraction))\n",
    "\n",
    "a,b,m =[],[],[]\n",
    "for i in results:\n",
    "    for result in i:\n",
    "        a.append(result[0])\n",
    "        b.append(result[1])\n",
    "        m.append(result[2])\n",
    "\n"
   ]
  },
  {
   "cell_type": "markdown",
   "metadata": {},
   "source": [
    "Save and open when needed"
   ]
  },
  {
   "cell_type": "code",
   "execution_count": null,
   "metadata": {},
   "outputs": [],
   "source": [
    "best_fit = pd.DataFrame({'sample_fraction':np.concatenate(list_fraction),'a':a,'b':b,'m':m},columns=['sample_fraction','a','b','m'])\n",
    "best_fit.to_csv(r\"I:\\CME538 Project\\CME538 Project\\processed data ontario only\\250m\\Approximations\\Summaries\\vol_best_fit.csv\")\n",
    "best_fit=pd.read_csv(r\"I:\\CME538 Project\\processed data ontario only\\250m\\Approximations\\Summaries\\vol_best_fit.csv\")"
   ]
  },
  {
   "cell_type": "code",
   "execution_count": 14,
   "metadata": {},
   "outputs": [
    {
     "name": "stdout",
     "output_type": "stream",
     "text": [
      "161.94953432388226 0.029693750766909603 3.728145246534403\n"
     ]
    }
   ],
   "source": [
    "a = best_fit['a'].mean()\n",
    "b = best_fit['b'].mean()\n",
    "m = best_fit['m'].mean()\n",
    "print(a,b,m)"
   ]
  },
  {
   "cell_type": "code",
   "execution_count": null,
   "metadata": {},
   "outputs": [
    {
     "data": {
      "text/plain": [
       "<matplotlib.collections.PathCollection at 0x23c1471fa10>"
      ]
     },
     "execution_count": 86,
     "metadata": {},
     "output_type": "execute_result"
    },
    {
     "data": {
      "image/png": "[encoded data removed]",
      "text/plain": [
       "<Figure size 640x480 with 1 Axes>"
      ]
     },
     "metadata": {},
     "output_type": "display_data"
    }
   ],
   "source": [
    "x = np.arange(0.01,200,0.01)\n",
    "y = volume_age(x,a,b,m)\n",
    "temp = data.sample(frac = 0.2)\n",
    "age = temp.age\n",
    "vol = temp.vol\n",
    "\n",
    "plt.plot(x,y)\n",
    "plt.scatter(age,vol,color='red',s=0.0001)"
   ]
  },
  {
   "cell_type": "markdown",
   "id": "18a30208",
   "metadata": {},
   "source": [
    " Now that we have our approximation functions and coefficients, we need to come up with a pipeline and some functions to go throught our data and generate the required information for each year. Lets remind oursleve of what our data looks like"
   ]
  },
  {
   "cell_type": "code",
   "execution_count": null,
   "id": "097db916",
   "metadata": {
    "ExecuteTime": {
     "end_time": "2023-11-26T06:17:55.206240200Z",
     "start_time": "2023-11-26T06:17:55.119228600Z"
    }
   },
   "outputs": [
    {
     "data": {
      "text/html": [
       "<div>\n",
       "<style scoped>\n",
       "    .dataframe tbody tr th:only-of-type {\n",
       "        vertical-align: middle;\n",
       "    }\n",
       "\n",
       "    .dataframe tbody tr th {\n",
       "        vertical-align: top;\n",
       "    }\n",
       "\n",
       "    .dataframe thead th {\n",
       "        text-align: right;\n",
       "    }\n",
       "</style>\n",
       "<table border=\"1\" class=\"dataframe\">\n",
       "  <thead>\n",
       "    <tr style=\"text-align: right;\">\n",
       "      <th></th>\n",
       "      <th>age_2001</th>\n",
       "      <th>age_2011</th>\n",
       "      <th>age_2019</th>\n",
       "      <th>year_harvested</th>\n",
       "      <th>vol_2001</th>\n",
       "      <th>vol_2011</th>\n",
       "      <th>vol_2015</th>\n",
       "      <th>lon</th>\n",
       "      <th>lat</th>\n",
       "      <th>geometry</th>\n",
       "      <th>year</th>\n",
       "      <th>month</th>\n",
       "      <th>day</th>\n",
       "      <th>area_intersect_perc</th>\n",
       "      <th>number_fires</th>\n",
       "    </tr>\n",
       "  </thead>\n",
       "  <tbody>\n",
       "    <tr>\n",
       "      <th>0</th>\n",
       "      <td>104.0</td>\n",
       "      <td>NaN</td>\n",
       "      <td>NaN</td>\n",
       "      <td>NaN</td>\n",
       "      <td>8.55</td>\n",
       "      <td>NaN</td>\n",
       "      <td>NaN</td>\n",
       "      <td>-84.890501</td>\n",
       "      <td>46.906052</td>\n",
       "      <td>POLYGON ((-84.88863710751139 46.90697579711416...</td>\n",
       "      <td>NaN</td>\n",
       "      <td>NaN</td>\n",
       "      <td>NaN</td>\n",
       "      <td>NaN</td>\n",
       "      <td>NaN</td>\n",
       "    </tr>\n",
       "    <tr>\n",
       "      <th>1</th>\n",
       "      <td>104.0</td>\n",
       "      <td>NaN</td>\n",
       "      <td>NaN</td>\n",
       "      <td>NaN</td>\n",
       "      <td>8.55</td>\n",
       "      <td>NaN</td>\n",
       "      <td>NaN</td>\n",
       "      <td>-84.885743</td>\n",
       "      <td>46.912303</td>\n",
       "      <td>POLYGON ((-84.88387922029249 46.91322718112671...</td>\n",
       "      <td>NaN</td>\n",
       "      <td>NaN</td>\n",
       "      <td>NaN</td>\n",
       "      <td>NaN</td>\n",
       "      <td>NaN</td>\n",
       "    </tr>\n",
       "    <tr>\n",
       "      <th>2</th>\n",
       "      <td>104.0</td>\n",
       "      <td>NaN</td>\n",
       "      <td>NaN</td>\n",
       "      <td>NaN</td>\n",
       "      <td>8.55</td>\n",
       "      <td>NaN</td>\n",
       "      <td>NaN</td>\n",
       "      <td>-84.887410</td>\n",
       "      <td>46.919261</td>\n",
       "      <td>POLYGON ((-84.88554623463179 46.92018483757417...</td>\n",
       "      <td>NaN</td>\n",
       "      <td>NaN</td>\n",
       "      <td>NaN</td>\n",
       "      <td>NaN</td>\n",
       "      <td>NaN</td>\n",
       "    </tr>\n",
       "    <tr>\n",
       "      <th>3</th>\n",
       "      <td>104.0</td>\n",
       "      <td>NaN</td>\n",
       "      <td>NaN</td>\n",
       "      <td>NaN</td>\n",
       "      <td>8.55</td>\n",
       "      <td>NaN</td>\n",
       "      <td>NaN</td>\n",
       "      <td>-84.884197</td>\n",
       "      <td>46.918908</td>\n",
       "      <td>POLYGON ((-84.88233307531861 46.91983171613633...</td>\n",
       "      <td>NaN</td>\n",
       "      <td>NaN</td>\n",
       "      <td>NaN</td>\n",
       "      <td>NaN</td>\n",
       "      <td>NaN</td>\n",
       "    </tr>\n",
       "    <tr>\n",
       "      <th>4</th>\n",
       "      <td>57.0</td>\n",
       "      <td>NaN</td>\n",
       "      <td>NaN</td>\n",
       "      <td>NaN</td>\n",
       "      <td>38.69</td>\n",
       "      <td>NaN</td>\n",
       "      <td>NaN</td>\n",
       "      <td>-84.748565</td>\n",
       "      <td>46.962634</td>\n",
       "      <td>POLYGON ((-84.74669588337325 46.96355596569322...</td>\n",
       "      <td>NaN</td>\n",
       "      <td>NaN</td>\n",
       "      <td>NaN</td>\n",
       "      <td>NaN</td>\n",
       "      <td>NaN</td>\n",
       "    </tr>\n",
       "  </tbody>\n",
       "</table>\n",
       "</div>"
      ],
      "text/plain": [
       "   age_2001  age_2011  age_2019  year_harvested  vol_2001  vol_2011  vol_2015  \\\n",
       "0     104.0       NaN       NaN             NaN      8.55       NaN       NaN   \n",
       "1     104.0       NaN       NaN             NaN      8.55       NaN       NaN   \n",
       "2     104.0       NaN       NaN             NaN      8.55       NaN       NaN   \n",
       "3     104.0       NaN       NaN             NaN      8.55       NaN       NaN   \n",
       "4      57.0       NaN       NaN             NaN     38.69       NaN       NaN   \n",
       "\n",
       "         lon        lat                                           geometry  \\\n",
       "0 -84.890501  46.906052  POLYGON ((-84.88863710751139 46.90697579711416...   \n",
       "1 -84.885743  46.912303  POLYGON ((-84.88387922029249 46.91322718112671...   \n",
       "2 -84.887410  46.919261  POLYGON ((-84.88554623463179 46.92018483757417...   \n",
       "3 -84.884197  46.918908  POLYGON ((-84.88233307531861 46.91983171613633...   \n",
       "4 -84.748565  46.962634  POLYGON ((-84.74669588337325 46.96355596569322...   \n",
       "\n",
       "  year month  day area_intersect_perc  number_fires  \n",
       "0  NaN   NaN  NaN                 NaN           NaN  \n",
       "1  NaN   NaN  NaN                 NaN           NaN  \n",
       "2  NaN   NaN  NaN                 NaN           NaN  \n",
       "3  NaN   NaN  NaN                 NaN           NaN  \n",
       "4  NaN   NaN  NaN                 NaN           NaN  "
      ]
     },
     "execution_count": 21,
     "metadata": {},
     "output_type": "execute_result"
    }
   ],
   "source": [
    "ON_forest_and_fires.head()"
   ]
  },
  {
   "cell_type": "markdown",
   "id": "82003d3a",
   "metadata": {},
   "source": [
    "We want a dunction that will loop through each row, and get the relevant data and boundary/initial conditions for interpolation. To make things easier, lets build one that will get the initial conditions (harves, and fires), one that will get the information for age and one for volume.\n",
    "\n",
    "   At the end, it would be ideal to have an array for each year that contains the age, volume, harvested or not, fire or not, and maybe percent burned to put in a  dataframe that looks like this, for each year"
   ]
  },
  {
   "cell_type": "code",
   "execution_count": null,
   "id": "48388ce8",
   "metadata": {
    "ExecuteTime": {
     "end_time": "2023-11-26T06:17:59.624874700Z",
     "start_time": "2023-11-26T06:17:59.551283Z"
    }
   },
   "outputs": [
    {
     "data": {
      "text/html": [
       "<div>\n",
       "<style scoped>\n",
       "    .dataframe tbody tr th:only-of-type {\n",
       "        vertical-align: middle;\n",
       "    }\n",
       "\n",
       "    .dataframe tbody tr th {\n",
       "        vertical-align: top;\n",
       "    }\n",
       "\n",
       "    .dataframe thead th {\n",
       "        text-align: right;\n",
       "    }\n",
       "</style>\n",
       "<table border=\"1\" class=\"dataframe\">\n",
       "  <thead>\n",
       "    <tr style=\"text-align: right;\">\n",
       "      <th></th>\n",
       "      <th>age</th>\n",
       "      <th>vol</th>\n",
       "      <th>harvested</th>\n",
       "      <th>burned</th>\n",
       "      <th>percent burned</th>\n",
       "    </tr>\n",
       "  </thead>\n",
       "  <tbody>\n",
       "  </tbody>\n",
       "</table>\n",
       "</div>"
      ],
      "text/plain": [
       "Empty DataFrame\n",
       "Columns: [age, vol, harvested, burned, percent burned]\n",
       "Index: []"
      ]
     },
     "execution_count": 22,
     "metadata": {},
     "output_type": "execute_result"
    }
   ],
   "source": [
    "pd.DataFrame(columns=['age','vol','harvested','burned','percent burned'])"
   ]
  },
  {
   "cell_type": "markdown",
   "id": "7207085d",
   "metadata": {},
   "source": [
    "Then, we will be able to look at each year, do some EDA, visualization and some machine learning to predict if a certain coordinate is succestible to a forest fire or not\n",
    "\n",
    "Lets get going with our pipeline. As we can see, we have lists in columns that we need to loop through. Therfore we will have to pass each row of the dataframe into a funciton to approximate the age. Set let's us numpy to a little faster. Lets generate a funciton that can take our nested list and generate and array of arrays."
   ]
  },
  {
   "cell_type": "code",
   "execution_count": 184,
   "metadata": {},
   "outputs": [],
   "source": [
    "def convert_to_float(value):\n",
    "    if isinstance(value, list):\n",
    "        return np.array(value, dtype=float)\n",
    "    elif isinstance(value, (int, float)):\n",
    "        return float(value)\n",
    "    else:\n",
    "        return np.nan \n"
   ]
  },
  {
   "cell_type": "markdown",
   "metadata": {},
   "source": [
    "The following age_forest funciton takes in each row of the dataframe and generates an array from 1 to 252 months (21 years) of an apporoximation of age, the distrubance factor (area burned), and weather or not a fire or harvest occured."
   ]
  },
  {
   "cell_type": "code",
   "execution_count": 34,
   "metadata": {},
   "outputs": [],
   "source": [
    "\n",
    "def age_forest(YEARS_1,YEARS_2,YEARS_3,HARVEST,FIREY,FIREM,DIST,NUMF,n_years,year_sep = 12):\n",
    "    \"\"\"\n",
    "    \"\"\"\n",
    "    n_years = n_years\n",
    "    m=1/12\n",
    "    inc = 1/12\n",
    "    #Firts condition is if there are no fires and no harvest\n",
    "    if (str(NUMF[0]) == 'nan') & (str(HARVEST[0]) == 'nan'):\n",
    "        set_years = np.array([1,121,217])\n",
    "        set_ages = np.append(np.append(YEARS_1,YEARS_2),YEARS_3)\n",
    "        b = linear_reg_fixed_slope(set_years,set_ages,m)\n",
    "        years = np.arange(1,n_years*12+1,1)\n",
    "        if str(b) != 'nan':\n",
    "            ages = (years*m+b)\n",
    "            harvested = np.zeros((n_years)*year_sep)\n",
    "            fires = np.zeros((n_years)*year_sep)\n",
    "            day = np.empty((n_years)*year_sep)\n",
    "            day[:] = np.nan\n",
    "            disturbance_weight = np.empty((n_years-1)*year_sep)\n",
    "            disturbance_weight[:] = np.nan\n",
    "            return ages,fires,harvested,disturbance_weight#,day,years\n",
    "        else:\n",
    "            ages = np.empty((n_years)*year_sep)\n",
    "            ages[:] = np.nan\n",
    "            harvested = np.zeros((n_years)*year_sep)\n",
    "            fires = np.zeros((n_years)*year_sep)\n",
    "            day = np.empty((n_years)*year_sep)\n",
    "            day[:] = np.nan\n",
    "            disturbance_weight = np.empty((n_years)*year_sep)\n",
    "            disturbance_weight[:] = np.nan\n",
    "            return ages,fires,harvested,disturbance_weight#,day,years\n",
    "        \n",
    "    #next condition is if it was not harvested, but fires occured\n",
    "    elif (str(NUMF[0]) != 'nan') | (str(HARVEST[0]) != 'nan'):\n",
    "        if str(HARVEST[0]) == 'nan':\n",
    "            disturbance_years= (FIREY%100)*12-12\n",
    "            disturbance_months = FIREM\n",
    "            disturbance_years_months = disturbance_years+disturbance_months\n",
    "            disturbance_factors = DIST\n",
    "            \n",
    "            disturbance_years_months, inv = np.unique(disturbance_years_months, return_inverse=True)      \n",
    "            temp_df = np.zeros(len(disturbance_years_months), dtype=disturbance_factors.dtype)\n",
    "            np.add.at(temp_df, inv, disturbance_factors)  \n",
    "            disturbance_factors=temp_df\n",
    "            \n",
    "\n",
    "            \n",
    "        elif str(NUMF[0]) == 'nan':\n",
    "            disturbance_years= (HARVEST%100)*12-12\n",
    "            disturbance_months = np.array([12])\n",
    "            disturbance_years_months = disturbance_years + disturbance_months\n",
    "            disturbance_factors = np.array([1])\n",
    "\n",
    "        else:\n",
    "            \n",
    "            disturbance_years= (np.append(FIREY%100,HARVEST%100))*12-12\n",
    "            disturbance_factors = np.append(DIST,1.0)\n",
    "            disturbance_months = np.append(FIREM,12)\n",
    "            \n",
    "            disturbance_years_months = disturbance_years+disturbance_months\n",
    "            \n",
    "            disturbance_years_months, inv = np.unique(disturbance_years_months, return_inverse=True)      \n",
    "            temp_df = np.zeros(len(disturbance_years_months), dtype=disturbance_factors.dtype)\n",
    "            np.add.at(temp_df, inv, disturbance_factors)  \n",
    "            disturbance_factors=temp_df\n",
    "\n",
    "\n",
    "        #Create arrays of 1 and 0 for fires and harvest, and the month/day for the fire\n",
    "        fires,harvested,disturbance_weight,day = [],[],[],[]\n",
    "        j=0\n",
    "        for i in np.arange(1,n_years*12+1,1):\n",
    "            \n",
    "            if i in disturbance_years_months.tolist():\n",
    "                if i == ((HARVEST%100)*12-12+12):\n",
    "                    harvested.append(1)\n",
    "                    fires.append(0)\n",
    "                    disturbance_weight.append(1)\n",
    "                else:\n",
    "                    fires.append(1)\n",
    "                    #day.append(data['day'])\n",
    "                    disturbance_weight.append(disturbance_factors[j])\n",
    "                    harvested.append(0)\n",
    "                    j = j+1\n",
    "            else:\n",
    "                fires.append(0)\n",
    "                harvested.append(0)\n",
    "                #day.append(np.nan)\n",
    "                disturbance_weight.append(np.nan)\n",
    "        year = 1\n",
    "        #print(\"Starting new pixel at age {}\".format(year))\n",
    "        j=0\n",
    "\n",
    "        #the next part of the funciton is what does the heavy lifting. It goes through all our \n",
    "        #coontraints in distrubance_year_months and generates the required avearged ages\n",
    "        #depending on the conditons within certain ranges.\n",
    "\n",
    "        for fire,area,month,i in zip(disturbance_years_months,disturbance_factors,disturbance_months,range(len(disturbance_years))):\n",
    "            \n",
    "\n",
    "            fire = float(fire)\n",
    "            area = float(area)\n",
    "            \n",
    "            if area > 1:\n",
    "                area = 0.9999\n",
    "                             \n",
    "            \n",
    "            if fire < 1:\n",
    "\n",
    "                j=0\n",
    "                continue\n",
    "            elif (fire >= 1) & (fire < 121):\n",
    "                if (i == 0) | (j==0):\n",
    "                    set_years=np.array([1])\n",
    "                    set_ages=YEARS_1\n",
    "                    b = linear_reg_fixed_slope(set_years,set_ages,m)\n",
    "                    if str(b) == 'nan':\n",
    "                        years = np.arange(year,fire,1)\n",
    "                        years[:] = np.nan\n",
    "                        ages = (years*m+b)\n",
    "                        year = fire\n",
    "                        year_age = np.nan\n",
    "                    else:\n",
    "                        years = np.arange(year,fire,1)\n",
    "                        ages = (years*m+b)\n",
    "                        year = fire\n",
    "                        year_age = int((fire*m+b)*(1-area))\n",
    "\n",
    "                    j=1\n",
    "\n",
    "                    continue\n",
    "                else:\n",
    "                    set_years=np.array([year])\n",
    "                    set_ages=np.array([year_age])\n",
    "                    b = linear_reg_fixed_slope(set_years,set_ages,m)\n",
    "                    if str(b) == 'nan':\n",
    "                        temp_years = np.arange(year,fire,1)\n",
    "                        temp_years[:] = np.nan\n",
    "                        years = np.append(years,temp_years)\n",
    "                        ages = (years*m+b)\n",
    "                        year = fire\n",
    "                        year_age = np.nan\n",
    "                    else:\n",
    "                        temp_years = np.arange(year,fire,1)\n",
    "                        years = np.append(years,temp_years)\n",
    "                        ages = np.append(ages,(temp_years*m+b))\n",
    "                        year = fire\n",
    "                        year_age = int((fire*m+b)*(1-area))\n",
    "\n",
    "                    j=1\n",
    "                    continue\n",
    "            \n",
    "            elif (fire >= 121) & (fire < 217):\n",
    "                if (i == 0) | (j==0):\n",
    "                    set_years=np.array([1,121])\n",
    "                    set_ages=np.append(YEARS_1,YEARS_2)\n",
    "                    b = linear_reg_fixed_slope(set_years,set_ages,m)\n",
    "                    if str(b) == 'nan':\n",
    "                        years = np.arange(year,fire,1)\n",
    "                        years[:] = np.nan\n",
    "                        ages = (years*m+b)\n",
    "                        year = fire\n",
    "                        year_age = np.nan\n",
    "                    else:\n",
    "                        years = np.arange(year,fire,1)\n",
    "                        ages = (years*m+b)\n",
    "                        year = fire\n",
    "                        year_age = int((fire*m+b)*(1-area))\n",
    "\n",
    "                    j=1\n",
    "                    continue\n",
    "                else:\n",
    "                    set_years=np.array([year])\n",
    "                    set_ages=np.array([year_age])\n",
    "                    b = linear_reg_fixed_slope(set_years,set_ages,m)\n",
    "                    if str(b) == 'nan':\n",
    "                        temp_years = np.arange(year,fire,1)\n",
    "                        temp_years[:] = np.nan\n",
    "                        years = np.append(years,temp_years)\n",
    "                        ages = (years*m+b)\n",
    "                        year = fire\n",
    "                        year_age = np.nan\n",
    "                    else:\n",
    "                        temp_years = np.arange(year,fire,1)\n",
    "                        years = np.append(years,temp_years)\n",
    "                        ages = np.append(ages,(temp_years*m+b))\n",
    "                        year = fire\n",
    "                        year_age = int((fire*m+b)*(1-area))\n",
    "\n",
    "                    j=1\n",
    "                    continue\n",
    "                \n",
    "            elif (fire >= 217) & (fire < (n_years*12+1)):\n",
    "                if (i == 0) | (j==0):\n",
    "                    set_years=np.array([1,121,217])\n",
    "                    set_ages=np.append(np.append(YEARS_1,YEARS_2),YEARS_3)\n",
    "                    b = linear_reg_fixed_slope(set_years,set_ages,m)\n",
    "                    if str(b) == 'nan':\n",
    "                        years = np.arange(year,fire,1)\n",
    "                        years[:] = np.nan\n",
    "                        ages = (years*m+b)\n",
    "                        year = fire\n",
    "                        year_age = np.nan\n",
    "                    else:\n",
    "                        years = np.arange(year,fire,1)\n",
    "                        ages = (years*m+b)\n",
    "                        year = fire\n",
    "                        year_age = int((fire*m+b)*(1-area))\n",
    "\n",
    "                    j=1\n",
    "                    continue\n",
    "                else:\n",
    "                    set_years=np.array([year])\n",
    "                    set_ages=np.array([year_age])\n",
    "                    b = linear_reg_fixed_slope(set_years,set_ages,m)\n",
    "                    if str(b) == 'nan':\n",
    "                        temp_years = np.arange(year,fire,1)\n",
    "                        temp_years[:] = np.nan\n",
    "                        years = np.append(years,temp_years)\n",
    "                        ages = (years*m+b)\n",
    "                        year = fire\n",
    "                        year_age = np.nan\n",
    "                    else:\n",
    "                        temp_years = np.arange(year,fire,1)\n",
    "                        years = np.append(years,temp_years)\n",
    "                        ages = np.append(ages,(temp_years*m+b))\n",
    "                        year = fire\n",
    "                        year_age = int((fire*m+b)*(1-area))\n",
    "\n",
    "                    j=1\n",
    "                    continue\n",
    "                \n",
    "        #Once we have gone through all the distrubances, the rest of the funciton approximate the \n",
    "        #remaining age.\n",
    "        \n",
    "        if year < 121:\n",
    "            set_years=np.array([year,121,217])\n",
    "            set_ages=np.append(year_age,np.append(YEARS_2,YEARS_3))\n",
    "            b = linear_reg_fixed_slope(set_years,set_ages,m)\n",
    "            temp_years = np.arange(year,n_years*12+1,1)\n",
    "            years = np.append(years,temp_years)\n",
    "            ages = np.append(ages,(temp_years*m+b))\n",
    "        elif (year >= 121) & (year < 217):\n",
    "\n",
    "            set_years=np.array([year,217])\n",
    "            set_ages=np.append(year_age,YEARS_3)\n",
    "            b = linear_reg_fixed_slope(set_years,set_ages,m)\n",
    "            temp_years = np.arange(year,n_years*12+1,1)\n",
    "            years = np.append(years,temp_years)\n",
    "            ages = np.append(ages,(temp_years*m+b))\n",
    "        elif (year >= 217) & (year < (n_years*12+1)):\n",
    "\n",
    "            set_years=np.array([year])\n",
    "            set_ages=np.array(year_age)\n",
    "            b = linear_reg_fixed_slope(set_years,set_ages,m)\n",
    "            temp_years = np.arange(year,n_years*12+1,1)\n",
    "            years = np.append(years,temp_years)\n",
    "            ages = np.append(ages,(temp_years*m+b))\n",
    "\n",
    "  \n",
    "        return ages,fires,harvested,disturbance_weight#,day,years  \n",
    "    \n",
    "    \n",
    "    "
   ]
  },
  {
   "cell_type": "markdown",
   "metadata": {},
   "source": [
    "We can now use list comprehension to speed up our code a bit. At the end of a certain number or rows, the cvolume is calculated based on our predicted coefficients a,b,m and the approximated age. The data is then saved due to memory storage."
   ]
  },
  {
   "cell_type": "code",
   "execution_count": null,
   "metadata": {},
   "outputs": [],
   "source": [
    "pixels = 15000000\n",
    "num_blocks = 30\n",
    "inter = 500000\n",
    "ages,fires,harvests,dists = [],[],[],[]\n",
    "for j in range(0,num_blocks):\n",
    "\n",
    "    if j == (num_blocks-1):\n",
    "        data = ON_forest_and_fires.iloc[j*inter:,:]\n",
    "    elif j == 0:\n",
    "        data = ON_forest_and_fires.iloc[j:inter,:]\n",
    "    else:\n",
    "        data = ON_forest_and_fires.iloc[j*inter:inter*(j+1),:]\n",
    "    \n",
    "    result = list(zip(*[age_forest(arr1,arr2,arr3,arr4,arr5,arr6,arr7,arr8,arr9,arr10)\\\n",
    "           for arr1, arr2, arr3, arr4, arr5, arr6, arr7, arr8, arr9, arr10\\\n",
    "              in zip(list(data['age_2001'].apply(convert_to_float)),\n",
    "                     list(data['age_2011'].apply(convert_to_float)),\n",
    "                     list(data['age_2019'].apply(convert_to_float)),\n",
    "                     list(data['year_harvested'].apply(convert_to_float)),\n",
    "                     list(data['year'].apply(convert_to_float)),\n",
    "                     list(data['month'].apply(convert_to_float)),\n",
    "                     list(data['area_intersect_perc'].apply(convert_to_float)),\n",
    "                     list(data['number_fires'].apply(convert_to_float)),\n",
    "                     np.full(len(data),21),\n",
    "                     np.full(len(data),12))]))\n",
    "    print(\"done block \",j)\n",
    "    age,fire,harvest,dist = result\n",
    "\n",
    "\n",
    "    \n",
    "    vol = vol_forest(np.vstack(age),a,b,m)\n",
    "    path = r\"I:\\CME538 Project\\processed data ontario only\\250m\\Approximations\\mod\\\\\"\n",
    "    col = list(np.arange(1,253,1).astype(str))\n",
    "    pd.DataFrame(age,columns=col).to_feather(path+\"ages_\"+str(j)+\".feather\")\n",
    "    pd.DataFrame(fire,columns=col).to_feather(path+\"fires_\"+str(j)+\".feather\")\n",
    "    pd.DataFrame(vol,columns=col).to_feather(path+\"vols_\"+str(j)+\".feather\")\n",
    "    pd.DataFrame(harvest,columns=col).to_feather(path+\"harvested_\"+str(j)+\".feather\")\n",
    "    pd.DataFrame(dist,columns=col).to_feather(path+\"disturbanceweight_\"+str(j)+\".feather\")\n",
    "    print(\"files are out\")\n",
    "\n",
    "\n"
   ]
  }
 ],
 "metadata": {
  "kernelspec": {
   "display_name": "Python 3 (ipykernel)",
   "language": "python",
   "name": "python3"
  },
  "language_info": {
   "codemirror_mode": {
    "name": "ipython",
    "version": 3
   },
   "file_extension": ".py",
   "mimetype": "text/x-python",
   "name": "python",
   "nbconvert_exporter": "python",
   "pygments_lexer": "ipython3",
   "version": "3.11.5"
  }
 },
 "nbformat": 4,
 "nbformat_minor": 5
}
