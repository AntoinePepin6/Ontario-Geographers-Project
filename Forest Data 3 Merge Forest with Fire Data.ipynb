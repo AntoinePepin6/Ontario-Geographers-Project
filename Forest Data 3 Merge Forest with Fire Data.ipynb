{
 "cells": [
  {
   "cell_type": "markdown",
   "id": "eaa6bba2",
   "metadata": {},
   "source": [
    "# Forest and Fire Data 1: Forest and Fire Data Merging/Interpolation\n",
    "## Overview of Notebook\n",
    "This notebook takes the compiled Ontario Forest Data within the Ontario boundary, and outputs a final dataframe that is modified to make better used of the data in the dataframe.\n",
    "\n",
    "## 1) Import Modules and Packages"
   ]
  },
  {
   "cell_type": "code",
   "execution_count": 3,
   "id": "b60dc6dd",
   "metadata": {
    "ExecuteTime": {
     "end_time": "2023-11-25T16:35:35.251256500Z",
     "start_time": "2023-11-25T16:35:33.122120300Z"
    }
   },
   "outputs": [],
   "source": [
    "import os\n",
    "import pandas as pd\n",
    "import geopandas as gpd\n",
    "import numpy as np\n",
    "import matplotlib.pyplot as plt\n",
    "import itertools"
   ]
  },
  {
   "cell_type": "markdown",
   "id": "090e70ef",
   "metadata": {},
   "source": [
    "## 2) Get Path and Data\n",
    "Here we will open both the Ontario Forest Data DataFrame and the Ontario Boundary shapfile. The latter will be used as a visual tool for plotting when needed."
   ]
  },
  {
   "cell_type": "code",
   "execution_count": 4,
   "id": "59be97a9",
   "metadata": {
    "ExecuteTime": {
     "end_time": "2023-11-25T16:35:35.261370300Z",
     "start_time": "2023-11-25T16:35:35.253882100Z"
    }
   },
   "outputs": [],
   "source": [
    "path = r\"I:\\CME538 Project\\CME538 Project\\processed data ontario only\\250m\""
   ]
  },
  {
   "cell_type": "code",
   "execution_count": 5,
   "id": "1d9e3d45",
   "metadata": {
    "ExecuteTime": {
     "end_time": "2023-11-25T16:35:35.335765800Z",
     "start_time": "2023-11-25T16:35:35.257381400Z"
    }
   },
   "outputs": [
    {
     "data": {
      "text/plain": "['ONage2001_250m',\n 'ONage2001_250m.tif',\n 'ONage2001_250m.tif.aux.xml',\n 'ONage2011_250m',\n 'ONage2011_250m.tif',\n 'ONage2011_250m.tif.aux.xml',\n 'Onage2019_250m',\n 'Onage2019_250m.tif',\n 'Onage2019_250m.tif.aux.xml',\n 'ONharvest1985_2020_250m',\n 'ONharvest1985_2020_250m.tif',\n 'ONharvest1985_2020_250m.tif.aux.xml',\n 'Ontario_fire_in_forest_coordinates.csv.gz',\n 'Ontario_Forest_Data.csv.gz',\n 'Ontario_Forest_Data_Points.csv.gz',\n 'ONvol2001_250m',\n 'ONvol2001_250m.tif',\n 'ONvol2001_250m.tif.aux.xml',\n 'ONvol2011_250m',\n 'ONvol2011_250m.tif',\n 'ONvol2011_250m.tif.aux.xml',\n 'ONvol2015_250m',\n 'ONvol2015_250m.tif',\n 'ONvol2015_250m.tif.aux.xml',\n 'ON_forest_and_fires.csv.gz']"
     },
     "execution_count": 5,
     "metadata": {},
     "output_type": "execute_result"
    }
   ],
   "source": [
    "os.listdir(path)"
   ]
  },
  {
   "cell_type": "code",
   "execution_count": 12,
   "id": "14f1727f",
   "metadata": {
    "ExecuteTime": {
     "end_time": "2023-11-24T21:28:22.565461400Z",
     "start_time": "2023-11-24T21:28:22.533821Z"
    }
   },
   "outputs": [
    {
     "data": {
      "text/plain": "['Ontario_fire_in_forest_coordinates.csv.gz',\n 'Ontario_Forest_Data.csv.gz',\n 'Ontario_Forest_Data_Points.csv.gz']"
     },
     "execution_count": 12,
     "metadata": {},
     "output_type": "execute_result"
    }
   ],
   "source": [
    "filenames = os.listdir(path)[12:15]\n",
    "filenames"
   ]
  },
  {
   "cell_type": "code",
   "execution_count": 13,
   "id": "47c10573",
   "metadata": {
    "ExecuteTime": {
     "end_time": "2023-11-24T21:28:22.889703Z",
     "start_time": "2023-11-24T21:28:22.765351400Z"
    }
   },
   "outputs": [],
   "source": [
    "ON_boundary = gpd.read_file(r\"I:\\CME538 Project\\CME538 Project\\ontario boundary\\Province\\Province.shp\")"
   ]
  },
  {
   "cell_type": "code",
   "execution_count": 14,
   "id": "030e759c",
   "metadata": {
    "ExecuteTime": {
     "end_time": "2023-11-24T21:28:23.013325600Z",
     "start_time": "2023-11-24T21:28:22.975937800Z"
    }
   },
   "outputs": [],
   "source": [
    "ON_boundary = ON_boundary.to_crs(4269)"
   ]
  },
  {
   "cell_type": "code",
   "execution_count": 15,
   "id": "7d551a0f",
   "metadata": {
    "ExecuteTime": {
     "end_time": "2023-11-24T21:28:23.334170900Z",
     "start_time": "2023-11-24T21:28:23.147836600Z"
    }
   },
   "outputs": [
    {
     "data": {
      "text/plain": "<Axes: >"
     },
     "execution_count": 15,
     "metadata": {},
     "output_type": "execute_result"
    },
    {
     "data": {
      "text/plain": "<Figure size 640x480 with 1 Axes>",
      "image/png": "[encoded data removed]"
     },
     "metadata": {},
     "output_type": "display_data"
    }
   ],
   "source": [
    "ON_boundary.plot()"
   ]
  },
  {
   "cell_type": "code",
   "execution_count": 16,
   "id": "d44fa996",
   "metadata": {
    "ExecuteTime": {
     "end_time": "2023-11-24T21:30:04.467018800Z",
     "start_time": "2023-11-24T21:28:23.994396Z"
    }
   },
   "outputs": [
    {
     "data": {
      "text/plain": "   age_2001  age_2011  age_2019  year_harvested  vol_2001  vol_2011  vol_2015  \\\n0     104.0       NaN       NaN             NaN      8.55       NaN       NaN   \n1     104.0       NaN       NaN             NaN      8.55       NaN       NaN   \n2     104.0       NaN       NaN             NaN      8.55       NaN       NaN   \n3     104.0       NaN       NaN             NaN      8.55       NaN       NaN   \n4      57.0       NaN       NaN             NaN     38.69       NaN       NaN   \n\n         lon        lat                                           geometry  \\\n0 -84.890501  46.906052  POLYGON ((-84.88863710751139 46.90697579711416...   \n1 -84.885743  46.912303  POLYGON ((-84.88387922029249 46.91322718112671...   \n2 -84.887410  46.919261  POLYGON ((-84.88554623463179 46.92018483757417...   \n3 -84.884197  46.918908  POLYGON ((-84.88233307531861 46.91983171613633...   \n4 -84.748565  46.962634  POLYGON ((-84.74669588337325 46.96355596569322...   \n\n        lon1       lon2       lon3       lon4       lat1       lat2  \\\n0 -84.888637 -84.889152 -84.892364 -84.891849 -84.888637 -84.889152   \n1 -84.883879 -84.884394 -84.887607 -84.887092 -84.883879 -84.884394   \n2 -84.885546 -84.886062 -84.889275 -84.888759 -84.885546 -84.886062   \n3 -84.882333 -84.882849 -84.886062 -84.885546 -84.882333 -84.882849   \n4 -84.746696 -84.747219 -84.750434 -84.749911 -84.746696 -84.747219   \n\n        lat3       lat4  \n0 -84.892364 -84.891849  \n1 -84.887607 -84.887092  \n2 -84.889275 -84.888759  \n3 -84.886062 -84.885546  \n4 -84.750434 -84.749911  ",
      "text/html": "<div>\n<style scoped>\n    .dataframe tbody tr th:only-of-type {\n        vertical-align: middle;\n    }\n\n    .dataframe tbody tr th {\n        vertical-align: top;\n    }\n\n    .dataframe thead th {\n        text-align: right;\n    }\n</style>\n<table border=\"1\" class=\"dataframe\">\n  <thead>\n    <tr style=\"text-align: right;\">\n      <th></th>\n      <th>age_2001</th>\n      <th>age_2011</th>\n      <th>age_2019</th>\n      <th>year_harvested</th>\n      <th>vol_2001</th>\n      <th>vol_2011</th>\n      <th>vol_2015</th>\n      <th>lon</th>\n      <th>lat</th>\n      <th>geometry</th>\n      <th>lon1</th>\n      <th>lon2</th>\n      <th>lon3</th>\n      <th>lon4</th>\n      <th>lat1</th>\n      <th>lat2</th>\n      <th>lat3</th>\n      <th>lat4</th>\n    </tr>\n  </thead>\n  <tbody>\n    <tr>\n      <th>0</th>\n      <td>104.0</td>\n      <td>NaN</td>\n      <td>NaN</td>\n      <td>NaN</td>\n      <td>8.55</td>\n      <td>NaN</td>\n      <td>NaN</td>\n      <td>-84.890501</td>\n      <td>46.906052</td>\n      <td>POLYGON ((-84.88863710751139 46.90697579711416...</td>\n      <td>-84.888637</td>\n      <td>-84.889152</td>\n      <td>-84.892364</td>\n      <td>-84.891849</td>\n      <td>-84.888637</td>\n      <td>-84.889152</td>\n      <td>-84.892364</td>\n      <td>-84.891849</td>\n    </tr>\n    <tr>\n      <th>1</th>\n      <td>104.0</td>\n      <td>NaN</td>\n      <td>NaN</td>\n      <td>NaN</td>\n      <td>8.55</td>\n      <td>NaN</td>\n      <td>NaN</td>\n      <td>-84.885743</td>\n      <td>46.912303</td>\n      <td>POLYGON ((-84.88387922029249 46.91322718112671...</td>\n      <td>-84.883879</td>\n      <td>-84.884394</td>\n      <td>-84.887607</td>\n      <td>-84.887092</td>\n      <td>-84.883879</td>\n      <td>-84.884394</td>\n      <td>-84.887607</td>\n      <td>-84.887092</td>\n    </tr>\n    <tr>\n      <th>2</th>\n      <td>104.0</td>\n      <td>NaN</td>\n      <td>NaN</td>\n      <td>NaN</td>\n      <td>8.55</td>\n      <td>NaN</td>\n      <td>NaN</td>\n      <td>-84.887410</td>\n      <td>46.919261</td>\n      <td>POLYGON ((-84.88554623463179 46.92018483757417...</td>\n      <td>-84.885546</td>\n      <td>-84.886062</td>\n      <td>-84.889275</td>\n      <td>-84.888759</td>\n      <td>-84.885546</td>\n      <td>-84.886062</td>\n      <td>-84.889275</td>\n      <td>-84.888759</td>\n    </tr>\n    <tr>\n      <th>3</th>\n      <td>104.0</td>\n      <td>NaN</td>\n      <td>NaN</td>\n      <td>NaN</td>\n      <td>8.55</td>\n      <td>NaN</td>\n      <td>NaN</td>\n      <td>-84.884197</td>\n      <td>46.918908</td>\n      <td>POLYGON ((-84.88233307531861 46.91983171613633...</td>\n      <td>-84.882333</td>\n      <td>-84.882849</td>\n      <td>-84.886062</td>\n      <td>-84.885546</td>\n      <td>-84.882333</td>\n      <td>-84.882849</td>\n      <td>-84.886062</td>\n      <td>-84.885546</td>\n    </tr>\n    <tr>\n      <th>4</th>\n      <td>57.0</td>\n      <td>NaN</td>\n      <td>NaN</td>\n      <td>NaN</td>\n      <td>38.69</td>\n      <td>NaN</td>\n      <td>NaN</td>\n      <td>-84.748565</td>\n      <td>46.962634</td>\n      <td>POLYGON ((-84.74669588337325 46.96355596569322...</td>\n      <td>-84.746696</td>\n      <td>-84.747219</td>\n      <td>-84.750434</td>\n      <td>-84.749911</td>\n      <td>-84.746696</td>\n      <td>-84.747219</td>\n      <td>-84.750434</td>\n      <td>-84.749911</td>\n    </tr>\n  </tbody>\n</table>\n</div>"
     },
     "execution_count": 16,
     "metadata": {},
     "output_type": "execute_result"
    }
   ],
   "source": [
    "ON_forest = pd.read_csv(path+\"\\\\\"+filenames[2],compression='gzip',index_col=0)\n",
    "ON_forest.head()"
   ]
  },
  {
   "cell_type": "code",
   "execution_count": 17,
   "id": "8c606166",
   "metadata": {
    "ExecuteTime": {
     "end_time": "2023-11-24T21:30:04.474262300Z",
     "start_time": "2023-11-24T21:30:04.463004Z"
    }
   },
   "outputs": [
    {
     "name": "stdout",
     "output_type": "stream",
     "text": [
      "<class 'pandas.core.frame.DataFrame'>\n",
      "Index: 15123785 entries, 0 to 15123784\n",
      "Data columns (total 18 columns):\n",
      " #   Column          Dtype  \n",
      "---  ------          -----  \n",
      " 0   age_2001        float64\n",
      " 1   age_2011        float64\n",
      " 2   age_2019        float64\n",
      " 3   year_harvested  float64\n",
      " 4   vol_2001        float64\n",
      " 5   vol_2011        float64\n",
      " 6   vol_2015        float64\n",
      " 7   lon             float64\n",
      " 8   lat             float64\n",
      " 9   geometry        object \n",
      " 10  lon1            float64\n",
      " 11  lon2            float64\n",
      " 12  lon3            float64\n",
      " 13  lon4            float64\n",
      " 14  lat1            float64\n",
      " 15  lat2            float64\n",
      " 16  lat3            float64\n",
      " 17  lat4            float64\n",
      "dtypes: float64(17), object(1)\n",
      "memory usage: 2.1+ GB\n"
     ]
    }
   ],
   "source": [
    "ON_forest.info()"
   ]
  },
  {
   "cell_type": "markdown",
   "id": "6fbe578c",
   "metadata": {},
   "source": [
    "We can acually drop the lat and lon columns for the poly shape (the last 8 columns) "
   ]
  },
  {
   "cell_type": "code",
   "execution_count": null,
   "id": "b8828551",
   "metadata": {
    "ExecuteTime": {
     "end_time": "2023-11-24T21:28:19.367555500Z",
     "start_time": "2023-11-24T21:28:19.362569Z"
    }
   },
   "outputs": [],
   "source": [
    "ON_forest.drop(columns=['lon1','lon2','lon3','lon4','lat1','lat2','lat3','lat4'],inplace=True)"
   ]
  },
  {
   "cell_type": "code",
   "execution_count": null,
   "id": "ee13112a",
   "metadata": {
    "ExecuteTime": {
     "start_time": "2023-11-24T21:28:19.364563300Z"
    }
   },
   "outputs": [],
   "source": [
    "ON_fire = pd.read_csv(path+\"\\\\\"+filenames[0],index_col=0)\n",
    "ON_fire.head()"
   ]
  },
  {
   "cell_type": "code",
   "execution_count": 73,
   "id": "28952675",
   "metadata": {},
   "outputs": [
    {
     "name": "stdout",
     "output_type": "stream",
     "text": [
      "<class 'pandas.core.frame.DataFrame'>\n",
      "Index: 563882 entries, 232 to 15091524\n",
      "Data columns (total 34 columns):\n",
      " #   Column               Non-Null Count   Dtype  \n",
      "---  ------               --------------   -----  \n",
      " 0   index                563882 non-null  int64  \n",
      " 1   SRC_AGENCY           563882 non-null  object \n",
      " 2   FIRE_ID              563882 non-null  object \n",
      " 3   FIRENAME             2139 non-null    object \n",
      " 4   LATITUDE             563882 non-null  float64\n",
      " 5   LONGITUDE            563882 non-null  float64\n",
      " 6   YEAR                 563882 non-null  int64  \n",
      " 7   MONTH                563882 non-null  int64  \n",
      " 8   DAY                  563882 non-null  int64  \n",
      " 9   REP_DATE             563781 non-null  object \n",
      " 10  ATTK_DATE            49888 non-null   object \n",
      " 11  OUT_DATE             563814 non-null  object \n",
      " 12  DECADE               563882 non-null  object \n",
      " 13  SIZE_HA              563882 non-null  float64\n",
      " 14  CAUSE                563882 non-null  object \n",
      " 15  PROTZONE             437611 non-null  object \n",
      " 16  FIRE_TYPE            350927 non-null  object \n",
      " 17  MORE_INFO            78441 non-null   object \n",
      " 18  CFS_REF_ID           563882 non-null  object \n",
      " 19  CFS_NOTE1            296265 non-null  object \n",
      " 20  CFS_NOTE2            0 non-null       float64\n",
      " 21  ACQ_DATE             563882 non-null  object \n",
      " 22  SRC_AGY2             563882 non-null  object \n",
      " 23  ECOZONE              563882 non-null  int64  \n",
      " 24  ECOZ_REF             563882 non-null  object \n",
      " 25  ECOZ_NAME            563882 non-null  object \n",
      " 26  ECOZ_NOM             563882 non-null  object \n",
      " 27  point_geometry       563882 non-null  object \n",
      " 28  area_sqm             563882 non-null  float64\n",
      " 29  buffer_radius        563882 non-null  float64\n",
      " 30  buffer_geometry      563882 non-null  object \n",
      " 31  pixel_geometry       563882 non-null  object \n",
      " 32  area_intersect       563882 non-null  float64\n",
      " 33  area_intersect_perc  563882 non-null  float64\n",
      "dtypes: float64(8), int64(5), object(21)\n",
      "memory usage: 150.6+ MB\n"
     ]
    }
   ],
   "source": [
    "ON_fire.info()"
   ]
  },
  {
   "cell_type": "markdown",
   "id": "b6003303",
   "metadata": {},
   "source": [
    "## 3) Exploring and Modifying the Fire Data "
   ]
  },
  {
   "cell_type": "markdown",
   "id": "f97948cf",
   "metadata": {},
   "source": [
    "The ON_fire dataframe consists of fire data that were spatially joined to our current forest pixel grid. This one done sjoinging the forest data onto the fire data. A buffer polygon was created based on the area of the fire, centered at its cendroid. Then the joinging was done to see how many of our 250mx250m pixels coordinates intersected with the fire area polygon. We can now map the fires based on there areas on our coordinate grid. \n",
    "\n",
    "So the important geometry to keep for the ON_fire data is the last geometry column, which is the same grid as our fores data."
   ]
  },
  {
   "cell_type": "code",
   "execution_count": 74,
   "id": "ebc0fb40",
   "metadata": {},
   "outputs": [
    {
     "data": {
      "text/plain": [
       "Index(['index', 'SRC_AGENCY', 'FIRE_ID', 'FIRENAME', 'LATITUDE', 'LONGITUDE',\n",
       "       'YEAR', 'MONTH', 'DAY', 'REP_DATE', 'ATTK_DATE', 'OUT_DATE', 'DECADE',\n",
       "       'SIZE_HA', 'CAUSE', 'PROTZONE', 'FIRE_TYPE', 'MORE_INFO', 'CFS_REF_ID',\n",
       "       'CFS_NOTE1', 'CFS_NOTE2', 'ACQ_DATE', 'SRC_AGY2', 'ECOZONE', 'ECOZ_REF',\n",
       "       'ECOZ_NAME', 'ECOZ_NOM', 'point_geometry', 'area_sqm', 'buffer_radius',\n",
       "       'buffer_geometry', 'pixel_geometry', 'area_intersect',\n",
       "       'area_intersect_perc'],\n",
       "      dtype='object')"
      ]
     },
     "execution_count": 74,
     "metadata": {},
     "output_type": "execute_result"
    }
   ],
   "source": [
    "ON_fire.columns"
   ]
  },
  {
   "cell_type": "markdown",
   "id": "b6888cf2",
   "metadata": {},
   "source": [
    "We can get rid of some columns that we may not need like:\n",
    "- Unamed: 0\n",
    "- point_geometry\n",
    "- buffer_geometry\n",
    "- buffer_radius\n",
    "- index_right"
   ]
  },
  {
   "cell_type": "code",
   "execution_count": 75,
   "id": "a90c903f",
   "metadata": {},
   "outputs": [],
   "source": [
    "ON_fire.drop(columns=['point_geometry', 'buffer_radius', 'buffer_geometry'],inplace=True)"
   ]
  },
  {
   "cell_type": "markdown",
   "id": "de265f30",
   "metadata": {},
   "source": [
    "Let rename the lat,lon, LATITUDE and LONGITUDE columns to something better, and uncapitalize all the columns"
   ]
  },
  {
   "cell_type": "code",
   "execution_count": 76,
   "id": "563bfeb7",
   "metadata": {},
   "outputs": [
    {
     "data": {
      "text/html": [
       "<div>\n",
       "<style scoped>\n",
       "    .dataframe tbody tr th:only-of-type {\n",
       "        vertical-align: middle;\n",
       "    }\n",
       "\n",
       "    .dataframe tbody tr th {\n",
       "        vertical-align: top;\n",
       "    }\n",
       "\n",
       "    .dataframe thead th {\n",
       "        text-align: right;\n",
       "    }\n",
       "</style>\n",
       "<table border=\"1\" class=\"dataframe\">\n",
       "  <thead>\n",
       "    <tr style=\"text-align: right;\">\n",
       "      <th></th>\n",
       "      <th>index</th>\n",
       "      <th>src_agency</th>\n",
       "      <th>fire_id</th>\n",
       "      <th>firename</th>\n",
       "      <th>original_lat</th>\n",
       "      <th>original_lon</th>\n",
       "      <th>year</th>\n",
       "      <th>month</th>\n",
       "      <th>day</th>\n",
       "      <th>rep_date</th>\n",
       "      <th>...</th>\n",
       "      <th>acq_date</th>\n",
       "      <th>src_agy2</th>\n",
       "      <th>ecozone</th>\n",
       "      <th>ecoz_ref</th>\n",
       "      <th>ecoz_name</th>\n",
       "      <th>ecoz_nom</th>\n",
       "      <th>area_sqm</th>\n",
       "      <th>pixel_geometry</th>\n",
       "      <th>area_intersect</th>\n",
       "      <th>area_intersect_perc</th>\n",
       "    </tr>\n",
       "    <tr>\n",
       "      <th>index_right</th>\n",
       "      <th></th>\n",
       "      <th></th>\n",
       "      <th></th>\n",
       "      <th></th>\n",
       "      <th></th>\n",
       "      <th></th>\n",
       "      <th></th>\n",
       "      <th></th>\n",
       "      <th></th>\n",
       "      <th></th>\n",
       "      <th></th>\n",
       "      <th></th>\n",
       "      <th></th>\n",
       "      <th></th>\n",
       "      <th></th>\n",
       "      <th></th>\n",
       "      <th></th>\n",
       "      <th></th>\n",
       "      <th></th>\n",
       "      <th></th>\n",
       "      <th></th>\n",
       "    </tr>\n",
       "  </thead>\n",
       "  <tbody>\n",
       "    <tr>\n",
       "      <th>232</th>\n",
       "      <td>9490</td>\n",
       "      <td>ON</td>\n",
       "      <td>SAU4</td>\n",
       "      <td>NaN</td>\n",
       "      <td>47.013000</td>\n",
       "      <td>-84.775200</td>\n",
       "      <td>2010</td>\n",
       "      <td>4</td>\n",
       "      <td>1</td>\n",
       "      <td>2010-04-01</td>\n",
       "      <td>...</td>\n",
       "      <td>2020-04-03</td>\n",
       "      <td>ON</td>\n",
       "      <td>6</td>\n",
       "      <td>6b</td>\n",
       "      <td>Boreal Shield East</td>\n",
       "      <td>Bouclier bordal</td>\n",
       "      <td>5000.0</td>\n",
       "      <td>POLYGON ((6742553.429325026 1237567.62007252, ...</td>\n",
       "      <td>4991.971965</td>\n",
       "      <td>0.079872</td>\n",
       "    </tr>\n",
       "    <tr>\n",
       "      <th>1222</th>\n",
       "      <td>19897</td>\n",
       "      <td>ON</td>\n",
       "      <td>WAW14</td>\n",
       "      <td>NaN</td>\n",
       "      <td>48.301409</td>\n",
       "      <td>-86.152606</td>\n",
       "      <td>2021</td>\n",
       "      <td>7</td>\n",
       "      <td>20</td>\n",
       "      <td>2021-07-20</td>\n",
       "      <td>...</td>\n",
       "      <td>2022-04-11</td>\n",
       "      <td>ON</td>\n",
       "      <td>6</td>\n",
       "      <td>6b</td>\n",
       "      <td>Boreal Shield East</td>\n",
       "      <td>Bouclier bordal</td>\n",
       "      <td>2000.0</td>\n",
       "      <td>POLYGON ((6624707.836761105 1370531.8213195344...</td>\n",
       "      <td>368.653991</td>\n",
       "      <td>0.005898</td>\n",
       "    </tr>\n",
       "    <tr>\n",
       "      <th>1224</th>\n",
       "      <td>19897</td>\n",
       "      <td>ON</td>\n",
       "      <td>WAW14</td>\n",
       "      <td>NaN</td>\n",
       "      <td>48.301409</td>\n",
       "      <td>-86.152606</td>\n",
       "      <td>2021</td>\n",
       "      <td>7</td>\n",
       "      <td>20</td>\n",
       "      <td>2021-07-20</td>\n",
       "      <td>...</td>\n",
       "      <td>2022-04-11</td>\n",
       "      <td>ON</td>\n",
       "      <td>6</td>\n",
       "      <td>6b</td>\n",
       "      <td>Boreal Shield East</td>\n",
       "      <td>Bouclier bordal</td>\n",
       "      <td>2000.0</td>\n",
       "      <td>POLYGON ((6624695.5263683535 1370282.124595029...</td>\n",
       "      <td>1628.134795</td>\n",
       "      <td>0.026050</td>\n",
       "    </tr>\n",
       "    <tr>\n",
       "      <th>3409</th>\n",
       "      <td>8574</td>\n",
       "      <td>ON</td>\n",
       "      <td>WAW42</td>\n",
       "      <td>NaN</td>\n",
       "      <td>47.753600</td>\n",
       "      <td>-85.887200</td>\n",
       "      <td>2006</td>\n",
       "      <td>7</td>\n",
       "      <td>22</td>\n",
       "      <td>2006-07-22</td>\n",
       "      <td>...</td>\n",
       "      <td>2020-04-03</td>\n",
       "      <td>ON</td>\n",
       "      <td>6</td>\n",
       "      <td>6b</td>\n",
       "      <td>Boreal Shield East</td>\n",
       "      <td>Bouclier bordal</td>\n",
       "      <td>5000.0</td>\n",
       "      <td>POLYGON ((6650067.555512638 1311211.10685281, ...</td>\n",
       "      <td>2991.405964</td>\n",
       "      <td>0.047862</td>\n",
       "    </tr>\n",
       "    <tr>\n",
       "      <th>3412</th>\n",
       "      <td>8574</td>\n",
       "      <td>ON</td>\n",
       "      <td>WAW42</td>\n",
       "      <td>NaN</td>\n",
       "      <td>47.753600</td>\n",
       "      <td>-85.887200</td>\n",
       "      <td>2006</td>\n",
       "      <td>7</td>\n",
       "      <td>22</td>\n",
       "      <td>2006-07-22</td>\n",
       "      <td>...</td>\n",
       "      <td>2020-04-03</td>\n",
       "      <td>ON</td>\n",
       "      <td>6</td>\n",
       "      <td>6b</td>\n",
       "      <td>Boreal Shield East</td>\n",
       "      <td>Bouclier bordal</td>\n",
       "      <td>5000.0</td>\n",
       "      <td>POLYGON ((6650079.865905387 1311460.8035773216...</td>\n",
       "      <td>2000.566001</td>\n",
       "      <td>0.032009</td>\n",
       "    </tr>\n",
       "  </tbody>\n",
       "</table>\n",
       "<p>5 rows × 31 columns</p>\n",
       "</div>"
      ],
      "text/plain": [
       "             index src_agency fire_id firename  original_lat  original_lon  \\\n",
       "index_right                                                                  \n",
       "232           9490         ON    SAU4      NaN     47.013000    -84.775200   \n",
       "1222         19897         ON   WAW14      NaN     48.301409    -86.152606   \n",
       "1224         19897         ON   WAW14      NaN     48.301409    -86.152606   \n",
       "3409          8574         ON   WAW42      NaN     47.753600    -85.887200   \n",
       "3412          8574         ON   WAW42      NaN     47.753600    -85.887200   \n",
       "\n",
       "             year  month  day    rep_date  ...    acq_date src_agy2 ecozone  \\\n",
       "index_right                                ...                                \n",
       "232          2010      4    1  2010-04-01  ...  2020-04-03       ON       6   \n",
       "1222         2021      7   20  2021-07-20  ...  2022-04-11       ON       6   \n",
       "1224         2021      7   20  2021-07-20  ...  2022-04-11       ON       6   \n",
       "3409         2006      7   22  2006-07-22  ...  2020-04-03       ON       6   \n",
       "3412         2006      7   22  2006-07-22  ...  2020-04-03       ON       6   \n",
       "\n",
       "             ecoz_ref           ecoz_name         ecoz_nom area_sqm  \\\n",
       "index_right                                                           \n",
       "232                6b  Boreal Shield East  Bouclier bordal   5000.0   \n",
       "1222               6b  Boreal Shield East  Bouclier bordal   2000.0   \n",
       "1224               6b  Boreal Shield East  Bouclier bordal   2000.0   \n",
       "3409               6b  Boreal Shield East  Bouclier bordal   5000.0   \n",
       "3412               6b  Boreal Shield East  Bouclier bordal   5000.0   \n",
       "\n",
       "                                                pixel_geometry area_intersect  \\\n",
       "index_right                                                                     \n",
       "232          POLYGON ((6742553.429325026 1237567.62007252, ...    4991.971965   \n",
       "1222         POLYGON ((6624707.836761105 1370531.8213195344...     368.653991   \n",
       "1224         POLYGON ((6624695.5263683535 1370282.124595029...    1628.134795   \n",
       "3409         POLYGON ((6650067.555512638 1311211.10685281, ...    2991.405964   \n",
       "3412         POLYGON ((6650079.865905387 1311460.8035773216...    2000.566001   \n",
       "\n",
       "            area_intersect_perc  \n",
       "index_right                      \n",
       "232                    0.079872  \n",
       "1222                   0.005898  \n",
       "1224                   0.026050  \n",
       "3409                   0.047862  \n",
       "3412                   0.032009  \n",
       "\n",
       "[5 rows x 31 columns]"
      ]
     },
     "execution_count": 76,
     "metadata": {},
     "output_type": "execute_result"
    }
   ],
   "source": [
    "ON_fire.rename(columns={\"LATITUDE\":'original_lat',\"LONGITUDE\":'original_lon'},inplace=True)\n",
    "ON_fire.columns = ON_fire.columns.str.lower()\n",
    "ON_fire.head()"
   ]
  },
  {
   "cell_type": "markdown",
   "id": "251a50e0",
   "metadata": {},
   "source": [
    "## 4) Merging Forest and Fire DataSets"
   ]
  },
  {
   "cell_type": "markdown",
   "id": "2913636b",
   "metadata": {},
   "source": [
    "Now we have two data sets:\n",
    "1) ON_forest, crs = 4269\n",
    "2) ON_fire, crs = 3347\n",
    "\n",
    "We want to merge the fire data to the forest data. But first, we need to do some manipulation on the fire data. The column 'index' has a unique number associated with each fire, so we can check how many fires there are"
   ]
  },
  {
   "cell_type": "code",
   "execution_count": 77,
   "id": "34bf5d4e",
   "metadata": {},
   "outputs": [
    {
     "name": "stdout",
     "output_type": "stream",
     "text": [
      "There are 20595 unique fires\n",
      "But there are 563882 row in the ON_fire data\n"
     ]
    }
   ],
   "source": [
    "print(\"There are {} unique fires\".format(ON_fire['index'].nunique()))\n",
    "print(\"But there are {} row in the ON_fire data\".format(len(ON_fire)))"
   ]
  },
  {
   "cell_type": "markdown",
   "id": "2d56e4b9",
   "metadata": {},
   "source": [
    "This checks out, there were 20866 fire in our original datasets and we have 20595. We have lost a few fires because some may have been errors or on lake or boundary edges. But there are over 500000 rows in our dataset! that is because some fire cover many 250mx250m pixel. We are not worried about duplication here because out grid matched our forest grid.\n",
    "\n",
    "We are however interested in any data that has duplicate fires that happened in the same year or different years at the same location. Lets filter the dataframe to see how this looks."
   ]
  },
  {
   "cell_type": "code",
   "execution_count": 78,
   "id": "6741bd08",
   "metadata": {},
   "outputs": [
    {
     "data": {
      "text/html": [
       "<div>\n",
       "<style scoped>\n",
       "    .dataframe tbody tr th:only-of-type {\n",
       "        vertical-align: middle;\n",
       "    }\n",
       "\n",
       "    .dataframe tbody tr th {\n",
       "        vertical-align: top;\n",
       "    }\n",
       "\n",
       "    .dataframe thead th {\n",
       "        text-align: right;\n",
       "    }\n",
       "</style>\n",
       "<table border=\"1\" class=\"dataframe\">\n",
       "  <thead>\n",
       "    <tr style=\"text-align: right;\">\n",
       "      <th></th>\n",
       "      <th>index</th>\n",
       "      <th>src_agency</th>\n",
       "      <th>fire_id</th>\n",
       "      <th>firename</th>\n",
       "      <th>original_lat</th>\n",
       "      <th>original_lon</th>\n",
       "      <th>year</th>\n",
       "      <th>month</th>\n",
       "      <th>day</th>\n",
       "      <th>rep_date</th>\n",
       "      <th>...</th>\n",
       "      <th>acq_date</th>\n",
       "      <th>src_agy2</th>\n",
       "      <th>ecozone</th>\n",
       "      <th>ecoz_ref</th>\n",
       "      <th>ecoz_name</th>\n",
       "      <th>ecoz_nom</th>\n",
       "      <th>area_sqm</th>\n",
       "      <th>pixel_geometry</th>\n",
       "      <th>area_intersect</th>\n",
       "      <th>area_intersect_perc</th>\n",
       "    </tr>\n",
       "    <tr>\n",
       "      <th>index_right</th>\n",
       "      <th></th>\n",
       "      <th></th>\n",
       "      <th></th>\n",
       "      <th></th>\n",
       "      <th></th>\n",
       "      <th></th>\n",
       "      <th></th>\n",
       "      <th></th>\n",
       "      <th></th>\n",
       "      <th></th>\n",
       "      <th></th>\n",
       "      <th></th>\n",
       "      <th></th>\n",
       "      <th></th>\n",
       "      <th></th>\n",
       "      <th></th>\n",
       "      <th></th>\n",
       "      <th></th>\n",
       "      <th></th>\n",
       "      <th></th>\n",
       "      <th></th>\n",
       "    </tr>\n",
       "  </thead>\n",
       "  <tbody>\n",
       "    <tr>\n",
       "      <th>96800</th>\n",
       "      <td>12520</td>\n",
       "      <td>ON</td>\n",
       "      <td>WAW102</td>\n",
       "      <td>NaN</td>\n",
       "      <td>48.6023</td>\n",
       "      <td>-86.0166</td>\n",
       "      <td>2001</td>\n",
       "      <td>8</td>\n",
       "      <td>13</td>\n",
       "      <td>2001-08-13</td>\n",
       "      <td>...</td>\n",
       "      <td>2020-04-03</td>\n",
       "      <td>ON</td>\n",
       "      <td>6</td>\n",
       "      <td>6b</td>\n",
       "      <td>Boreal Shield East</td>\n",
       "      <td>Bouclier bordal</td>\n",
       "      <td>1000.000015</td>\n",
       "      <td>POLYGON ((6631650.302175253 1404731.451053986,...</td>\n",
       "      <td>998.394408</td>\n",
       "      <td>0.015974</td>\n",
       "    </tr>\n",
       "    <tr>\n",
       "      <th>96800</th>\n",
       "      <td>12914</td>\n",
       "      <td>ON</td>\n",
       "      <td>WAW30</td>\n",
       "      <td>NaN</td>\n",
       "      <td>48.6023</td>\n",
       "      <td>-86.0166</td>\n",
       "      <td>2001</td>\n",
       "      <td>7</td>\n",
       "      <td>31</td>\n",
       "      <td>2001-07-31</td>\n",
       "      <td>...</td>\n",
       "      <td>2020-04-03</td>\n",
       "      <td>ON</td>\n",
       "      <td>6</td>\n",
       "      <td>6b</td>\n",
       "      <td>Boreal Shield East</td>\n",
       "      <td>Bouclier bordal</td>\n",
       "      <td>1000.000015</td>\n",
       "      <td>POLYGON ((6631650.302175253 1404731.451053986,...</td>\n",
       "      <td>998.394408</td>\n",
       "      <td>0.015974</td>\n",
       "    </tr>\n",
       "    <tr>\n",
       "      <th>98679</th>\n",
       "      <td>8302</td>\n",
       "      <td>ON</td>\n",
       "      <td>WAW22</td>\n",
       "      <td>NaN</td>\n",
       "      <td>48.6787</td>\n",
       "      <td>-85.9790</td>\n",
       "      <td>2011</td>\n",
       "      <td>7</td>\n",
       "      <td>25</td>\n",
       "      <td>2011-07-25</td>\n",
       "      <td>...</td>\n",
       "      <td>2020-04-03</td>\n",
       "      <td>ON</td>\n",
       "      <td>6</td>\n",
       "      <td>6b</td>\n",
       "      <td>Boreal Shield East</td>\n",
       "      <td>Bouclier bordal</td>\n",
       "      <td>2000.000030</td>\n",
       "      <td>POLYGON ((6633579.346268545 1413396.9740552895...</td>\n",
       "      <td>1996.788816</td>\n",
       "      <td>0.031949</td>\n",
       "    </tr>\n",
       "    <tr>\n",
       "      <th>98679</th>\n",
       "      <td>17449</td>\n",
       "      <td>ON</td>\n",
       "      <td>WAW27</td>\n",
       "      <td>NaN</td>\n",
       "      <td>48.6778</td>\n",
       "      <td>-85.9818</td>\n",
       "      <td>2016</td>\n",
       "      <td>8</td>\n",
       "      <td>2</td>\n",
       "      <td>2016-08-02</td>\n",
       "      <td>...</td>\n",
       "      <td>2020-04-03</td>\n",
       "      <td>ON</td>\n",
       "      <td>6</td>\n",
       "      <td>6b</td>\n",
       "      <td>Boreal Shield East</td>\n",
       "      <td>Bouclier bordal</td>\n",
       "      <td>1000.000015</td>\n",
       "      <td>POLYGON ((6633579.346268545 1413396.9740552895...</td>\n",
       "      <td>48.994121</td>\n",
       "      <td>0.000784</td>\n",
       "    </tr>\n",
       "    <tr>\n",
       "      <th>108515</th>\n",
       "      <td>8320</td>\n",
       "      <td>ON</td>\n",
       "      <td>WAW4</td>\n",
       "      <td>NaN</td>\n",
       "      <td>48.6911</td>\n",
       "      <td>-85.6357</td>\n",
       "      <td>2007</td>\n",
       "      <td>4</td>\n",
       "      <td>25</td>\n",
       "      <td>2007-04-25</td>\n",
       "      <td>...</td>\n",
       "      <td>2020-04-03</td>\n",
       "      <td>ON</td>\n",
       "      <td>6</td>\n",
       "      <td>6b</td>\n",
       "      <td>Boreal Shield East</td>\n",
       "      <td>Bouclier bordal</td>\n",
       "      <td>5000.000000</td>\n",
       "      <td>POLYGON ((6658795.226574404 1417159.869270488,...</td>\n",
       "      <td>4170.266957</td>\n",
       "      <td>0.066724</td>\n",
       "    </tr>\n",
       "    <tr>\n",
       "      <th>...</th>\n",
       "      <td>...</td>\n",
       "      <td>...</td>\n",
       "      <td>...</td>\n",
       "      <td>...</td>\n",
       "      <td>...</td>\n",
       "      <td>...</td>\n",
       "      <td>...</td>\n",
       "      <td>...</td>\n",
       "      <td>...</td>\n",
       "      <td>...</td>\n",
       "      <td>...</td>\n",
       "      <td>...</td>\n",
       "      <td>...</td>\n",
       "      <td>...</td>\n",
       "      <td>...</td>\n",
       "      <td>...</td>\n",
       "      <td>...</td>\n",
       "      <td>...</td>\n",
       "      <td>...</td>\n",
       "      <td>...</td>\n",
       "      <td>...</td>\n",
       "    </tr>\n",
       "    <tr>\n",
       "      <th>14915499</th>\n",
       "      <td>18893</td>\n",
       "      <td>ON</td>\n",
       "      <td>PEM1</td>\n",
       "      <td>NaN</td>\n",
       "      <td>45.2244</td>\n",
       "      <td>-76.8328</td>\n",
       "      <td>2015</td>\n",
       "      <td>8</td>\n",
       "      <td>20</td>\n",
       "      <td>2015-08-20</td>\n",
       "      <td>...</td>\n",
       "      <td>2020-04-03</td>\n",
       "      <td>ON</td>\n",
       "      <td>6</td>\n",
       "      <td>6b</td>\n",
       "      <td>Boreal Shield East</td>\n",
       "      <td>Bouclier bordal</td>\n",
       "      <td>1000.000015</td>\n",
       "      <td>POLYGON ((7389133.977868572 1147119.254995384,...</td>\n",
       "      <td>998.394408</td>\n",
       "      <td>0.015974</td>\n",
       "    </tr>\n",
       "    <tr>\n",
       "      <th>14940884</th>\n",
       "      <td>6366</td>\n",
       "      <td>ON</td>\n",
       "      <td>KEM1</td>\n",
       "      <td>NaN</td>\n",
       "      <td>45.2618</td>\n",
       "      <td>-76.4912</td>\n",
       "      <td>2005</td>\n",
       "      <td>5</td>\n",
       "      <td>12</td>\n",
       "      <td>2005-05-12</td>\n",
       "      <td>...</td>\n",
       "      <td>2020-04-03</td>\n",
       "      <td>ON</td>\n",
       "      <td>6</td>\n",
       "      <td>6b</td>\n",
       "      <td>Boreal Shield East</td>\n",
       "      <td>Bouclier bordal</td>\n",
       "      <td>5000.000000</td>\n",
       "      <td>POLYGON ((7414444.852446917 1157885.9688895727...</td>\n",
       "      <td>3519.858334</td>\n",
       "      <td>0.056318</td>\n",
       "    </tr>\n",
       "    <tr>\n",
       "      <th>14940884</th>\n",
       "      <td>6369</td>\n",
       "      <td>ON</td>\n",
       "      <td>KEM4</td>\n",
       "      <td>NaN</td>\n",
       "      <td>45.2627</td>\n",
       "      <td>-76.4912</td>\n",
       "      <td>2005</td>\n",
       "      <td>8</td>\n",
       "      <td>4</td>\n",
       "      <td>2005-08-04</td>\n",
       "      <td>...</td>\n",
       "      <td>2020-04-03</td>\n",
       "      <td>ON</td>\n",
       "      <td>6</td>\n",
       "      <td>6b</td>\n",
       "      <td>Boreal Shield East</td>\n",
       "      <td>Bouclier bordal</td>\n",
       "      <td>4000.000060</td>\n",
       "      <td>POLYGON ((7414444.852446917 1157885.9688895727...</td>\n",
       "      <td>3993.577632</td>\n",
       "      <td>0.063897</td>\n",
       "    </tr>\n",
       "    <tr>\n",
       "      <th>14941643</th>\n",
       "      <td>11617</td>\n",
       "      <td>ON</td>\n",
       "      <td>KEM1</td>\n",
       "      <td>NaN</td>\n",
       "      <td>45.2648</td>\n",
       "      <td>-76.5582</td>\n",
       "      <td>2012</td>\n",
       "      <td>5</td>\n",
       "      <td>21</td>\n",
       "      <td>2012-05-21</td>\n",
       "      <td>...</td>\n",
       "      <td>2020-04-03</td>\n",
       "      <td>ON</td>\n",
       "      <td>6</td>\n",
       "      <td>6b</td>\n",
       "      <td>Boreal Shield East</td>\n",
       "      <td>Bouclier bordal</td>\n",
       "      <td>1000.000015</td>\n",
       "      <td>POLYGON ((7409139.669268485 1156896.0035147716...</td>\n",
       "      <td>927.919386</td>\n",
       "      <td>0.014847</td>\n",
       "    </tr>\n",
       "    <tr>\n",
       "      <th>14941643</th>\n",
       "      <td>18918</td>\n",
       "      <td>ON</td>\n",
       "      <td>KEM2</td>\n",
       "      <td>NaN</td>\n",
       "      <td>45.2653</td>\n",
       "      <td>-76.5610</td>\n",
       "      <td>2016</td>\n",
       "      <td>6</td>\n",
       "      <td>27</td>\n",
       "      <td>2016-06-27</td>\n",
       "      <td>...</td>\n",
       "      <td>2020-04-03</td>\n",
       "      <td>ON</td>\n",
       "      <td>6</td>\n",
       "      <td>6b</td>\n",
       "      <td>Boreal Shield East</td>\n",
       "      <td>Bouclier bordal</td>\n",
       "      <td>1000.000015</td>\n",
       "      <td>POLYGON ((7409139.669268485 1156896.0035147716...</td>\n",
       "      <td>723.659341</td>\n",
       "      <td>0.011579</td>\n",
       "    </tr>\n",
       "  </tbody>\n",
       "</table>\n",
       "<p>74594 rows × 31 columns</p>\n",
       "</div>"
      ],
      "text/plain": [
       "             index src_agency fire_id firename  original_lat  original_lon  \\\n",
       "index_right                                                                  \n",
       "96800        12520         ON  WAW102      NaN       48.6023      -86.0166   \n",
       "96800        12914         ON   WAW30      NaN       48.6023      -86.0166   \n",
       "98679         8302         ON   WAW22      NaN       48.6787      -85.9790   \n",
       "98679        17449         ON   WAW27      NaN       48.6778      -85.9818   \n",
       "108515        8320         ON    WAW4      NaN       48.6911      -85.6357   \n",
       "...            ...        ...     ...      ...           ...           ...   \n",
       "14915499     18893         ON    PEM1      NaN       45.2244      -76.8328   \n",
       "14940884      6366         ON    KEM1      NaN       45.2618      -76.4912   \n",
       "14940884      6369         ON    KEM4      NaN       45.2627      -76.4912   \n",
       "14941643     11617         ON    KEM1      NaN       45.2648      -76.5582   \n",
       "14941643     18918         ON    KEM2      NaN       45.2653      -76.5610   \n",
       "\n",
       "             year  month  day    rep_date  ...    acq_date src_agy2 ecozone  \\\n",
       "index_right                                ...                                \n",
       "96800        2001      8   13  2001-08-13  ...  2020-04-03       ON       6   \n",
       "96800        2001      7   31  2001-07-31  ...  2020-04-03       ON       6   \n",
       "98679        2011      7   25  2011-07-25  ...  2020-04-03       ON       6   \n",
       "98679        2016      8    2  2016-08-02  ...  2020-04-03       ON       6   \n",
       "108515       2007      4   25  2007-04-25  ...  2020-04-03       ON       6   \n",
       "...           ...    ...  ...         ...  ...         ...      ...     ...   \n",
       "14915499     2015      8   20  2015-08-20  ...  2020-04-03       ON       6   \n",
       "14940884     2005      5   12  2005-05-12  ...  2020-04-03       ON       6   \n",
       "14940884     2005      8    4  2005-08-04  ...  2020-04-03       ON       6   \n",
       "14941643     2012      5   21  2012-05-21  ...  2020-04-03       ON       6   \n",
       "14941643     2016      6   27  2016-06-27  ...  2020-04-03       ON       6   \n",
       "\n",
       "             ecoz_ref           ecoz_name         ecoz_nom     area_sqm  \\\n",
       "index_right                                                               \n",
       "96800              6b  Boreal Shield East  Bouclier bordal  1000.000015   \n",
       "96800              6b  Boreal Shield East  Bouclier bordal  1000.000015   \n",
       "98679              6b  Boreal Shield East  Bouclier bordal  2000.000030   \n",
       "98679              6b  Boreal Shield East  Bouclier bordal  1000.000015   \n",
       "108515             6b  Boreal Shield East  Bouclier bordal  5000.000000   \n",
       "...               ...                 ...              ...          ...   \n",
       "14915499           6b  Boreal Shield East  Bouclier bordal  1000.000015   \n",
       "14940884           6b  Boreal Shield East  Bouclier bordal  5000.000000   \n",
       "14940884           6b  Boreal Shield East  Bouclier bordal  4000.000060   \n",
       "14941643           6b  Boreal Shield East  Bouclier bordal  1000.000015   \n",
       "14941643           6b  Boreal Shield East  Bouclier bordal  1000.000015   \n",
       "\n",
       "                                                pixel_geometry area_intersect  \\\n",
       "index_right                                                                     \n",
       "96800        POLYGON ((6631650.302175253 1404731.451053986,...     998.394408   \n",
       "96800        POLYGON ((6631650.302175253 1404731.451053986,...     998.394408   \n",
       "98679        POLYGON ((6633579.346268545 1413396.9740552895...    1996.788816   \n",
       "98679        POLYGON ((6633579.346268545 1413396.9740552895...      48.994121   \n",
       "108515       POLYGON ((6658795.226574404 1417159.869270488,...    4170.266957   \n",
       "...                                                        ...            ...   \n",
       "14915499     POLYGON ((7389133.977868572 1147119.254995384,...     998.394408   \n",
       "14940884     POLYGON ((7414444.852446917 1157885.9688895727...    3519.858334   \n",
       "14940884     POLYGON ((7414444.852446917 1157885.9688895727...    3993.577632   \n",
       "14941643     POLYGON ((7409139.669268485 1156896.0035147716...     927.919386   \n",
       "14941643     POLYGON ((7409139.669268485 1156896.0035147716...     723.659341   \n",
       "\n",
       "            area_intersect_perc  \n",
       "index_right                      \n",
       "96800                  0.015974  \n",
       "96800                  0.015974  \n",
       "98679                  0.031949  \n",
       "98679                  0.000784  \n",
       "108515                 0.066724  \n",
       "...                         ...  \n",
       "14915499               0.015974  \n",
       "14940884               0.056318  \n",
       "14940884               0.063897  \n",
       "14941643               0.014847  \n",
       "14941643               0.011579  \n",
       "\n",
       "[74594 rows x 31 columns]"
      ]
     },
     "execution_count": 78,
     "metadata": {},
     "output_type": "execute_result"
    }
   ],
   "source": [
    "ON_fire[ON_fire.duplicated('pixel_geometry',keep=False)]"
   ]
  },
  {
   "cell_type": "markdown",
   "id": "c27b159e",
   "metadata": {},
   "source": [
    "Here we can see that we have ducplicate columns, because multiple fires were reported arround this coordinate. For example, the first two rows (index = 96800) had a fire reported late july and early augus. \n",
    "\n",
    "Another case (index= 98679) show a fire in 2011 and 2016. \n",
    "\n",
    "For simplicity, if there are two fires reported in the same year, we will assume that only one occured. \n",
    "\n",
    "If there are multiple fires reported for different years, we need to figure out a way to deal with this."
   ]
  },
  {
   "cell_type": "markdown",
   "id": "5713bd8a",
   "metadata": {},
   "source": [
    "Let filter out all the unnessecarry information at this stage. We are only interested about the date of the fire and the locaiton (geometry)"
   ]
  },
  {
   "cell_type": "code",
   "execution_count": 80,
   "id": "f2d5db44",
   "metadata": {},
   "outputs": [
    {
     "data": {
      "text/html": [
       "<div>\n",
       "<style scoped>\n",
       "    .dataframe tbody tr th:only-of-type {\n",
       "        vertical-align: middle;\n",
       "    }\n",
       "\n",
       "    .dataframe tbody tr th {\n",
       "        vertical-align: top;\n",
       "    }\n",
       "\n",
       "    .dataframe thead th {\n",
       "        text-align: right;\n",
       "    }\n",
       "</style>\n",
       "<table border=\"1\" class=\"dataframe\">\n",
       "  <thead>\n",
       "    <tr style=\"text-align: right;\">\n",
       "      <th></th>\n",
       "      <th>year</th>\n",
       "      <th>month</th>\n",
       "      <th>day</th>\n",
       "      <th>area_intersect_perc</th>\n",
       "    </tr>\n",
       "    <tr>\n",
       "      <th>index_right</th>\n",
       "      <th></th>\n",
       "      <th></th>\n",
       "      <th></th>\n",
       "      <th></th>\n",
       "    </tr>\n",
       "  </thead>\n",
       "  <tbody>\n",
       "    <tr>\n",
       "      <th>232</th>\n",
       "      <td>2010</td>\n",
       "      <td>4</td>\n",
       "      <td>1</td>\n",
       "      <td>0.079872</td>\n",
       "    </tr>\n",
       "    <tr>\n",
       "      <th>1222</th>\n",
       "      <td>2021</td>\n",
       "      <td>7</td>\n",
       "      <td>20</td>\n",
       "      <td>0.005898</td>\n",
       "    </tr>\n",
       "    <tr>\n",
       "      <th>1224</th>\n",
       "      <td>2021</td>\n",
       "      <td>7</td>\n",
       "      <td>20</td>\n",
       "      <td>0.026050</td>\n",
       "    </tr>\n",
       "    <tr>\n",
       "      <th>3409</th>\n",
       "      <td>2006</td>\n",
       "      <td>7</td>\n",
       "      <td>22</td>\n",
       "      <td>0.047862</td>\n",
       "    </tr>\n",
       "    <tr>\n",
       "      <th>3412</th>\n",
       "      <td>2006</td>\n",
       "      <td>7</td>\n",
       "      <td>22</td>\n",
       "      <td>0.032009</td>\n",
       "    </tr>\n",
       "  </tbody>\n",
       "</table>\n",
       "</div>"
      ],
      "text/plain": [
       "             year  month  day  area_intersect_perc\n",
       "index_right                                       \n",
       "232          2010      4    1             0.079872\n",
       "1222         2021      7   20             0.005898\n",
       "1224         2021      7   20             0.026050\n",
       "3409         2006      7   22             0.047862\n",
       "3412         2006      7   22             0.032009"
      ]
     },
     "execution_count": 80,
     "metadata": {},
     "output_type": "execute_result"
    }
   ],
   "source": [
    "#ON_fire.rename(columns={'pixel_geometry':'geometry'},inplace=True)\n",
    "ON_fire = ON_fire[['year','month','day','area_intersect_perc']]\n",
    "ON_fire.head()"
   ]
  },
  {
   "cell_type": "markdown",
   "id": "dc2e25bb",
   "metadata": {},
   "source": [
    "Now lets create a funciton that will return an array of dates for each coordinates that can have multiple fires reported"
   ]
  },
  {
   "cell_type": "code",
   "execution_count": 81,
   "id": "8db4b036",
   "metadata": {},
   "outputs": [],
   "source": [
    "unique_index_duplicate = ON_fire.index.unique()\n",
    "year = []\n",
    "month = []\n",
    "day = []\n",
    "area_perc = []\n",
    "\n",
    "def get_duplicate_fire_dates(data):\n",
    "    \"\"\"\n",
    "    \"\"\"\n",
    "    year,month,day,area= [],[],[],[]\n",
    "    if isinstance(data,pd.Series) == True:\n",
    "        year.append(int(data[0]))\n",
    "        month.append(int(data[1]))\n",
    "        day.append((data[2]))\n",
    "        area.append((data[3]))\n",
    "    \n",
    "    else:\n",
    "        for i in range(len(data)):\n",
    "            year.append((data.iloc[i,0]))\n",
    "            month.append((data.iloc[i,1]))\n",
    "            day.append((data.iloc[i,2]))\n",
    "            area.append((data.iloc[i,3]))\n",
    "        \n",
    "    return year,month,day,area\n",
    "\n",
    "for ind in unique_index_duplicate:\n",
    "    \n",
    "    year_temp,month_temp,day_temp,area_temp= get_duplicate_fire_dates(ON_fire.loc[ind][:])\n",
    "    \n",
    "    year.append(year_temp)\n",
    "    month.append(month_temp)\n",
    "    day.append(day_temp)\n",
    "    area_perc.append(area_temp)"
   ]
  },
  {
   "cell_type": "markdown",
   "id": "c6ed84a4",
   "metadata": {},
   "source": [
    "Check that our returned arrays are same length as the number of unique rows in ON_fire"
   ]
  },
  {
   "cell_type": "code",
   "execution_count": 82,
   "id": "046a91e7",
   "metadata": {},
   "outputs": [
    {
     "name": "stdout",
     "output_type": "stream",
     "text": [
      "length of year: 524477 month: 524477 day: 524477 and area: 524477 match the number of unique rows in ON_fire: 524477\n"
     ]
    }
   ],
   "source": [
    "print(\"length of year: {} month: {} day: {} and area: {} match the number of unique rows in ON_fire: {}\".format(len(year),len(month),len(day),len(area_perc),len(ON_fire.index.unique())))"
   ]
  },
  {
   "cell_type": "markdown",
   "id": "085407e8",
   "metadata": {},
   "source": [
    "Now lets filter the ON_fire data to the just the unique rows and replace the year month and day columns with our arrays"
   ]
  },
  {
   "cell_type": "code",
   "execution_count": 83,
   "id": "26d65cd2",
   "metadata": {},
   "outputs": [
    {
     "data": {
      "text/html": [
       "<div>\n",
       "<style scoped>\n",
       "    .dataframe tbody tr th:only-of-type {\n",
       "        vertical-align: middle;\n",
       "    }\n",
       "\n",
       "    .dataframe tbody tr th {\n",
       "        vertical-align: top;\n",
       "    }\n",
       "\n",
       "    .dataframe thead th {\n",
       "        text-align: right;\n",
       "    }\n",
       "</style>\n",
       "<table border=\"1\" class=\"dataframe\">\n",
       "  <thead>\n",
       "    <tr style=\"text-align: right;\">\n",
       "      <th></th>\n",
       "      <th>year</th>\n",
       "      <th>month</th>\n",
       "      <th>day</th>\n",
       "      <th>area_intersect_perc</th>\n",
       "    </tr>\n",
       "    <tr>\n",
       "      <th>index_right</th>\n",
       "      <th></th>\n",
       "      <th></th>\n",
       "      <th></th>\n",
       "      <th></th>\n",
       "    </tr>\n",
       "  </thead>\n",
       "  <tbody>\n",
       "    <tr>\n",
       "      <th>232</th>\n",
       "      <td>[2010.0]</td>\n",
       "      <td>[4.0]</td>\n",
       "      <td>[1.0]</td>\n",
       "      <td>[0.0798715514424094]</td>\n",
       "    </tr>\n",
       "    <tr>\n",
       "      <th>1222</th>\n",
       "      <td>[2021.0]</td>\n",
       "      <td>[7.0]</td>\n",
       "      <td>[20.0]</td>\n",
       "      <td>[0.0058984638569503]</td>\n",
       "    </tr>\n",
       "    <tr>\n",
       "      <th>1224</th>\n",
       "      <td>[2021.0]</td>\n",
       "      <td>[7.0]</td>\n",
       "      <td>[20.0]</td>\n",
       "      <td>[0.0260501567222071]</td>\n",
       "    </tr>\n",
       "    <tr>\n",
       "      <th>3409</th>\n",
       "      <td>[2006.0]</td>\n",
       "      <td>[7.0]</td>\n",
       "      <td>[22.0]</td>\n",
       "      <td>[0.0478624954220104]</td>\n",
       "    </tr>\n",
       "    <tr>\n",
       "      <th>3412</th>\n",
       "      <td>[2006.0]</td>\n",
       "      <td>[7.0]</td>\n",
       "      <td>[22.0]</td>\n",
       "      <td>[0.032009056019226]</td>\n",
       "    </tr>\n",
       "    <tr>\n",
       "      <th>...</th>\n",
       "      <td>...</td>\n",
       "      <td>...</td>\n",
       "      <td>...</td>\n",
       "      <td>...</td>\n",
       "    </tr>\n",
       "    <tr>\n",
       "      <th>15091520</th>\n",
       "      <td>[2001.0]</td>\n",
       "      <td>[7.0]</td>\n",
       "      <td>[25.0]</td>\n",
       "      <td>[0.0897901610678765]</td>\n",
       "    </tr>\n",
       "    <tr>\n",
       "      <th>15091521</th>\n",
       "      <td>[2001.0]</td>\n",
       "      <td>[7.0]</td>\n",
       "      <td>[25.0]</td>\n",
       "      <td>[0.9524306336683118]</td>\n",
       "    </tr>\n",
       "    <tr>\n",
       "      <th>15091522</th>\n",
       "      <td>[2001.0]</td>\n",
       "      <td>[7.0]</td>\n",
       "      <td>[25.0]</td>\n",
       "      <td>[0.5633491926305579]</td>\n",
       "    </tr>\n",
       "    <tr>\n",
       "      <th>15091523</th>\n",
       "      <td>[2001.0]</td>\n",
       "      <td>[7.0]</td>\n",
       "      <td>[25.0]</td>\n",
       "      <td>[0.0040230257997567]</td>\n",
       "    </tr>\n",
       "    <tr>\n",
       "      <th>15091524</th>\n",
       "      <td>[2001.0]</td>\n",
       "      <td>[7.0]</td>\n",
       "      <td>[25.0]</td>\n",
       "      <td>[0.0386038257605694]</td>\n",
       "    </tr>\n",
       "  </tbody>\n",
       "</table>\n",
       "<p>524477 rows × 4 columns</p>\n",
       "</div>"
      ],
      "text/plain": [
       "                 year  month     day   area_intersect_perc\n",
       "index_right                                               \n",
       "232          [2010.0]  [4.0]   [1.0]  [0.0798715514424094]\n",
       "1222         [2021.0]  [7.0]  [20.0]  [0.0058984638569503]\n",
       "1224         [2021.0]  [7.0]  [20.0]  [0.0260501567222071]\n",
       "3409         [2006.0]  [7.0]  [22.0]  [0.0478624954220104]\n",
       "3412         [2006.0]  [7.0]  [22.0]   [0.032009056019226]\n",
       "...               ...    ...     ...                   ...\n",
       "15091520     [2001.0]  [7.0]  [25.0]  [0.0897901610678765]\n",
       "15091521     [2001.0]  [7.0]  [25.0]  [0.9524306336683118]\n",
       "15091522     [2001.0]  [7.0]  [25.0]  [0.5633491926305579]\n",
       "15091523     [2001.0]  [7.0]  [25.0]  [0.0040230257997567]\n",
       "15091524     [2001.0]  [7.0]  [25.0]  [0.0386038257605694]\n",
       "\n",
       "[524477 rows x 4 columns]"
      ]
     },
     "execution_count": 83,
     "metadata": {},
     "output_type": "execute_result"
    }
   ],
   "source": [
    "ON_fire=ON_fire[~ON_fire.index.duplicated()]\n",
    "ON_fire.year = year\n",
    "ON_fire.month = month\n",
    "ON_fire.day = day\n",
    "ON_fire.area_intersect_perc = area_perc\n",
    "ON_fire"
   ]
  },
  {
   "cell_type": "markdown",
   "id": "91ea1c2f",
   "metadata": {},
   "source": [
    "No we can join the ON_fire to the ON_forest data frame on the index, which is a unique code for each pixel. Lets create a new dataframe called ON_forest_and_fires"
   ]
  },
  {
   "cell_type": "code",
   "execution_count": 84,
   "id": "77c1660a",
   "metadata": {},
   "outputs": [],
   "source": [
    "ON_forest_and_fires = ON_forest.join(ON_fire,lsuffix=\" \")"
   ]
  },
  {
   "cell_type": "code",
   "execution_count": 85,
   "id": "4affded7",
   "metadata": {},
   "outputs": [
    {
     "data": {
      "text/html": [
       "<div>\n",
       "<style scoped>\n",
       "    .dataframe tbody tr th:only-of-type {\n",
       "        vertical-align: middle;\n",
       "    }\n",
       "\n",
       "    .dataframe tbody tr th {\n",
       "        vertical-align: top;\n",
       "    }\n",
       "\n",
       "    .dataframe thead th {\n",
       "        text-align: right;\n",
       "    }\n",
       "</style>\n",
       "<table border=\"1\" class=\"dataframe\">\n",
       "  <thead>\n",
       "    <tr style=\"text-align: right;\">\n",
       "      <th></th>\n",
       "      <th>age_2001</th>\n",
       "      <th>age_2011</th>\n",
       "      <th>age_2019</th>\n",
       "      <th>year_harvested</th>\n",
       "      <th>vol_2001</th>\n",
       "      <th>vol_2011</th>\n",
       "      <th>vol_2015</th>\n",
       "      <th>lon</th>\n",
       "      <th>lat</th>\n",
       "      <th>geometry</th>\n",
       "      <th>year</th>\n",
       "      <th>month</th>\n",
       "      <th>day</th>\n",
       "      <th>area_intersect_perc</th>\n",
       "    </tr>\n",
       "  </thead>\n",
       "  <tbody>\n",
       "    <tr>\n",
       "      <th>0</th>\n",
       "      <td>104.0</td>\n",
       "      <td>NaN</td>\n",
       "      <td>NaN</td>\n",
       "      <td>NaN</td>\n",
       "      <td>8.55</td>\n",
       "      <td>NaN</td>\n",
       "      <td>NaN</td>\n",
       "      <td>-84.890501</td>\n",
       "      <td>46.906052</td>\n",
       "      <td>POLYGON ((-84.88863710751139 46.90697579711416...</td>\n",
       "      <td>NaN</td>\n",
       "      <td>NaN</td>\n",
       "      <td>NaN</td>\n",
       "      <td>NaN</td>\n",
       "    </tr>\n",
       "    <tr>\n",
       "      <th>1</th>\n",
       "      <td>104.0</td>\n",
       "      <td>NaN</td>\n",
       "      <td>NaN</td>\n",
       "      <td>NaN</td>\n",
       "      <td>8.55</td>\n",
       "      <td>NaN</td>\n",
       "      <td>NaN</td>\n",
       "      <td>-84.885743</td>\n",
       "      <td>46.912303</td>\n",
       "      <td>POLYGON ((-84.88387922029249 46.91322718112671...</td>\n",
       "      <td>NaN</td>\n",
       "      <td>NaN</td>\n",
       "      <td>NaN</td>\n",
       "      <td>NaN</td>\n",
       "    </tr>\n",
       "    <tr>\n",
       "      <th>2</th>\n",
       "      <td>104.0</td>\n",
       "      <td>NaN</td>\n",
       "      <td>NaN</td>\n",
       "      <td>NaN</td>\n",
       "      <td>8.55</td>\n",
       "      <td>NaN</td>\n",
       "      <td>NaN</td>\n",
       "      <td>-84.887410</td>\n",
       "      <td>46.919261</td>\n",
       "      <td>POLYGON ((-84.88554623463179 46.92018483757417...</td>\n",
       "      <td>NaN</td>\n",
       "      <td>NaN</td>\n",
       "      <td>NaN</td>\n",
       "      <td>NaN</td>\n",
       "    </tr>\n",
       "    <tr>\n",
       "      <th>3</th>\n",
       "      <td>104.0</td>\n",
       "      <td>NaN</td>\n",
       "      <td>NaN</td>\n",
       "      <td>NaN</td>\n",
       "      <td>8.55</td>\n",
       "      <td>NaN</td>\n",
       "      <td>NaN</td>\n",
       "      <td>-84.884197</td>\n",
       "      <td>46.918908</td>\n",
       "      <td>POLYGON ((-84.88233307531861 46.91983171613633...</td>\n",
       "      <td>NaN</td>\n",
       "      <td>NaN</td>\n",
       "      <td>NaN</td>\n",
       "      <td>NaN</td>\n",
       "    </tr>\n",
       "    <tr>\n",
       "      <th>4</th>\n",
       "      <td>57.0</td>\n",
       "      <td>NaN</td>\n",
       "      <td>NaN</td>\n",
       "      <td>NaN</td>\n",
       "      <td>38.69</td>\n",
       "      <td>NaN</td>\n",
       "      <td>NaN</td>\n",
       "      <td>-84.748565</td>\n",
       "      <td>46.962634</td>\n",
       "      <td>POLYGON ((-84.74669588337325 46.96355596569322...</td>\n",
       "      <td>NaN</td>\n",
       "      <td>NaN</td>\n",
       "      <td>NaN</td>\n",
       "      <td>NaN</td>\n",
       "    </tr>\n",
       "  </tbody>\n",
       "</table>\n",
       "</div>"
      ],
      "text/plain": [
       "   age_2001  age_2011  age_2019  year_harvested  vol_2001  vol_2011  vol_2015  \\\n",
       "0     104.0       NaN       NaN             NaN      8.55       NaN       NaN   \n",
       "1     104.0       NaN       NaN             NaN      8.55       NaN       NaN   \n",
       "2     104.0       NaN       NaN             NaN      8.55       NaN       NaN   \n",
       "3     104.0       NaN       NaN             NaN      8.55       NaN       NaN   \n",
       "4      57.0       NaN       NaN             NaN     38.69       NaN       NaN   \n",
       "\n",
       "         lon        lat                                           geometry  \\\n",
       "0 -84.890501  46.906052  POLYGON ((-84.88863710751139 46.90697579711416...   \n",
       "1 -84.885743  46.912303  POLYGON ((-84.88387922029249 46.91322718112671...   \n",
       "2 -84.887410  46.919261  POLYGON ((-84.88554623463179 46.92018483757417...   \n",
       "3 -84.884197  46.918908  POLYGON ((-84.88233307531861 46.91983171613633...   \n",
       "4 -84.748565  46.962634  POLYGON ((-84.74669588337325 46.96355596569322...   \n",
       "\n",
       "  year month  day area_intersect_perc  \n",
       "0  NaN   NaN  NaN                 NaN  \n",
       "1  NaN   NaN  NaN                 NaN  \n",
       "2  NaN   NaN  NaN                 NaN  \n",
       "3  NaN   NaN  NaN                 NaN  \n",
       "4  NaN   NaN  NaN                 NaN  "
      ]
     },
     "execution_count": 85,
     "metadata": {},
     "output_type": "execute_result"
    }
   ],
   "source": [
    "ON_forest_and_fires.head()"
   ]
  },
  {
   "cell_type": "markdown",
   "id": "d226d451",
   "metadata": {},
   "source": [
    "lets take a look and see how non nan rows look"
   ]
  },
  {
   "cell_type": "code",
   "execution_count": 86,
   "id": "e1182941",
   "metadata": {},
   "outputs": [
    {
     "data": {
      "text/html": [
       "<div>\n",
       "<style scoped>\n",
       "    .dataframe tbody tr th:only-of-type {\n",
       "        vertical-align: middle;\n",
       "    }\n",
       "\n",
       "    .dataframe tbody tr th {\n",
       "        vertical-align: top;\n",
       "    }\n",
       "\n",
       "    .dataframe thead th {\n",
       "        text-align: right;\n",
       "    }\n",
       "</style>\n",
       "<table border=\"1\" class=\"dataframe\">\n",
       "  <thead>\n",
       "    <tr style=\"text-align: right;\">\n",
       "      <th></th>\n",
       "      <th>age_2001</th>\n",
       "      <th>age_2011</th>\n",
       "      <th>age_2019</th>\n",
       "      <th>year_harvested</th>\n",
       "      <th>vol_2001</th>\n",
       "      <th>vol_2011</th>\n",
       "      <th>vol_2015</th>\n",
       "      <th>lon</th>\n",
       "      <th>lat</th>\n",
       "      <th>geometry</th>\n",
       "      <th>year</th>\n",
       "      <th>month</th>\n",
       "      <th>day</th>\n",
       "      <th>area_intersect_perc</th>\n",
       "    </tr>\n",
       "  </thead>\n",
       "  <tbody>\n",
       "    <tr>\n",
       "      <th>232</th>\n",
       "      <td>87.0</td>\n",
       "      <td>86.0</td>\n",
       "      <td>NaN</td>\n",
       "      <td>NaN</td>\n",
       "      <td>117.97</td>\n",
       "      <td>117.80</td>\n",
       "      <td>NaN</td>\n",
       "      <td>-84.776202</td>\n",
       "      <td>47.013155</td>\n",
       "      <td>POLYGON ((-84.77433143745627 47.014077164415, ...</td>\n",
       "      <td>[2010.0]</td>\n",
       "      <td>[4.0]</td>\n",
       "      <td>[1.0]</td>\n",
       "      <td>[0.0798715514424094]</td>\n",
       "    </tr>\n",
       "    <tr>\n",
       "      <th>1222</th>\n",
       "      <td>81.0</td>\n",
       "      <td>93.0</td>\n",
       "      <td>36.0</td>\n",
       "      <td>NaN</td>\n",
       "      <td>147.90</td>\n",
       "      <td>165.82</td>\n",
       "      <td>95.8</td>\n",
       "      <td>-86.151748</td>\n",
       "      <td>48.302579</td>\n",
       "      <td>POLYGON ((-86.14985094591961 48.30353421454981...</td>\n",
       "      <td>[2021.0]</td>\n",
       "      <td>[7.0]</td>\n",
       "      <td>[20.0]</td>\n",
       "      <td>[0.0058984638569503]</td>\n",
       "    </tr>\n",
       "    <tr>\n",
       "      <th>1224</th>\n",
       "      <td>94.0</td>\n",
       "      <td>99.0</td>\n",
       "      <td>40.0</td>\n",
       "      <td>NaN</td>\n",
       "      <td>165.28</td>\n",
       "      <td>166.44</td>\n",
       "      <td>127.8</td>\n",
       "      <td>-86.152214</td>\n",
       "      <td>48.300359</td>\n",
       "      <td>POLYGON ((-86.15031701003014 48.30131379534876...</td>\n",
       "      <td>[2021.0]</td>\n",
       "      <td>[7.0]</td>\n",
       "      <td>[20.0]</td>\n",
       "      <td>[0.0260501567222071]</td>\n",
       "    </tr>\n",
       "    <tr>\n",
       "      <th>3409</th>\n",
       "      <td>84.0</td>\n",
       "      <td>100.0</td>\n",
       "      <td>65.0</td>\n",
       "      <td>NaN</td>\n",
       "      <td>181.62</td>\n",
       "      <td>203.73</td>\n",
       "      <td>181.7</td>\n",
       "      <td>-85.887214</td>\n",
       "      <td>47.752528</td>\n",
       "      <td>POLYGON ((-85.88533533968037 47.75347499764247...</td>\n",
       "      <td>[2006.0]</td>\n",
       "      <td>[7.0]</td>\n",
       "      <td>[22.0]</td>\n",
       "      <td>[0.0478624954220104]</td>\n",
       "    </tr>\n",
       "    <tr>\n",
       "      <th>3412</th>\n",
       "      <td>65.0</td>\n",
       "      <td>103.0</td>\n",
       "      <td>65.0</td>\n",
       "      <td>NaN</td>\n",
       "      <td>142.26</td>\n",
       "      <td>223.48</td>\n",
       "      <td>65.2</td>\n",
       "      <td>-85.886740</td>\n",
       "      <td>47.754742</td>\n",
       "      <td>POLYGON ((-85.8848615379669 47.75568934376854,...</td>\n",
       "      <td>[2006.0]</td>\n",
       "      <td>[7.0]</td>\n",
       "      <td>[22.0]</td>\n",
       "      <td>[0.032009056019226]</td>\n",
       "    </tr>\n",
       "    <tr>\n",
       "      <th>...</th>\n",
       "      <td>...</td>\n",
       "      <td>...</td>\n",
       "      <td>...</td>\n",
       "      <td>...</td>\n",
       "      <td>...</td>\n",
       "      <td>...</td>\n",
       "      <td>...</td>\n",
       "      <td>...</td>\n",
       "      <td>...</td>\n",
       "      <td>...</td>\n",
       "      <td>...</td>\n",
       "      <td>...</td>\n",
       "      <td>...</td>\n",
       "      <td>...</td>\n",
       "    </tr>\n",
       "    <tr>\n",
       "      <th>15091520</th>\n",
       "      <td>18.0</td>\n",
       "      <td>NaN</td>\n",
       "      <td>NaN</td>\n",
       "      <td>NaN</td>\n",
       "      <td>9.07</td>\n",
       "      <td>0.02</td>\n",
       "      <td>NaN</td>\n",
       "      <td>-74.970468</td>\n",
       "      <td>45.121490</td>\n",
       "      <td>POLYGON ((-74.96849847300699 45.12219922775676...</td>\n",
       "      <td>[2001.0]</td>\n",
       "      <td>[7.0]</td>\n",
       "      <td>[25.0]</td>\n",
       "      <td>[0.0897901610678765]</td>\n",
       "    </tr>\n",
       "    <tr>\n",
       "      <th>15091521</th>\n",
       "      <td>2.0</td>\n",
       "      <td>43.0</td>\n",
       "      <td>NaN</td>\n",
       "      <td>NaN</td>\n",
       "      <td>1.31</td>\n",
       "      <td>16.24</td>\n",
       "      <td>NaN</td>\n",
       "      <td>-74.969500</td>\n",
       "      <td>45.123594</td>\n",
       "      <td>POLYGON ((-74.96753051288393 45.12430269376673...</td>\n",
       "      <td>[2001.0]</td>\n",
       "      <td>[7.0]</td>\n",
       "      <td>[25.0]</td>\n",
       "      <td>[0.9524306336683118]</td>\n",
       "    </tr>\n",
       "    <tr>\n",
       "      <th>15091522</th>\n",
       "      <td>53.0</td>\n",
       "      <td>56.0</td>\n",
       "      <td>NaN</td>\n",
       "      <td>NaN</td>\n",
       "      <td>44.64</td>\n",
       "      <td>98.80</td>\n",
       "      <td>NaN</td>\n",
       "      <td>-74.968532</td>\n",
       "      <td>45.125697</td>\n",
       "      <td>POLYGON ((-74.9665624623231 45.126406169529716...</td>\n",
       "      <td>[2001.0]</td>\n",
       "      <td>[7.0]</td>\n",
       "      <td>[25.0]</td>\n",
       "      <td>[0.5633491926305579]</td>\n",
       "    </tr>\n",
       "    <tr>\n",
       "      <th>15091523</th>\n",
       "      <td>59.0</td>\n",
       "      <td>51.0</td>\n",
       "      <td>NaN</td>\n",
       "      <td>NaN</td>\n",
       "      <td>80.28</td>\n",
       "      <td>85.03</td>\n",
       "      <td>NaN</td>\n",
       "      <td>-74.971504</td>\n",
       "      <td>45.126382</td>\n",
       "      <td>POLYGON ((-74.96953389447624 45.12709144814664...</td>\n",
       "      <td>[2001.0]</td>\n",
       "      <td>[7.0]</td>\n",
       "      <td>[25.0]</td>\n",
       "      <td>[0.0040230257997567]</td>\n",
       "    </tr>\n",
       "    <tr>\n",
       "      <th>15091524</th>\n",
       "      <td>19.0</td>\n",
       "      <td>66.0</td>\n",
       "      <td>NaN</td>\n",
       "      <td>NaN</td>\n",
       "      <td>31.91</td>\n",
       "      <td>68.45</td>\n",
       "      <td>NaN</td>\n",
       "      <td>-74.972471</td>\n",
       "      <td>45.124279</td>\n",
       "      <td>POLYGON ((-74.97050182096037 45.12498793379716...</td>\n",
       "      <td>[2001.0]</td>\n",
       "      <td>[7.0]</td>\n",
       "      <td>[25.0]</td>\n",
       "      <td>[0.0386038257605694]</td>\n",
       "    </tr>\n",
       "  </tbody>\n",
       "</table>\n",
       "<p>524477 rows × 14 columns</p>\n",
       "</div>"
      ],
      "text/plain": [
       "          age_2001  age_2011  age_2019  year_harvested  vol_2001  vol_2011  \\\n",
       "232           87.0      86.0       NaN             NaN    117.97    117.80   \n",
       "1222          81.0      93.0      36.0             NaN    147.90    165.82   \n",
       "1224          94.0      99.0      40.0             NaN    165.28    166.44   \n",
       "3409          84.0     100.0      65.0             NaN    181.62    203.73   \n",
       "3412          65.0     103.0      65.0             NaN    142.26    223.48   \n",
       "...            ...       ...       ...             ...       ...       ...   \n",
       "15091520      18.0       NaN       NaN             NaN      9.07      0.02   \n",
       "15091521       2.0      43.0       NaN             NaN      1.31     16.24   \n",
       "15091522      53.0      56.0       NaN             NaN     44.64     98.80   \n",
       "15091523      59.0      51.0       NaN             NaN     80.28     85.03   \n",
       "15091524      19.0      66.0       NaN             NaN     31.91     68.45   \n",
       "\n",
       "          vol_2015        lon        lat  \\\n",
       "232            NaN -84.776202  47.013155   \n",
       "1222          95.8 -86.151748  48.302579   \n",
       "1224         127.8 -86.152214  48.300359   \n",
       "3409         181.7 -85.887214  47.752528   \n",
       "3412          65.2 -85.886740  47.754742   \n",
       "...            ...        ...        ...   \n",
       "15091520       NaN -74.970468  45.121490   \n",
       "15091521       NaN -74.969500  45.123594   \n",
       "15091522       NaN -74.968532  45.125697   \n",
       "15091523       NaN -74.971504  45.126382   \n",
       "15091524       NaN -74.972471  45.124279   \n",
       "\n",
       "                                                   geometry      year  month  \\\n",
       "232       POLYGON ((-84.77433143745627 47.014077164415, ...  [2010.0]  [4.0]   \n",
       "1222      POLYGON ((-86.14985094591961 48.30353421454981...  [2021.0]  [7.0]   \n",
       "1224      POLYGON ((-86.15031701003014 48.30131379534876...  [2021.0]  [7.0]   \n",
       "3409      POLYGON ((-85.88533533968037 47.75347499764247...  [2006.0]  [7.0]   \n",
       "3412      POLYGON ((-85.8848615379669 47.75568934376854,...  [2006.0]  [7.0]   \n",
       "...                                                     ...       ...    ...   \n",
       "15091520  POLYGON ((-74.96849847300699 45.12219922775676...  [2001.0]  [7.0]   \n",
       "15091521  POLYGON ((-74.96753051288393 45.12430269376673...  [2001.0]  [7.0]   \n",
       "15091522  POLYGON ((-74.9665624623231 45.126406169529716...  [2001.0]  [7.0]   \n",
       "15091523  POLYGON ((-74.96953389447624 45.12709144814664...  [2001.0]  [7.0]   \n",
       "15091524  POLYGON ((-74.97050182096037 45.12498793379716...  [2001.0]  [7.0]   \n",
       "\n",
       "             day   area_intersect_perc  \n",
       "232        [1.0]  [0.0798715514424094]  \n",
       "1222      [20.0]  [0.0058984638569503]  \n",
       "1224      [20.0]  [0.0260501567222071]  \n",
       "3409      [22.0]  [0.0478624954220104]  \n",
       "3412      [22.0]   [0.032009056019226]  \n",
       "...          ...                   ...  \n",
       "15091520  [25.0]  [0.0897901610678765]  \n",
       "15091521  [25.0]  [0.9524306336683118]  \n",
       "15091522  [25.0]  [0.5633491926305579]  \n",
       "15091523  [25.0]  [0.0040230257997567]  \n",
       "15091524  [25.0]  [0.0386038257605694]  \n",
       "\n",
       "[524477 rows x 14 columns]"
      ]
     },
     "execution_count": 86,
     "metadata": {},
     "output_type": "execute_result"
    }
   ],
   "source": [
    "ON_forest_and_fires[~ON_forest_and_fires.year.isna()]"
   ]
  },
  {
   "cell_type": "markdown",
   "id": "b9bae8d5",
   "metadata": {},
   "source": [
    "We can also take a look at the rows which have multiple fires lets add a column called number_fires"
   ]
  },
  {
   "cell_type": "code",
   "execution_count": 87,
   "id": "a11b3c73",
   "metadata": {},
   "outputs": [],
   "source": [
    "ON_forest_and_fires['number_fires'] = ON_forest_and_fires[~ON_forest_and_fires.year.isna()].year.apply(lambda row: len(row))"
   ]
  },
  {
   "cell_type": "markdown",
   "id": "814db451",
   "metadata": {},
   "source": [
    "Lets also see what the max number of fires is and lets see what having more then 10 fires on a pixel looks like"
   ]
  },
  {
   "cell_type": "code",
   "execution_count": 312,
   "id": "74ab2a4f",
   "metadata": {},
   "outputs": [
    {
     "data": {
      "text/plain": [
       "array([nan,  1.,  2.,  3.,  4.,  6.,  5., 11., 10.,  7.,  8.,  9., 13.,\n",
       "       16., 12.])"
      ]
     },
     "execution_count": 312,
     "metadata": {},
     "output_type": "execute_result"
    }
   ],
   "source": [
    "ON_forest_and_fires.number_fires.unique()"
   ]
  },
  {
   "cell_type": "code",
   "execution_count": 313,
   "id": "97099b0c",
   "metadata": {},
   "outputs": [
    {
     "data": {
      "text/html": [
       "<div>\n",
       "<style scoped>\n",
       "    .dataframe tbody tr th:only-of-type {\n",
       "        vertical-align: middle;\n",
       "    }\n",
       "\n",
       "    .dataframe tbody tr th {\n",
       "        vertical-align: top;\n",
       "    }\n",
       "\n",
       "    .dataframe thead th {\n",
       "        text-align: right;\n",
       "    }\n",
       "</style>\n",
       "<table border=\"1\" class=\"dataframe\">\n",
       "  <thead>\n",
       "    <tr style=\"text-align: right;\">\n",
       "      <th></th>\n",
       "      <th>age_2001</th>\n",
       "      <th>age_2011</th>\n",
       "      <th>age_2019</th>\n",
       "      <th>year_harvested</th>\n",
       "      <th>vol_2001</th>\n",
       "      <th>vol_2011</th>\n",
       "      <th>vol_2015</th>\n",
       "      <th>lon</th>\n",
       "      <th>lat</th>\n",
       "      <th>geometry</th>\n",
       "      <th>year</th>\n",
       "      <th>month</th>\n",
       "      <th>day</th>\n",
       "      <th>area_intersect_perc</th>\n",
       "      <th>number_fires</th>\n",
       "    </tr>\n",
       "  </thead>\n",
       "  <tbody>\n",
       "    <tr>\n",
       "      <th>510800</th>\n",
       "      <td>73.0</td>\n",
       "      <td>48.0</td>\n",
       "      <td>NaN</td>\n",
       "      <td>NaN</td>\n",
       "      <td>116.84</td>\n",
       "      <td>98.49</td>\n",
       "      <td>NaN</td>\n",
       "      <td>-89.261194</td>\n",
       "      <td>48.349536</td>\n",
       "      <td>POLYGON ((-89.25936661759084 48.35055212937501...</td>\n",
       "      <td>[2003, 2004, 2005, 2004, 2006, 2010, 2012, 201...</td>\n",
       "      <td>[2, 5, 4, 4, 4, 4, 9, 8, 8, 4, 4]</td>\n",
       "      <td>[5, 3, 12, 15, 5, 10, 18, 12, 1, 2, 23]</td>\n",
       "      <td>[0.0159743105264336, 0.0159743105264336, 0.124...</td>\n",
       "      <td>11.0</td>\n",
       "    </tr>\n",
       "    <tr>\n",
       "      <th>2543437</th>\n",
       "      <td>105.0</td>\n",
       "      <td>112.0</td>\n",
       "      <td>NaN</td>\n",
       "      <td>NaN</td>\n",
       "      <td>47.55</td>\n",
       "      <td>36.79</td>\n",
       "      <td>NaN</td>\n",
       "      <td>-90.231395</td>\n",
       "      <td>51.226783</td>\n",
       "      <td>POLYGON ((-90.2294609558206 51.22782789303231,...</td>\n",
       "      <td>[2003, 2009, 2007, 2011, 2011, 2010, 2010, 200...</td>\n",
       "      <td>[5, 5, 5, 5, 5, 4, 4, 5, 5, 5, 5, 5, 5]</td>\n",
       "      <td>[5, 10, 9, 15, 16, 25, 28, 20, 20, 11, 14, 20,...</td>\n",
       "      <td>[0.0791024721464891, 0.1300926315067332, 0.015...</td>\n",
       "      <td>13.0</td>\n",
       "    </tr>\n",
       "    <tr>\n",
       "      <th>2543438</th>\n",
       "      <td>112.0</td>\n",
       "      <td>101.0</td>\n",
       "      <td>48.0</td>\n",
       "      <td>NaN</td>\n",
       "      <td>69.46</td>\n",
       "      <td>48.20</td>\n",
       "      <td>167.5</td>\n",
       "      <td>-90.227797</td>\n",
       "      <td>51.226614</td>\n",
       "      <td>POLYGON ((-90.22586318985228 51.22765808479918...</td>\n",
       "      <td>[2003, 2005, 2005, 2006, 2007, 2008, 2007, 200...</td>\n",
       "      <td>[5, 4, 5, 8, 4, 6, 5, 5, 5, 5, 5, 4, 4, 5, 4, 5]</td>\n",
       "      <td>[5, 20, 6, 28, 25, 4, 4, 10, 11, 15, 16, 13, 2...</td>\n",
       "      <td>[0.0007690792960745, 0.0319486210531279, 0.015...</td>\n",
       "      <td>16.0</td>\n",
       "    </tr>\n",
       "    <tr>\n",
       "      <th>2543554</th>\n",
       "      <td>59.0</td>\n",
       "      <td>68.0</td>\n",
       "      <td>151.0</td>\n",
       "      <td>2000.0</td>\n",
       "      <td>31.25</td>\n",
       "      <td>31.06</td>\n",
       "      <td>60.1</td>\n",
       "      <td>-90.230854</td>\n",
       "      <td>51.231301</td>\n",
       "      <td>POLYGON ((-90.22892020435611 51.23234587617902...</td>\n",
       "      <td>[2004, 2005, 2005, 2009, 2010, 2011, 2012, 201...</td>\n",
       "      <td>[5, 5, 5, 5, 4, 6, 4, 4, 4, 4, 7]</td>\n",
       "      <td>[23, 6, 20, 5, 21, 16, 28, 22, 13, 29, 23]</td>\n",
       "      <td>[0.0101751777477629, 0.0098495400463428, 0.076...</td>\n",
       "      <td>11.0</td>\n",
       "    </tr>\n",
       "    <tr>\n",
       "      <th>2543555</th>\n",
       "      <td>14.0</td>\n",
       "      <td>92.0</td>\n",
       "      <td>NaN</td>\n",
       "      <td>2000.0</td>\n",
       "      <td>17.15</td>\n",
       "      <td>68.60</td>\n",
       "      <td>NaN</td>\n",
       "      <td>-90.231125</td>\n",
       "      <td>51.229042</td>\n",
       "      <td>POLYGON ((-90.2291905953826 51.23008687681379,...</td>\n",
       "      <td>[2005, 2009, 2009, 2011, 2011, 2010, 2010, 201...</td>\n",
       "      <td>[5, 5, 5, 5, 5, 4, 4, 4, 4, 5, 5]</td>\n",
       "      <td>[20, 5, 10, 14, 16, 13, 27, 28, 22, 1, 19]</td>\n",
       "      <td>[0.009252297225248, 0.0002755162747472, 0.0190...</td>\n",
       "      <td>11.0</td>\n",
       "    </tr>\n",
       "    <tr>\n",
       "      <th>3231662</th>\n",
       "      <td>98.0</td>\n",
       "      <td>107.0</td>\n",
       "      <td>52.0</td>\n",
       "      <td>NaN</td>\n",
       "      <td>75.42</td>\n",
       "      <td>36.22</td>\n",
       "      <td>87.0</td>\n",
       "      <td>-93.994880</td>\n",
       "      <td>51.812582</td>\n",
       "      <td>POLYGON ((-93.99302080199416 51.8136986428253,...</td>\n",
       "      <td>[2004, 2006, 2006, 2006, 2006, 2006, 2010, 201...</td>\n",
       "      <td>[5, 4, 7, 8, 9, 9, 5, 5, 5, 5, 5, 7]</td>\n",
       "      <td>[31, 25, 10, 11, 9, 10, 10, 13, 13, 21, 19, 7]</td>\n",
       "      <td>[0.0159743105265888, 0.0638972421065737, 0.015...</td>\n",
       "      <td>12.0</td>\n",
       "    </tr>\n",
       "  </tbody>\n",
       "</table>\n",
       "</div>"
      ],
      "text/plain": [
       "         age_2001  age_2011  age_2019  year_harvested  vol_2001  vol_2011  \\\n",
       "510800       73.0      48.0       NaN             NaN    116.84     98.49   \n",
       "2543437     105.0     112.0       NaN             NaN     47.55     36.79   \n",
       "2543438     112.0     101.0      48.0             NaN     69.46     48.20   \n",
       "2543554      59.0      68.0     151.0          2000.0     31.25     31.06   \n",
       "2543555      14.0      92.0       NaN          2000.0     17.15     68.60   \n",
       "3231662      98.0     107.0      52.0             NaN     75.42     36.22   \n",
       "\n",
       "         vol_2015        lon        lat  \\\n",
       "510800        NaN -89.261194  48.349536   \n",
       "2543437       NaN -90.231395  51.226783   \n",
       "2543438     167.5 -90.227797  51.226614   \n",
       "2543554      60.1 -90.230854  51.231301   \n",
       "2543555       NaN -90.231125  51.229042   \n",
       "3231662      87.0 -93.994880  51.812582   \n",
       "\n",
       "                                                  geometry  \\\n",
       "510800   POLYGON ((-89.25936661759084 48.35055212937501...   \n",
       "2543437  POLYGON ((-90.2294609558206 51.22782789303231,...   \n",
       "2543438  POLYGON ((-90.22586318985228 51.22765808479918...   \n",
       "2543554  POLYGON ((-90.22892020435611 51.23234587617902...   \n",
       "2543555  POLYGON ((-90.2291905953826 51.23008687681379,...   \n",
       "3231662  POLYGON ((-93.99302080199416 51.8136986428253,...   \n",
       "\n",
       "                                                      year  \\\n",
       "510800   [2003, 2004, 2005, 2004, 2006, 2010, 2012, 201...   \n",
       "2543437  [2003, 2009, 2007, 2011, 2011, 2010, 2010, 200...   \n",
       "2543438  [2003, 2005, 2005, 2006, 2007, 2008, 2007, 200...   \n",
       "2543554  [2004, 2005, 2005, 2009, 2010, 2011, 2012, 201...   \n",
       "2543555  [2005, 2009, 2009, 2011, 2011, 2010, 2010, 201...   \n",
       "3231662  [2004, 2006, 2006, 2006, 2006, 2006, 2010, 201...   \n",
       "\n",
       "                                                    month  \\\n",
       "510800                  [2, 5, 4, 4, 4, 4, 9, 8, 8, 4, 4]   \n",
       "2543437           [5, 5, 5, 5, 5, 4, 4, 5, 5, 5, 5, 5, 5]   \n",
       "2543438  [5, 4, 5, 8, 4, 6, 5, 5, 5, 5, 5, 4, 4, 5, 4, 5]   \n",
       "2543554                 [5, 5, 5, 5, 4, 6, 4, 4, 4, 4, 7]   \n",
       "2543555                 [5, 5, 5, 5, 5, 4, 4, 4, 4, 5, 5]   \n",
       "3231662              [5, 4, 7, 8, 9, 9, 5, 5, 5, 5, 5, 7]   \n",
       "\n",
       "                                                       day  \\\n",
       "510800             [5, 3, 12, 15, 5, 10, 18, 12, 1, 2, 23]   \n",
       "2543437  [5, 10, 9, 15, 16, 25, 28, 20, 20, 11, 14, 20,...   \n",
       "2543438  [5, 20, 6, 28, 25, 4, 4, 10, 11, 15, 16, 13, 2...   \n",
       "2543554         [23, 6, 20, 5, 21, 16, 28, 22, 13, 29, 23]   \n",
       "2543555         [20, 5, 10, 14, 16, 13, 27, 28, 22, 1, 19]   \n",
       "3231662     [31, 25, 10, 11, 9, 10, 10, 13, 13, 21, 19, 7]   \n",
       "\n",
       "                                       area_intersect_perc  number_fires  \n",
       "510800   [0.0159743105264336, 0.0159743105264336, 0.124...          11.0  \n",
       "2543437  [0.0791024721464891, 0.1300926315067332, 0.015...          13.0  \n",
       "2543438  [0.0007690792960745, 0.0319486210531279, 0.015...          16.0  \n",
       "2543554  [0.0101751777477629, 0.0098495400463428, 0.076...          11.0  \n",
       "2543555  [0.009252297225248, 0.0002755162747472, 0.0190...          11.0  \n",
       "3231662  [0.0159743105265888, 0.0638972421065737, 0.015...          12.0  "
      ]
     },
     "execution_count": 313,
     "metadata": {},
     "output_type": "execute_result"
    }
   ],
   "source": [
    "ON_forest_and_fires[ON_forest_and_fires.number_fires > 10]"
   ]
  },
  {
   "cell_type": "code",
   "execution_count": 88,
   "id": "4ceeb8e8",
   "metadata": {},
   "outputs": [
    {
     "data": {
      "text/html": [
       "<div>\n",
       "<style scoped>\n",
       "    .dataframe tbody tr th:only-of-type {\n",
       "        vertical-align: middle;\n",
       "    }\n",
       "\n",
       "    .dataframe tbody tr th {\n",
       "        vertical-align: top;\n",
       "    }\n",
       "\n",
       "    .dataframe thead th {\n",
       "        text-align: right;\n",
       "    }\n",
       "</style>\n",
       "<table border=\"1\" class=\"dataframe\">\n",
       "  <thead>\n",
       "    <tr style=\"text-align: right;\">\n",
       "      <th></th>\n",
       "      <th>age_2001</th>\n",
       "      <th>age_2011</th>\n",
       "      <th>age_2019</th>\n",
       "      <th>year_harvested</th>\n",
       "      <th>vol_2001</th>\n",
       "      <th>vol_2011</th>\n",
       "      <th>vol_2015</th>\n",
       "      <th>lon</th>\n",
       "      <th>lat</th>\n",
       "      <th>geometry</th>\n",
       "      <th>year</th>\n",
       "      <th>month</th>\n",
       "      <th>day</th>\n",
       "      <th>area_intersect_perc</th>\n",
       "      <th>number_fires</th>\n",
       "    </tr>\n",
       "  </thead>\n",
       "  <tbody>\n",
       "    <tr>\n",
       "      <th>0</th>\n",
       "      <td>104.0</td>\n",
       "      <td>NaN</td>\n",
       "      <td>NaN</td>\n",
       "      <td>NaN</td>\n",
       "      <td>8.55</td>\n",
       "      <td>NaN</td>\n",
       "      <td>NaN</td>\n",
       "      <td>-84.890501</td>\n",
       "      <td>46.906052</td>\n",
       "      <td>POLYGON ((-84.88863710751139 46.90697579711416...</td>\n",
       "      <td>NaN</td>\n",
       "      <td>NaN</td>\n",
       "      <td>NaN</td>\n",
       "      <td>NaN</td>\n",
       "      <td>NaN</td>\n",
       "    </tr>\n",
       "    <tr>\n",
       "      <th>1</th>\n",
       "      <td>104.0</td>\n",
       "      <td>NaN</td>\n",
       "      <td>NaN</td>\n",
       "      <td>NaN</td>\n",
       "      <td>8.55</td>\n",
       "      <td>NaN</td>\n",
       "      <td>NaN</td>\n",
       "      <td>-84.885743</td>\n",
       "      <td>46.912303</td>\n",
       "      <td>POLYGON ((-84.88387922029249 46.91322718112671...</td>\n",
       "      <td>NaN</td>\n",
       "      <td>NaN</td>\n",
       "      <td>NaN</td>\n",
       "      <td>NaN</td>\n",
       "      <td>NaN</td>\n",
       "    </tr>\n",
       "    <tr>\n",
       "      <th>2</th>\n",
       "      <td>104.0</td>\n",
       "      <td>NaN</td>\n",
       "      <td>NaN</td>\n",
       "      <td>NaN</td>\n",
       "      <td>8.55</td>\n",
       "      <td>NaN</td>\n",
       "      <td>NaN</td>\n",
       "      <td>-84.887410</td>\n",
       "      <td>46.919261</td>\n",
       "      <td>POLYGON ((-84.88554623463179 46.92018483757417...</td>\n",
       "      <td>NaN</td>\n",
       "      <td>NaN</td>\n",
       "      <td>NaN</td>\n",
       "      <td>NaN</td>\n",
       "      <td>NaN</td>\n",
       "    </tr>\n",
       "    <tr>\n",
       "      <th>3</th>\n",
       "      <td>104.0</td>\n",
       "      <td>NaN</td>\n",
       "      <td>NaN</td>\n",
       "      <td>NaN</td>\n",
       "      <td>8.55</td>\n",
       "      <td>NaN</td>\n",
       "      <td>NaN</td>\n",
       "      <td>-84.884197</td>\n",
       "      <td>46.918908</td>\n",
       "      <td>POLYGON ((-84.88233307531861 46.91983171613633...</td>\n",
       "      <td>NaN</td>\n",
       "      <td>NaN</td>\n",
       "      <td>NaN</td>\n",
       "      <td>NaN</td>\n",
       "      <td>NaN</td>\n",
       "    </tr>\n",
       "    <tr>\n",
       "      <th>4</th>\n",
       "      <td>57.0</td>\n",
       "      <td>NaN</td>\n",
       "      <td>NaN</td>\n",
       "      <td>NaN</td>\n",
       "      <td>38.69</td>\n",
       "      <td>NaN</td>\n",
       "      <td>NaN</td>\n",
       "      <td>-84.748565</td>\n",
       "      <td>46.962634</td>\n",
       "      <td>POLYGON ((-84.74669588337325 46.96355596569322...</td>\n",
       "      <td>NaN</td>\n",
       "      <td>NaN</td>\n",
       "      <td>NaN</td>\n",
       "      <td>NaN</td>\n",
       "      <td>NaN</td>\n",
       "    </tr>\n",
       "  </tbody>\n",
       "</table>\n",
       "</div>"
      ],
      "text/plain": [
       "   age_2001  age_2011  age_2019  year_harvested  vol_2001  vol_2011  vol_2015  \\\n",
       "0     104.0       NaN       NaN             NaN      8.55       NaN       NaN   \n",
       "1     104.0       NaN       NaN             NaN      8.55       NaN       NaN   \n",
       "2     104.0       NaN       NaN             NaN      8.55       NaN       NaN   \n",
       "3     104.0       NaN       NaN             NaN      8.55       NaN       NaN   \n",
       "4      57.0       NaN       NaN             NaN     38.69       NaN       NaN   \n",
       "\n",
       "         lon        lat                                           geometry  \\\n",
       "0 -84.890501  46.906052  POLYGON ((-84.88863710751139 46.90697579711416...   \n",
       "1 -84.885743  46.912303  POLYGON ((-84.88387922029249 46.91322718112671...   \n",
       "2 -84.887410  46.919261  POLYGON ((-84.88554623463179 46.92018483757417...   \n",
       "3 -84.884197  46.918908  POLYGON ((-84.88233307531861 46.91983171613633...   \n",
       "4 -84.748565  46.962634  POLYGON ((-84.74669588337325 46.96355596569322...   \n",
       "\n",
       "  year month  day area_intersect_perc  number_fires  \n",
       "0  NaN   NaN  NaN                 NaN           NaN  \n",
       "1  NaN   NaN  NaN                 NaN           NaN  \n",
       "2  NaN   NaN  NaN                 NaN           NaN  \n",
       "3  NaN   NaN  NaN                 NaN           NaN  \n",
       "4  NaN   NaN  NaN                 NaN           NaN  "
      ]
     },
     "execution_count": 88,
     "metadata": {},
     "output_type": "execute_result"
    }
   ],
   "source": [
    "ON_forest_and_fires.head()"
   ]
  },
  {
   "cell_type": "code",
   "execution_count": 89,
   "id": "65a7a59d",
   "metadata": {},
   "outputs": [
    {
     "data": {
      "text/html": [
       "<div>\n",
       "<style scoped>\n",
       "    .dataframe tbody tr th:only-of-type {\n",
       "        vertical-align: middle;\n",
       "    }\n",
       "\n",
       "    .dataframe tbody tr th {\n",
       "        vertical-align: top;\n",
       "    }\n",
       "\n",
       "    .dataframe thead th {\n",
       "        text-align: right;\n",
       "    }\n",
       "</style>\n",
       "<table border=\"1\" class=\"dataframe\">\n",
       "  <thead>\n",
       "    <tr style=\"text-align: right;\">\n",
       "      <th></th>\n",
       "      <th>age_2001</th>\n",
       "      <th>age_2011</th>\n",
       "      <th>age_2019</th>\n",
       "      <th>year_harvested</th>\n",
       "      <th>vol_2001</th>\n",
       "      <th>vol_2011</th>\n",
       "      <th>vol_2015</th>\n",
       "      <th>lon</th>\n",
       "      <th>lat</th>\n",
       "      <th>geometry</th>\n",
       "      <th>year</th>\n",
       "      <th>month</th>\n",
       "      <th>day</th>\n",
       "      <th>area_intersect_perc</th>\n",
       "      <th>number_fires</th>\n",
       "    </tr>\n",
       "  </thead>\n",
       "  <tbody>\n",
       "    <tr>\n",
       "      <th>96800</th>\n",
       "      <td>84.0</td>\n",
       "      <td>82.0</td>\n",
       "      <td>37.0</td>\n",
       "      <td>NaN</td>\n",
       "      <td>104.70</td>\n",
       "      <td>170.61</td>\n",
       "      <td>125.9</td>\n",
       "      <td>-86.016598</td>\n",
       "      <td>48.602547</td>\n",
       "      <td>POLYGON ((-86.01468481447249 48.60350038057078...</td>\n",
       "      <td>[2001, 2001]</td>\n",
       "      <td>[8, 7]</td>\n",
       "      <td>[13, 31]</td>\n",
       "      <td>[0.0159743105265227, 0.0159743105265227]</td>\n",
       "      <td>2.0</td>\n",
       "    </tr>\n",
       "    <tr>\n",
       "      <th>98679</th>\n",
       "      <td>87.0</td>\n",
       "      <td>78.0</td>\n",
       "      <td>64.0</td>\n",
       "      <td>NaN</td>\n",
       "      <td>197.53</td>\n",
       "      <td>101.76</td>\n",
       "      <td>NaN</td>\n",
       "      <td>-85.979753</td>\n",
       "      <td>48.678436</td>\n",
       "      <td>POLYGON ((-85.97783522787022 48.67938878672491...</td>\n",
       "      <td>[2011, 2016]</td>\n",
       "      <td>[7, 8]</td>\n",
       "      <td>[25, 2]</td>\n",
       "      <td>[0.0319486210530767, 0.0007839059283847]</td>\n",
       "      <td>2.0</td>\n",
       "    </tr>\n",
       "    <tr>\n",
       "      <th>108515</th>\n",
       "      <td>57.0</td>\n",
       "      <td>57.0</td>\n",
       "      <td>103.0</td>\n",
       "      <td>NaN</td>\n",
       "      <td>88.01</td>\n",
       "      <td>88.01</td>\n",
       "      <td>173.3</td>\n",
       "      <td>-85.634417</td>\n",
       "      <td>48.690536</td>\n",
       "      <td>POLYGON ((-85.632490369479 48.691481892466626,...</td>\n",
       "      <td>[2007, 2018]</td>\n",
       "      <td>[4, 5]</td>\n",
       "      <td>[25, 12]</td>\n",
       "      <td>[0.0667242713114235, 0.221123112538368]</td>\n",
       "      <td>2.0</td>\n",
       "    </tr>\n",
       "    <tr>\n",
       "      <th>108521</th>\n",
       "      <td>76.0</td>\n",
       "      <td>76.0</td>\n",
       "      <td>NaN</td>\n",
       "      <td>NaN</td>\n",
       "      <td>60.61</td>\n",
       "      <td>84.04</td>\n",
       "      <td>NaN</td>\n",
       "      <td>-85.623854</td>\n",
       "      <td>48.691768</td>\n",
       "      <td>POLYGON ((-85.62192771436844 48.69271393373703...</td>\n",
       "      <td>[2009, 2019]</td>\n",
       "      <td>[6, 5]</td>\n",
       "      <td>[8, 11]</td>\n",
       "      <td>[0.0066296644271527, 0.041429601921837]</td>\n",
       "      <td>2.0</td>\n",
       "    </tr>\n",
       "    <tr>\n",
       "      <th>108524</th>\n",
       "      <td>95.0</td>\n",
       "      <td>73.0</td>\n",
       "      <td>64.0</td>\n",
       "      <td>NaN</td>\n",
       "      <td>61.79</td>\n",
       "      <td>64.73</td>\n",
       "      <td>179.4</td>\n",
       "      <td>-85.627209</td>\n",
       "      <td>48.692098</td>\n",
       "      <td>POLYGON ((-85.62528264154028 48.69304374218294...</td>\n",
       "      <td>[2003, 2007, 2010]</td>\n",
       "      <td>[9, 4, 3]</td>\n",
       "      <td>[5, 25, 16]</td>\n",
       "      <td>[0.1723697363340366, 0.0159743105265517, 0.239...</td>\n",
       "      <td>3.0</td>\n",
       "    </tr>\n",
       "  </tbody>\n",
       "</table>\n",
       "</div>"
      ],
      "text/plain": [
       "        age_2001  age_2011  age_2019  year_harvested  vol_2001  vol_2011  \\\n",
       "96800       84.0      82.0      37.0             NaN    104.70    170.61   \n",
       "98679       87.0      78.0      64.0             NaN    197.53    101.76   \n",
       "108515      57.0      57.0     103.0             NaN     88.01     88.01   \n",
       "108521      76.0      76.0       NaN             NaN     60.61     84.04   \n",
       "108524      95.0      73.0      64.0             NaN     61.79     64.73   \n",
       "\n",
       "        vol_2015        lon        lat  \\\n",
       "96800      125.9 -86.016598  48.602547   \n",
       "98679        NaN -85.979753  48.678436   \n",
       "108515     173.3 -85.634417  48.690536   \n",
       "108521       NaN -85.623854  48.691768   \n",
       "108524     179.4 -85.627209  48.692098   \n",
       "\n",
       "                                                 geometry                year  \\\n",
       "96800   POLYGON ((-86.01468481447249 48.60350038057078...        [2001, 2001]   \n",
       "98679   POLYGON ((-85.97783522787022 48.67938878672491...        [2011, 2016]   \n",
       "108515  POLYGON ((-85.632490369479 48.691481892466626,...        [2007, 2018]   \n",
       "108521  POLYGON ((-85.62192771436844 48.69271393373703...        [2009, 2019]   \n",
       "108524  POLYGON ((-85.62528264154028 48.69304374218294...  [2003, 2007, 2010]   \n",
       "\n",
       "            month          day  \\\n",
       "96800      [8, 7]     [13, 31]   \n",
       "98679      [7, 8]      [25, 2]   \n",
       "108515     [4, 5]     [25, 12]   \n",
       "108521     [6, 5]      [8, 11]   \n",
       "108524  [9, 4, 3]  [5, 25, 16]   \n",
       "\n",
       "                                      area_intersect_perc  number_fires  \n",
       "96800            [0.0159743105265227, 0.0159743105265227]           2.0  \n",
       "98679            [0.0319486210530767, 0.0007839059283847]           2.0  \n",
       "108515            [0.0667242713114235, 0.221123112538368]           2.0  \n",
       "108521            [0.0066296644271527, 0.041429601921837]           2.0  \n",
       "108524  [0.1723697363340366, 0.0159743105265517, 0.239...           3.0  "
      ]
     },
     "execution_count": 89,
     "metadata": {},
     "output_type": "execute_result"
    }
   ],
   "source": [
    "ON_forest_and_fires[(~ON_forest_and_fires.year.isna()) & (ON_forest_and_fires.number_fires > 1)].head()"
   ]
  },
  {
   "cell_type": "markdown",
   "id": "f851353b",
   "metadata": {},
   "source": [
    "Everything looks good. Lets go ahead and save it to our drive as a safekeep."
   ]
  },
  {
   "cell_type": "code",
   "execution_count": 92,
   "id": "2e34e97f",
   "metadata": {},
   "outputs": [],
   "source": [
    "ON_forest_and_fires.to_csv(path+\"\\\\\"+\"ON_forest_and_fires.csv.gz\",compression='gzip',header=ON_forest_and_fires.columns)"
   ]
  },
  {
   "cell_type": "markdown",
   "id": "8d32871d",
   "metadata": {},
   "source": [
    "## 5) Exploring the Data\n",
    "Lets take a look at some of the columns. We have two main categories, aside from the harvest years columns; (1) the age of forests and (2) the volume density of forests in Ontario. For each catergory, we have three points in time. \n",
    "\n",
    "Lets take a look at how this data looks. To make visualization easier, lets only look that the rows without nan value."
   ]
  },
  {
   "cell_type": "markdown",
   "source": [
    "### 5 alternate) Only do cell 179 to 181 if you need to re-import the data"
   ],
   "metadata": {
    "collapsed": false
   },
   "id": "76b5b01b8f44e082"
  },
  {
   "cell_type": "code",
   "execution_count": 6,
   "outputs": [
    {
     "name": "stderr",
     "output_type": "stream",
     "text": [
      "C:\\Users\\Antoine Pepin\\AppData\\Local\\Temp\\ipykernel_14804\\841440765.py:1: DtypeWarning: Columns (11,12,13,14) have mixed types. Specify dtype option on import or set low_memory=False.\n",
      "  ON_forest_and_fires = pd.read_csv(path+\"\\\\\"+\"ON_forest_and_fires.csv.gz\",compression='gzip',index_col=0)\n"
     ]
    },
    {
     "data": {
      "text/plain": "   age_2001  age_2011  age_2019  year_harvested  vol_2001  vol_2011  vol_2015  \\\n0     104.0       NaN       NaN             NaN      8.55       NaN       NaN   \n1     104.0       NaN       NaN             NaN      8.55       NaN       NaN   \n2     104.0       NaN       NaN             NaN      8.55       NaN       NaN   \n3     104.0       NaN       NaN             NaN      8.55       NaN       NaN   \n4      57.0       NaN       NaN             NaN     38.69       NaN       NaN   \n\n         lon        lat                                           geometry  \\\n0 -84.890501  46.906052  POLYGON ((-84.88863710751139 46.90697579711416...   \n1 -84.885743  46.912303  POLYGON ((-84.88387922029249 46.91322718112671...   \n2 -84.887410  46.919261  POLYGON ((-84.88554623463179 46.92018483757417...   \n3 -84.884197  46.918908  POLYGON ((-84.88233307531861 46.91983171613633...   \n4 -84.748565  46.962634  POLYGON ((-84.74669588337325 46.96355596569322...   \n\n  year month  day area_intersect_perc  number_fires  \n0  NaN   NaN  NaN                 NaN           NaN  \n1  NaN   NaN  NaN                 NaN           NaN  \n2  NaN   NaN  NaN                 NaN           NaN  \n3  NaN   NaN  NaN                 NaN           NaN  \n4  NaN   NaN  NaN                 NaN           NaN  ",
      "text/html": "<div>\n<style scoped>\n    .dataframe tbody tr th:only-of-type {\n        vertical-align: middle;\n    }\n\n    .dataframe tbody tr th {\n        vertical-align: top;\n    }\n\n    .dataframe thead th {\n        text-align: right;\n    }\n</style>\n<table border=\"1\" class=\"dataframe\">\n  <thead>\n    <tr style=\"text-align: right;\">\n      <th></th>\n      <th>age_2001</th>\n      <th>age_2011</th>\n      <th>age_2019</th>\n      <th>year_harvested</th>\n      <th>vol_2001</th>\n      <th>vol_2011</th>\n      <th>vol_2015</th>\n      <th>lon</th>\n      <th>lat</th>\n      <th>geometry</th>\n      <th>year</th>\n      <th>month</th>\n      <th>day</th>\n      <th>area_intersect_perc</th>\n      <th>number_fires</th>\n    </tr>\n  </thead>\n  <tbody>\n    <tr>\n      <th>0</th>\n      <td>104.0</td>\n      <td>NaN</td>\n      <td>NaN</td>\n      <td>NaN</td>\n      <td>8.55</td>\n      <td>NaN</td>\n      <td>NaN</td>\n      <td>-84.890501</td>\n      <td>46.906052</td>\n      <td>POLYGON ((-84.88863710751139 46.90697579711416...</td>\n      <td>NaN</td>\n      <td>NaN</td>\n      <td>NaN</td>\n      <td>NaN</td>\n      <td>NaN</td>\n    </tr>\n    <tr>\n      <th>1</th>\n      <td>104.0</td>\n      <td>NaN</td>\n      <td>NaN</td>\n      <td>NaN</td>\n      <td>8.55</td>\n      <td>NaN</td>\n      <td>NaN</td>\n      <td>-84.885743</td>\n      <td>46.912303</td>\n      <td>POLYGON ((-84.88387922029249 46.91322718112671...</td>\n      <td>NaN</td>\n      <td>NaN</td>\n      <td>NaN</td>\n      <td>NaN</td>\n      <td>NaN</td>\n    </tr>\n    <tr>\n      <th>2</th>\n      <td>104.0</td>\n      <td>NaN</td>\n      <td>NaN</td>\n      <td>NaN</td>\n      <td>8.55</td>\n      <td>NaN</td>\n      <td>NaN</td>\n      <td>-84.887410</td>\n      <td>46.919261</td>\n      <td>POLYGON ((-84.88554623463179 46.92018483757417...</td>\n      <td>NaN</td>\n      <td>NaN</td>\n      <td>NaN</td>\n      <td>NaN</td>\n      <td>NaN</td>\n    </tr>\n    <tr>\n      <th>3</th>\n      <td>104.0</td>\n      <td>NaN</td>\n      <td>NaN</td>\n      <td>NaN</td>\n      <td>8.55</td>\n      <td>NaN</td>\n      <td>NaN</td>\n      <td>-84.884197</td>\n      <td>46.918908</td>\n      <td>POLYGON ((-84.88233307531861 46.91983171613633...</td>\n      <td>NaN</td>\n      <td>NaN</td>\n      <td>NaN</td>\n      <td>NaN</td>\n      <td>NaN</td>\n    </tr>\n    <tr>\n      <th>4</th>\n      <td>57.0</td>\n      <td>NaN</td>\n      <td>NaN</td>\n      <td>NaN</td>\n      <td>38.69</td>\n      <td>NaN</td>\n      <td>NaN</td>\n      <td>-84.748565</td>\n      <td>46.962634</td>\n      <td>POLYGON ((-84.74669588337325 46.96355596569322...</td>\n      <td>NaN</td>\n      <td>NaN</td>\n      <td>NaN</td>\n      <td>NaN</td>\n      <td>NaN</td>\n    </tr>\n  </tbody>\n</table>\n</div>"
     },
     "execution_count": 6,
     "metadata": {},
     "output_type": "execute_result"
    }
   ],
   "source": [
    "ON_forest_and_fires = pd.read_csv(path+\"\\\\\"+\"ON_forest_and_fires.csv.gz\",compression='gzip',index_col=0)\n",
    "ON_forest_and_fires.head()"
   ],
   "metadata": {
    "collapsed": false,
    "ExecuteTime": {
     "end_time": "2023-11-25T16:36:49.867432200Z",
     "start_time": "2023-11-25T16:35:43.357286900Z"
    }
   },
   "id": "1b0fc341003f4e95"
  },
  {
   "cell_type": "code",
   "execution_count": 7,
   "outputs": [
    {
     "data": {
      "text/plain": "   age_2001  age_2011  age_2019  year_harvested  vol_2001  vol_2011  vol_2015  \\\n0     104.0       NaN       NaN             NaN      8.55       NaN       NaN   \n1     104.0       NaN       NaN             NaN      8.55       NaN       NaN   \n2     104.0       NaN       NaN             NaN      8.55       NaN       NaN   \n3     104.0       NaN       NaN             NaN      8.55       NaN       NaN   \n4      57.0       NaN       NaN             NaN     38.69       NaN       NaN   \n\n         lon        lat                                           geometry  \\\n0 -84.890501  46.906052  POLYGON ((-84.88863710751139 46.90697579711416...   \n1 -84.885743  46.912303  POLYGON ((-84.88387922029249 46.91322718112671...   \n2 -84.887410  46.919261  POLYGON ((-84.88554623463179 46.92018483757417...   \n3 -84.884197  46.918908  POLYGON ((-84.88233307531861 46.91983171613633...   \n4 -84.748565  46.962634  POLYGON ((-84.74669588337325 46.96355596569322...   \n\n  year month  day area_intersect_perc  number_fires  \n0  NaN   NaN  NaN                 NaN           NaN  \n1  NaN   NaN  NaN                 NaN           NaN  \n2  NaN   NaN  NaN                 NaN           NaN  \n3  NaN   NaN  NaN                 NaN           NaN  \n4  NaN   NaN  NaN                 NaN           NaN  ",
      "text/html": "<div>\n<style scoped>\n    .dataframe tbody tr th:only-of-type {\n        vertical-align: middle;\n    }\n\n    .dataframe tbody tr th {\n        vertical-align: top;\n    }\n\n    .dataframe thead th {\n        text-align: right;\n    }\n</style>\n<table border=\"1\" class=\"dataframe\">\n  <thead>\n    <tr style=\"text-align: right;\">\n      <th></th>\n      <th>age_2001</th>\n      <th>age_2011</th>\n      <th>age_2019</th>\n      <th>year_harvested</th>\n      <th>vol_2001</th>\n      <th>vol_2011</th>\n      <th>vol_2015</th>\n      <th>lon</th>\n      <th>lat</th>\n      <th>geometry</th>\n      <th>year</th>\n      <th>month</th>\n      <th>day</th>\n      <th>area_intersect_perc</th>\n      <th>number_fires</th>\n    </tr>\n  </thead>\n  <tbody>\n    <tr>\n      <th>0</th>\n      <td>104.0</td>\n      <td>NaN</td>\n      <td>NaN</td>\n      <td>NaN</td>\n      <td>8.55</td>\n      <td>NaN</td>\n      <td>NaN</td>\n      <td>-84.890501</td>\n      <td>46.906052</td>\n      <td>POLYGON ((-84.88863710751139 46.90697579711416...</td>\n      <td>NaN</td>\n      <td>NaN</td>\n      <td>NaN</td>\n      <td>NaN</td>\n      <td>NaN</td>\n    </tr>\n    <tr>\n      <th>1</th>\n      <td>104.0</td>\n      <td>NaN</td>\n      <td>NaN</td>\n      <td>NaN</td>\n      <td>8.55</td>\n      <td>NaN</td>\n      <td>NaN</td>\n      <td>-84.885743</td>\n      <td>46.912303</td>\n      <td>POLYGON ((-84.88387922029249 46.91322718112671...</td>\n      <td>NaN</td>\n      <td>NaN</td>\n      <td>NaN</td>\n      <td>NaN</td>\n      <td>NaN</td>\n    </tr>\n    <tr>\n      <th>2</th>\n      <td>104.0</td>\n      <td>NaN</td>\n      <td>NaN</td>\n      <td>NaN</td>\n      <td>8.55</td>\n      <td>NaN</td>\n      <td>NaN</td>\n      <td>-84.887410</td>\n      <td>46.919261</td>\n      <td>POLYGON ((-84.88554623463179 46.92018483757417...</td>\n      <td>NaN</td>\n      <td>NaN</td>\n      <td>NaN</td>\n      <td>NaN</td>\n      <td>NaN</td>\n    </tr>\n    <tr>\n      <th>3</th>\n      <td>104.0</td>\n      <td>NaN</td>\n      <td>NaN</td>\n      <td>NaN</td>\n      <td>8.55</td>\n      <td>NaN</td>\n      <td>NaN</td>\n      <td>-84.884197</td>\n      <td>46.918908</td>\n      <td>POLYGON ((-84.88233307531861 46.91983171613633...</td>\n      <td>NaN</td>\n      <td>NaN</td>\n      <td>NaN</td>\n      <td>NaN</td>\n      <td>NaN</td>\n    </tr>\n    <tr>\n      <th>4</th>\n      <td>57.0</td>\n      <td>NaN</td>\n      <td>NaN</td>\n      <td>NaN</td>\n      <td>38.69</td>\n      <td>NaN</td>\n      <td>NaN</td>\n      <td>-84.748565</td>\n      <td>46.962634</td>\n      <td>POLYGON ((-84.74669588337325 46.96355596569322...</td>\n      <td>NaN</td>\n      <td>NaN</td>\n      <td>NaN</td>\n      <td>NaN</td>\n      <td>NaN</td>\n    </tr>\n  </tbody>\n</table>\n</div>"
     },
     "execution_count": 7,
     "metadata": {},
     "output_type": "execute_result"
    }
   ],
   "source": [
    "ON_forest_and_fires['year']=ON_forest_and_fires.year.str.strip(\"][\")\n",
    "ON_forest_and_fires['year']=ON_forest_and_fires.year.str.split(\", \")\n",
    "ON_forest_and_fires['month']=ON_forest_and_fires.month.str.strip(\"][\")\n",
    "ON_forest_and_fires['month']=ON_forest_and_fires.month.str.split(\", \")\n",
    "ON_forest_and_fires['day']=ON_forest_and_fires.day.str.strip(\"][\")\n",
    "ON_forest_and_fires['day']=ON_forest_and_fires.day.str.split(\", \")\n",
    "ON_forest_and_fires['area_intersect_perc']=ON_forest_and_fires.area_intersect_perc.str.strip(\"][\")\n",
    "ON_forest_and_fires['area_intersect_perc']=ON_forest_and_fires.area_intersect_perc.str.split(\", \")\n",
    "ON_forest_and_fires.head()"
   ],
   "metadata": {
    "collapsed": false,
    "ExecuteTime": {
     "end_time": "2023-11-25T16:37:04.931428800Z",
     "start_time": "2023-11-25T16:36:52.748811700Z"
    }
   },
   "id": "7f98127e5d31ea04"
  },
  {
   "cell_type": "code",
   "execution_count": 8,
   "outputs": [
    {
     "name": "stdout",
     "output_type": "stream",
     "text": [
      "<class 'pandas.core.frame.DataFrame'>\n",
      "Index: 15123785 entries, 0 to 15123784\n",
      "Data columns (total 15 columns):\n",
      " #   Column               Dtype  \n",
      "---  ------               -----  \n",
      " 0   age_2001             float64\n",
      " 1   age_2011             float64\n",
      " 2   age_2019             float64\n",
      " 3   year_harvested       float64\n",
      " 4   vol_2001             float64\n",
      " 5   vol_2011             float64\n",
      " 6   vol_2015             float64\n",
      " 7   lon                  float64\n",
      " 8   lat                  float64\n",
      " 9   geometry             object \n",
      " 10  year                 object \n",
      " 11  month                object \n",
      " 12  day                  object \n",
      " 13  area_intersect_perc  object \n",
      " 14  number_fires         float64\n",
      "dtypes: float64(10), object(5)\n",
      "memory usage: 1.8+ GB\n"
     ]
    }
   ],
   "source": [
    "ON_forest_and_fires.info()"
   ],
   "metadata": {
    "collapsed": false,
    "ExecuteTime": {
     "end_time": "2023-11-25T16:37:04.965329400Z",
     "start_time": "2023-11-25T16:37:04.930432300Z"
    }
   },
   "id": "8d511c0a13d40eab"
  },
  {
   "cell_type": "code",
   "execution_count": 174,
   "id": "e61df85f",
   "metadata": {
    "ExecuteTime": {
     "end_time": "2023-11-24T22:10:22.846769400Z",
     "start_time": "2023-11-24T22:10:19.934652700Z"
    }
   },
   "outputs": [
    {
     "data": {
      "text/plain": "       age_2001  age_2011  age_2019  year_harvested  vol_2001  vol_2011  \\\n19896      78.0      39.0      19.0          2000.0     79.80     92.13   \n37433      58.0      15.0      16.0          2003.0    106.51     18.07   \n37443      91.0      27.0      47.0          2003.0    168.01     73.06   \n41341      32.0      25.0      18.0          2001.0     20.62     10.13   \n41775      70.0      64.0      17.0          2002.0    117.95     24.30   \n\n       vol_2015        lon        lat  \\\n19896      22.3 -85.380952  48.093603   \n37433      17.5 -84.848203  48.226017   \n37443      17.7 -84.851515  48.226373   \n41341     133.4 -84.930238  48.266584   \n41775      15.8 -84.959025  48.274188   \n\n                                                geometry      year  month  \\\n19896  POLYGON ((-85.37904735118187 48.09454110770255...  [2012.0]  [7.0]   \n37433  POLYGON ((-84.84628034743098 48.22694487022099...  [2004.0]  [6.0]   \n37443  POLYGON ((-84.84959228555931 48.22730110451564...  [2004.0]  [6.0]   \n41341  POLYGON ((-84.92831500888651 48.26751368669805...  [2014.0]  [8.0]   \n41775  POLYGON ((-84.95710307661832 48.27511836207139...  [2001.0]  [8.0]   \n\n          day   area_intersect_perc  number_fires  \n19896  [18.0]  [0.0003853716855485]           1.0  \n37433  [19.0]  [0.1087929503554119]           1.0  \n37443  [19.0]  [0.0349758384347726]           1.0  \n41341   [3.0]  [0.0022646724981402]           1.0  \n41775   [8.0]  [0.0159743105264925]           1.0  ",
      "text/html": "<div>\n<style scoped>\n    .dataframe tbody tr th:only-of-type {\n        vertical-align: middle;\n    }\n\n    .dataframe tbody tr th {\n        vertical-align: top;\n    }\n\n    .dataframe thead th {\n        text-align: right;\n    }\n</style>\n<table border=\"1\" class=\"dataframe\">\n  <thead>\n    <tr style=\"text-align: right;\">\n      <th></th>\n      <th>age_2001</th>\n      <th>age_2011</th>\n      <th>age_2019</th>\n      <th>year_harvested</th>\n      <th>vol_2001</th>\n      <th>vol_2011</th>\n      <th>vol_2015</th>\n      <th>lon</th>\n      <th>lat</th>\n      <th>geometry</th>\n      <th>year</th>\n      <th>month</th>\n      <th>day</th>\n      <th>area_intersect_perc</th>\n      <th>number_fires</th>\n    </tr>\n  </thead>\n  <tbody>\n    <tr>\n      <th>19896</th>\n      <td>78.0</td>\n      <td>39.0</td>\n      <td>19.0</td>\n      <td>2000.0</td>\n      <td>79.80</td>\n      <td>92.13</td>\n      <td>22.3</td>\n      <td>-85.380952</td>\n      <td>48.093603</td>\n      <td>POLYGON ((-85.37904735118187 48.09454110770255...</td>\n      <td>[2012.0]</td>\n      <td>[7.0]</td>\n      <td>[18.0]</td>\n      <td>[0.0003853716855485]</td>\n      <td>1.0</td>\n    </tr>\n    <tr>\n      <th>37433</th>\n      <td>58.0</td>\n      <td>15.0</td>\n      <td>16.0</td>\n      <td>2003.0</td>\n      <td>106.51</td>\n      <td>18.07</td>\n      <td>17.5</td>\n      <td>-84.848203</td>\n      <td>48.226017</td>\n      <td>POLYGON ((-84.84628034743098 48.22694487022099...</td>\n      <td>[2004.0]</td>\n      <td>[6.0]</td>\n      <td>[19.0]</td>\n      <td>[0.1087929503554119]</td>\n      <td>1.0</td>\n    </tr>\n    <tr>\n      <th>37443</th>\n      <td>91.0</td>\n      <td>27.0</td>\n      <td>47.0</td>\n      <td>2003.0</td>\n      <td>168.01</td>\n      <td>73.06</td>\n      <td>17.7</td>\n      <td>-84.851515</td>\n      <td>48.226373</td>\n      <td>POLYGON ((-84.84959228555931 48.22730110451564...</td>\n      <td>[2004.0]</td>\n      <td>[6.0]</td>\n      <td>[19.0]</td>\n      <td>[0.0349758384347726]</td>\n      <td>1.0</td>\n    </tr>\n    <tr>\n      <th>41341</th>\n      <td>32.0</td>\n      <td>25.0</td>\n      <td>18.0</td>\n      <td>2001.0</td>\n      <td>20.62</td>\n      <td>10.13</td>\n      <td>133.4</td>\n      <td>-84.930238</td>\n      <td>48.266584</td>\n      <td>POLYGON ((-84.92831500888651 48.26751368669805...</td>\n      <td>[2014.0]</td>\n      <td>[8.0]</td>\n      <td>[3.0]</td>\n      <td>[0.0022646724981402]</td>\n      <td>1.0</td>\n    </tr>\n    <tr>\n      <th>41775</th>\n      <td>70.0</td>\n      <td>64.0</td>\n      <td>17.0</td>\n      <td>2002.0</td>\n      <td>117.95</td>\n      <td>24.30</td>\n      <td>15.8</td>\n      <td>-84.959025</td>\n      <td>48.274188</td>\n      <td>POLYGON ((-84.95710307661832 48.27511836207139...</td>\n      <td>[2001.0]</td>\n      <td>[8.0]</td>\n      <td>[8.0]</td>\n      <td>[0.0159743105264925]</td>\n      <td>1.0</td>\n    </tr>\n  </tbody>\n</table>\n</div>"
     },
     "execution_count": 174,
     "metadata": {},
     "output_type": "execute_result"
    }
   ],
   "source": [
    "ON_forest_and_fires[~ON_forest_and_fires.isnull().any(axis=1)].head()"
   ]
  },
  {
   "cell_type": "markdown",
   "id": "0606bc61",
   "metadata": {},
   "source": [
    "We can see that the data is not fool proof. For example, row 19896 has the following information:\n",
    "- Age in 2001: 78.0\n",
    "- Age in 2011: 39.0 \n",
    "- Age in 2019: 19.0\n",
    "- Year Harvested: 2000\n",
    "- Vol in 2001: 79.8\n",
    "- Vol in 2011: 92.13\n",
    "- Vol in 2015: 22.3\n",
    "\n",
    "There is also a fire that happened in 2012 that burned about 0.3 % of the coordinate geometry.\n",
    "\n",
    "So, in general the data goes in the right direction, but it is not 100% accurate. If base everything from an age of 78 in 2011, then in 2011 the forest should be 88 years old, but the data says 39 years. Also, since it was harvested in 2000, then the age in 2019 should be 19, which is correct. But these two sets dont agree. Further, the volume should increase if not harvested, which it does from 2001 to 2011, but then decreases in 2015. Also, there was a partial fire in these coordinates in 2012.\n",
    "\n",
    "So we cannot directly use each column for our analytics and modelling. Our goal is to generate an estimated age and volume for each year, weather or not the pixel was harvested, if there was a forest fire, etc. For that we need to interpolate bewteen the data we actually have"
   ]
  },
  {
   "cell_type": "markdown",
   "id": "e3d20283",
   "metadata": {},
   "source": [
    "## 6) Manipulating the Data\n",
    "That being said, based on some quick research the follwoing can be said about age and volume density:\n",
    "- Age: age is linear, on a 1 to 1 slope, defined by the folowing equation: [Y = mx + b] where Y is the age, x is the year m is the slope of 1 and b is the y axis intercept (i.e age in 2001).\n",
    "- Volume: volume/size/hieght to age relationships can be defined as sigmoidal, and can be grossly defined by the following equation:  [ln Y = a +  b x (1 / A)](https://fennerschool-associated.anu.edu.au/mensuration/BrackandWood1998/T_GROWTH.HTM#:~:text=Equations%20to%20predict%20size%2Fage,a%20and%20b%20denote%20coefficients.) where Y is a parameter of growth (dbh, height, volume), A is age and a and b denote coefficients.\n",
    "\n",
    "We are goind to make the following assumtion while we interpolate the data:\n",
    "- Age is one to one slope\n",
    "- Volumne is sigmoidal distribution with ranges of coefficients specified as a>0 and b<0.\n",
    "- When a coordinate is harvested, we will add a data point of that harvest year as the age being zero to compute the avearge age intercep term for linerization beyond that point\n",
    "- When a fire occured on a coordinate, its age and volume will be reduced byt the percent of area that was burned. "
   ]
  },
  {
   "cell_type": "markdown",
   "id": "a4e1bd88",
   "metadata": {},
   "source": [
    "### Age Data Linear Interpolation"
   ]
  },
  {
   "cell_type": "markdown",
   "id": "9f41b59c",
   "metadata": {},
   "source": [
    "We need to come up with a way to calculate the average intercept based on a slope. This funciton can be used in the future to interpolate with the data. Here is an example of how it is built, followed by the function itself. "
   ]
  },
  {
   "cell_type": "code",
   "execution_count": 9,
   "id": "b17cee33",
   "metadata": {
    "ExecuteTime": {
     "end_time": "2023-11-25T16:37:16.723528700Z",
     "start_time": "2023-11-25T16:37:16.666657900Z"
    }
   },
   "outputs": [
    {
     "data": {
      "text/plain": "array([2001, 2011, 2019])"
     },
     "execution_count": 9,
     "metadata": {},
     "output_type": "execute_result"
    }
   ],
   "source": [
    "x = np.array([2001,2011,2019])\n",
    "x"
   ]
  },
  {
   "cell_type": "code",
   "execution_count": 10,
   "id": "0bbd9a43",
   "metadata": {
    "ExecuteTime": {
     "end_time": "2023-11-25T16:37:17.033117900Z",
     "start_time": "2023-11-25T16:37:16.920465800Z"
    }
   },
   "outputs": [
    {
     "data": {
      "text/plain": "array([63.0, 85.0, 65.0], dtype=object)"
     },
     "execution_count": 10,
     "metadata": {},
     "output_type": "execute_result"
    }
   ],
   "source": [
    "y = np.array(ON_forest_and_fires.loc[1000][['age_2001','age_2011','age_2019']])\n",
    "y"
   ]
  },
  {
   "cell_type": "markdown",
   "id": "b7a34019",
   "metadata": {},
   "source": [
    "We can compute the average intercep by getting the b intercept for each point and taking average, by fixing our slope to 1"
   ]
  },
  {
   "cell_type": "code",
   "execution_count": 11,
   "id": "53a11cf9",
   "metadata": {
    "ExecuteTime": {
     "end_time": "2023-11-25T16:37:17.482752700Z",
     "start_time": "2023-11-25T16:37:17.430759800Z"
    }
   },
   "outputs": [],
   "source": [
    "b_array = (y-x)"
   ]
  },
  {
   "cell_type": "code",
   "execution_count": 12,
   "id": "59c3138a",
   "metadata": {
    "ExecuteTime": {
     "end_time": "2023-11-25T16:37:17.765602900Z",
     "start_time": "2023-11-25T16:37:17.680697400Z"
    }
   },
   "outputs": [
    {
     "data": {
      "text/plain": "-1939.3333333333333"
     },
     "execution_count": 12,
     "metadata": {},
     "output_type": "execute_result"
    }
   ],
   "source": [
    "np.mean(b_array)"
   ]
  },
  {
   "cell_type": "markdown",
   "id": "f9f154b5",
   "metadata": {},
   "source": [
    "Now, lets create a plot that contains the actual data and the interpolation"
   ]
  },
  {
   "cell_type": "code",
   "execution_count": 13,
   "id": "05618018",
   "metadata": {
    "ExecuteTime": {
     "end_time": "2023-11-25T16:37:18.099624400Z",
     "start_time": "2023-11-25T16:37:18.058286300Z"
    }
   },
   "outputs": [],
   "source": [
    "x_int = np.arange(2000,2025,1)\n",
    "y_int = x_int + np.mean(b_array)"
   ]
  },
  {
   "cell_type": "code",
   "execution_count": 14,
   "id": "cd17a9b5",
   "metadata": {
    "ExecuteTime": {
     "end_time": "2023-11-25T16:37:19.058984300Z",
     "start_time": "2023-11-25T16:37:18.812295200Z"
    }
   },
   "outputs": [
    {
     "data": {
      "text/plain": "[<matplotlib.lines.Line2D at 0x2391ce7abd0>]"
     },
     "execution_count": 14,
     "metadata": {},
     "output_type": "execute_result"
    },
    {
     "data": {
      "text/plain": "<Figure size 640x480 with 1 Axes>",
      "image/png": "[encoded data removed]"
     },
     "metadata": {},
     "output_type": "display_data"
    }
   ],
   "source": [
    "ax = plt.scatter(x,y)\n",
    "plt.title(\"Age of fores with linear regression\")\n",
    "plt.xlabel('Year')\n",
    "plt.ylabel('Age in years')\n",
    "plt.plot(x_int,y_int)"
   ]
  },
  {
   "cell_type": "markdown",
   "id": "776cc46a",
   "metadata": {},
   "source": [
    "Our pipeline is good. We can now build a function"
   ]
  },
  {
   "cell_type": "code",
   "execution_count": 15,
   "id": "3d6f5ff6",
   "metadata": {
    "ExecuteTime": {
     "end_time": "2023-11-25T16:37:25.100706600Z",
     "start_time": "2023-11-25T16:37:25.020199300Z"
    }
   },
   "outputs": [],
   "source": [
    "def linear_reg_fixed_slope(x_list,y_list,m):\n",
    "    \"\"\"This funciton takes in two arrays x and y, and a fixed slope and calculates the intercep b that best fits the data.\n",
    "    This funciton only workd for linear regression, that is y=mx+b. x and y must be 1D arrays with same length.\n",
    "    Parameters: \n",
    "        x_list: np.array of fixed x values\n",
    "        y_list: np.array of y data values\n",
    "        m: slope of linear regression, fixed\n",
    "    Output:\n",
    "        b: best b intercept for the given data\n",
    "    \"\"\"\n",
    "    #get the indexes of not nan values\n",
    "    z = (y_list-x_list*m)\n",
    "    b = np.nanmean(z)\n",
    "    \n",
    "    return b"
   ]
  },
  {
   "cell_type": "markdown",
   "id": "fd5ec610",
   "metadata": {},
   "source": [
    "### Volumn Data Sigmoidal Interpolation"
   ]
  },
  {
   "cell_type": "markdown",
   "id": "a943fd49",
   "metadata": {},
   "source": [
    "As previously explained, volume to age relationships can be deinfed as sigmoidal, with the following equation: [ln(Y)=a+b*(1/A)] where Y is the volume, A is age and a and b are coefficients. Based on some research of volume to age plots of forests, the coefficient a has to be positive and the coeffocient b has to benegative in the range of about -5 to -15. This is a gross assumption at this stage to generate some usefull data."
   ]
  },
  {
   "cell_type": "code",
   "execution_count": 16,
   "id": "61d2d322",
   "metadata": {
    "ExecuteTime": {
     "end_time": "2023-11-25T16:37:28.501044700Z",
     "start_time": "2023-11-25T16:37:28.400906600Z"
    }
   },
   "outputs": [
    {
     "data": {
      "text/plain": "array([124.06, 234.38, 95.8], dtype=object)"
     },
     "execution_count": 16,
     "metadata": {},
     "output_type": "execute_result"
    }
   ],
   "source": [
    "y_vol = np.array(ON_forest_and_fires.loc[1000][['vol_2001','vol_2011','vol_2015']])\n",
    "y_vol"
   ]
  },
  {
   "cell_type": "markdown",
   "id": "2115ae09",
   "metadata": {},
   "source": [
    "We will use our interpolated data to calucalte the age of these volumes"
   ]
  },
  {
   "cell_type": "code",
   "execution_count": 17,
   "id": "0288702f",
   "metadata": {
    "ExecuteTime": {
     "end_time": "2023-11-25T16:37:30.223130500Z",
     "start_time": "2023-11-25T16:37:30.122261600Z"
    }
   },
   "outputs": [],
   "source": [
    "x_vol_age = np.array([2001,2011,2015])"
   ]
  },
  {
   "cell_type": "markdown",
   "id": "faf64b0a",
   "metadata": {},
   "source": [
    "Generate the x-axis age for the volume years"
   ]
  },
  {
   "cell_type": "code",
   "execution_count": 18,
   "id": "acf42086",
   "metadata": {
    "ExecuteTime": {
     "end_time": "2023-11-25T16:37:30.484049200Z",
     "start_time": "2023-11-25T16:37:30.410871200Z"
    }
   },
   "outputs": [
    {
     "data": {
      "text/plain": "array([61.66666667, 71.66666667, 75.66666667])"
     },
     "execution_count": 18,
     "metadata": {},
     "output_type": "execute_result"
    }
   ],
   "source": [
    "x_vol = x_vol_age + np.mean(b_array)\n",
    "x_vol"
   ]
  },
  {
   "cell_type": "code",
   "execution_count": 20,
   "id": "fbc88648",
   "metadata": {
    "ExecuteTime": {
     "end_time": "2023-11-25T16:37:37.315551800Z",
     "start_time": "2023-11-25T16:37:36.833772Z"
    }
   },
   "outputs": [
    {
     "data": {
      "text/plain": "<matplotlib.collections.PathCollection at 0x23a7bae6fd0>"
     },
     "execution_count": 20,
     "metadata": {},
     "output_type": "execute_result"
    },
    {
     "data": {
      "text/plain": "<Figure size 640x480 with 1 Axes>",
      "image/png": "[encoded data removed]"
     },
     "metadata": {},
     "output_type": "display_data"
    }
   ],
   "source": [
    "import math\n",
    "from scipy.optimize import curve_fit\n",
    "def volume_age(x,a,b):\n",
    "    return np.exp(a+b/x)\n",
    "\n",
    "popt, pcov=curve_fit(volume_age,x_vol, y_vol, method='dogbox')\n",
    "\n",
    "x_vol_fit = np.arange(1,200,1)\n",
    "y_vol_fit = volume_age(x_vol_fit,popt[0],popt[1])\n",
    "plt.plot(x_vol_fit,y_vol_fit)\n",
    "plt.scatter(x_vol,y_vol,color='red')"
   ]
  },
  {
   "cell_type": "markdown",
   "id": "18a30208",
   "metadata": {},
   "source": [
    "Now that we have our interpolation functions, we need to come up with a pipeline and some functions to go throught our data and generate the required information for each year. Lets remind oursleve of what our data looks like"
   ]
  },
  {
   "cell_type": "code",
   "execution_count": 38,
   "id": "097db916",
   "metadata": {
    "ExecuteTime": {
     "end_time": "2023-11-24T21:33:44.763580200Z",
     "start_time": "2023-11-24T21:33:44.722836100Z"
    }
   },
   "outputs": [
    {
     "data": {
      "text/plain": "   age_2001  age_2011  age_2019  year_harvested  vol_2001  vol_2011  vol_2015  \\\n0     104.0       NaN       NaN             NaN      8.55       NaN       NaN   \n1     104.0       NaN       NaN             NaN      8.55       NaN       NaN   \n2     104.0       NaN       NaN             NaN      8.55       NaN       NaN   \n3     104.0       NaN       NaN             NaN      8.55       NaN       NaN   \n4      57.0       NaN       NaN             NaN     38.69       NaN       NaN   \n\n         lon        lat                                           geometry  \\\n0 -84.890501  46.906052  POLYGON ((-84.88863710751139 46.90697579711416...   \n1 -84.885743  46.912303  POLYGON ((-84.88387922029249 46.91322718112671...   \n2 -84.887410  46.919261  POLYGON ((-84.88554623463179 46.92018483757417...   \n3 -84.884197  46.918908  POLYGON ((-84.88233307531861 46.91983171613633...   \n4 -84.748565  46.962634  POLYGON ((-84.74669588337325 46.96355596569322...   \n\n  year month  day area_intersect_perc  number_fires  \n0  NaN   NaN  NaN                 NaN           NaN  \n1  NaN   NaN  NaN                 NaN           NaN  \n2  NaN   NaN  NaN                 NaN           NaN  \n3  NaN   NaN  NaN                 NaN           NaN  \n4  NaN   NaN  NaN                 NaN           NaN  ",
      "text/html": "<div>\n<style scoped>\n    .dataframe tbody tr th:only-of-type {\n        vertical-align: middle;\n    }\n\n    .dataframe tbody tr th {\n        vertical-align: top;\n    }\n\n    .dataframe thead th {\n        text-align: right;\n    }\n</style>\n<table border=\"1\" class=\"dataframe\">\n  <thead>\n    <tr style=\"text-align: right;\">\n      <th></th>\n      <th>age_2001</th>\n      <th>age_2011</th>\n      <th>age_2019</th>\n      <th>year_harvested</th>\n      <th>vol_2001</th>\n      <th>vol_2011</th>\n      <th>vol_2015</th>\n      <th>lon</th>\n      <th>lat</th>\n      <th>geometry</th>\n      <th>year</th>\n      <th>month</th>\n      <th>day</th>\n      <th>area_intersect_perc</th>\n      <th>number_fires</th>\n    </tr>\n  </thead>\n  <tbody>\n    <tr>\n      <th>0</th>\n      <td>104.0</td>\n      <td>NaN</td>\n      <td>NaN</td>\n      <td>NaN</td>\n      <td>8.55</td>\n      <td>NaN</td>\n      <td>NaN</td>\n      <td>-84.890501</td>\n      <td>46.906052</td>\n      <td>POLYGON ((-84.88863710751139 46.90697579711416...</td>\n      <td>NaN</td>\n      <td>NaN</td>\n      <td>NaN</td>\n      <td>NaN</td>\n      <td>NaN</td>\n    </tr>\n    <tr>\n      <th>1</th>\n      <td>104.0</td>\n      <td>NaN</td>\n      <td>NaN</td>\n      <td>NaN</td>\n      <td>8.55</td>\n      <td>NaN</td>\n      <td>NaN</td>\n      <td>-84.885743</td>\n      <td>46.912303</td>\n      <td>POLYGON ((-84.88387922029249 46.91322718112671...</td>\n      <td>NaN</td>\n      <td>NaN</td>\n      <td>NaN</td>\n      <td>NaN</td>\n      <td>NaN</td>\n    </tr>\n    <tr>\n      <th>2</th>\n      <td>104.0</td>\n      <td>NaN</td>\n      <td>NaN</td>\n      <td>NaN</td>\n      <td>8.55</td>\n      <td>NaN</td>\n      <td>NaN</td>\n      <td>-84.887410</td>\n      <td>46.919261</td>\n      <td>POLYGON ((-84.88554623463179 46.92018483757417...</td>\n      <td>NaN</td>\n      <td>NaN</td>\n      <td>NaN</td>\n      <td>NaN</td>\n      <td>NaN</td>\n    </tr>\n    <tr>\n      <th>3</th>\n      <td>104.0</td>\n      <td>NaN</td>\n      <td>NaN</td>\n      <td>NaN</td>\n      <td>8.55</td>\n      <td>NaN</td>\n      <td>NaN</td>\n      <td>-84.884197</td>\n      <td>46.918908</td>\n      <td>POLYGON ((-84.88233307531861 46.91983171613633...</td>\n      <td>NaN</td>\n      <td>NaN</td>\n      <td>NaN</td>\n      <td>NaN</td>\n      <td>NaN</td>\n    </tr>\n    <tr>\n      <th>4</th>\n      <td>57.0</td>\n      <td>NaN</td>\n      <td>NaN</td>\n      <td>NaN</td>\n      <td>38.69</td>\n      <td>NaN</td>\n      <td>NaN</td>\n      <td>-84.748565</td>\n      <td>46.962634</td>\n      <td>POLYGON ((-84.74669588337325 46.96355596569322...</td>\n      <td>NaN</td>\n      <td>NaN</td>\n      <td>NaN</td>\n      <td>NaN</td>\n      <td>NaN</td>\n    </tr>\n  </tbody>\n</table>\n</div>"
     },
     "execution_count": 38,
     "metadata": {},
     "output_type": "execute_result"
    }
   ],
   "source": [
    "ON_forest_and_fires.head()"
   ]
  },
  {
   "cell_type": "markdown",
   "id": "82003d3a",
   "metadata": {},
   "source": [
    "We want a dunction that will loop through each row, and get the relevant data and boundary/initial conditions for interpolation. To make things easier, lets build one that will get the initial conditions (harves, and fires), one that will get the information for age and one for volume.\n",
    "\n",
    "   At the end, it would be ideal to have an array for each year that contains the age, volume, harvested or not, fire or not, and maybe percent burned to put in a  dataframe that looks like this, for each year"
   ]
  },
  {
   "cell_type": "code",
   "execution_count": 467,
   "id": "48388ce8",
   "metadata": {},
   "outputs": [
    {
     "data": {
      "text/html": [
       "<div>\n",
       "<style scoped>\n",
       "    .dataframe tbody tr th:only-of-type {\n",
       "        vertical-align: middle;\n",
       "    }\n",
       "\n",
       "    .dataframe tbody tr th {\n",
       "        vertical-align: top;\n",
       "    }\n",
       "\n",
       "    .dataframe thead th {\n",
       "        text-align: right;\n",
       "    }\n",
       "</style>\n",
       "<table border=\"1\" class=\"dataframe\">\n",
       "  <thead>\n",
       "    <tr style=\"text-align: right;\">\n",
       "      <th></th>\n",
       "      <th>age</th>\n",
       "      <th>vol</th>\n",
       "      <th>harvested</th>\n",
       "      <th>burned</th>\n",
       "      <th>percent burned</th>\n",
       "    </tr>\n",
       "  </thead>\n",
       "  <tbody>\n",
       "  </tbody>\n",
       "</table>\n",
       "</div>"
      ],
      "text/plain": [
       "Empty DataFrame\n",
       "Columns: [age, vol, harvested, burned, percent burned]\n",
       "Index: []"
      ]
     },
     "execution_count": 467,
     "metadata": {},
     "output_type": "execute_result"
    }
   ],
   "source": [
    "pd.DataFrame(columns=['age','vol','harvested','burned','percent burned'])"
   ]
  },
  {
   "cell_type": "markdown",
   "id": "7207085d",
   "metadata": {},
   "source": [
    "Then, we will be able to look at each year, do some EDA, visualization and some machine learning to predict if a certain coordinate is succestible to a forest fire or not\n",
    "\n",
    "Lets get going with our pipeline. The function age_forest loops through evey line of data, and generates a years vs age array based on the fixed slope of 1, initial boundary conditions as assumed from disturbances (harvesiting, forest fires) "
   ]
  },
  {
   "cell_type": "code",
   "execution_count": 48,
   "outputs": [],
   "source": [
    "temp = np.empty(21)\n",
    "temp[:] = np.nan"
   ],
   "metadata": {
    "collapsed": false,
    "ExecuteTime": {
     "end_time": "2023-11-25T16:59:48.106567500Z",
     "start_time": "2023-11-25T16:59:48.069815100Z"
    }
   },
   "id": "c7df04a1424e2863"
  },
  {
   "cell_type": "code",
   "execution_count": 49,
   "outputs": [
    {
     "data": {
      "text/plain": "array([nan, nan, nan, nan, nan, nan, nan, nan, nan, nan, nan, nan, nan,\n       nan, nan, nan, nan, nan, nan, nan, nan])"
     },
     "execution_count": 49,
     "metadata": {},
     "output_type": "execute_result"
    }
   ],
   "source": [
    "temp"
   ],
   "metadata": {
    "collapsed": false,
    "ExecuteTime": {
     "end_time": "2023-11-25T16:59:48.522782300Z",
     "start_time": "2023-11-25T16:59:48.476036200Z"
    }
   },
   "id": "2024e65e27469426"
  },
  {
   "cell_type": "code",
   "execution_count": 85,
   "id": "77bbee29",
   "metadata": {
    "ExecuteTime": {
     "end_time": "2023-11-25T18:20:32.821440700Z",
     "start_time": "2023-11-25T18:20:32.686215200Z"
    }
   },
   "outputs": [],
   "source": [
    "def age_forest(data):\n",
    "    \"\"\"\n",
    "    \"\"\"\n",
    "    \n",
    "    m=1\n",
    "    \n",
    "    #Firts condition is if there are no fires and no harvest\n",
    "    if (data.isna()['number_fires'] == True) & (data.isna()['year_harvested'] == True):\n",
    "        set_years = np.array([2001,2011,2019])\n",
    "        set_ages = np.array(data[['age_2001','age_2011','age_2019']])\n",
    "        b = linear_reg_fixed_slope(set_years,set_ages,m)\n",
    "        years = np.arange(2001,2021,1)\n",
    "        if str(b) != 'nan':\n",
    "            ages = (years*m+b).astype('int')\n",
    "            harvested = np.zeros(20).astype('int')\n",
    "            fires = np.zeros(20).astype('int')\n",
    "            month = np.empty(21)\n",
    "            month[:] = np.nan\n",
    "            day = np.empty(21)\n",
    "            day[:] = np.nan\n",
    "            disturbance_weight = np.empty(21)\n",
    "            disturbance_weight[:] = np.nan\n",
    "            return ages,fires,harvested,disturbance_weight,month,day\n",
    "        else:\n",
    "            ages = np.empty(21)\n",
    "            ages[:] = np.nan\n",
    "            harvested = np.zeros(20).astype('int')\n",
    "            fires = np.zeros(20).astype('int')\n",
    "            month = np.empty(21)\n",
    "            month[:] = np.nan\n",
    "            day = np.empty(21)\n",
    "            day[:] = np.nan\n",
    "            disturbance_weight = np.empty(21)\n",
    "            disturbance_weight[:] = np.nan\n",
    "            return ages,fires,harvested,disturbance_weight,month,day\n",
    "        \n",
    "    #next condition is if it was not harvested, but fires occured\n",
    "    elif data.isna()['number_fires'] == False:\n",
    "        if data.isna()['year_harvested'] == True:\n",
    "            disturbance_years= np.array(data['year'],dtype='float')\n",
    "            disturbance_factors = np.array(data['area_intersect_perc'],dtype='float')\n",
    "            \n",
    "            disturbance_years, inv = np.unique(disturbance_years, return_inverse=True)      \n",
    "            temp_df = np.zeros(len(disturbance_years), dtype=disturbance_factors.dtype)\n",
    "            np.add.at(temp_df, inv, disturbance_factors)  \n",
    "            disturbance_factors=temp_df\n",
    "            \n",
    "        else:\n",
    "            \n",
    "            disturbance_years= np.append(np.array(data['year'],dtype='float'),data['year_harvested'])\n",
    "            disturbance_factors = np.append(np.array(data['area_intersect_perc'],dtype='float'),1.0)\n",
    "            \n",
    "            disturbance_years, inv = np.unique(disturbance_years, return_inverse=True)      \n",
    "            temp_df = np.zeros(len(disturbance_years), dtype=disturbance_factors.dtype)\n",
    "            np.add.at(temp_df, inv, disturbance_factors)  \n",
    "            disturbance_factors=temp_df\n",
    "            \n",
    "            print(disturbance_years)\n",
    "            print(disturbance_factors)\n",
    "\n",
    "        #Create arrays of 1 and 0 for fires and harvest, and the month/day for the fire\n",
    "        fires,harvested,month,disturbance_weight,day = [],[],[],[],[]\n",
    "        j=0\n",
    "        for i in range(2001,2022):\n",
    "            if i in list(disturbance_years):\n",
    "                if i == data['year_harvested']:\n",
    "                    harvested.append(1)\n",
    "                else:\n",
    "                    fires.append(1)\n",
    "                    month.append(data['month'])\n",
    "                    day.append(data['day'])\n",
    "                    disturbance_weight.append(disturbance_factors[j])\n",
    "                    j = j+1\n",
    "            else:\n",
    "                fires.append(0)\n",
    "                harvested.append(0)\n",
    "                month.append(np.nan)\n",
    "                day.append(np.nan)\n",
    "                disturbance_weight.append(np.nan)\n",
    "        year = 2001\n",
    "        print(\"Starting new pixel at age {}\".format(year))\n",
    "        j=0\n",
    "        for fire,area,i in zip(disturbance_years,disturbance_factors,range(len(disturbance_years))):\n",
    "            print(\"abcdefg:\",len(disturbance_years))\n",
    "            print(\"year is currently {}\".format(year))\n",
    "            fire = float(fire)\n",
    "            area = float(area)\n",
    "            \n",
    "            if area > 1:\n",
    "                area = 1.0\n",
    "            print(\"area of fire is:\",area)\n",
    "            print(\"year of distrubance is {} with {}% reductions\".format(fire,area*100))\n",
    "            print(\"we are on the {}th fire on this pixel out of {}\".format(i+1,len(disturbance_years)))\n",
    "            \n",
    "                              \n",
    "            \n",
    "            if fire < 2001:\n",
    "                print(\"Years are out of bounds\")\n",
    "                j=0\n",
    "                continue\n",
    "            elif (fire >= 2001) & (fire < 2011):\n",
    "                if (i == 0) | (j==0):\n",
    "                    set_years=np.array([2001])\n",
    "                    set_ages=np.array(data['age_2001'])\n",
    "                    b = linear_reg_fixed_slope(set_years,set_ages,m)\n",
    "                    years = np.arange(year,fire,1)\n",
    "                    ages = (years*m+b).astype('int')\n",
    "                    year = fire\n",
    "                    year_age = int((fire*m+b)*(1-area))\n",
    "                    #print(year_age)\n",
    "                    fire_prev = fire\n",
    "                    j=1\n",
    "                    continue\n",
    "                else:\n",
    "                    set_years=np.array([year])\n",
    "                    set_ages=np.array([year_age])\n",
    "                    b = linear_reg_fixed_slope(set_years,set_ages,m)\n",
    "                    temp_years = np.arange(year,fire,1)\n",
    "                    years = np.append(years,temp_years)\n",
    "                    ages = np.append(ages,(temp_years*m+b).astype('int'))\n",
    "                    year = fire\n",
    "                    year_age = int((fire*m+b)*(1-area))\n",
    "                    #print(year_age)\n",
    "                    fire_prev = fire\n",
    "                    j=1\n",
    "                    continue\n",
    "            \n",
    "            elif (fire >= 2011) & (fire < 2019):\n",
    "                if (i == 0) | (j==0):\n",
    "                    set_years=np.array([2001,2011])\n",
    "                    set_ages=np.array(data[['age_2001','age_2011']])\n",
    "                    b = linear_reg_fixed_slope(set_years,set_ages,m)\n",
    "                    years = np.arange(year,fire,1)\n",
    "                    ages = (years*m+b).astype('int')\n",
    "                    year = fire\n",
    "                    year_age = int((fire*m+b)*(1-area))\n",
    "                    #print(year_age)\n",
    "                    fire_prev = fire\n",
    "                    j=1\n",
    "                    continue\n",
    "                else:\n",
    "                    set_years=np.array([year])\n",
    "                    set_ages=np.array([year_age])\n",
    "                    b = linear_reg_fixed_slope(set_years,set_ages,m)\n",
    "                    temp_years = np.arange(year,fire,1)\n",
    "                    years = np.append(years,temp_years)\n",
    "                    ages = np.append(ages,(temp_years*m+b).astype('int'))\n",
    "                    year = fire\n",
    "                    year_age = int((fire*m+b)*(1-area))\n",
    "                    #print(year_age)\n",
    "                    fire_prev = fire\n",
    "                    j=1\n",
    "                    continue\n",
    "                \n",
    "            elif (fire >= 2019) & (fire <= 2021):\n",
    "                if (i == 0) | (j==0):\n",
    "                    set_years=np.array([2001,2011,2019])\n",
    "                    set_ages=np.array(data[['age_2001','age_2011','age_2019']])\n",
    "                    b = linear_reg_fixed_slope(set_years,set_ages,m)\n",
    "                    years = np.arange(year,fire,1)\n",
    "                    ages = (years*m+b).astype('int')\n",
    "                    year = fire\n",
    "                    year_age = int((fire*m+b)*(1-area))\n",
    "                    #print(year_age)\n",
    "                    fire_prev = fire\n",
    "                    j=1\n",
    "                    continue\n",
    "                else:\n",
    "                    set_years=np.array([year])\n",
    "                    set_ages=np.array([year_age])\n",
    "                    b = linear_reg_fixed_slope(set_years,set_ages,m)\n",
    "                    temp_years = np.arange(year,fire,1)\n",
    "                    years = np.append(years,temp_years)\n",
    "                    ages = np.append(ages,(temp_years*m+b).astype('int'))\n",
    "                    year = fire\n",
    "                    year_age = int((fire*m+b)*(1-area))\n",
    "                    print(year_age)\n",
    "                    fire_prev = fire\n",
    "                    j=1\n",
    "                    continue\n",
    "                \n",
    "\n",
    "        if year < 2011:\n",
    "            set_years=np.array([year,2011,2019])\n",
    "            set_ages=np.append(year_age,np.array(data[['age_2011','age_2019']]))\n",
    "            b = linear_reg_fixed_slope(set_years,set_ages,m)\n",
    "            temp_years = np.arange(year,2022,1)\n",
    "            years = np.append(years,temp_years)\n",
    "            ages = np.append(ages,(temp_years*m+b).astype('int'))\n",
    "        elif (year >= 2011) & (year < 2019):\n",
    "\n",
    "            set_years=np.array([year,2019])\n",
    "            set_ages=np.append(year_age,np.array(data[['age_2019']]))\n",
    "            b = linear_reg_fixed_slope(set_years,set_ages,m)\n",
    "            temp_years = np.arange(year,2022,1)\n",
    "            years = np.append(years,temp_years)\n",
    "            ages = np.append(ages,(temp_years*m+b).astype('int'))\n",
    "        elif (year >= 2019) & (year <= 2021):\n",
    "\n",
    "            set_years=np.array([year])\n",
    "            set_ages=np.array(year_age)\n",
    "            b = linear_reg_fixed_slope(set_years,set_ages,m)\n",
    "            temp_years = np.arange(year,2022,1)\n",
    "            years = np.append(years,temp_years)\n",
    "            ages = np.append(ages,(temp_years*m+b).astype('int'))\n",
    "        return ages,fires,harvested,disturbance_weight,month,day\n",
    "            \n",
    "    \n",
    "    #last condition is if it was harvested, and fires occured\n",
    "    #elif (data.isna()['number_fires'] == False) & (data.isna()['year_harvested'] == False):\n",
    "    \n",
    "    "
   ]
  },
  {
   "cell_type": "code",
   "execution_count": 86,
   "outputs": [
    {
     "data": {
      "text/plain": "         age_2001  age_2011  age_2019  year_harvested  vol_2001  vol_2011  \\\n2543463      65.0      68.0      19.0          2000.0     54.21     31.06   \n3231652      73.0      40.0      53.0          2019.0     23.17     24.60   \n\n         vol_2015        lon        lat  \\\n2543463       NaN -90.210895  51.216727   \n3231652      86.8 -93.987617  51.810241   \n\n                                                  geometry  \\\n2543463  POLYGON ((-90.2089608105546 51.217771609582485...   \n3231652  POLYGON ((-93.98575693786945 51.81135732193882...   \n\n                             year         month               day  \\\n2543463  [2011, 2012, 2012, 2013]  [5, 4, 4, 5]  [14, 26, 29, 19]   \n3231652  [2014, 2019, 2018, 2019]  [5, 6, 5, 5]   [24, 16, 7, 28]   \n\n                                       area_intersect_perc  number_fires  \n2543463  [0.0159743105266338, 0.0154610819730699, 0.047...           4.0  \n3231652  [0.015974310526646, 0.015974310526646, 5.17430...           4.0  ",
      "text/html": "<div>\n<style scoped>\n    .dataframe tbody tr th:only-of-type {\n        vertical-align: middle;\n    }\n\n    .dataframe tbody tr th {\n        vertical-align: top;\n    }\n\n    .dataframe thead th {\n        text-align: right;\n    }\n</style>\n<table border=\"1\" class=\"dataframe\">\n  <thead>\n    <tr style=\"text-align: right;\">\n      <th></th>\n      <th>age_2001</th>\n      <th>age_2011</th>\n      <th>age_2019</th>\n      <th>year_harvested</th>\n      <th>vol_2001</th>\n      <th>vol_2011</th>\n      <th>vol_2015</th>\n      <th>lon</th>\n      <th>lat</th>\n      <th>geometry</th>\n      <th>year</th>\n      <th>month</th>\n      <th>day</th>\n      <th>area_intersect_perc</th>\n      <th>number_fires</th>\n    </tr>\n  </thead>\n  <tbody>\n    <tr>\n      <th>2543463</th>\n      <td>65.0</td>\n      <td>68.0</td>\n      <td>19.0</td>\n      <td>2000.0</td>\n      <td>54.21</td>\n      <td>31.06</td>\n      <td>NaN</td>\n      <td>-90.210895</td>\n      <td>51.216727</td>\n      <td>POLYGON ((-90.2089608105546 51.217771609582485...</td>\n      <td>[2011, 2012, 2012, 2013]</td>\n      <td>[5, 4, 4, 5]</td>\n      <td>[14, 26, 29, 19]</td>\n      <td>[0.0159743105266338, 0.0154610819730699, 0.047...</td>\n      <td>4.0</td>\n    </tr>\n    <tr>\n      <th>3231652</th>\n      <td>73.0</td>\n      <td>40.0</td>\n      <td>53.0</td>\n      <td>2019.0</td>\n      <td>23.17</td>\n      <td>24.60</td>\n      <td>86.8</td>\n      <td>-93.987617</td>\n      <td>51.810241</td>\n      <td>POLYGON ((-93.98575693786945 51.81135732193882...</td>\n      <td>[2014, 2019, 2018, 2019]</td>\n      <td>[5, 6, 5, 5]</td>\n      <td>[24, 16, 7, 28]</td>\n      <td>[0.015974310526646, 0.015974310526646, 5.17430...</td>\n      <td>4.0</td>\n    </tr>\n  </tbody>\n</table>\n</div>"
     },
     "execution_count": 86,
     "metadata": {},
     "output_type": "execute_result"
    }
   ],
   "source": [
    "ON_forest_and_fires[(ON_forest_and_fires.number_fires == 4) & (ON_forest_and_fires.year_harvested.isna() == False)].head(2)"
   ],
   "metadata": {
    "collapsed": false,
    "ExecuteTime": {
     "end_time": "2023-11-25T18:20:33.388729200Z",
     "start_time": "2023-11-25T18:20:33.287031800Z"
    }
   },
   "id": "af885c4c8fe51d7e"
  },
  {
   "cell_type": "code",
   "execution_count": 94,
   "id": "3334fb4c",
   "metadata": {
    "ExecuteTime": {
     "end_time": "2023-11-25T18:25:57.707413300Z",
     "start_time": "2023-11-25T18:25:57.572357100Z"
    }
   },
   "outputs": [
    {
     "name": "stdout",
     "output_type": "stream",
     "text": [
      "         age_2001  age_2011  age_2019  year_harvested  vol_2001  vol_2011  \\\n",
      "1307437      50.0      67.0       9.0          2010.0     87.55     53.81   \n",
      "1307891      43.0      35.0       9.0          2010.0     96.96     49.84   \n",
      "\n",
      "         vol_2015        lon        lat  \\\n",
      "1307437       NaN -94.931521  50.135740   \n",
      "1307891       NaN -94.840093  50.167236   \n",
      "\n",
      "                                                  geometry  \\\n",
      "1307437  POLYGON ((-94.92976358751798 50.13686713087475...   \n",
      "1307891  POLYGON ((-94.83833156898562 50.1683619636662,...   \n",
      "\n",
      "                       year      month          day  \\\n",
      "1307437  [2012, 2015, 2016]  [5, 4, 5]  [16, 13, 7]   \n",
      "1307891  [2003, 2012, 2002]  [4, 8, 8]  [19, 28, 4]   \n",
      "\n",
      "                                       area_intersect_perc  number_fires  \n",
      "1307437  [0.0145160867208922, 0.1685075369244754, 0.077...           3.0  \n",
      "1307891  [0.0682311458105641, 0.0159743105264989, 0.006...           3.0  \n",
      "\n",
      " we are on data row 0\n",
      "[2010. 2012. 2015. 2016.]\n",
      "[1.         0.01451609 0.16850754 0.0775185 ]\n",
      "Starting new pixel at age 2001\n",
      "abcdefg: 4\n",
      "year is currently 2001\n",
      "area of fire is: 1.0\n",
      "year of distrubance is 2010.0 with 100.0% reductions\n",
      "we are on the 1th fire on this pixel out of 4\n",
      "abcdefg: 4\n",
      "year is currently 2010.0\n",
      "area of fire is: 0.0145160867208922\n",
      "year of distrubance is 2012.0 with 1.4516086720892198% reductions\n",
      "we are on the 2th fire on this pixel out of 4\n",
      "abcdefg: 4\n",
      "year is currently 2012.0\n",
      "area of fire is: 0.1685075369244754\n",
      "year of distrubance is 2015.0 with 16.85075369244754% reductions\n",
      "we are on the 3th fire on this pixel out of 4\n",
      "abcdefg: 4\n",
      "year is currently 2015.0\n",
      "area of fire is: 0.0775185004317767\n",
      "year of distrubance is 2016.0 with 7.7518500431776705% reductions\n",
      "we are on the 4th fire on this pixel out of 4\n",
      "\n",
      " we are on data row 1\n",
      "[2002. 2003. 2010. 2012.]\n",
      "[0.00660545 0.06823115 1.         0.01597431]\n",
      "Starting new pixel at age 2001\n",
      "abcdefg: 4\n",
      "year is currently 2001\n",
      "area of fire is: 0.0066054470855716\n",
      "year of distrubance is 2002.0 with 0.66054470855716% reductions\n",
      "we are on the 1th fire on this pixel out of 4\n",
      "abcdefg: 4\n",
      "year is currently 2002.0\n",
      "area of fire is: 0.0682311458105641\n",
      "year of distrubance is 2003.0 with 6.8231145810564096% reductions\n",
      "we are on the 2th fire on this pixel out of 4\n",
      "abcdefg: 4\n",
      "year is currently 2003.0\n",
      "area of fire is: 1.0\n",
      "year of distrubance is 2010.0 with 100.0% reductions\n",
      "we are on the 3th fire on this pixel out of 4\n",
      "abcdefg: 4\n",
      "year is currently 2010.0\n",
      "area of fire is: 0.0159743105264989\n",
      "year of distrubance is 2012.0 with 1.5974310526498898% reductions\n",
      "we are on the 4th fire on this pixel out of 4\n"
     ]
    }
   ],
   "source": [
    "#data = pd.DataFrame(columns=['ages','harvested','fires'])\n",
    "\n",
    "#data[['ages','harvested','fires']]=ON_forest_and_fires.head(10).apply(lambda row: age_forest(row),axis=1)\n",
    "\n",
    "ages,fires,harvested,disturbance_weight,month,day = [],[],[],[],[],[]\n",
    "data = ON_forest_and_fires[(ON_forest_and_fires.number_fires == 3) & (ON_forest_and_fires.year_harvested.isna() == False)].head(100000)\n",
    "#data = ON_forest_and_fires.head()\n",
    "print(data)\n",
    "for i in range(len(data)):\n",
    "    print(\"\\n we are on data row\",i)\n",
    "    result = age_forest(data.iloc[i,:])\n",
    "    ages.append(result[0])\n",
    "    fires.append(result[1])\n",
    "    harvested.append(result[2])\n",
    "    disturbance_weight.append(result[3])\n",
    "    month.append(result[4])\n",
    "    day.append(result[5])\n",
    "   \n"
   ]
  },
  {
   "cell_type": "code",
   "execution_count": 95,
   "outputs": [
    {
     "data": {
      "text/plain": "[0, 1, 1, 0, 0, 0, 0, 0, 0, 0, 1, 0, 0, 0, 0, 0, 0, 0, 0, 0]"
     },
     "execution_count": 95,
     "metadata": {},
     "output_type": "execute_result"
    }
   ],
   "source": [
    "fires[1]\n",
    "#disturbance_weight[1]"
   ],
   "metadata": {
    "collapsed": false,
    "ExecuteTime": {
     "end_time": "2023-11-25T18:25:58.741609600Z",
     "start_time": "2023-11-25T18:25:58.691208500Z"
    }
   },
   "id": "cfee9d9efd8ec58f"
  },
  {
   "cell_type": "code",
   "execution_count": 25,
   "id": "1421ed24",
   "metadata": {
    "ExecuteTime": {
     "end_time": "2023-11-25T16:39:31.638694600Z",
     "start_time": "2023-11-25T16:39:31.436577900Z"
    }
   },
   "outputs": [
    {
     "data": {
      "text/plain": "<Figure size 640x480 with 1 Axes>",
      "image/png": "[encoded data removed]"
     },
     "metadata": {},
     "output_type": "display_data"
    }
   ],
   "source": [
    "for i in range(len(data)):\n",
    "    plt.plot(years[i],ages[i],label=fires[i])\n",
    "    plt.legend()"
   ]
  },
  {
   "cell_type": "markdown",
   "source": [
    "For the volume of the forest, we are using a sigmoidal approximation. For that we need at least two points. The sigmoidal curve will not fit if we only have one point. Since we dont have any information about the fitting parameters for our approximation, we need to make some assumptions. We had already previsouly set a range for the coefficience based on some research. But we can get an approximation of the parameters a and b if we compute the sigmoidal curve for every pixel that has at least to sets of age vs. volume data points. For this we will use the ages approximates in our previous code for the volumes at 2001, 2011 and 2015\n",
    "\n",
    "That way we can generate a list of fitting parameters, compute the average and use this result as our grounding parameters for the entire datasets. This assumption means that we area ssuming that Ontario forests on average grow at about the same rate, which may be an ovresimplification but at this level of analysis it is the best we can do"
   ],
   "metadata": {
    "collapsed": false
   },
   "id": "5041d0463fa0696"
  },
  {
   "cell_type": "markdown",
   "source": [
    "The following filters the data to any pixel that has atleast two volume datapoints, but no harvest and no fires (no disturbances)"
   ],
   "metadata": {
    "collapsed": false
   },
   "id": "7bd04d555a2b6271"
  },
  {
   "cell_type": "code",
   "execution_count": 36,
   "outputs": [
    {
     "data": {
      "text/plain": "   age_2001  age_2011  age_2019  year_harvested  vol_2001  vol_2011  vol_2015  \\\n5     105.0     106.0       NaN             NaN     29.69     42.61       NaN   \n6      76.0      86.0       NaN             NaN    120.89    134.68       NaN   \n\n         lon        lat                                           geometry  \\\n5 -84.748042  46.964836  POLYGON ((-84.7461730219899 46.965757154155575...   \n6 -84.753428  46.969954  POLYGON ((-84.75155870050676 46.97087536086289...   \n\n  year month  day area_intersect_perc  number_fires  \n5  NaN   NaN  NaN                 NaN           NaN  \n6  NaN   NaN  NaN                 NaN           NaN  ",
      "text/html": "<div>\n<style scoped>\n    .dataframe tbody tr th:only-of-type {\n        vertical-align: middle;\n    }\n\n    .dataframe tbody tr th {\n        vertical-align: top;\n    }\n\n    .dataframe thead th {\n        text-align: right;\n    }\n</style>\n<table border=\"1\" class=\"dataframe\">\n  <thead>\n    <tr style=\"text-align: right;\">\n      <th></th>\n      <th>age_2001</th>\n      <th>age_2011</th>\n      <th>age_2019</th>\n      <th>year_harvested</th>\n      <th>vol_2001</th>\n      <th>vol_2011</th>\n      <th>vol_2015</th>\n      <th>lon</th>\n      <th>lat</th>\n      <th>geometry</th>\n      <th>year</th>\n      <th>month</th>\n      <th>day</th>\n      <th>area_intersect_perc</th>\n      <th>number_fires</th>\n    </tr>\n  </thead>\n  <tbody>\n    <tr>\n      <th>5</th>\n      <td>105.0</td>\n      <td>106.0</td>\n      <td>NaN</td>\n      <td>NaN</td>\n      <td>29.69</td>\n      <td>42.61</td>\n      <td>NaN</td>\n      <td>-84.748042</td>\n      <td>46.964836</td>\n      <td>POLYGON ((-84.7461730219899 46.965757154155575...</td>\n      <td>NaN</td>\n      <td>NaN</td>\n      <td>NaN</td>\n      <td>NaN</td>\n      <td>NaN</td>\n    </tr>\n    <tr>\n      <th>6</th>\n      <td>76.0</td>\n      <td>86.0</td>\n      <td>NaN</td>\n      <td>NaN</td>\n      <td>120.89</td>\n      <td>134.68</td>\n      <td>NaN</td>\n      <td>-84.753428</td>\n      <td>46.969954</td>\n      <td>POLYGON ((-84.75155870050676 46.97087536086289...</td>\n      <td>NaN</td>\n      <td>NaN</td>\n      <td>NaN</td>\n      <td>NaN</td>\n      <td>NaN</td>\n    </tr>\n  </tbody>\n</table>\n</div>"
     },
     "execution_count": 36,
     "metadata": {},
     "output_type": "execute_result"
    }
   ],
   "source": [
    "data = ON_forest_and_fires[((~ON_forest_and_fires[['vol_2001','vol_2011']].isnull().any(axis=1)) | (~ON_forest_and_fires[['vol_2011','vol_2015']].isnull().any(axis=1))| (~ON_forest_and_fires[['vol_2001','vol_2015']].isnull().any(axis=1))) & (ON_forest_and_fires.year_harvested.isna() == True) & (ON_forest_and_fires.year.isna() == True)].head(2)\n",
    "data.head()\n"
   ],
   "metadata": {
    "collapsed": false,
    "ExecuteTime": {
     "end_time": "2023-11-25T16:48:04.116864500Z",
     "start_time": "2023-11-25T16:48:00.538470Z"
    }
   },
   "id": "575c43aa5c116e36"
  },
  {
   "cell_type": "markdown",
   "source": [
    "Now, lets generate a function that return the coefficients for this data"
   ],
   "metadata": {
    "collapsed": false
   },
   "id": "4781a8a224a7aa9"
  },
  {
   "cell_type": "code",
   "execution_count": null,
   "outputs": [],
   "source": [
    "def return_coef_sig(data)\n",
    "    \"\"\"\n",
    "    Funciton that takes in row of data from dataframe, and outpute the best fit for parameters a and b from sigmoidal expression defined in volume_age function\n",
    "    :param data: row of data frame\n",
    "    :return: parameters a, b\n",
    "    \"\"\"\n",
    "    x = np.array(data[['age_2001','age_2011']])\n",
    "    return a,b"
   ],
   "metadata": {
    "collapsed": false
   },
   "id": "b28237c06fb68f8e"
  },
  {
   "cell_type": "code",
   "execution_count": null,
   "outputs": [],
   "source": [
    "a,b=[],[]\n",
    "for i in range(len(data)):\n",
    "    results = return_coef_sig(data.iloc[i,:])\n",
    "    a.append(results[0])\n",
    "    b.append(results[1])"
   ],
   "metadata": {
    "collapsed": false
   },
   "id": "c51eedf087d041c"
  },
  {
   "cell_type": "code",
   "execution_count": 769,
   "outputs": [],
   "source": [
    "def vol_forest(data):\n",
    "    \"\"\"\n",
    "    \"\"\"\n",
    "    \n",
    "    m=1\n",
    "    \n",
    "    #Firts condition is if there are no fires and no harvest\n",
    "    if (data.isna()['number_fires'] == True) & (data.isna()['year_harvested'] == True):\n",
    "        set_years = np.array([2001,2011,2015])\n",
    "        set_vol = np.array(data[['vol_2001','vol_2011','vol_2015']])\n",
    "        popt, pcov=curve_fit(volume_age,set_years, set_vol, method='dogbox',nan_policy='omit')\n",
    "\n",
    "        y_vol_fit = volume_age(x_vol_fit,popt[0],popt[1])\n",
    "        \n",
    "        b = np.nanmean(set_ages-set_years*m)\n",
    "        years = np.arange(2001,2021,1)\n",
    "        if (str(popt[0]) != 'nan') | (str(popt[1]) != 'nan'):\n",
    "            ages = (years*m+b).astype('int')\n",
    "            harvested = np.zeros(20).astype('int')\n",
    "            fires = np.zeros(20).astype('int')\n",
    "            dict_data = {'ages'}\n",
    "            return ages, fires, harvested\n",
    "        \n",
    "    #next condition is if it was not harvested, but fires occured\n",
    "    elif data.isna()['number_fires'] == False:\n",
    "        if data.isna()['year_harvested'] == True:\n",
    "            disturbance_years= np.array(data['year'],dtype='float')\n",
    "            disturbance_factors = np.array(data['area_intersect_perc'],dtype='float')\n",
    "            \n",
    "            disturbance_years, inv = np.unique(disturbance_years, return_inverse=True)      \n",
    "            temp_df = np.zeros(len(disturbance_years), dtype=disturbance_factors.dtype)\n",
    "            np.add.at(temp_df, inv, disturbance_factors)  \n",
    "            disturbance_factors=temp_df\n",
    "            \n",
    "        else:\n",
    "            \n",
    "            disturbance_years= np.append(np.array(data['year'],dtype='float'),data['year_harvested'])\n",
    "            disturbance_factors = np.append(np.array(data['area_intersect_perc'],dtype='float'),1.0)\n",
    "            \n",
    "            disturbance_years, inv = np.unique(disturbance_years, return_inverse=True)      \n",
    "            temp_df = np.zeros(len(disturbance_years), dtype=disturbance_factors.dtype)\n",
    "            np.add.at(temp_df, inv, disturbance_factors)  \n",
    "            disturbance_factors=temp_df\n",
    "            \n",
    "            print(disturbance_years)\n",
    "            print(disturbance_factors)\n",
    "\n",
    "        fire_prev = 0\n",
    "        year = 2001\n",
    "        print(\"Starting new pixel at age {}\".format(year))\n",
    "        j=0\n",
    "        for fire,area,i in zip(disturbance_years,disturbance_factors,range(len(disturbance_years))):\n",
    "            print(\"abcdefg:\",len(disturbance_years))\n",
    "            print(\"year is currently {}\".format(year))\n",
    "            fire = float(fire)\n",
    "            area = float(area)\n",
    "            \n",
    "            if area > 1:\n",
    "                area = 1.0\n",
    "            print(\"area of fire is:\",area)\n",
    "            print(\"year of distrubance is {} with {}% reductions\".format(fire,area*100))\n",
    "            print(\"we are on the {}th fire on this pixel out of {}\".format(i+1,len(disturbance_years)))\n",
    "            \n",
    "            \n",
    "            if fire < 2001:\n",
    "                print(\"Years are out of bounds\")\n",
    "                j=0\n",
    "                continue\n",
    "            elif (fire >= 2001) & (fire < 2011):\n",
    "                if (i == 0) | (j==0):\n",
    "                    set_years=np.array([2001])\n",
    "                    set_ages=np.array(data['vol_2001'])\n",
    "                    b = linear_reg_fixed_slope(set_years,set_ages,m)\n",
    "                    years = np.arange(year,fire,1)\n",
    "                    ages = (years*m+b).astype('int')\n",
    "                    year = fire\n",
    "                    year_age = int((fire*m+b)*(1-area))\n",
    "                    #print(year_age)\n",
    "                    fire_prev = fire\n",
    "                    j=1\n",
    "                    continue\n",
    "                else:\n",
    "                    set_years=np.array([year])\n",
    "                    set_ages=np.array([year_age])\n",
    "                    b = linear_reg_fixed_slope(set_years,set_ages,m)\n",
    "                    temp_years = np.arange(year,fire,1)\n",
    "                    years = np.append(years,temp_years)\n",
    "                    ages = np.append(ages,(temp_years*m+b).astype('int'))\n",
    "                    year = fire\n",
    "                    year_age = int((fire*m+b)*(1-area))\n",
    "                    #print(year_age)\n",
    "                    fire_prev = fire\n",
    "                    j=1\n",
    "                    continue\n",
    "            \n",
    "            elif (fire >= 2011) & (fire < 2015):\n",
    "                if (i == 0) | (j==0):\n",
    "                    set_years=np.array([2001,2011])\n",
    "                    set_ages=np.array(data[['col_2001','vol_2011']])\n",
    "                    b = linear_reg_fixed_slope(set_years,set_ages,m)\n",
    "                    years = np.arange(year,fire,1)\n",
    "                    ages = (years*m+b).astype('int')\n",
    "                    year = fire\n",
    "                    year_age = int((fire*m+b)*(1-area))\n",
    "                    #print(year_age)\n",
    "                    fire_prev = fire\n",
    "                    j=1\n",
    "                    continue\n",
    "                else:\n",
    "                    set_years=np.array([year])\n",
    "                    set_ages=np.array([year_age])\n",
    "                    b = linear_reg_fixed_slope(set_years,set_ages,m)\n",
    "                    temp_years = np.arange(year,fire,1)\n",
    "                    years = np.append(years,temp_years)\n",
    "                    ages = np.append(ages,(temp_years*m+b).astype('int'))\n",
    "                    year = fire\n",
    "                    year_age = int((fire*m+b)*(1-area))\n",
    "                    #print(year_age)\n",
    "                    fire_prev = fire\n",
    "                    j=1\n",
    "                    continue\n",
    "                \n",
    "            elif (fire >= 2015) & (fire <= 2021):\n",
    "                if (i == 0) | (j==0):\n",
    "                    set_years=np.array([2001,2011,2015])\n",
    "                    set_ages=np.array(data[['vol_2001','vol_2011','vol_2015']])\n",
    "                    b = linear_reg_fixed_slope(set_years,set_ages,m)\n",
    "                    years = np.arange(year,fire,1)\n",
    "                    ages = (years*m+b).astype('int')\n",
    "                    year = fire\n",
    "                    year_age = int((fire*m+b)*(1-area))\n",
    "                    #print(year_age)\n",
    "                    fire_prev = fire\n",
    "                    j=1\n",
    "                    continue\n",
    "                else:\n",
    "                    set_years=np.array([year])\n",
    "                    set_ages=np.array([year_age])\n",
    "                    b = linear_reg_fixed_slope(set_years,set_ages,m)\n",
    "                    temp_years = np.arange(year,fire,1)\n",
    "                    years = np.append(years,temp_years)\n",
    "                    ages = np.append(ages,(temp_years*m+b).astype('int'))\n",
    "                    year = fire\n",
    "                    year_age = int((fire*m+b)*(1-area))\n",
    "                    print(year_age)\n",
    "                    fire_prev = fire\n",
    "                    j=1\n",
    "                    continue\n",
    "                \n",
    "\n",
    "        if year < 2011:\n",
    "            set_years=np.array([year,2011,2015])\n",
    "            set_ages=np.append(year_age,np.array(data[['vol_2011','vol_2015']]))\n",
    "            b = linear_reg_fixed_slope(set_years,set_ages,m)\n",
    "            temp_years = np.arange(year,2022,1)\n",
    "            years = np.append(years,temp_years)\n",
    "            ages = np.append(ages,(temp_years*m+b).astype('int'))\n",
    "        elif (year >= 2011) & (year < 2015):\n",
    "\n",
    "            set_years=np.array([year,2015])\n",
    "            set_ages=np.append(year_age,np.array(data[['vol_2015']]))\n",
    "            b = linear_reg_fixed_slope(set_years,set_ages,m)\n",
    "            temp_years = np.arange(year,2022,1)\n",
    "            years = np.append(years,temp_years)\n",
    "            ages = np.append(ages,(temp_years*m+b).astype('int'))\n",
    "        elif (year >= 2015) & (year <= 2021):\n",
    "\n",
    "            set_years=np.array([year])\n",
    "            set_ages=np.array(year_age)\n",
    "            b = linear_reg_fixed_slope(set_years,set_ages,m)\n",
    "            temp_years = np.arange(year,2022,1)\n",
    "            years = np.append(years,temp_years)\n",
    "            ages = np.append(ages,(temp_years*m+b).astype('int'))\n",
    "    return ages,years,disturbance_years#harvest\n",
    "            \n",
    "    \n",
    "    #last condition is if it was harvested, and fires occured\n",
    "    #elif (data.isna()['number_fires'] == False) & (data.isna()['year_harvested'] == False):\n",
    "    "
   ],
   "metadata": {
    "collapsed": false,
    "ExecuteTime": {
     "end_time": "2023-11-25T06:20:21.762884400Z",
     "start_time": "2023-11-25T06:20:21.673389500Z"
    }
   },
   "id": "88d8e9f2d1cec3b5"
  },
  {
   "cell_type": "code",
   "execution_count": 770,
   "outputs": [
    {
     "name": "stdout",
     "output_type": "stream",
     "text": [
      "   age_2001  age_2011  age_2019  year_harvested  vol_2001  vol_2011  vol_2015  \\\n",
      "0     104.0       NaN       NaN             NaN      8.55       NaN       NaN   \n",
      "\n",
      "         lon        lat                                           geometry  \\\n",
      "0 -84.890501  46.906052  POLYGON ((-84.88863710751139 46.90697579711416...   \n",
      "\n",
      "  year month  day area_intersect_perc  number_fires  \n",
      "0  NaN   NaN  NaN                 NaN           NaN  \n",
      "\n",
      " we are on data row 0\n"
     ]
    },
    {
     "name": "stderr",
     "output_type": "stream",
     "text": [
      "C:\\Users\\Antoine Pepin\\anaconda3\\Lib\\site-packages\\scipy\\optimize\\_minpack_py.py:1010: OptimizeWarning: Covariance of the parameters could not be estimated\n",
      "  warnings.warn('Covariance of the parameters could not be estimated',\n"
     ]
    },
    {
     "ename": "UnboundLocalError",
     "evalue": "cannot access local variable 'set_ages' where it is not associated with a value",
     "output_type": "error",
     "traceback": [
      "\u001B[1;31m---------------------------------------------------------------------------\u001B[0m",
      "\u001B[1;31mUnboundLocalError\u001B[0m                         Traceback (most recent call last)",
      "Cell \u001B[1;32mIn[770], line 7\u001B[0m\n\u001B[0;32m      5\u001B[0m \u001B[38;5;28;01mfor\u001B[39;00m i \u001B[38;5;129;01min\u001B[39;00m \u001B[38;5;28mrange\u001B[39m(\u001B[38;5;28mlen\u001B[39m(data)):\n\u001B[0;32m      6\u001B[0m     \u001B[38;5;28mprint\u001B[39m(\u001B[38;5;124m\"\u001B[39m\u001B[38;5;130;01m\\n\u001B[39;00m\u001B[38;5;124m we are on data row\u001B[39m\u001B[38;5;124m\"\u001B[39m,i)\n\u001B[1;32m----> 7\u001B[0m     result \u001B[38;5;241m=\u001B[39m vol_forest(data\u001B[38;5;241m.\u001B[39miloc[i,:])\n\u001B[0;32m      8\u001B[0m     ages\u001B[38;5;241m.\u001B[39mappend(result[\u001B[38;5;241m0\u001B[39m])\n\u001B[0;32m      9\u001B[0m     years\u001B[38;5;241m.\u001B[39mappend(result[\u001B[38;5;241m1\u001B[39m])\n",
      "Cell \u001B[1;32mIn[769], line 15\u001B[0m, in \u001B[0;36mvol_forest\u001B[1;34m(data)\u001B[0m\n\u001B[0;32m     11\u001B[0m popt, pcov\u001B[38;5;241m=\u001B[39mcurve_fit(volume_age,set_years, set_vol, method\u001B[38;5;241m=\u001B[39m\u001B[38;5;124m'\u001B[39m\u001B[38;5;124mdogbox\u001B[39m\u001B[38;5;124m'\u001B[39m,nan_policy\u001B[38;5;241m=\u001B[39m\u001B[38;5;124m'\u001B[39m\u001B[38;5;124momit\u001B[39m\u001B[38;5;124m'\u001B[39m)\n\u001B[0;32m     13\u001B[0m y_vol_fit \u001B[38;5;241m=\u001B[39m volume_age(x_vol_fit,popt[\u001B[38;5;241m0\u001B[39m],popt[\u001B[38;5;241m1\u001B[39m])\n\u001B[1;32m---> 15\u001B[0m b \u001B[38;5;241m=\u001B[39m np\u001B[38;5;241m.\u001B[39mnanmean(set_ages\u001B[38;5;241m-\u001B[39mset_years\u001B[38;5;241m*\u001B[39mm)\n\u001B[0;32m     16\u001B[0m years \u001B[38;5;241m=\u001B[39m np\u001B[38;5;241m.\u001B[39marange(\u001B[38;5;241m2001\u001B[39m,\u001B[38;5;241m2021\u001B[39m,\u001B[38;5;241m1\u001B[39m)\n\u001B[0;32m     17\u001B[0m \u001B[38;5;28;01mif\u001B[39;00m (\u001B[38;5;28mstr\u001B[39m(popt[\u001B[38;5;241m0\u001B[39m]) \u001B[38;5;241m!=\u001B[39m \u001B[38;5;124m'\u001B[39m\u001B[38;5;124mnan\u001B[39m\u001B[38;5;124m'\u001B[39m) \u001B[38;5;241m|\u001B[39m (\u001B[38;5;28mstr\u001B[39m(popt[\u001B[38;5;241m1\u001B[39m]) \u001B[38;5;241m!=\u001B[39m \u001B[38;5;124m'\u001B[39m\u001B[38;5;124mnan\u001B[39m\u001B[38;5;124m'\u001B[39m):\n",
      "\u001B[1;31mUnboundLocalError\u001B[0m: cannot access local variable 'set_ages' where it is not associated with a value"
     ]
    }
   ],
   "source": [
    "ages,fires,harvested,years = [],[],[],[]\n",
    "#data = ON_forest_and_fires[(ON_forest_and_fires.number_fires == 1) & (ON_forest_and_fires.year_harvested.isna() == False)].head(2)\n",
    "data = ON_forest_and_fires.head(1)\n",
    "print(data)\n",
    "for i in range(len(data)):\n",
    "    print(\"\\n we are on data row\",i)\n",
    "    result = vol_forest(data.iloc[i,:])\n",
    "    ages.append(result[0])\n",
    "    years.append(result[1])\n",
    "    fires.append(result[2])\n",
    "#    #harvested.append(result[2])"
   ],
   "metadata": {
    "collapsed": false,
    "ExecuteTime": {
     "end_time": "2023-11-25T06:20:22.910447600Z",
     "start_time": "2023-11-25T06:20:22.711666700Z"
    }
   },
   "id": "e587b89155e105dd"
  },
  {
   "cell_type": "code",
   "execution_count": 461,
   "id": "b33f4fa1",
   "metadata": {},
   "outputs": [
    {
     "data": {
      "text/plain": [
       "array([87., 86., nan])"
      ]
     },
     "execution_count": 461,
     "metadata": {},
     "output_type": "execute_result"
    }
   ],
   "source": [
    "ytemp=np.array(data[['age_2001','age_2011','age_2019']])[0]\n",
    "ytemp"
   ]
  },
  {
   "cell_type": "code",
   "execution_count": 463,
   "id": "60453f29",
   "metadata": {},
   "outputs": [
    {
     "data": {
      "text/plain": [
       "[<matplotlib.lines.Line2D at 0x23c8a6a6910>]"
      ]
     },
     "execution_count": 463,
     "metadata": {},
     "output_type": "execute_result"
    },
    {
     "data": {
      "image/png": "[encoded data removed]",
      "text/plain": [
       "<Figure size 640x480 with 1 Axes>"
      ]
     },
     "metadata": {},
     "output_type": "display_data"
    }
   ],
   "source": [
    "plt.plot(np.arange(2001,2009,1),ages[0])\n",
    "plt.plot(np.array([2001,2011,2019]),ytemp)"
   ]
  },
  {
   "cell_type": "code",
   "execution_count": 319,
   "id": "83540269",
   "metadata": {},
   "outputs": [
    {
     "data": {
      "text/plain": [
       "array([0, 0, 0, 0, 0, 0, 0, 0, 0, 0])"
      ]
     },
     "execution_count": 319,
     "metadata": {},
     "output_type": "execute_result"
    }
   ],
   "source": [
    "np.zeros(10).astype('int')"
   ]
  },
  {
   "cell_type": "code",
   "execution_count": 402,
   "id": "61a7616c",
   "metadata": {},
   "outputs": [
    {
     "data": {
      "text/plain": [
       "[2010.0]"
      ]
     },
     "execution_count": 402,
     "metadata": {},
     "output_type": "execute_result"
    }
   ],
   "source": [
    "[fire[0] for fire in ON_forest_and_fires[ON_forest_and_fires.number_fires == 1].head(1)['year']]"
   ]
  },
  {
   "cell_type": "code",
   "execution_count": null,
   "id": "268f2b5e",
   "metadata": {},
   "outputs": [],
   "source": []
  },
  {
   "cell_type": "code",
   "execution_count": 91,
   "id": "e9b45909",
   "metadata": {},
   "outputs": [
    {
     "data": {
      "text/plain": [
       "<Figure size 2000x2000 with 0 Axes>"
      ]
     },
     "metadata": {},
     "output_type": "display_data"
    },
    {
     "data": {
      "image/png": "[encoded data removed]",
      "text/plain": [
       "<Figure size 640x480 with 2 Axes>"
      ]
     },
     "metadata": {},
     "output_type": "display_data"
    }
   ],
   "source": [
    "col = 'age_2019'\n",
    "temp = ON_joined_gdf_red[['geometry',col]]\n",
    "plt.figure(figsize=[20,20])\n",
    "\n",
    "ax = ON_boundary.plot()\n",
    "temp.plot(ax=ax,column = col,markersize=0.00001,legend=True)\n",
    "plt.title(\"Age of Ontario's Forest in 2019\")\n",
    "plt.xlabel('lon')\n",
    "plt.ylabel('lat')\n",
    "plt.savefig(path+col+\".png\",dpi=2400)\n",
    "\n",
    "plt.show()"
   ]
  },
  {
   "cell_type": "code",
   "execution_count": 98,
   "id": "173901c6",
   "metadata": {
    "scrolled": true
   },
   "outputs": [
    {
     "data": {
      "text/plain": [
       "<Figure size 2000x2000 with 0 Axes>"
      ]
     },
     "metadata": {},
     "output_type": "display_data"
    },
    {
     "data": {
      "image/png": "[encoded data removed]",
      "text/plain": [
       "<Figure size 640x480 with 2 Axes>"
      ]
     },
     "metadata": {},
     "output_type": "display_data"
    }
   ],
   "source": [
    "col = 'year_harvested'\n",
    "temp = ON_joined_gdf_red[['geometry',col]]\n",
    "plt.figure(figsize=[20,20])\n",
    "\n",
    "ax = ON_boundary.plot()\n",
    "temp.head(10000).plot(ax=ax,column = col,marker = '.',markersize=0.000001,legend=True)\n",
    "plt.title(\"Areas Harvested in Ontario by Year\")\n",
    "plt.xlabel('lon')\n",
    "plt.ylabel('lat')\n",
    "plt.savefig(path+col+\".png\",dpi=4800)\n",
    "\n",
    "plt.show()"
   ]
  },
  {
   "cell_type": "code",
   "execution_count": null,
   "id": "522ee731",
   "metadata": {},
   "outputs": [],
   "source": []
  }
 ],
 "metadata": {
  "kernelspec": {
   "display_name": "Python 3 (ipykernel)",
   "language": "python",
   "name": "python3"
  },
  "language_info": {
   "codemirror_mode": {
    "name": "ipython",
    "version": 3
   },
   "file_extension": ".py",
   "mimetype": "text/x-python",
   "name": "python",
   "nbconvert_exporter": "python",
   "pygments_lexer": "ipython3",
   "version": "3.11.5"
  }
 },
 "nbformat": 4,
 "nbformat_minor": 5
}
