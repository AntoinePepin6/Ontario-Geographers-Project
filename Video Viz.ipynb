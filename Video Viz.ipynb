{
 "cells": [
  {
   "cell_type": "markdown",
   "metadata": {},
   "source": [
    "# Video Viz"
   ]
  },
  {
   "cell_type": "markdown",
   "metadata": {},
   "source": [
    "## Overview of notebook\n",
    "\n",
    "This note contains two codes to generate .gif video files or .mp4 vidoes from a set of picture frames. It uses the [imageio](https://imageio.readthedocs.io/en/stable/) module."
   ]
  },
  {
   "cell_type": "markdown",
   "metadata": {},
   "source": [
    "### 1) Create a .gif from a set of .png frame"
   ]
  },
  {
   "cell_type": "code",
   "execution_count": null,
   "metadata": {},
   "outputs": [],
   "source": [
    "import imageio\n",
    "import os\n",
    "folders = ['age','vol','Tm','P','combined']\n",
    "\n",
    "for folder in folders:\n",
    "# Directory where your PNG files are saved\n",
    "    print(folder)\n",
    "    png_directory =r'I:\\CME538 Project\\processed data ontario only\\250m\\Approximations\\\\'\n",
    "\n",
    "    # List all PNG files in the directory\n",
    "\n",
    "    def extract_integer(filename):\n",
    "        return int(filename.split('.')[0].split('_')[0])\n",
    "\n",
    "    png_files = [f for f in os.listdir(png_directory+folder) if f.endswith('.png')]\n",
    "    png_files =sorted(png_files, key=extract_integer)\n",
    "    print(png_files)\n",
    "\n",
    "\n",
    "\n",
    "    # Sort the files in alphanumeric order (assuming file names contain frame numbers)\n",
    "    #png_files.sort()\n",
    "\n",
    "    # Output file path for the animated GIF or video\n",
    "    output_path = r'I:\\CME538 Project\\processed data ontario only\\250m\\Approximations\\\\'\n",
    "\n",
    "    # Create an imageio writer for the chosen output format\n",
    "    writer = imageio.get_writer(output_path+folder+\"\\output.gif\",fps = 12,quality = 10)  # Adjust the frames per second (fps) as needed\n",
    "\n",
    "    # Read each PNG file and add it to the animation\n",
    "    for png_file in png_files:\n",
    "        file_path = os.path.join(png_directory+folder, png_file)\n",
    "        img = imageio.imread(file_path)\n",
    "        writer.append_data(img)\n",
    "\n",
    "    # Close the writer\n",
    "    writer.close()\n",
    "    print('Done',folder)"
   ]
  },
  {
   "cell_type": "markdown",
   "metadata": {},
   "source": [
    "### 2) Create a .mp4 from a set of .png frame"
   ]
  },
  {
   "cell_type": "code",
   "execution_count": 29,
   "metadata": {},
   "outputs": [
    {
     "name": "stdout",
     "output_type": "stream",
     "text": [
      "['1_age.png', '2_age.png', '3_age.png', '4_age.png', '5_age.png', '6_age.png', '7_age.png', '8_age.png', '9_age.png', '10_age.png', '11_age.png', '12_age.png', '13_age.png', '14_age.png', '15_age.png', '16_age.png', '17_age.png', '18_age.png', '19_age.png', '20_age.png', '21_age.png', '22_age.png', '23_age.png', '24_age.png', '25_age.png', '26_age.png', '34_age.png', '35_age.png', '36_age.png']\n",
      "['I:\\\\CME538 Project\\\\processed data ontario only\\\\250m\\\\Approximations\\\\age\\\\1_age.png', 'I:\\\\CME538 Project\\\\processed data ontario only\\\\250m\\\\Approximations\\\\age\\\\2_age.png', 'I:\\\\CME538 Project\\\\processed data ontario only\\\\250m\\\\Approximations\\\\age\\\\3_age.png', 'I:\\\\CME538 Project\\\\processed data ontario only\\\\250m\\\\Approximations\\\\age\\\\4_age.png', 'I:\\\\CME538 Project\\\\processed data ontario only\\\\250m\\\\Approximations\\\\age\\\\5_age.png', 'I:\\\\CME538 Project\\\\processed data ontario only\\\\250m\\\\Approximations\\\\age\\\\6_age.png', 'I:\\\\CME538 Project\\\\processed data ontario only\\\\250m\\\\Approximations\\\\age\\\\7_age.png', 'I:\\\\CME538 Project\\\\processed data ontario only\\\\250m\\\\Approximations\\\\age\\\\8_age.png', 'I:\\\\CME538 Project\\\\processed data ontario only\\\\250m\\\\Approximations\\\\age\\\\9_age.png', 'I:\\\\CME538 Project\\\\processed data ontario only\\\\250m\\\\Approximations\\\\age\\\\10_age.png', 'I:\\\\CME538 Project\\\\processed data ontario only\\\\250m\\\\Approximations\\\\age\\\\11_age.png', 'I:\\\\CME538 Project\\\\processed data ontario only\\\\250m\\\\Approximations\\\\age\\\\12_age.png', 'I:\\\\CME538 Project\\\\processed data ontario only\\\\250m\\\\Approximations\\\\age\\\\13_age.png', 'I:\\\\CME538 Project\\\\processed data ontario only\\\\250m\\\\Approximations\\\\age\\\\14_age.png', 'I:\\\\CME538 Project\\\\processed data ontario only\\\\250m\\\\Approximations\\\\age\\\\15_age.png', 'I:\\\\CME538 Project\\\\processed data ontario only\\\\250m\\\\Approximations\\\\age\\\\16_age.png', 'I:\\\\CME538 Project\\\\processed data ontario only\\\\250m\\\\Approximations\\\\age\\\\17_age.png', 'I:\\\\CME538 Project\\\\processed data ontario only\\\\250m\\\\Approximations\\\\age\\\\18_age.png', 'I:\\\\CME538 Project\\\\processed data ontario only\\\\250m\\\\Approximations\\\\age\\\\19_age.png', 'I:\\\\CME538 Project\\\\processed data ontario only\\\\250m\\\\Approximations\\\\age\\\\20_age.png', 'I:\\\\CME538 Project\\\\processed data ontario only\\\\250m\\\\Approximations\\\\age\\\\21_age.png', 'I:\\\\CME538 Project\\\\processed data ontario only\\\\250m\\\\Approximations\\\\age\\\\22_age.png', 'I:\\\\CME538 Project\\\\processed data ontario only\\\\250m\\\\Approximations\\\\age\\\\23_age.png', 'I:\\\\CME538 Project\\\\processed data ontario only\\\\250m\\\\Approximations\\\\age\\\\24_age.png', 'I:\\\\CME538 Project\\\\processed data ontario only\\\\250m\\\\Approximations\\\\age\\\\25_age.png', 'I:\\\\CME538 Project\\\\processed data ontario only\\\\250m\\\\Approximations\\\\age\\\\26_age.png', 'I:\\\\CME538 Project\\\\processed data ontario only\\\\250m\\\\Approximations\\\\age\\\\34_age.png', 'I:\\\\CME538 Project\\\\processed data ontario only\\\\250m\\\\Approximations\\\\age\\\\35_age.png', 'I:\\\\CME538 Project\\\\processed data ontario only\\\\250m\\\\Approximations\\\\age\\\\36_age.png']\n"
     ]
    },
    {
     "name": "stderr",
     "output_type": "stream",
     "text": [
      "                                                           \n",
      "                                                           \n",
      "t:  10%|▉         | 2/21 [21:38<00:06,  3.00it/s, now=None]"
     ]
    },
    {
     "name": "stdout",
     "output_type": "stream",
     "text": [
      "Moviepy - Building video I:\\CME538 Project\\processed data ontario only\\250m\\Approximations\\age\\output.mp4.\n",
      "Moviepy - Writing video I:\\CME538 Project\\processed data ontario only\\250m\\Approximations\\age\\output.mp4\n",
      "\n"
     ]
    },
    {
     "name": "stderr",
     "output_type": "stream",
     "text": [
      "\n",
      "\u001b[A\n",
      "\u001b[A\n",
      "\u001b[A\n",
      "\u001b[A\n",
      "\u001b[A\n",
      "\u001b[A\n",
      "\u001b[A\n",
      "\u001b[A\n",
      "\u001b[A\n",
      "\u001b[A\n",
      "\u001b[A\n",
      "\u001b[A\n",
      "\u001b[A\n",
      "\u001b[A\n",
      "\u001b[A\n",
      "\u001b[A\n",
      "\u001b[A\n",
      "\u001b[A\n",
      "\u001b[A\n",
      "\u001b[A\n",
      "\u001b[A\n",
      "\u001b[A\n",
      "\u001b[A\n",
      "\u001b[A\n",
      "\u001b[A\n",
      "\u001b[A\n",
      "\u001b[A\n",
      "\u001b[A\n",
      "\u001b[A\n",
      "                                                           \n",
      "                                                           \n",
      "t:  10%|▉         | 2/21 [22:28<00:06,  3.00it/s, now=None]"
     ]
    },
    {
     "name": "stdout",
     "output_type": "stream",
     "text": [
      "Moviepy - Done !\n",
      "Moviepy - video ready I:\\CME538 Project\\processed data ontario only\\250m\\Approximations\\age\\output.mp4\n"
     ]
    }
   ],
   "source": [
    "from moviepy.editor import ImageSequenceClip\n",
    "import os\n",
    "\n",
    "# Directory where your PNG files are saved\n",
    "png_directory = r'I:\\CME538 Project\\processed data ontario only\\250m\\Approximations\\age'\n",
    "\n",
    "# List all PNG files in the directory\n",
    "\n",
    "#path = r'I:\\CME538 Project\\processed data ontario only\\250m\\Approximations\\mod\\'\n",
    "def extract_integer(filename):\n",
    "    return int(filename.split('.')[0].split('_')[0])\n",
    "\n",
    "png_files = [f for f in os.listdir(png_directory) if f.endswith('.png')]\n",
    "png_files =sorted(png_files, key=extract_integer)\n",
    "print(png_files)\n",
    "\n",
    "image_files = [os.path.join(png_directory, f) for f in png_files]\n",
    "print(image_files)\n",
    "# Sort the files in alphanumeric order (assuming file names contain frame numbers)\n",
    "#png_files.sort()\n",
    "\n",
    "# Output file path for the animated GIF or video\n",
    "output_path = r'I:\\CME538 Project\\processed data ontario only\\250m\\Approximations\\age\\output.mp4'\n",
    "\n",
    "clip = ImageSequenceClip(image_files, fps=12)\n",
    "clip.write_videofile(output_path, codec='libx264',bitrate='10000k')"
   ]
  }
 ],
 "metadata": {
  "kernelspec": {
   "display_name": "base",
   "language": "python",
   "name": "python3"
  },
  "language_info": {
   "codemirror_mode": {
    "name": "ipython",
    "version": 3
   },
   "file_extension": ".py",
   "mimetype": "text/x-python",
   "name": "python",
   "nbconvert_exporter": "python",
   "pygments_lexer": "ipython3",
   "version": "3.11.5"
  }
 },
 "nbformat": 4,
 "nbformat_minor": 2
}
