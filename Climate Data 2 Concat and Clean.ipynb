{
 "cells": [
  {
   "cell_type": "markdown",
   "metadata": {},
   "source": [
    "Code to concat all Climate Data and filtering out unwanted stations."
   ]
  },
  {
   "cell_type": "code",
   "execution_count": 2,
   "metadata": {},
   "outputs": [],
   "source": [
    "import os\n",
    "import pandas as pd"
   ]
  },
  {
   "cell_type": "markdown",
   "metadata": {},
   "source": [
    "## Code to concatenate"
   ]
  },
  {
   "cell_type": "markdown",
   "metadata": {},
   "source": [
    "    Columns Explained:    \n",
    "    Station Name: The name of the weather station.\n",
    "    Longitude: The longitude coordinate of the weather station.\n",
    "    Latitude: The latitude coordinate of the weather station.\n",
    "    Climate ID: An identifier for the climate region.\n",
    "    Province: The province where the weather station is located.\n",
    "    Year: The year of the observation.\n",
    "    Month: The month of the observation.\n",
    "    Tm: Mean temperature for the month (degrees Celsius).\n",
    "    DwTm: Days without valid mean temperature.\n",
    "    D: Number of days the temperature was below 0 degrees Celsius.\n",
    "    Tx: Maximum temperature for the month (degrees Celsius).\n",
    "    DwTx: Days without valid maximum temperature.\n",
    "    Tn: Minimum temperature for the month (degrees Celsius).\n",
    "    DwTn: Days without valid minimum temperature.\n",
    "    S: Snowfall for the month (cm).\n",
    "    DwS: Days without valid snowfall.\n",
    "    S%N: Percent of normal snowfall.\n",
    "    P: Total precipitation for the month (mm).\n",
    "    DwP: Days without valid precipitation.\n",
    "    P%N: Percent of normal precipitation.\n",
    "    S_G: Snow on the ground at the end of the month (cm).\n",
    "    Pd: Number of days with precipitation.\n",
    "    BS: Bright sunshine hours for the month.\n",
    "    DwBS: Days without valid sunshine.\n",
    "    BS%: Percent of normal bright sunshine.\n",
    "    HDD: Heating degree days (a measure of how much heating is required).\n",
    "    CDD: Cooling degree days (a measure of how much cooling is required)."
   ]
  },
  {
   "cell_type": "code",
   "execution_count": 2,
   "metadata": {},
   "outputs": [],
   "source": [
    "# Directory paths for all provinces (local)\n",
    "directory_path_ON = 'C:/Users/sixte/University of Toronto/ClimateDataMonthlyON/'\n",
    "directory_path_QC = 'C:/Users/sixte/University of Toronto/ClimateDataMonthlyMB/'\n",
    "directory_path_MB = 'C:/Users/sixte/University of Toronto/ClimateDataMonthlyQC/'\n",
    "\n",
    "# Initialize list to store dataframes.\n",
    "dataframes = []\n",
    "\n",
    "# Loop through the files in the directory for the province.\n",
    "for filename in os.listdir(directory_path_ON):\n",
    "    file_path = os.path.join(directory_path_ON, filename)\n",
    "    \n",
    "    # There are problems with the formats in some CSV files, so a try & catch statement is added to avoid crashing.\n",
    "    try:\n",
    "        # Files are encoded in latin1.\n",
    "        df = pd.read_csv(file_path, encoding='latin1')\n",
    "        dataframes.append(df)\n",
    "    except Exception as e:\n",
    "        print(f\"Error reading file: {e}\")\n",
    "\n",
    "# This is repeated for all three provinces.\n",
    "for filename in os.listdir(directory_path_QC):\n",
    "    file_path = os.path.join(directory_path_QC, filename)\n",
    "        \n",
    "    try:\n",
    "        df = pd.read_csv(file_path, encoding='latin1')\n",
    "        dataframes.append(df)\n",
    "    except Exception as e:\n",
    "        print(f\"Error reading file: {e}\")\n",
    "\n",
    "for filename in os.listdir(directory_path_MB):\n",
    "    file_path = os.path.join(directory_path_MB, filename)\n",
    "        \n",
    "    try:\n",
    "        df = pd.read_csv(file_path, encoding='latin1')\n",
    "        dataframes.append(df)\n",
    "    except Exception as e:\n",
    "        print(f\"Error reading file: {e}\")\n",
    "\n",
    "# All monthly data is concatenated into one dataframe.\n",
    "climateM = pd.concat(dataframes, ignore_index = True)\n",
    "\n",
    "# A date is included to make future pairing easier. The date assigned is the first of each month, to make things easier.\n",
    "climateM['Date'] = pd.to_datetime(climateM[['Year', 'Month']].assign(DAY=1))\n",
    "\n",
    "# Drop columns that aren't needed (see explanation above) to make the final file easier to manage.\n",
    "columns_to_drop = ['Province', 'DwTm', 'DwTx', 'DwTn', 'DwS', 'DwP', 'DwBS', 'Year', 'Month', 'D', 'S', 'S%N', 'S_G', 'HDD', 'CDD']\n",
    "\n",
    "climateM = climateM.drop(columns = columns_to_drop)\n",
    "\n",
    "# Rename Climate ID to Station ID. This was done to match the name of the ID number in a separate Hydrological Data set, that was later omitted due to complexity issues.\n",
    "climateM.rename(columns={'Climate ID': 'Station ID'}, inplace = True)\n",
    "\n",
    "# Save the Climate DataFrame as one file.\n",
    "climateM.to_csv('C:/Users/sixte/University of Toronto/ClimateDataMonthly/concatenated_climate_monthly.csv', index = False)\n"
   ]
  },
  {
   "cell_type": "markdown",
   "metadata": {},
   "source": [
    "## Code to filter"
   ]
  },
  {
   "cell_type": "markdown",
   "metadata": {},
   "source": [
    "Here we filter out the Manitoba and Quebec stations that are far away from Ontario Borders.\\\n",
    "As some stations in these provinces are closer to some places in Ontario than stations in Ontario, their data will be useful to the model we are building.\\\n",
    "However, if they are far away, they can be omitted, meaning most of them are filtered out."
   ]
  },
  {
   "cell_type": "code",
   "execution_count": 3,
   "metadata": {},
   "outputs": [],
   "source": [
    "# Read file\n",
    "# climateM = pd.read_csv('C:/Users/sixte/University of Toronto/ClimateDataMonthly/concatenated_climate_monthly.csv')\n",
    "\n",
    "# Longitude filtering\n",
    "climateM = climateM[climateM['Longitude'] >= -96]\n",
    "climateM = climateM[climateM['Longitude'] <= -78.5]\n",
    "\n",
    "# Latitude filtering\n",
    "climateM = climateM[climateM['Latitude'] <= 57]\n",
    "\n",
    "# Removign data from 1997, 1998 and 1999 that was originially downloaded. These years won't be included in the model anyway.\n",
    "climateM = climateM[climateM['Date'] >= '2000-01-01']\n",
    "\n",
    "# Save as new file\n",
    "climateM.to_csv('C:/Users/sixte/University of Toronto/ClimateDataMonthly/all_filtered_monthly.csv', index = False)"
   ]
  }
 ],
 "metadata": {
  "kernelspec": {
   "display_name": "myenv",
   "language": "python",
   "name": "myenv"
  },
  "language_info": {
   "codemirror_mode": {
    "name": "ipython",
    "version": 3
   },
   "file_extension": ".py",
   "mimetype": "text/x-python",
   "name": "python",
   "nbconvert_exporter": "python",
   "pygments_lexer": "ipython3",
   "version": "3.11.4"
  }
 },
 "nbformat": 4,
 "nbformat_minor": 2
}
